{
 "cells": [
  {
   "cell_type": "markdown",
   "id": "94330bcc",
   "metadata": {},
   "source": [
    "## Import "
   ]
  },
  {
   "cell_type": "code",
   "execution_count": 333,
   "id": "5412d17d",
   "metadata": {},
   "outputs": [],
   "source": [
    "# Import libraries\n",
    "import pandas as pd\n",
    "import numpy as np\n",
    "import seaborn as sns\n",
    "import matplotlib.pyplot as plt\n",
    "import warnings\n",
    "warnings.filterwarnings('ignore') # Suppress warnings\n",
    "\n",
    "from IPython.core.interactiveshell import InteractiveShell\n",
    "InteractiveShell.ast_node_interactivity = \"all\""
   ]
  },
  {
   "cell_type": "markdown",
   "id": "76ab95b2",
   "metadata": {},
   "source": [
    "## Dataset 1_route_quarter - Exploration and Cleaning\n",
    "#### Explore route_quarter dataset\n",
    "#### Dataset describes travel to and from Ireland by routes between the years of 1985 and 2008, Quarterly, by Route of Travel."
   ]
  },
  {
   "cell_type": "code",
   "execution_count": 334,
   "id": "ed37880c",
   "metadata": {},
   "outputs": [
    {
     "data": {
      "text/plain": [
       "(960, 8)"
      ]
     },
     "execution_count": 334,
     "metadata": {},
     "output_type": "execute_result"
    },
    {
     "name": "stdout",
     "output_type": "stream",
     "text": [
      "Index(['ROUTE', 'Route of Travel', 'TLIST(Q1)', 'Quarter', 'STATISTIC',\n",
      "       'Statistic Label', 'UNIT', 'VALUE'],\n",
      "      dtype='object')\n"
     ]
    },
    {
     "data": {
      "text/html": [
       "<div>\n",
       "<style scoped>\n",
       "    .dataframe tbody tr th:only-of-type {\n",
       "        vertical-align: middle;\n",
       "    }\n",
       "\n",
       "    .dataframe tbody tr th {\n",
       "        vertical-align: top;\n",
       "    }\n",
       "\n",
       "    .dataframe thead th {\n",
       "        text-align: right;\n",
       "    }\n",
       "</style>\n",
       "<table border=\"1\" class=\"dataframe\">\n",
       "  <thead>\n",
       "    <tr style=\"text-align: right;\">\n",
       "      <th></th>\n",
       "      <th>ROUTE</th>\n",
       "      <th>Route of Travel</th>\n",
       "      <th>TLIST(Q1)</th>\n",
       "      <th>Quarter</th>\n",
       "      <th>STATISTIC</th>\n",
       "      <th>Statistic Label</th>\n",
       "      <th>UNIT</th>\n",
       "      <th>VALUE</th>\n",
       "    </tr>\n",
       "  </thead>\n",
       "  <tbody>\n",
       "    <tr>\n",
       "      <th>0</th>\n",
       "      <td>0</td>\n",
       "      <td>All Routes</td>\n",
       "      <td>19851</td>\n",
       "      <td>1985Q1</td>\n",
       "      <td>TMQ01C1</td>\n",
       "      <td>Visitors to Ireland</td>\n",
       "      <td>Thousand</td>\n",
       "      <td>254</td>\n",
       "    </tr>\n",
       "    <tr>\n",
       "      <th>1</th>\n",
       "      <td>0</td>\n",
       "      <td>All Routes</td>\n",
       "      <td>19851</td>\n",
       "      <td>1985Q1</td>\n",
       "      <td>TMQ01C2</td>\n",
       "      <td>Visits Abroad by Irish Residents</td>\n",
       "      <td>Thousand</td>\n",
       "      <td>186</td>\n",
       "    </tr>\n",
       "    <tr>\n",
       "      <th>2</th>\n",
       "      <td>0</td>\n",
       "      <td>All Routes</td>\n",
       "      <td>19852</td>\n",
       "      <td>1985Q2</td>\n",
       "      <td>TMQ01C1</td>\n",
       "      <td>Visitors to Ireland</td>\n",
       "      <td>Thousand</td>\n",
       "      <td>495</td>\n",
       "    </tr>\n",
       "    <tr>\n",
       "      <th>3</th>\n",
       "      <td>0</td>\n",
       "      <td>All Routes</td>\n",
       "      <td>19852</td>\n",
       "      <td>1985Q2</td>\n",
       "      <td>TMQ01C2</td>\n",
       "      <td>Visits Abroad by Irish Residents</td>\n",
       "      <td>Thousand</td>\n",
       "      <td>336</td>\n",
       "    </tr>\n",
       "    <tr>\n",
       "      <th>4</th>\n",
       "      <td>0</td>\n",
       "      <td>All Routes</td>\n",
       "      <td>19853</td>\n",
       "      <td>1985Q3</td>\n",
       "      <td>TMQ01C1</td>\n",
       "      <td>Visitors to Ireland</td>\n",
       "      <td>Thousand</td>\n",
       "      <td>840</td>\n",
       "    </tr>\n",
       "  </tbody>\n",
       "</table>\n",
       "</div>"
      ],
      "text/plain": [
       "   ROUTE Route of Travel  TLIST(Q1) Quarter STATISTIC  \\\n",
       "0      0      All Routes      19851  1985Q1   TMQ01C1   \n",
       "1      0      All Routes      19851  1985Q1   TMQ01C2   \n",
       "2      0      All Routes      19852  1985Q2   TMQ01C1   \n",
       "3      0      All Routes      19852  1985Q2   TMQ01C2   \n",
       "4      0      All Routes      19853  1985Q3   TMQ01C1   \n",
       "\n",
       "                    Statistic Label      UNIT  VALUE  \n",
       "0               Visitors to Ireland  Thousand    254  \n",
       "1  Visits Abroad by Irish Residents  Thousand    186  \n",
       "2               Visitors to Ireland  Thousand    495  \n",
       "3  Visits Abroad by Irish Residents  Thousand    336  \n",
       "4               Visitors to Ireland  Thousand    840  "
      ]
     },
     "execution_count": 334,
     "metadata": {},
     "output_type": "execute_result"
    }
   ],
   "source": [
    "# Read csv file into pandas dataframe \n",
    "# url = https://data.gov.ie/dataset/tmq01-visits-to-and-from-ireland/resource/d018a88d-6944-4728-aa62-cd05074ffa5e\n",
    "# route_quarter_TMQ01-Visits-to-and-from-Ireland dataset contains 8 columns and 960 rows \n",
    "# (24 years in Quarters = 96 rows), 96 rows by 2 Direction = 192 rows, 192 rows by 5 regions = 960 rows\n",
    "# Columns: ROUTE, Route of Travel, TLIST(Q1), Quarter,STATISTIC, Statistic Label, UNIT, VALUE\n",
    "route_quarter = pd.read_csv(\"TMQ01-Visits-to-and-from-Ireland.csv\")\n",
    "route_quarter.shape\n",
    "print(route_quarter.columns)\n",
    "route_quarter.head()"
   ]
  },
  {
   "cell_type": "markdown",
   "id": "ca17f56e",
   "metadata": {},
   "source": [
    "## Display value counts for each column in the dataframe"
   ]
  },
  {
   "cell_type": "code",
   "execution_count": 335,
   "id": "226971f0",
   "metadata": {},
   "outputs": [
    {
     "data": {
      "text/plain": [
       "ROUTE\n",
       "0    192\n",
       "1    192\n",
       "2    192\n",
       "3    192\n",
       "4    192\n",
       "Name: count, dtype: int64"
      ]
     },
     "execution_count": 335,
     "metadata": {},
     "output_type": "execute_result"
    },
    {
     "data": {
      "text/plain": [
       "Route of Travel\n",
       "All Routes            192\n",
       "Air Cross Channel     192\n",
       "Sea Cross Channel     192\n",
       "Continental Europe    192\n",
       "Transatlantic         192\n",
       "Name: count, dtype: int64"
      ]
     },
     "execution_count": 335,
     "metadata": {},
     "output_type": "execute_result"
    },
    {
     "data": {
      "text/plain": [
       "TLIST(Q1)\n",
       "19851    10\n",
       "19852    10\n",
       "20023    10\n",
       "20022    10\n",
       "20021    10\n",
       "         ..\n",
       "19922    10\n",
       "19921    10\n",
       "19914    10\n",
       "19913    10\n",
       "20084    10\n",
       "Name: count, Length: 96, dtype: int64"
      ]
     },
     "execution_count": 335,
     "metadata": {},
     "output_type": "execute_result"
    },
    {
     "data": {
      "text/plain": [
       "Quarter\n",
       "1985Q1    10\n",
       "1985Q2    10\n",
       "2002Q3    10\n",
       "2002Q2    10\n",
       "2002Q1    10\n",
       "          ..\n",
       "1992Q2    10\n",
       "1992Q1    10\n",
       "1991Q4    10\n",
       "1991Q3    10\n",
       "2008Q4    10\n",
       "Name: count, Length: 96, dtype: int64"
      ]
     },
     "execution_count": 335,
     "metadata": {},
     "output_type": "execute_result"
    },
    {
     "data": {
      "text/plain": [
       "STATISTIC\n",
       "TMQ01C1    480\n",
       "TMQ01C2    480\n",
       "Name: count, dtype: int64"
      ]
     },
     "execution_count": 335,
     "metadata": {},
     "output_type": "execute_result"
    },
    {
     "data": {
      "text/plain": [
       "Statistic Label\n",
       "Visitors to Ireland                 480\n",
       "Visits Abroad by Irish Residents    480\n",
       "Name: count, dtype: int64"
      ]
     },
     "execution_count": 335,
     "metadata": {},
     "output_type": "execute_result"
    },
    {
     "data": {
      "text/plain": [
       "UNIT\n",
       "Thousand    960\n",
       "Name: count, dtype: int64"
      ]
     },
     "execution_count": 335,
     "metadata": {},
     "output_type": "execute_result"
    },
    {
     "data": {
      "text/plain": [
       "(2.359, 533.0]      711\n",
       "(533.0, 1061.0]     158\n",
       "(1061.0, 1589.0]     51\n",
       "(1589.0, 2117.0]     26\n",
       "(2117.0, 2645.0]     14\n",
       "Name: count, dtype: int64"
      ]
     },
     "execution_count": 335,
     "metadata": {},
     "output_type": "execute_result"
    }
   ],
   "source": [
    "route_quarter['ROUTE'].value_counts()\n",
    "route_quarter['Route of Travel'].value_counts()\n",
    "route_quarter['TLIST(Q1)'].value_counts()\n",
    "route_quarter['Quarter'].value_counts()\n",
    "route_quarter['STATISTIC'].value_counts()\n",
    "route_quarter['Statistic Label'].value_counts()\n",
    "route_quarter['UNIT'].value_counts()\n",
    "route_quarter['VALUE'].value_counts(bins=5)"
   ]
  },
  {
   "cell_type": "markdown",
   "id": "8fb12192",
   "metadata": {},
   "source": [
    "## Edit Dataframe 1 - Data Cleaning \n",
    "### Remove, Rename and Transform columns"
   ]
  },
  {
   "cell_type": "code",
   "execution_count": 336,
   "id": "0df3909c",
   "metadata": {},
   "outputs": [
    {
     "data": {
      "text/plain": [
       "(960, 5)"
      ]
     },
     "execution_count": 336,
     "metadata": {},
     "output_type": "execute_result"
    }
   ],
   "source": [
    "# Remove 'UNIT' column as 'VALUE' column heading will be amended to reflect units. \n",
    "# Remove 'ROUTE' column as 'Route of Travel' contains the same information in human readable language.\n",
    "# Remove 'STATISTIC' column as this data is contained within 'Quarter' and 'Statistic Label' columns in human readable language.\n",
    "route_quarter_tourism = route_quarter.drop(columns=['UNIT', 'ROUTE', 'STATISTIC'])\n",
    "\n",
    "# Rename 'TLIST(Q1)' column to Year\n",
    "route_quarter_tourism.rename(columns={\"TLIST(Q1)\": \"Year\"}, inplace=True)\n",
    "\n",
    "# Last character in 'Year' column refers to quarter (1-4) \n",
    "# Remove last character from by dividing by 10 and saving as integer to remove non-whole numbers. e.g. 19854 -> 1985.4 = 1985\n",
    "route_quarter_tourism[\"Year\"] = route_quarter_tourism[\"Year\"].transform(lambda x: x / 10).astype(int)\n",
    "\n",
    "# The'Quarter' column contains the year and Q before the number designating the quarter. e.g. 1985Q4\n",
    "# Transform 'Quarter' column, reassigning last character of each entry as integer reflecting the quarter. e.g. 1985Q4 = 4\n",
    "route_quarter_tourism[\"Quarter\"] = route_quarter_tourism[\"Quarter\"].transform(lambda x: str(x)[-1]).astype(int)\n",
    "\n",
    "# Rename 'Statistic Label' column for Direction\n",
    "route_quarter_tourism.rename(columns={\"Statistic Label\": \"Direction\"}, inplace=True)\n",
    "\n",
    "# Rename Column for Travellers x 1,000\n",
    "route_quarter_tourism.rename(columns={\"VALUE\": \"Travellers x(1,000)\"}, inplace=True)\n",
    "\n",
    "route_quarter_tourism.shape"
   ]
  },
  {
   "cell_type": "markdown",
   "id": "f00392de",
   "metadata": {},
   "source": [
    "### Explore edited route_quarter dataset"
   ]
  },
  {
   "cell_type": "code",
   "execution_count": 337,
   "id": "d6a619a6",
   "metadata": {},
   "outputs": [
    {
     "data": {
      "text/plain": [
       "(960, 5)"
      ]
     },
     "execution_count": 337,
     "metadata": {},
     "output_type": "execute_result"
    },
    {
     "name": "stdout",
     "output_type": "stream",
     "text": [
      "Index(['Route of Travel', 'Year', 'Quarter', 'Direction',\n",
      "       'Travellers x(1,000)'],\n",
      "      dtype='object')\n"
     ]
    },
    {
     "data": {
      "text/html": [
       "<div>\n",
       "<style scoped>\n",
       "    .dataframe tbody tr th:only-of-type {\n",
       "        vertical-align: middle;\n",
       "    }\n",
       "\n",
       "    .dataframe tbody tr th {\n",
       "        vertical-align: top;\n",
       "    }\n",
       "\n",
       "    .dataframe thead th {\n",
       "        text-align: right;\n",
       "    }\n",
       "</style>\n",
       "<table border=\"1\" class=\"dataframe\">\n",
       "  <thead>\n",
       "    <tr style=\"text-align: right;\">\n",
       "      <th></th>\n",
       "      <th>Route of Travel</th>\n",
       "      <th>Year</th>\n",
       "      <th>Quarter</th>\n",
       "      <th>Direction</th>\n",
       "      <th>Travellers x(1,000)</th>\n",
       "    </tr>\n",
       "  </thead>\n",
       "  <tbody>\n",
       "    <tr>\n",
       "      <th>0</th>\n",
       "      <td>All Routes</td>\n",
       "      <td>1985</td>\n",
       "      <td>1</td>\n",
       "      <td>Visitors to Ireland</td>\n",
       "      <td>254</td>\n",
       "    </tr>\n",
       "    <tr>\n",
       "      <th>1</th>\n",
       "      <td>All Routes</td>\n",
       "      <td>1985</td>\n",
       "      <td>1</td>\n",
       "      <td>Visits Abroad by Irish Residents</td>\n",
       "      <td>186</td>\n",
       "    </tr>\n",
       "    <tr>\n",
       "      <th>2</th>\n",
       "      <td>All Routes</td>\n",
       "      <td>1985</td>\n",
       "      <td>2</td>\n",
       "      <td>Visitors to Ireland</td>\n",
       "      <td>495</td>\n",
       "    </tr>\n",
       "    <tr>\n",
       "      <th>3</th>\n",
       "      <td>All Routes</td>\n",
       "      <td>1985</td>\n",
       "      <td>2</td>\n",
       "      <td>Visits Abroad by Irish Residents</td>\n",
       "      <td>336</td>\n",
       "    </tr>\n",
       "    <tr>\n",
       "      <th>4</th>\n",
       "      <td>All Routes</td>\n",
       "      <td>1985</td>\n",
       "      <td>3</td>\n",
       "      <td>Visitors to Ireland</td>\n",
       "      <td>840</td>\n",
       "    </tr>\n",
       "  </tbody>\n",
       "</table>\n",
       "</div>"
      ],
      "text/plain": [
       "  Route of Travel  Year  Quarter                         Direction  \\\n",
       "0      All Routes  1985        1               Visitors to Ireland   \n",
       "1      All Routes  1985        1  Visits Abroad by Irish Residents   \n",
       "2      All Routes  1985        2               Visitors to Ireland   \n",
       "3      All Routes  1985        2  Visits Abroad by Irish Residents   \n",
       "4      All Routes  1985        3               Visitors to Ireland   \n",
       "\n",
       "   Travellers x(1,000)  \n",
       "0                  254  \n",
       "1                  186  \n",
       "2                  495  \n",
       "3                  336  \n",
       "4                  840  "
      ]
     },
     "execution_count": 337,
     "metadata": {},
     "output_type": "execute_result"
    }
   ],
   "source": [
    "route_quarter_tourism.shape\n",
    "print(route_quarter_tourism.columns)\n",
    "route_quarter_tourism.head()\n"
   ]
  },
  {
   "cell_type": "markdown",
   "id": "329cb0c1",
   "metadata": {},
   "source": [
    "## Display value counts for each column in the edited dataframe"
   ]
  },
  {
   "cell_type": "code",
   "execution_count": 338,
   "id": "f4fe35cd",
   "metadata": {},
   "outputs": [
    {
     "data": {
      "text/plain": [
       "Route of Travel\n",
       "All Routes            192\n",
       "Air Cross Channel     192\n",
       "Sea Cross Channel     192\n",
       "Continental Europe    192\n",
       "Transatlantic         192\n",
       "Name: count, dtype: int64"
      ]
     },
     "execution_count": 338,
     "metadata": {},
     "output_type": "execute_result"
    },
    {
     "data": {
      "text/plain": [
       "Year\n",
       "1985    40\n",
       "1986    40\n",
       "2007    40\n",
       "2006    40\n",
       "2005    40\n",
       "2004    40\n",
       "2003    40\n",
       "2002    40\n",
       "2001    40\n",
       "2000    40\n",
       "1999    40\n",
       "1998    40\n",
       "1997    40\n",
       "1996    40\n",
       "1995    40\n",
       "1994    40\n",
       "1993    40\n",
       "1992    40\n",
       "1991    40\n",
       "1990    40\n",
       "1989    40\n",
       "1988    40\n",
       "1987    40\n",
       "2008    40\n",
       "Name: count, dtype: int64"
      ]
     },
     "execution_count": 338,
     "metadata": {},
     "output_type": "execute_result"
    },
    {
     "data": {
      "text/plain": [
       "Quarter\n",
       "1    240\n",
       "2    240\n",
       "3    240\n",
       "4    240\n",
       "Name: count, dtype: int64"
      ]
     },
     "execution_count": 338,
     "metadata": {},
     "output_type": "execute_result"
    },
    {
     "data": {
      "text/plain": [
       "Direction\n",
       "Visitors to Ireland                 480\n",
       "Visits Abroad by Irish Residents    480\n",
       "Name: count, dtype: int64"
      ]
     },
     "execution_count": 338,
     "metadata": {},
     "output_type": "execute_result"
    },
    {
     "data": {
      "text/plain": [
       "(2.359, 533.0]      711\n",
       "(533.0, 1061.0]     158\n",
       "(1061.0, 1589.0]     51\n",
       "(1589.0, 2117.0]     26\n",
       "(2117.0, 2645.0]     14\n",
       "Name: count, dtype: int64"
      ]
     },
     "execution_count": 338,
     "metadata": {},
     "output_type": "execute_result"
    }
   ],
   "source": [
    "route_quarter_tourism['Route of Travel'].value_counts()\n",
    "route_quarter_tourism['Year'].value_counts()\n",
    "route_quarter_tourism['Quarter'].value_counts()\n",
    "route_quarter_tourism['Direction'].value_counts()\n",
    "route_quarter_tourism['Travellers x(1,000)'].value_counts(bins=5)\n"
   ]
  },
  {
   "cell_type": "markdown",
   "id": "adbcf520",
   "metadata": {},
   "source": [
    "## Assess change in the distribution of Cross Channel between Air and Sea over time."
   ]
  },
  {
   "cell_type": "code",
   "execution_count": 339,
   "id": "61b5a434",
   "metadata": {},
   "outputs": [
    {
     "data": {
      "image/png": "[encoded data removed]",
      "text/plain": [
       "<Figure size 640x480 with 1 Axes>"
      ]
     },
     "metadata": {},
     "output_type": "display_data"
    }
   ],
   "source": [
    "x_channel = route_quarter_tourism.loc[((route_quarter_tourism['Route of Travel'] == 'Air Cross Channel') | (route_quarter_tourism['Route of Travel'] == 'Sea Cross Channel')) & (route_quarter_tourism['Direction'] == 'Visitors to Ireland')]\n",
    "linplot = sns.lineplot(x=\"Year\", y=\"Travellers x(1,000)\", hue=\"Route of Travel\", data=x_channel)\n"
   ]
  },
  {
   "cell_type": "code",
   "execution_count": 387,
   "id": "309e9017",
   "metadata": {},
   "outputs": [
    {
     "name": "stdout",
     "output_type": "stream",
     "text": [
      "(192, 7)\n",
      "(192,)\n"
     ]
    },
    {
     "data": {
      "text/html": [
       "<div>\n",
       "<style scoped>\n",
       "    .dataframe tbody tr th:only-of-type {\n",
       "        vertical-align: middle;\n",
       "    }\n",
       "\n",
       "    .dataframe tbody tr th {\n",
       "        vertical-align: top;\n",
       "    }\n",
       "\n",
       "    .dataframe thead th {\n",
       "        text-align: right;\n",
       "    }\n",
       "</style>\n",
       "<table border=\"1\" class=\"dataframe\">\n",
       "  <thead>\n",
       "    <tr style=\"text-align: right;\">\n",
       "      <th></th>\n",
       "      <th>Route of Travel</th>\n",
       "      <th>Year</th>\n",
       "      <th>Quarter</th>\n",
       "      <th>Direction</th>\n",
       "      <th>Travellers x(1,000)</th>\n",
       "      <th>Distribution Per Route</th>\n",
       "      <th>year quarter</th>\n",
       "    </tr>\n",
       "  </thead>\n",
       "  <tbody>\n",
       "    <tr>\n",
       "      <th>0</th>\n",
       "      <td>Air Cross Channel</td>\n",
       "      <td>1985</td>\n",
       "      <td>1</td>\n",
       "      <td>Visitors to Ireland</td>\n",
       "      <td>110</td>\n",
       "      <td>0.521327</td>\n",
       "      <td>1985Q1</td>\n",
       "    </tr>\n",
       "    <tr>\n",
       "      <th>1</th>\n",
       "      <td>Sea Cross Channel</td>\n",
       "      <td>1985</td>\n",
       "      <td>1</td>\n",
       "      <td>Visitors to Ireland</td>\n",
       "      <td>101</td>\n",
       "      <td>0.478673</td>\n",
       "      <td>1985Q1</td>\n",
       "    </tr>\n",
       "    <tr>\n",
       "      <th>2</th>\n",
       "      <td>Air Cross Channel</td>\n",
       "      <td>1985</td>\n",
       "      <td>2</td>\n",
       "      <td>Visitors to Ireland</td>\n",
       "      <td>142</td>\n",
       "      <td>0.387978</td>\n",
       "      <td>1985Q2</td>\n",
       "    </tr>\n",
       "    <tr>\n",
       "      <th>3</th>\n",
       "      <td>Sea Cross Channel</td>\n",
       "      <td>1985</td>\n",
       "      <td>2</td>\n",
       "      <td>Visitors to Ireland</td>\n",
       "      <td>224</td>\n",
       "      <td>0.612022</td>\n",
       "      <td>1985Q2</td>\n",
       "    </tr>\n",
       "    <tr>\n",
       "      <th>4</th>\n",
       "      <td>Air Cross Channel</td>\n",
       "      <td>1985</td>\n",
       "      <td>3</td>\n",
       "      <td>Visitors to Ireland</td>\n",
       "      <td>186</td>\n",
       "      <td>0.305921</td>\n",
       "      <td>1985Q3</td>\n",
       "    </tr>\n",
       "    <tr>\n",
       "      <th>...</th>\n",
       "      <td>...</td>\n",
       "      <td>...</td>\n",
       "      <td>...</td>\n",
       "      <td>...</td>\n",
       "      <td>...</td>\n",
       "      <td>...</td>\n",
       "      <td>...</td>\n",
       "    </tr>\n",
       "    <tr>\n",
       "      <th>187</th>\n",
       "      <td>Sea Cross Channel</td>\n",
       "      <td>2008</td>\n",
       "      <td>2</td>\n",
       "      <td>Visitors to Ireland</td>\n",
       "      <td>258</td>\n",
       "      <td>0.211823</td>\n",
       "      <td>2008Q2</td>\n",
       "    </tr>\n",
       "    <tr>\n",
       "      <th>188</th>\n",
       "      <td>Air Cross Channel</td>\n",
       "      <td>2008</td>\n",
       "      <td>3</td>\n",
       "      <td>Visitors to Ireland</td>\n",
       "      <td>1065</td>\n",
       "      <td>0.751058</td>\n",
       "      <td>2008Q3</td>\n",
       "    </tr>\n",
       "    <tr>\n",
       "      <th>189</th>\n",
       "      <td>Sea Cross Channel</td>\n",
       "      <td>2008</td>\n",
       "      <td>3</td>\n",
       "      <td>Visitors to Ireland</td>\n",
       "      <td>353</td>\n",
       "      <td>0.248942</td>\n",
       "      <td>2008Q3</td>\n",
       "    </tr>\n",
       "    <tr>\n",
       "      <th>190</th>\n",
       "      <td>Air Cross Channel</td>\n",
       "      <td>2008</td>\n",
       "      <td>4</td>\n",
       "      <td>Visitors to Ireland</td>\n",
       "      <td>843</td>\n",
       "      <td>0.859327</td>\n",
       "      <td>2008Q4</td>\n",
       "    </tr>\n",
       "    <tr>\n",
       "      <th>191</th>\n",
       "      <td>Sea Cross Channel</td>\n",
       "      <td>2008</td>\n",
       "      <td>4</td>\n",
       "      <td>Visitors to Ireland</td>\n",
       "      <td>138</td>\n",
       "      <td>0.140673</td>\n",
       "      <td>2008Q4</td>\n",
       "    </tr>\n",
       "  </tbody>\n",
       "</table>\n",
       "<p>192 rows × 7 columns</p>\n",
       "</div>"
      ],
      "text/plain": [
       "       Route of Travel  Year  Quarter            Direction  \\\n",
       "0    Air Cross Channel  1985        1  Visitors to Ireland   \n",
       "1    Sea Cross Channel  1985        1  Visitors to Ireland   \n",
       "2    Air Cross Channel  1985        2  Visitors to Ireland   \n",
       "3    Sea Cross Channel  1985        2  Visitors to Ireland   \n",
       "4    Air Cross Channel  1985        3  Visitors to Ireland   \n",
       "..                 ...   ...      ...                  ...   \n",
       "187  Sea Cross Channel  2008        2  Visitors to Ireland   \n",
       "188  Air Cross Channel  2008        3  Visitors to Ireland   \n",
       "189  Sea Cross Channel  2008        3  Visitors to Ireland   \n",
       "190  Air Cross Channel  2008        4  Visitors to Ireland   \n",
       "191  Sea Cross Channel  2008        4  Visitors to Ireland   \n",
       "\n",
       "     Travellers x(1,000)  Distribution Per Route year quarter  \n",
       "0                    110                0.521327       1985Q1  \n",
       "1                    101                0.478673       1985Q1  \n",
       "2                    142                0.387978       1985Q2  \n",
       "3                    224                0.612022       1985Q2  \n",
       "4                    186                0.305921       1985Q3  \n",
       "..                   ...                     ...          ...  \n",
       "187                  258                0.211823       2008Q2  \n",
       "188                 1065                0.751058       2008Q3  \n",
       "189                  353                0.248942       2008Q3  \n",
       "190                  843                0.859327       2008Q4  \n",
       "191                  138                0.140673       2008Q4  \n",
       "\n",
       "[192 rows x 7 columns]"
      ]
     },
     "execution_count": 387,
     "metadata": {},
     "output_type": "execute_result"
    },
    {
     "data": {
      "text/plain": [
       "Route of Travel            object\n",
       "Year                        int32\n",
       "Quarter                     int32\n",
       "Direction                  object\n",
       "Travellers x(1,000)         int64\n",
       "Distribution Per Route    float64\n",
       "year quarter               object\n",
       "dtype: object"
      ]
     },
     "execution_count": 387,
     "metadata": {},
     "output_type": "execute_result"
    }
   ],
   "source": [
    "freqs = calculate_frequencies(x_channel)\n",
    "freqs['year quarter'] = freqs['Year'].astype(str) + 'Q' + freqs['Quarter'].astype(str)\n",
    "freqs\n",
    "freqs.dtypes"
   ]
  },
  {
   "cell_type": "code",
   "execution_count": 376,
   "id": "53189f01",
   "metadata": {},
   "outputs": [
    {
     "data": {
      "image/png": "[encoded data removed]",
      "text/plain": [
       "<Figure size 3000x600 with 2 Axes>"
      ]
     },
     "metadata": {},
     "output_type": "display_data"
    }
   ],
   "source": [
    "import matplotlib.pyplot as plt\n",
    "\n",
    "fig, (ax1, ax2) = plt.subplots(1,2, figsize=(30, 6))\n",
    "sns.lineplot(x=\"Year\", y=\"Distribution Per Route\", hue=\"Route of Travel\", data=freqs, ax=ax1)\n",
    "plt.xticks(rotation=45)\n",
    "\n",
    "sns.lineplot(x=\"Year\", y=\"Distribution Per Route\", hue=\"Route of Travel\", data=freqs, ax=ax2)\n",
    "plt.xticks(rotation=45)\n",
    "ax1.set_title('Distribution Per Route by Year')\n",
    "ax2.set_title('Distribution Per Route by Year Quarter')\n",
    "plt.show(); # Put semicolon as per https://stackoverflow.com/questions/51030011/maplotlib-gives-the-list-of-array-outputs-before-showing-the-scatter-plot-in-pyt as otherise it will show the array of the output before the graphs"
   ]
  },
  {
   "cell_type": "code",
   "execution_count": 402,
   "id": "cfeae09c",
   "metadata": {},
   "outputs": [
    {
     "data": {
      "image/png": "[encoded data removed]",
      "text/plain": [
       "<Figure size 2000x1000 with 4 Axes>"
      ]
     },
     "metadata": {},
     "output_type": "display_data"
    }
   ],
   "source": [
    "fig, axes = plt.subplots(2, 2, figsize=(20, 10))\n",
    "\n",
    "q1 = freqs.loc[(freqs['Quarter'] == 1)]\n",
    "sns.lineplot(x=\"Year\", y=\"Distribution Per Route\", hue=\"Route of Travel\", data=q1, ax=axes[0, 0])\n",
    "\n",
    "q2 = freqs.loc[(freqs['Quarter'] == 2)]\n",
    "sns.lineplot(x=\"Year\", y=\"Distribution Per Route\", hue=\"Route of Travel\", data=q2, ax=axes[0, 1])\n",
    "\n",
    "q3 = freqs.loc[(freqs['Quarter'] == 3)]\n",
    "sns.lineplot(x=\"Year\", y=\"Distribution Per Route\", hue=\"Route of Travel\", data=q3, ax=axes[1, 0])\n",
    "\n",
    "q4 = freqs.loc[(freqs['Quarter'] == 4)]\n",
    "sns.lineplot(x=\"Year\", y=\"Distribution Per Route\", hue=\"Route of Travel\", data=q4, ax=axes[1, 1])\n",
    "\n",
    "axes[0, 0].set_title('Distribution Per Route by Year, Quarter 1')\n",
    "axes[0, 1].set_title('Distribution Per Route by Year, Quarter 2')\n",
    "axes[1, 0].set_title('Distribution Per Route by Year, Quarter 3')\n",
    "axes[1, 1].set_title('Distribution Per Route by Year, Quarter 4')\n",
    "\n",
    "plt.show();\n"
   ]
  },
  {
   "cell_type": "code",
   "execution_count": 384,
   "id": "c3a79d7d",
   "metadata": {},
   "outputs": [
    {
     "ename": "NameError",
     "evalue": "name 'x' is not defined",
     "output_type": "error",
     "traceback": [
      "\u001b[1;31m---------------------------------------------------------------------------\u001b[0m",
      "\u001b[1;31mNameError\u001b[0m                                 Traceback (most recent call last)",
      "Cell \u001b[1;32mIn[384], line 2\u001b[0m\n\u001b[0;32m      1\u001b[0m fig, axs \u001b[38;5;241m=\u001b[39m plt\u001b[38;5;241m.\u001b[39msubplots(\u001b[38;5;241m2\u001b[39m, \u001b[38;5;241m2\u001b[39m)\n\u001b[1;32m----> 2\u001b[0m axs[\u001b[38;5;241m0\u001b[39m, \u001b[38;5;241m0\u001b[39m]\u001b[38;5;241m.\u001b[39mplot(x, y)\n\u001b[0;32m      3\u001b[0m axs[\u001b[38;5;241m0\u001b[39m, \u001b[38;5;241m0\u001b[39m]\u001b[38;5;241m.\u001b[39mset_title(\u001b[38;5;124m'\u001b[39m\u001b[38;5;124mDistribution Per Route by Year, Quarter 1 [0, 0]\u001b[39m\u001b[38;5;124m'\u001b[39m)\n\u001b[0;32m      4\u001b[0m axs[\u001b[38;5;241m0\u001b[39m, \u001b[38;5;241m1\u001b[39m]\u001b[38;5;241m.\u001b[39mplot(x, y, \u001b[38;5;124m'\u001b[39m\u001b[38;5;124mtab:orange\u001b[39m\u001b[38;5;124m'\u001b[39m)\n",
      "\u001b[1;31mNameError\u001b[0m: name 'x' is not defined"
     ]
    },
    {
     "data": {
      "image/png": "[encoded data removed]",
      "text/plain": [
       "<Figure size 640x480 with 4 Axes>"
      ]
     },
     "metadata": {},
     "output_type": "display_data"
    }
   ],
   "source": [
    "fig, axs = plt.subplots(2, 2)\n",
    "axs[0, 0].plot(x, y)\n",
    "axs[0, 0].set_title('Distribution Per Route by Year, Quarter 1 [0, 0]')\n",
    "axs[0, 1].plot(x, y, 'tab:orange')\n",
    "axs[0, 1].set_title('Axis [0, 1]')\n",
    "axs[1, 0].plot(x, -y, 'tab:green')\n",
    "axs[1, 0].set_title('Axis [1, 0]')\n",
    "axs[1, 1].plot(x, -y, 'tab:red')\n",
    "axs[1, 1].set_title('Axis [1, 1]')\n",
    "\n",
    "for ax in axs.flat:\n",
    "    ax.set(xlabel='x-label', ylabel='y-label')\n",
    "\n",
    "# Hide x labels and tick labels for top plots and y ticks for right plots.\n",
    "for ax in axs.flat:\n",
    "    ax.label_outer()"
   ]
  },
  {
   "cell_type": "code",
   "execution_count": 343,
   "id": "4f81f3f2",
   "metadata": {},
   "outputs": [
    {
     "data": {
      "text/plain": [
       "<Axes: xlabel='year quarter', ylabel='Distribution Per Route'>"
      ]
     },
     "execution_count": 343,
     "metadata": {},
     "output_type": "execute_result"
    },
    {
     "data": {
      "text/plain": [
       "(array([ 0,  1,  2,  3,  4,  5,  6,  7,  8,  9, 10, 11, 12, 13, 14, 15, 16,\n",
       "        17, 18, 19, 20, 21, 22, 23, 24, 25, 26, 27, 28, 29, 30, 31, 32, 33,\n",
       "        34, 35, 36, 37, 38, 39, 40, 41, 42, 43, 44, 45, 46, 47, 48, 49, 50,\n",
       "        51, 52, 53, 54, 55, 56, 57, 58, 59, 60, 61, 62, 63, 64, 65, 66, 67,\n",
       "        68, 69, 70, 71, 72, 73, 74, 75, 76, 77, 78, 79, 80, 81, 82, 83, 84,\n",
       "        85, 86, 87, 88, 89, 90, 91, 92, 93, 94, 95]),\n",
       " [Text(0, 0, '1985Q1'),\n",
       "  Text(1, 0, '1985Q2'),\n",
       "  Text(2, 0, '1985Q3'),\n",
       "  Text(3, 0, '1985Q4'),\n",
       "  Text(4, 0, '1986Q1'),\n",
       "  Text(5, 0, '1986Q2'),\n",
       "  Text(6, 0, '1986Q3'),\n",
       "  Text(7, 0, '1986Q4'),\n",
       "  Text(8, 0, '1987Q1'),\n",
       "  Text(9, 0, '1987Q2'),\n",
       "  Text(10, 0, '1987Q3'),\n",
       "  Text(11, 0, '1987Q4'),\n",
       "  Text(12, 0, '1988Q1'),\n",
       "  Text(13, 0, '1988Q2'),\n",
       "  Text(14, 0, '1988Q3'),\n",
       "  Text(15, 0, '1988Q4'),\n",
       "  Text(16, 0, '1989Q1'),\n",
       "  Text(17, 0, '1989Q2'),\n",
       "  Text(18, 0, '1989Q3'),\n",
       "  Text(19, 0, '1989Q4'),\n",
       "  Text(20, 0, '1990Q1'),\n",
       "  Text(21, 0, '1990Q2'),\n",
       "  Text(22, 0, '1990Q3'),\n",
       "  Text(23, 0, '1990Q4'),\n",
       "  Text(24, 0, '1991Q1'),\n",
       "  Text(25, 0, '1991Q2'),\n",
       "  Text(26, 0, '1991Q3'),\n",
       "  Text(27, 0, '1991Q4'),\n",
       "  Text(28, 0, '1992Q1'),\n",
       "  Text(29, 0, '1992Q2'),\n",
       "  Text(30, 0, '1992Q3'),\n",
       "  Text(31, 0, '1992Q4'),\n",
       "  Text(32, 0, '1993Q1'),\n",
       "  Text(33, 0, '1993Q2'),\n",
       "  Text(34, 0, '1993Q3'),\n",
       "  Text(35, 0, '1993Q4'),\n",
       "  Text(36, 0, '1994Q1'),\n",
       "  Text(37, 0, '1994Q2'),\n",
       "  Text(38, 0, '1994Q3'),\n",
       "  Text(39, 0, '1994Q4'),\n",
       "  Text(40, 0, '1995Q1'),\n",
       "  Text(41, 0, '1995Q2'),\n",
       "  Text(42, 0, '1995Q3'),\n",
       "  Text(43, 0, '1995Q4'),\n",
       "  Text(44, 0, '1996Q1'),\n",
       "  Text(45, 0, '1996Q2'),\n",
       "  Text(46, 0, '1996Q3'),\n",
       "  Text(47, 0, '1996Q4'),\n",
       "  Text(48, 0, '1997Q1'),\n",
       "  Text(49, 0, '1997Q2'),\n",
       "  Text(50, 0, '1997Q3'),\n",
       "  Text(51, 0, '1997Q4'),\n",
       "  Text(52, 0, '1998Q1'),\n",
       "  Text(53, 0, '1998Q2'),\n",
       "  Text(54, 0, '1998Q3'),\n",
       "  Text(55, 0, '1998Q4'),\n",
       "  Text(56, 0, '1999Q1'),\n",
       "  Text(57, 0, '1999Q2'),\n",
       "  Text(58, 0, '1999Q3'),\n",
       "  Text(59, 0, '1999Q4'),\n",
       "  Text(60, 0, '2000Q1'),\n",
       "  Text(61, 0, '2000Q2'),\n",
       "  Text(62, 0, '2000Q3'),\n",
       "  Text(63, 0, '2000Q4'),\n",
       "  Text(64, 0, '2001Q1'),\n",
       "  Text(65, 0, '2001Q2'),\n",
       "  Text(66, 0, '2001Q3'),\n",
       "  Text(67, 0, '2001Q4'),\n",
       "  Text(68, 0, '2002Q1'),\n",
       "  Text(69, 0, '2002Q2'),\n",
       "  Text(70, 0, '2002Q3'),\n",
       "  Text(71, 0, '2002Q4'),\n",
       "  Text(72, 0, '2003Q1'),\n",
       "  Text(73, 0, '2003Q2'),\n",
       "  Text(74, 0, '2003Q3'),\n",
       "  Text(75, 0, '2003Q4'),\n",
       "  Text(76, 0, '2004Q1'),\n",
       "  Text(77, 0, '2004Q2'),\n",
       "  Text(78, 0, '2004Q3'),\n",
       "  Text(79, 0, '2004Q4'),\n",
       "  Text(80, 0, '2005Q1'),\n",
       "  Text(81, 0, '2005Q2'),\n",
       "  Text(82, 0, '2005Q3'),\n",
       "  Text(83, 0, '2005Q4'),\n",
       "  Text(84, 0, '2006Q1'),\n",
       "  Text(85, 0, '2006Q2'),\n",
       "  Text(86, 0, '2006Q3'),\n",
       "  Text(87, 0, '2006Q4'),\n",
       "  Text(88, 0, '2007Q1'),\n",
       "  Text(89, 0, '2007Q2'),\n",
       "  Text(90, 0, '2007Q3'),\n",
       "  Text(91, 0, '2007Q4'),\n",
       "  Text(92, 0, '2008Q1'),\n",
       "  Text(93, 0, '2008Q2'),\n",
       "  Text(94, 0, '2008Q3'),\n",
       "  Text(95, 0, '2008Q4')])"
      ]
     },
     "execution_count": 343,
     "metadata": {},
     "output_type": "execute_result"
    },
    {
     "data": {
      "image/png": "[encoded data removed]",
      "text/plain": [
       "<Figure size 3000x600 with 1 Axes>"
      ]
     },
     "metadata": {},
     "output_type": "display_data"
    }
   ],
   "source": [
    "fig, ax3 = plt.subplots(figsize=(30, 6))\n",
    "sns.barplot(x=\"year quarter\", y=\"Distribution Per Route\", hue=\"Route of Travel\", data=freqs, ax=ax3)\n",
    "plt.xticks(rotation=45)\n"
   ]
  },
  {
   "cell_type": "code",
   "execution_count": 344,
   "id": "1a830a78",
   "metadata": {},
   "outputs": [],
   "source": [
    "# import matplotlib.pyplot as plt\n",
    "\n",
    "# # Calculate the total Travellers x(1,000) for Combined Air and Sea Cross channel per quarter\n",
    "# combined_cross_channel['Travellers x(1,000)'] = combined_cross_channel.groupby(['Year', 'Quarter', 'Direction'])['Travellers x(1,000)'].transform('sum')\n",
    "\n",
    "# # Calculate the percentages for Air Cross Channel and Sea Cross Channel\n",
    "# Air_Cross_Channel['Percentage'] = (Air_Cross_Channel['Travellers x(1,000)'] / combined_cross_channel['Travellers x(1,000)']) * 100\n",
    "# Sea_Cross_Channel['Percentage'] = (Sea_Cross_Channel['Travellers x(1,000)'] / combined_cross_channel['Travellers x(1,000)']) * 100\n",
    "\n",
    "# # Create a new dataframe for the percentages\n",
    "# percentage_df = pd.concat([Air_Cross_Channel[['Year', 'Quarter', 'Percentage']], Sea_Cross_Channel[['Year', 'Quarter', 'Percentage']]])\n",
    "\n",
    "# # Plot the data on a barplot\n",
    "# barplot = sns.barplot(x='Year', y='Percentage', hue='Quarter', data=percentage_df)\n",
    "# plt.title('Percentage of Travellers x(1,000) for Air Cross Channel and Sea Cross Channel')\n",
    "# plt.xlabel('Year')\n",
    "# plt.ylabel('Percentage')\n",
    "# plt.show()\n",
    "# combined_cross_channel['Travellers x(1,000)'] = combined_cross_channel.groupby(['Year', 'Quarter'])['Travellers x(1,000)'].transform('sum')\n",
    "\n",
    "# # Calculate the percentages for Air Cross Channel and Sea Cross Channel\n",
    "# Air_Cross_Channel['Percentage'] = (Air_Cross_Channel['Travellers x(1,000)'] / combined_cross_channel['Travellers x(1,000)']) * 100\n",
    "# Sea_Cross_Channel['Percentage'] = (Sea_Cross_Channel['Travellers x(1,000)'] / combined_cross_channel['Travellers x(1,000)']) * 100\n",
    "\n",
    "# # Print the updated dataframes\n",
    "# print(\"Air Cross Channel:\")\n",
    "# print(Air_Cross_Channel[['Year', 'Quarter', 'Percentage']])\n",
    "# print(\"\\nSea Cross Channel:\")\n",
    "# print(Sea_Cross_Channel[['Year', 'Quarter', 'Percentage']])\n",
    "# barplot = sns.barplot(x='Year', y='Distribution', data=Distribution_df, hue='Direction')\n"
   ]
  },
  {
   "cell_type": "code",
   "execution_count": 345,
   "id": "0fd803d2",
   "metadata": {},
   "outputs": [],
   "source": [
    "# Calculate the sum for all Routes of Travel per **year - quarter - direction**\n",
    "def calculate_frequencies(df):\n",
    "    print(df.shape)\n",
    "\n",
    "    sums = df.groupby(['Year', 'Quarter', 'Direction'], as_index=False).sum()\n",
    "    sums.rename(columns={\"Travellers x(1,000)\": \"Total Num\"}, inplace=True)\n",
    "\n",
    "    # Calculate the number of unique routes, because this is how many times we need to repeat each sum for the division operation\n",
    "    repeats = df['Route of Travel'].nunique()\n",
    "    # Extract the total numbers per **year - quarter - direction** and repeat them 3 times, because we have 3 routes\n",
    "    mask = sums.loc[sums.index.repeat(repeats)].reset_index(drop=True)['Total Num']\n",
    "    print(mask.shape) # I am making sure the shape of the mask matches the shape of the dataframe we will apply this to\n",
    "\n",
    "    mask.head()\n",
    "\n",
    "    # We have to prodive 'ignore_index=True', because otherwise the division by the totals_mask will produce NaN values, as indexes are misaligned\n",
    "    df.sort_values(by=['Year', 'Quarter', 'Direction', 'Route of Travel'], inplace=True, ignore_index=True)\n",
    "\n",
    "    #concatenated_route_quarter_tourism['Distribution']\n",
    "    df['Distribution Per Route'] = df['Travellers x(1,000)'] / mask\n",
    "    return df"
   ]
  },
  {
   "cell_type": "markdown",
   "id": "8c99caf9",
   "metadata": {},
   "source": [
    "### Merge Air and Sea Cross channel values into combined Cross Channel values"
   ]
  },
  {
   "cell_type": "code",
   "execution_count": 346,
   "id": "de38c9df",
   "metadata": {},
   "outputs": [],
   "source": [
    "def merge_air_and_sea(df, common_cols):\n",
    "    # Select cross channel travel by both sea and air for each quarter and year from the dataset\n",
    "    cross_channel_df = df[df.isin(['Air Cross Channel', 'Sea Cross Channel'])['Route of Travel']==True]\n",
    "    #pd.set_option('display.max_rows', cross_channel_df.shape[0]+1)\n",
    "    cross_channel_df.shape\n",
    "    \n",
    "    # Combine Air and Sea cross channel travel into Cross channel travel dataframe\n",
    "    combined_cross_channel = cross_channel_df.groupby(common_cols, as_index=False).sum()\n",
    "    combined_cross_channel['Route of Travel'] = 'Cross Channel'\n",
    "    combined_cross_channel.shape\n",
    "\n",
    "    # Remove Air and Sea Cross Channel travel from original dataset\n",
    "    df = df.drop(df[df.isin(['Air Cross Channel', 'Sea Cross Channel'])['Route of Travel']==True].index)\n",
    "    # Concatenate original dataset with new Cross Channel travel dataset\n",
    "    df = pd.concat([df, combined_cross_channel], axis=0, ignore_index=True)\n",
    "    #pd.set_option('display.max_rows', df.shape[0]+1)\n",
    "    # df\n",
    "    # Change order of routes to \"All Routes\", \"Cross Channel\", \"Continental Europe\", and \"Transatlantic\" to be consistent with the original dataset.\n",
    "    concatenated_df = pd.concat([df[df['Route of Travel'] == 'All Routes'],\n",
    "                                df[df['Route of Travel'] == 'Cross Channel'],\n",
    "                                df[df['Route of Travel'] == 'Continental Europe'],\n",
    "                                df[df['Route of Travel'] == 'Transatlantic']])\n",
    "\n",
    "    # Reset the index of the concatenated dataframe\n",
    "    concatenated_df.reset_index(drop=True, inplace=True)\n",
    "    return concatenated_df"
   ]
  },
  {
   "cell_type": "code",
   "execution_count": 347,
   "id": "d24f1f56",
   "metadata": {},
   "outputs": [
    {
     "data": {
      "text/plain": [
       "Route of Travel\n",
       "All Routes            192\n",
       "Cross Channel         192\n",
       "Continental Europe    192\n",
       "Transatlantic         192\n",
       "Name: count, dtype: int64"
      ]
     },
     "execution_count": 347,
     "metadata": {},
     "output_type": "execute_result"
    }
   ],
   "source": [
    "concatenated_route_quarter_tourism = merge_air_and_sea(route_quarter_tourism, ['Year', 'Quarter', 'Direction'])\n",
    "concatenated_route_quarter_tourism['Route of Travel'].value_counts()"
   ]
  },
  {
   "cell_type": "code",
   "execution_count": 348,
   "id": "5d93de8b",
   "metadata": {},
   "outputs": [
    {
     "data": {
      "text/plain": [
       "(768, 5)"
      ]
     },
     "execution_count": 348,
     "metadata": {},
     "output_type": "execute_result"
    },
    {
     "data": {
      "text/html": [
       "<div>\n",
       "<style scoped>\n",
       "    .dataframe tbody tr th:only-of-type {\n",
       "        vertical-align: middle;\n",
       "    }\n",
       "\n",
       "    .dataframe tbody tr th {\n",
       "        vertical-align: top;\n",
       "    }\n",
       "\n",
       "    .dataframe thead th {\n",
       "        text-align: right;\n",
       "    }\n",
       "</style>\n",
       "<table border=\"1\" class=\"dataframe\">\n",
       "  <thead>\n",
       "    <tr style=\"text-align: right;\">\n",
       "      <th></th>\n",
       "      <th>Route of Travel</th>\n",
       "      <th>Year</th>\n",
       "      <th>Quarter</th>\n",
       "      <th>Direction</th>\n",
       "      <th>Travellers x(1,000)</th>\n",
       "    </tr>\n",
       "  </thead>\n",
       "  <tbody>\n",
       "    <tr>\n",
       "      <th>0</th>\n",
       "      <td>All Routes</td>\n",
       "      <td>1985</td>\n",
       "      <td>1</td>\n",
       "      <td>Visitors to Ireland</td>\n",
       "      <td>254</td>\n",
       "    </tr>\n",
       "    <tr>\n",
       "      <th>1</th>\n",
       "      <td>All Routes</td>\n",
       "      <td>1985</td>\n",
       "      <td>1</td>\n",
       "      <td>Visits Abroad by Irish Residents</td>\n",
       "      <td>186</td>\n",
       "    </tr>\n",
       "    <tr>\n",
       "      <th>2</th>\n",
       "      <td>All Routes</td>\n",
       "      <td>1985</td>\n",
       "      <td>2</td>\n",
       "      <td>Visitors to Ireland</td>\n",
       "      <td>495</td>\n",
       "    </tr>\n",
       "    <tr>\n",
       "      <th>3</th>\n",
       "      <td>All Routes</td>\n",
       "      <td>1985</td>\n",
       "      <td>2</td>\n",
       "      <td>Visits Abroad by Irish Residents</td>\n",
       "      <td>336</td>\n",
       "    </tr>\n",
       "    <tr>\n",
       "      <th>4</th>\n",
       "      <td>All Routes</td>\n",
       "      <td>1985</td>\n",
       "      <td>3</td>\n",
       "      <td>Visitors to Ireland</td>\n",
       "      <td>840</td>\n",
       "    </tr>\n",
       "  </tbody>\n",
       "</table>\n",
       "</div>"
      ],
      "text/plain": [
       "  Route of Travel  Year  Quarter                         Direction  \\\n",
       "0      All Routes  1985        1               Visitors to Ireland   \n",
       "1      All Routes  1985        1  Visits Abroad by Irish Residents   \n",
       "2      All Routes  1985        2               Visitors to Ireland   \n",
       "3      All Routes  1985        2  Visits Abroad by Irish Residents   \n",
       "4      All Routes  1985        3               Visitors to Ireland   \n",
       "\n",
       "   Travellers x(1,000)  \n",
       "0                  254  \n",
       "1                  186  \n",
       "2                  495  \n",
       "3                  336  \n",
       "4                  840  "
      ]
     },
     "execution_count": 348,
     "metadata": {},
     "output_type": "execute_result"
    },
    {
     "data": {
      "text/html": [
       "<div>\n",
       "<style scoped>\n",
       "    .dataframe tbody tr th:only-of-type {\n",
       "        vertical-align: middle;\n",
       "    }\n",
       "\n",
       "    .dataframe tbody tr th {\n",
       "        vertical-align: top;\n",
       "    }\n",
       "\n",
       "    .dataframe thead th {\n",
       "        text-align: right;\n",
       "    }\n",
       "</style>\n",
       "<table border=\"1\" class=\"dataframe\">\n",
       "  <thead>\n",
       "    <tr style=\"text-align: right;\">\n",
       "      <th></th>\n",
       "      <th>Route of Travel</th>\n",
       "      <th>Year</th>\n",
       "      <th>Quarter</th>\n",
       "      <th>Direction</th>\n",
       "      <th>Travellers x(1,000)</th>\n",
       "    </tr>\n",
       "  </thead>\n",
       "  <tbody>\n",
       "    <tr>\n",
       "      <th>763</th>\n",
       "      <td>Transatlantic</td>\n",
       "      <td>2008</td>\n",
       "      <td>2</td>\n",
       "      <td>Visits Abroad by Irish Residents</td>\n",
       "      <td>115</td>\n",
       "    </tr>\n",
       "    <tr>\n",
       "      <th>764</th>\n",
       "      <td>Transatlantic</td>\n",
       "      <td>2008</td>\n",
       "      <td>3</td>\n",
       "      <td>Visitors to Ireland</td>\n",
       "      <td>218</td>\n",
       "    </tr>\n",
       "    <tr>\n",
       "      <th>765</th>\n",
       "      <td>Transatlantic</td>\n",
       "      <td>2008</td>\n",
       "      <td>3</td>\n",
       "      <td>Visits Abroad by Irish Residents</td>\n",
       "      <td>142</td>\n",
       "    </tr>\n",
       "    <tr>\n",
       "      <th>766</th>\n",
       "      <td>Transatlantic</td>\n",
       "      <td>2008</td>\n",
       "      <td>4</td>\n",
       "      <td>Visitors to Ireland</td>\n",
       "      <td>101</td>\n",
       "    </tr>\n",
       "    <tr>\n",
       "      <th>767</th>\n",
       "      <td>Transatlantic</td>\n",
       "      <td>2008</td>\n",
       "      <td>4</td>\n",
       "      <td>Visits Abroad by Irish Residents</td>\n",
       "      <td>152</td>\n",
       "    </tr>\n",
       "  </tbody>\n",
       "</table>\n",
       "</div>"
      ],
      "text/plain": [
       "    Route of Travel  Year  Quarter                         Direction  \\\n",
       "763   Transatlantic  2008        2  Visits Abroad by Irish Residents   \n",
       "764   Transatlantic  2008        3               Visitors to Ireland   \n",
       "765   Transatlantic  2008        3  Visits Abroad by Irish Residents   \n",
       "766   Transatlantic  2008        4               Visitors to Ireland   \n",
       "767   Transatlantic  2008        4  Visits Abroad by Irish Residents   \n",
       "\n",
       "     Travellers x(1,000)  \n",
       "763                  115  \n",
       "764                  218  \n",
       "765                  142  \n",
       "766                  101  \n",
       "767                  152  "
      ]
     },
     "execution_count": 348,
     "metadata": {},
     "output_type": "execute_result"
    }
   ],
   "source": [
    "# Display edited dataset rows and columns after cleaning. (960 rows, 5 routes = (960/5)*4 = 768 rows) \n",
    "concatenated_route_quarter_tourism.shape\n",
    "concatenated_route_quarter_tourism.head()\n",
    "concatenated_route_quarter_tourism.tail()"
   ]
  },
  {
   "cell_type": "code",
   "execution_count": 349,
   "id": "24074d8b",
   "metadata": {},
   "outputs": [
    {
     "data": {
      "text/html": [
       "<div>\n",
       "<style scoped>\n",
       "    .dataframe tbody tr th:only-of-type {\n",
       "        vertical-align: middle;\n",
       "    }\n",
       "\n",
       "    .dataframe tbody tr th {\n",
       "        vertical-align: top;\n",
       "    }\n",
       "\n",
       "    .dataframe thead th {\n",
       "        text-align: right;\n",
       "    }\n",
       "</style>\n",
       "<table border=\"1\" class=\"dataframe\">\n",
       "  <thead>\n",
       "    <tr style=\"text-align: right;\">\n",
       "      <th></th>\n",
       "      <th>Route of Travel</th>\n",
       "      <th>Year</th>\n",
       "      <th>Quarter</th>\n",
       "      <th>Direction</th>\n",
       "      <th>Travellers x(1,000)</th>\n",
       "    </tr>\n",
       "  </thead>\n",
       "  <tbody>\n",
       "    <tr>\n",
       "      <th>192</th>\n",
       "      <td>Cross Channel</td>\n",
       "      <td>1985</td>\n",
       "      <td>1</td>\n",
       "      <td>Visitors to Ireland</td>\n",
       "      <td>211</td>\n",
       "    </tr>\n",
       "    <tr>\n",
       "      <th>193</th>\n",
       "      <td>Cross Channel</td>\n",
       "      <td>1985</td>\n",
       "      <td>1</td>\n",
       "      <td>Visits Abroad by Irish Residents</td>\n",
       "      <td>140</td>\n",
       "    </tr>\n",
       "    <tr>\n",
       "      <th>194</th>\n",
       "      <td>Cross Channel</td>\n",
       "      <td>1985</td>\n",
       "      <td>2</td>\n",
       "      <td>Visitors to Ireland</td>\n",
       "      <td>366</td>\n",
       "    </tr>\n",
       "    <tr>\n",
       "      <th>195</th>\n",
       "      <td>Cross Channel</td>\n",
       "      <td>1985</td>\n",
       "      <td>2</td>\n",
       "      <td>Visits Abroad by Irish Residents</td>\n",
       "      <td>221</td>\n",
       "    </tr>\n",
       "    <tr>\n",
       "      <th>196</th>\n",
       "      <td>Cross Channel</td>\n",
       "      <td>1985</td>\n",
       "      <td>3</td>\n",
       "      <td>Visitors to Ireland</td>\n",
       "      <td>608</td>\n",
       "    </tr>\n",
       "    <tr>\n",
       "      <th>...</th>\n",
       "      <td>...</td>\n",
       "      <td>...</td>\n",
       "      <td>...</td>\n",
       "      <td>...</td>\n",
       "      <td>...</td>\n",
       "    </tr>\n",
       "    <tr>\n",
       "      <th>763</th>\n",
       "      <td>Transatlantic</td>\n",
       "      <td>2008</td>\n",
       "      <td>2</td>\n",
       "      <td>Visits Abroad by Irish Residents</td>\n",
       "      <td>115</td>\n",
       "    </tr>\n",
       "    <tr>\n",
       "      <th>764</th>\n",
       "      <td>Transatlantic</td>\n",
       "      <td>2008</td>\n",
       "      <td>3</td>\n",
       "      <td>Visitors to Ireland</td>\n",
       "      <td>218</td>\n",
       "    </tr>\n",
       "    <tr>\n",
       "      <th>765</th>\n",
       "      <td>Transatlantic</td>\n",
       "      <td>2008</td>\n",
       "      <td>3</td>\n",
       "      <td>Visits Abroad by Irish Residents</td>\n",
       "      <td>142</td>\n",
       "    </tr>\n",
       "    <tr>\n",
       "      <th>766</th>\n",
       "      <td>Transatlantic</td>\n",
       "      <td>2008</td>\n",
       "      <td>4</td>\n",
       "      <td>Visitors to Ireland</td>\n",
       "      <td>101</td>\n",
       "    </tr>\n",
       "    <tr>\n",
       "      <th>767</th>\n",
       "      <td>Transatlantic</td>\n",
       "      <td>2008</td>\n",
       "      <td>4</td>\n",
       "      <td>Visits Abroad by Irish Residents</td>\n",
       "      <td>152</td>\n",
       "    </tr>\n",
       "  </tbody>\n",
       "</table>\n",
       "<p>576 rows × 5 columns</p>\n",
       "</div>"
      ],
      "text/plain": [
       "    Route of Travel  Year  Quarter                         Direction  \\\n",
       "192   Cross Channel  1985        1               Visitors to Ireland   \n",
       "193   Cross Channel  1985        1  Visits Abroad by Irish Residents   \n",
       "194   Cross Channel  1985        2               Visitors to Ireland   \n",
       "195   Cross Channel  1985        2  Visits Abroad by Irish Residents   \n",
       "196   Cross Channel  1985        3               Visitors to Ireland   \n",
       "..              ...   ...      ...                               ...   \n",
       "763   Transatlantic  2008        2  Visits Abroad by Irish Residents   \n",
       "764   Transatlantic  2008        3               Visitors to Ireland   \n",
       "765   Transatlantic  2008        3  Visits Abroad by Irish Residents   \n",
       "766   Transatlantic  2008        4               Visitors to Ireland   \n",
       "767   Transatlantic  2008        4  Visits Abroad by Irish Residents   \n",
       "\n",
       "     Travellers x(1,000)  \n",
       "192                  211  \n",
       "193                  140  \n",
       "194                  366  \n",
       "195                  221  \n",
       "196                  608  \n",
       "..                   ...  \n",
       "763                  115  \n",
       "764                  218  \n",
       "765                  142  \n",
       "766                  101  \n",
       "767                  152  \n",
       "\n",
       "[576 rows x 5 columns]"
      ]
     },
     "execution_count": 349,
     "metadata": {},
     "output_type": "execute_result"
    }
   ],
   "source": [
    "concatenated_route_quarter_tourism = concatenated_route_quarter_tourism.drop(concatenated_route_quarter_tourism[concatenated_route_quarter_tourism.isin(['All Routes'])['Route of Travel']==True].index)\n",
    "\n",
    "concatenated_route_quarter_tourism"
   ]
  },
  {
   "cell_type": "code",
   "execution_count": 350,
   "id": "464accc7",
   "metadata": {},
   "outputs": [
    {
     "name": "stdout",
     "output_type": "stream",
     "text": [
      "(576, 5)\n",
      "(576,)\n"
     ]
    },
    {
     "data": {
      "text/html": [
       "<div>\n",
       "<style scoped>\n",
       "    .dataframe tbody tr th:only-of-type {\n",
       "        vertical-align: middle;\n",
       "    }\n",
       "\n",
       "    .dataframe tbody tr th {\n",
       "        vertical-align: top;\n",
       "    }\n",
       "\n",
       "    .dataframe thead th {\n",
       "        text-align: right;\n",
       "    }\n",
       "</style>\n",
       "<table border=\"1\" class=\"dataframe\">\n",
       "  <thead>\n",
       "    <tr style=\"text-align: right;\">\n",
       "      <th></th>\n",
       "      <th>Route of Travel</th>\n",
       "      <th>Year</th>\n",
       "      <th>Quarter</th>\n",
       "      <th>Direction</th>\n",
       "      <th>Travellers x(1,000)</th>\n",
       "      <th>Distribution Per Route</th>\n",
       "    </tr>\n",
       "  </thead>\n",
       "  <tbody>\n",
       "    <tr>\n",
       "      <th>0</th>\n",
       "      <td>Continental Europe</td>\n",
       "      <td>1985</td>\n",
       "      <td>1</td>\n",
       "      <td>Visitors to Ireland</td>\n",
       "      <td>28</td>\n",
       "      <td>0.110236</td>\n",
       "    </tr>\n",
       "    <tr>\n",
       "      <th>1</th>\n",
       "      <td>Cross Channel</td>\n",
       "      <td>1985</td>\n",
       "      <td>1</td>\n",
       "      <td>Visitors to Ireland</td>\n",
       "      <td>211</td>\n",
       "      <td>0.830709</td>\n",
       "    </tr>\n",
       "    <tr>\n",
       "      <th>2</th>\n",
       "      <td>Transatlantic</td>\n",
       "      <td>1985</td>\n",
       "      <td>1</td>\n",
       "      <td>Visitors to Ireland</td>\n",
       "      <td>15</td>\n",
       "      <td>0.059055</td>\n",
       "    </tr>\n",
       "    <tr>\n",
       "      <th>3</th>\n",
       "      <td>Continental Europe</td>\n",
       "      <td>1985</td>\n",
       "      <td>1</td>\n",
       "      <td>Visits Abroad by Irish Residents</td>\n",
       "      <td>41</td>\n",
       "      <td>0.220430</td>\n",
       "    </tr>\n",
       "    <tr>\n",
       "      <th>4</th>\n",
       "      <td>Cross Channel</td>\n",
       "      <td>1985</td>\n",
       "      <td>1</td>\n",
       "      <td>Visits Abroad by Irish Residents</td>\n",
       "      <td>140</td>\n",
       "      <td>0.752688</td>\n",
       "    </tr>\n",
       "    <tr>\n",
       "      <th>...</th>\n",
       "      <td>...</td>\n",
       "      <td>...</td>\n",
       "      <td>...</td>\n",
       "      <td>...</td>\n",
       "      <td>...</td>\n",
       "      <td>...</td>\n",
       "    </tr>\n",
       "    <tr>\n",
       "      <th>571</th>\n",
       "      <td>Cross Channel</td>\n",
       "      <td>2008</td>\n",
       "      <td>4</td>\n",
       "      <td>Visitors to Ireland</td>\n",
       "      <td>981</td>\n",
       "      <td>0.589189</td>\n",
       "    </tr>\n",
       "    <tr>\n",
       "      <th>572</th>\n",
       "      <td>Transatlantic</td>\n",
       "      <td>2008</td>\n",
       "      <td>4</td>\n",
       "      <td>Visitors to Ireland</td>\n",
       "      <td>101</td>\n",
       "      <td>0.060661</td>\n",
       "    </tr>\n",
       "    <tr>\n",
       "      <th>573</th>\n",
       "      <td>Continental Europe</td>\n",
       "      <td>2008</td>\n",
       "      <td>4</td>\n",
       "      <td>Visits Abroad by Irish Residents</td>\n",
       "      <td>806</td>\n",
       "      <td>0.492966</td>\n",
       "    </tr>\n",
       "    <tr>\n",
       "      <th>574</th>\n",
       "      <td>Cross Channel</td>\n",
       "      <td>2008</td>\n",
       "      <td>4</td>\n",
       "      <td>Visits Abroad by Irish Residents</td>\n",
       "      <td>677</td>\n",
       "      <td>0.414067</td>\n",
       "    </tr>\n",
       "    <tr>\n",
       "      <th>575</th>\n",
       "      <td>Transatlantic</td>\n",
       "      <td>2008</td>\n",
       "      <td>4</td>\n",
       "      <td>Visits Abroad by Irish Residents</td>\n",
       "      <td>152</td>\n",
       "      <td>0.092966</td>\n",
       "    </tr>\n",
       "  </tbody>\n",
       "</table>\n",
       "<p>576 rows × 6 columns</p>\n",
       "</div>"
      ],
      "text/plain": [
       "        Route of Travel  Year  Quarter                         Direction  \\\n",
       "0    Continental Europe  1985        1               Visitors to Ireland   \n",
       "1         Cross Channel  1985        1               Visitors to Ireland   \n",
       "2         Transatlantic  1985        1               Visitors to Ireland   \n",
       "3    Continental Europe  1985        1  Visits Abroad by Irish Residents   \n",
       "4         Cross Channel  1985        1  Visits Abroad by Irish Residents   \n",
       "..                  ...   ...      ...                               ...   \n",
       "571       Cross Channel  2008        4               Visitors to Ireland   \n",
       "572       Transatlantic  2008        4               Visitors to Ireland   \n",
       "573  Continental Europe  2008        4  Visits Abroad by Irish Residents   \n",
       "574       Cross Channel  2008        4  Visits Abroad by Irish Residents   \n",
       "575       Transatlantic  2008        4  Visits Abroad by Irish Residents   \n",
       "\n",
       "     Travellers x(1,000)  Distribution Per Route  \n",
       "0                     28                0.110236  \n",
       "1                    211                0.830709  \n",
       "2                     15                0.059055  \n",
       "3                     41                0.220430  \n",
       "4                    140                0.752688  \n",
       "..                   ...                     ...  \n",
       "571                  981                0.589189  \n",
       "572                  101                0.060661  \n",
       "573                  806                0.492966  \n",
       "574                  677                0.414067  \n",
       "575                  152                0.092966  \n",
       "\n",
       "[576 rows x 6 columns]"
      ]
     },
     "execution_count": 350,
     "metadata": {},
     "output_type": "execute_result"
    }
   ],
   "source": [
    "\n",
    "concateneated_freqs = calculate_frequencies(concatenated_route_quarter_tourism)\n",
    "concateneated_freqs\n"
   ]
  },
  {
   "cell_type": "code",
   "execution_count": 351,
   "id": "9bcc1e2c",
   "metadata": {},
   "outputs": [
    {
     "data": {
      "text/plain": [
       "<Axes: xlabel='Year', ylabel='Distribution Per Route'>"
      ]
     },
     "execution_count": 351,
     "metadata": {},
     "output_type": "execute_result"
    },
    {
     "data": {
      "image/png": "[encoded data removed]",
      "text/plain": [
       "<Figure size 640x480 with 1 Axes>"
      ]
     },
     "metadata": {},
     "output_type": "display_data"
    }
   ],
   "source": [
    "to_ireland = concatenated_route_quarter_tourism[concatenated_route_quarter_tourism['Direction'] == 'Visitors to Ireland']\n",
    "sns.barplot(x='Year', y='Distribution Per Route', data=to_ireland, hue='Route of Travel', ci=None)"
   ]
  },
  {
   "cell_type": "markdown",
   "id": "f20d4e04",
   "metadata": {},
   "source": [
    "## Expenditures Dataset: Exploration and Cleaning\n",
    "#### Explore expend_quarter dataset\n",
    "#### Dataset describes travel to and from Ireland by all routes between the years of 1985 and 2008, Quarterly, with Expenditure."
   ]
  },
  {
   "cell_type": "code",
   "execution_count": 352,
   "id": "3ff9ea7c",
   "metadata": {},
   "outputs": [
    {
     "data": {
      "text/plain": [
       "(192, 8)"
      ]
     },
     "execution_count": 352,
     "metadata": {},
     "output_type": "execute_result"
    }
   ],
   "source": [
    "# Read csv file into pandas dataframe\n",
    "# url = https://data.gov.ie/dataset/tmq03-expenditure-of-visitors-to-and-from-ireland/resource/231eb892-f7cf-4a1a-93d2-25754c99e3b1\n",
    "# TMQ03-Expenditure-of-Visitors-to-and-from-Ireland dataset contains 8 columns and 192 rows\n",
    "# (24 years in Quarters = 96 rows), 96 rows by 2 Direction = 192 rows\n",
    "# Columns: C02196V02652, State, TLIST(Q1), Quarter, STATISTIC, Statistic Label, UNIT, VALUE\n",
    "# Columns 1 and 2 do not contain useful information\n",
    "expend_quarter = pd.read_csv(\"TMQ03-Expenditure-of-Visitors-to-and-from-Ireland.csv\")\n",
    "\n",
    "expend_quarter.shape"
   ]
  },
  {
   "cell_type": "markdown",
   "id": "97120744",
   "metadata": {},
   "source": [
    "### Display column names in Dataset 2"
   ]
  },
  {
   "cell_type": "code",
   "execution_count": 353,
   "id": "0895125b",
   "metadata": {},
   "outputs": [
    {
     "name": "stdout",
     "output_type": "stream",
     "text": [
      "Index(['C02196V02652', 'State', 'TLIST(Q1)', 'Quarter', 'STATISTIC',\n",
      "       'Statistic Label', 'UNIT', 'VALUE'],\n",
      "      dtype='object')\n"
     ]
    }
   ],
   "source": [
    "print(expend_quarter.columns)"
   ]
  },
  {
   "cell_type": "code",
   "execution_count": 354,
   "id": "113bf3b4",
   "metadata": {},
   "outputs": [
    {
     "data": {
      "text/plain": [
       "State\n",
       "State    192\n",
       "Name: count, dtype: int64"
      ]
     },
     "execution_count": 354,
     "metadata": {},
     "output_type": "execute_result"
    },
    {
     "data": {
      "text/plain": [
       "Statistic Label\n",
       "Expenditure of Visitors to Ireland (excluding International fares)       96\n",
       "Expenditure of Irish Residents Abroad (including International fares)    96\n",
       "Name: count, dtype: int64"
      ]
     },
     "execution_count": 354,
     "metadata": {},
     "output_type": "execute_result"
    },
    {
     "data": {
      "text/plain": [
       "C02196V02652\n",
       "-    192\n",
       "Name: count, dtype: int64"
      ]
     },
     "execution_count": 354,
     "metadata": {},
     "output_type": "execute_result"
    },
    {
     "data": {
      "text/plain": [
       "UNIT\n",
       "Euro Million    192\n",
       "Name: count, dtype: int64"
      ]
     },
     "execution_count": 354,
     "metadata": {},
     "output_type": "execute_result"
    },
    {
     "data": {
      "text/plain": [
       "(66.702, 298.7]     55\n",
       "(298.7, 528.4]      40\n",
       "(528.4, 758.1]      30\n",
       "(758.1, 987.8]      24\n",
       "(987.8, 1217.5]     18\n",
       "(1447.2, 1676.9]    10\n",
       "(1217.5, 1447.2]     8\n",
       "(1676.9, 1906.6]     5\n",
       "(1906.6, 2136.3]     1\n",
       "(2136.3, 2366.0]     1\n",
       "Name: count, dtype: int64"
      ]
     },
     "execution_count": 354,
     "metadata": {},
     "output_type": "execute_result"
    }
   ],
   "source": [
    "expend_quarter['State'].value_counts()\n",
    "expend_quarter['Statistic Label'].value_counts()\n",
    "expend_quarter['C02196V02652'].value_counts()\n",
    "expend_quarter['UNIT'].value_counts()\n",
    "expend_quarter['VALUE'].value_counts(bins=10)"
   ]
  },
  {
   "cell_type": "code",
   "execution_count": 355,
   "id": "e1369347",
   "metadata": {},
   "outputs": [
    {
     "data": {
      "text/html": [
       "<div>\n",
       "<style scoped>\n",
       "    .dataframe tbody tr th:only-of-type {\n",
       "        vertical-align: middle;\n",
       "    }\n",
       "\n",
       "    .dataframe tbody tr th {\n",
       "        vertical-align: top;\n",
       "    }\n",
       "\n",
       "    .dataframe thead th {\n",
       "        text-align: right;\n",
       "    }\n",
       "</style>\n",
       "<table border=\"1\" class=\"dataframe\">\n",
       "  <thead>\n",
       "    <tr style=\"text-align: right;\">\n",
       "      <th></th>\n",
       "      <th>C02196V02652</th>\n",
       "      <th>State</th>\n",
       "      <th>TLIST(Q1)</th>\n",
       "      <th>Quarter</th>\n",
       "      <th>STATISTIC</th>\n",
       "      <th>Statistic Label</th>\n",
       "      <th>UNIT</th>\n",
       "      <th>VALUE</th>\n",
       "    </tr>\n",
       "  </thead>\n",
       "  <tbody>\n",
       "    <tr>\n",
       "      <th>0</th>\n",
       "      <td>-</td>\n",
       "      <td>State</td>\n",
       "      <td>19851</td>\n",
       "      <td>1985Q1</td>\n",
       "      <td>TMQ03C1</td>\n",
       "      <td>Expenditure of Visitors to Ireland (excluding ...</td>\n",
       "      <td>Euro Million</td>\n",
       "      <td>107</td>\n",
       "    </tr>\n",
       "    <tr>\n",
       "      <th>1</th>\n",
       "      <td>-</td>\n",
       "      <td>State</td>\n",
       "      <td>19851</td>\n",
       "      <td>1985Q1</td>\n",
       "      <td>TMQ03C2</td>\n",
       "      <td>Expenditure of Irish Residents Abroad (includi...</td>\n",
       "      <td>Euro Million</td>\n",
       "      <td>69</td>\n",
       "    </tr>\n",
       "    <tr>\n",
       "      <th>2</th>\n",
       "      <td>-</td>\n",
       "      <td>State</td>\n",
       "      <td>19852</td>\n",
       "      <td>1985Q2</td>\n",
       "      <td>TMQ03C1</td>\n",
       "      <td>Expenditure of Visitors to Ireland (excluding ...</td>\n",
       "      <td>Euro Million</td>\n",
       "      <td>217</td>\n",
       "    </tr>\n",
       "    <tr>\n",
       "      <th>3</th>\n",
       "      <td>-</td>\n",
       "      <td>State</td>\n",
       "      <td>19852</td>\n",
       "      <td>1985Q2</td>\n",
       "      <td>TMQ03C2</td>\n",
       "      <td>Expenditure of Irish Residents Abroad (includi...</td>\n",
       "      <td>Euro Million</td>\n",
       "      <td>133</td>\n",
       "    </tr>\n",
       "    <tr>\n",
       "      <th>4</th>\n",
       "      <td>-</td>\n",
       "      <td>State</td>\n",
       "      <td>19853</td>\n",
       "      <td>1985Q3</td>\n",
       "      <td>TMQ03C1</td>\n",
       "      <td>Expenditure of Visitors to Ireland (excluding ...</td>\n",
       "      <td>Euro Million</td>\n",
       "      <td>410</td>\n",
       "    </tr>\n",
       "    <tr>\n",
       "      <th>5</th>\n",
       "      <td>-</td>\n",
       "      <td>State</td>\n",
       "      <td>19853</td>\n",
       "      <td>1985Q3</td>\n",
       "      <td>TMQ03C2</td>\n",
       "      <td>Expenditure of Irish Residents Abroad (includi...</td>\n",
       "      <td>Euro Million</td>\n",
       "      <td>207</td>\n",
       "    </tr>\n",
       "    <tr>\n",
       "      <th>6</th>\n",
       "      <td>-</td>\n",
       "      <td>State</td>\n",
       "      <td>19854</td>\n",
       "      <td>1985Q4</td>\n",
       "      <td>TMQ03C1</td>\n",
       "      <td>Expenditure of Visitors to Ireland (excluding ...</td>\n",
       "      <td>Euro Million</td>\n",
       "      <td>136</td>\n",
       "    </tr>\n",
       "    <tr>\n",
       "      <th>7</th>\n",
       "      <td>-</td>\n",
       "      <td>State</td>\n",
       "      <td>19854</td>\n",
       "      <td>1985Q4</td>\n",
       "      <td>TMQ03C2</td>\n",
       "      <td>Expenditure of Irish Residents Abroad (includi...</td>\n",
       "      <td>Euro Million</td>\n",
       "      <td>102</td>\n",
       "    </tr>\n",
       "    <tr>\n",
       "      <th>8</th>\n",
       "      <td>-</td>\n",
       "      <td>State</td>\n",
       "      <td>19861</td>\n",
       "      <td>1986Q1</td>\n",
       "      <td>TMQ03C1</td>\n",
       "      <td>Expenditure of Visitors to Ireland (excluding ...</td>\n",
       "      <td>Euro Million</td>\n",
       "      <td>109</td>\n",
       "    </tr>\n",
       "    <tr>\n",
       "      <th>9</th>\n",
       "      <td>-</td>\n",
       "      <td>State</td>\n",
       "      <td>19861</td>\n",
       "      <td>1986Q1</td>\n",
       "      <td>TMQ03C2</td>\n",
       "      <td>Expenditure of Irish Residents Abroad (includi...</td>\n",
       "      <td>Euro Million</td>\n",
       "      <td>95</td>\n",
       "    </tr>\n",
       "  </tbody>\n",
       "</table>\n",
       "</div>"
      ],
      "text/plain": [
       "  C02196V02652  State  TLIST(Q1) Quarter STATISTIC  \\\n",
       "0            -  State      19851  1985Q1   TMQ03C1   \n",
       "1            -  State      19851  1985Q1   TMQ03C2   \n",
       "2            -  State      19852  1985Q2   TMQ03C1   \n",
       "3            -  State      19852  1985Q2   TMQ03C2   \n",
       "4            -  State      19853  1985Q3   TMQ03C1   \n",
       "5            -  State      19853  1985Q3   TMQ03C2   \n",
       "6            -  State      19854  1985Q4   TMQ03C1   \n",
       "7            -  State      19854  1985Q4   TMQ03C2   \n",
       "8            -  State      19861  1986Q1   TMQ03C1   \n",
       "9            -  State      19861  1986Q1   TMQ03C2   \n",
       "\n",
       "                                     Statistic Label          UNIT  VALUE  \n",
       "0  Expenditure of Visitors to Ireland (excluding ...  Euro Million    107  \n",
       "1  Expenditure of Irish Residents Abroad (includi...  Euro Million     69  \n",
       "2  Expenditure of Visitors to Ireland (excluding ...  Euro Million    217  \n",
       "3  Expenditure of Irish Residents Abroad (includi...  Euro Million    133  \n",
       "4  Expenditure of Visitors to Ireland (excluding ...  Euro Million    410  \n",
       "5  Expenditure of Irish Residents Abroad (includi...  Euro Million    207  \n",
       "6  Expenditure of Visitors to Ireland (excluding ...  Euro Million    136  \n",
       "7  Expenditure of Irish Residents Abroad (includi...  Euro Million    102  \n",
       "8  Expenditure of Visitors to Ireland (excluding ...  Euro Million    109  \n",
       "9  Expenditure of Irish Residents Abroad (includi...  Euro Million     95  "
      ]
     },
     "execution_count": 355,
     "metadata": {},
     "output_type": "execute_result"
    }
   ],
   "source": [
    "expend_quarter.head(10)"
   ]
  },
  {
   "cell_type": "markdown",
   "id": "ac94ec37",
   "metadata": {},
   "source": [
    "## Edit Dataframe 2 - Data Cleaning \n",
    "### Remove, Rename and Transform columns"
   ]
  },
  {
   "cell_type": "code",
   "execution_count": 356,
   "id": "434f8a1f",
   "metadata": {},
   "outputs": [
    {
     "data": {
      "text/plain": [
       "(192, 4)"
      ]
     },
     "execution_count": 356,
     "metadata": {},
     "output_type": "execute_result"
    }
   ],
   "source": [
    "# Remove 'UNIT' column as 'VALUE' column heading will be amended to reflect units. \n",
    "# Remove 'ROUTE' column as 'Route of Travel' contains the same information in human readable language.\n",
    "# Remove 'STATISTIC' column as this data is contained within 'Quarter' and 'Statistic Label' columns in human readable language.\n",
    "expend_quarter_tourism = expend_quarter.drop(columns=['UNIT', 'State', 'C02196V02652', 'STATISTIC'])\n",
    "\n",
    "# Rename 'TLIST(Q1)' column to Year\n",
    "expend_quarter_tourism.rename(columns={\"TLIST(Q1)\": \"Year\"}, inplace=True)\n",
    "\n",
    "# Last character in 'Year' column refers to quarter (1-4) \n",
    "# Remove last character from by dividing by 10 and saving as integer to remove non-whole numbers. e.g. 19854 -> 1985.4 = 1985\n",
    "expend_quarter_tourism[\"Year\"] = expend_quarter_tourism[\"Year\"].transform(lambda x: x / 10).astype(int)\n",
    "\n",
    "# The'Quarter' column contains the year and Q before the number designating the quarter. e.g. 1985Q4\n",
    "# Transform 'Quarter' column, reassigning last character of each entry as integer reflecting the quarter. e.g. 1985Q4 = 4\n",
    "expend_quarter_tourism[\"Quarter\"] = expend_quarter_tourism[\"Quarter\"].transform(lambda x: str(x)[-1]).astype(int)\n",
    "\n",
    "# Rename 'Statistic Label' column for Direction\n",
    "expend_quarter_tourism.rename(columns={\"Statistic Label\": \"Direction\"}, inplace=True)\n",
    "\n",
    "# Rename Column for Travellers x 1,000\n",
    "expend_quarter_tourism.rename(columns={\"VALUE\": \"Expenditure x(€1,000,000)\"}, inplace=True)\n",
    "\n",
    "expend_quarter_tourism.shape"
   ]
  },
  {
   "cell_type": "code",
   "execution_count": 357,
   "id": "86447f20",
   "metadata": {},
   "outputs": [],
   "source": [
    "# A better way of renaming column values to enable concatenation of the two datasets\n",
    "direction_mapping = {'Expenditure of Visitors to Ireland (excluding International fares)': 'Visitors to Ireland',\n",
    "                     'Expenditure of Irish Residents Abroad (including International fares)': 'Visits Abroad by Irish Residents'}\n",
    "\n",
    "expend_quarter_tourism[\"Direction\"]=expend_quarter_tourism['Direction'].apply(lambda x: direction_mapping[x])"
   ]
  },
  {
   "cell_type": "markdown",
   "id": "32a2bd0d",
   "metadata": {},
   "source": [
    "### Display column names in edited dataframe 2"
   ]
  },
  {
   "cell_type": "code",
   "execution_count": 358,
   "id": "95e0a392",
   "metadata": {},
   "outputs": [
    {
     "name": "stdout",
     "output_type": "stream",
     "text": [
      "Index(['Year', 'Quarter', 'Direction', 'Expenditure x(€1,000,000)'], dtype='object')\n"
     ]
    }
   ],
   "source": [
    "print(expend_quarter_tourism.columns)"
   ]
  },
  {
   "cell_type": "code",
   "execution_count": 359,
   "id": "346c2666",
   "metadata": {},
   "outputs": [
    {
     "data": {
      "text/html": [
       "<div>\n",
       "<style scoped>\n",
       "    .dataframe tbody tr th:only-of-type {\n",
       "        vertical-align: middle;\n",
       "    }\n",
       "\n",
       "    .dataframe tbody tr th {\n",
       "        vertical-align: top;\n",
       "    }\n",
       "\n",
       "    .dataframe thead th {\n",
       "        text-align: right;\n",
       "    }\n",
       "</style>\n",
       "<table border=\"1\" class=\"dataframe\">\n",
       "  <thead>\n",
       "    <tr style=\"text-align: right;\">\n",
       "      <th></th>\n",
       "      <th>Year</th>\n",
       "      <th>Quarter</th>\n",
       "      <th>Direction</th>\n",
       "      <th>Expenditure x(€1,000,000)</th>\n",
       "    </tr>\n",
       "  </thead>\n",
       "  <tbody>\n",
       "    <tr>\n",
       "      <th>0</th>\n",
       "      <td>1985</td>\n",
       "      <td>1</td>\n",
       "      <td>Visitors to Ireland</td>\n",
       "      <td>107</td>\n",
       "    </tr>\n",
       "    <tr>\n",
       "      <th>1</th>\n",
       "      <td>1985</td>\n",
       "      <td>1</td>\n",
       "      <td>Visits Abroad by Irish Residents</td>\n",
       "      <td>69</td>\n",
       "    </tr>\n",
       "    <tr>\n",
       "      <th>2</th>\n",
       "      <td>1985</td>\n",
       "      <td>2</td>\n",
       "      <td>Visitors to Ireland</td>\n",
       "      <td>217</td>\n",
       "    </tr>\n",
       "    <tr>\n",
       "      <th>3</th>\n",
       "      <td>1985</td>\n",
       "      <td>2</td>\n",
       "      <td>Visits Abroad by Irish Residents</td>\n",
       "      <td>133</td>\n",
       "    </tr>\n",
       "    <tr>\n",
       "      <th>4</th>\n",
       "      <td>1985</td>\n",
       "      <td>3</td>\n",
       "      <td>Visitors to Ireland</td>\n",
       "      <td>410</td>\n",
       "    </tr>\n",
       "  </tbody>\n",
       "</table>\n",
       "</div>"
      ],
      "text/plain": [
       "   Year  Quarter                         Direction  Expenditure x(€1,000,000)\n",
       "0  1985        1               Visitors to Ireland                        107\n",
       "1  1985        1  Visits Abroad by Irish Residents                         69\n",
       "2  1985        2               Visitors to Ireland                        217\n",
       "3  1985        2  Visits Abroad by Irish Residents                        133\n",
       "4  1985        3               Visitors to Ireland                        410"
      ]
     },
     "execution_count": 359,
     "metadata": {},
     "output_type": "execute_result"
    }
   ],
   "source": [
    "expend_quarter_tourism.head()"
   ]
  },
  {
   "cell_type": "code",
   "execution_count": 360,
   "id": "8fe2f069",
   "metadata": {},
   "outputs": [
    {
     "data": {
      "text/plain": [
       "(192, 4)"
      ]
     },
     "execution_count": 360,
     "metadata": {},
     "output_type": "execute_result"
    }
   ],
   "source": [
    "expend_quarter_tourism.shape"
   ]
  },
  {
   "cell_type": "markdown",
   "id": "298aca26",
   "metadata": {},
   "source": [
    "## Dataset 3_duration_of_stay - Exploration and Cleaning\n",
    "#### Explore duration_of_stay dataset\n",
    "#### Dataset describes travel to and from Ireland by all routes between the years of 1976 and 2008, Yearly, with Lenght of Stay."
   ]
  },
  {
   "cell_type": "code",
   "execution_count": 361,
   "id": "4bb2dfb6",
   "metadata": {},
   "outputs": [
    {
     "data": {
      "text/plain": [
       "(660, 8)"
      ]
     },
     "execution_count": 361,
     "metadata": {},
     "output_type": "execute_result"
    }
   ],
   "source": [
    "# Read csv file into pandas dataframe \n",
    "# url = https://data.gov.ie/dataset/tma04-visits-to-and-from-ireland/resource/47481033-39c0-4eda-b02e-d0dba591ab31\n",
    "duration_of_stay = pd.read_csv(\"TMA04-Visits-to-and-from-Ireland.csv\")\n",
    "duration_of_stay.shape"
   ]
  },
  {
   "cell_type": "code",
   "execution_count": 362,
   "id": "9ba7c332",
   "metadata": {},
   "outputs": [
    {
     "name": "stdout",
     "output_type": "stream",
     "text": [
      "Index(['ROUTE', 'Route of Travel', 'TLIST(A1)', 'Year', 'STATISTIC',\n",
      "       'Statistic Label', 'UNIT', 'VALUE'],\n",
      "      dtype='object')\n"
     ]
    },
    {
     "data": {
      "text/html": [
       "<div>\n",
       "<style scoped>\n",
       "    .dataframe tbody tr th:only-of-type {\n",
       "        vertical-align: middle;\n",
       "    }\n",
       "\n",
       "    .dataframe tbody tr th {\n",
       "        vertical-align: top;\n",
       "    }\n",
       "\n",
       "    .dataframe thead th {\n",
       "        text-align: right;\n",
       "    }\n",
       "</style>\n",
       "<table border=\"1\" class=\"dataframe\">\n",
       "  <thead>\n",
       "    <tr style=\"text-align: right;\">\n",
       "      <th></th>\n",
       "      <th>ROUTE</th>\n",
       "      <th>Route of Travel</th>\n",
       "      <th>TLIST(A1)</th>\n",
       "      <th>Year</th>\n",
       "      <th>STATISTIC</th>\n",
       "      <th>Statistic Label</th>\n",
       "      <th>UNIT</th>\n",
       "      <th>VALUE</th>\n",
       "    </tr>\n",
       "  </thead>\n",
       "  <tbody>\n",
       "    <tr>\n",
       "      <th>0</th>\n",
       "      <td>0</td>\n",
       "      <td>All Routes</td>\n",
       "      <td>1976</td>\n",
       "      <td>1976</td>\n",
       "      <td>TMA04C1</td>\n",
       "      <td>Visitors to Ireland</td>\n",
       "      <td>Thousand</td>\n",
       "      <td>1312.0</td>\n",
       "    </tr>\n",
       "    <tr>\n",
       "      <th>1</th>\n",
       "      <td>0</td>\n",
       "      <td>All Routes</td>\n",
       "      <td>1976</td>\n",
       "      <td>1976</td>\n",
       "      <td>TMA04C2</td>\n",
       "      <td>Average Length of Stay by Visitors to Ireland</td>\n",
       "      <td>Nights</td>\n",
       "      <td>12.0</td>\n",
       "    </tr>\n",
       "    <tr>\n",
       "      <th>2</th>\n",
       "      <td>0</td>\n",
       "      <td>All Routes</td>\n",
       "      <td>1976</td>\n",
       "      <td>1976</td>\n",
       "      <td>TMA04C3</td>\n",
       "      <td>Visits Abroad by Irish Residents</td>\n",
       "      <td>Thousand</td>\n",
       "      <td>886.0</td>\n",
       "    </tr>\n",
       "    <tr>\n",
       "      <th>3</th>\n",
       "      <td>0</td>\n",
       "      <td>All Routes</td>\n",
       "      <td>1976</td>\n",
       "      <td>1976</td>\n",
       "      <td>TMA04C4</td>\n",
       "      <td>Average Length of Stay Abroad by Irish Residents</td>\n",
       "      <td>Nights</td>\n",
       "      <td>11.2</td>\n",
       "    </tr>\n",
       "    <tr>\n",
       "      <th>4</th>\n",
       "      <td>0</td>\n",
       "      <td>All Routes</td>\n",
       "      <td>1977</td>\n",
       "      <td>1977</td>\n",
       "      <td>TMA04C1</td>\n",
       "      <td>Visitors to Ireland</td>\n",
       "      <td>Thousand</td>\n",
       "      <td>1473.0</td>\n",
       "    </tr>\n",
       "    <tr>\n",
       "      <th>5</th>\n",
       "      <td>0</td>\n",
       "      <td>All Routes</td>\n",
       "      <td>1977</td>\n",
       "      <td>1977</td>\n",
       "      <td>TMA04C2</td>\n",
       "      <td>Average Length of Stay by Visitors to Ireland</td>\n",
       "      <td>Nights</td>\n",
       "      <td>11.3</td>\n",
       "    </tr>\n",
       "    <tr>\n",
       "      <th>6</th>\n",
       "      <td>0</td>\n",
       "      <td>All Routes</td>\n",
       "      <td>1977</td>\n",
       "      <td>1977</td>\n",
       "      <td>TMA04C3</td>\n",
       "      <td>Visits Abroad by Irish Residents</td>\n",
       "      <td>Thousand</td>\n",
       "      <td>969.0</td>\n",
       "    </tr>\n",
       "    <tr>\n",
       "      <th>7</th>\n",
       "      <td>0</td>\n",
       "      <td>All Routes</td>\n",
       "      <td>1977</td>\n",
       "      <td>1977</td>\n",
       "      <td>TMA04C4</td>\n",
       "      <td>Average Length of Stay Abroad by Irish Residents</td>\n",
       "      <td>Nights</td>\n",
       "      <td>10.6</td>\n",
       "    </tr>\n",
       "    <tr>\n",
       "      <th>8</th>\n",
       "      <td>0</td>\n",
       "      <td>All Routes</td>\n",
       "      <td>1978</td>\n",
       "      <td>1978</td>\n",
       "      <td>TMA04C1</td>\n",
       "      <td>Visitors to Ireland</td>\n",
       "      <td>Thousand</td>\n",
       "      <td>1673.0</td>\n",
       "    </tr>\n",
       "    <tr>\n",
       "      <th>9</th>\n",
       "      <td>0</td>\n",
       "      <td>All Routes</td>\n",
       "      <td>1978</td>\n",
       "      <td>1978</td>\n",
       "      <td>TMA04C2</td>\n",
       "      <td>Average Length of Stay by Visitors to Ireland</td>\n",
       "      <td>Nights</td>\n",
       "      <td>10.7</td>\n",
       "    </tr>\n",
       "  </tbody>\n",
       "</table>\n",
       "</div>"
      ],
      "text/plain": [
       "   ROUTE Route of Travel  TLIST(A1)  Year STATISTIC  \\\n",
       "0      0      All Routes       1976  1976   TMA04C1   \n",
       "1      0      All Routes       1976  1976   TMA04C2   \n",
       "2      0      All Routes       1976  1976   TMA04C3   \n",
       "3      0      All Routes       1976  1976   TMA04C4   \n",
       "4      0      All Routes       1977  1977   TMA04C1   \n",
       "5      0      All Routes       1977  1977   TMA04C2   \n",
       "6      0      All Routes       1977  1977   TMA04C3   \n",
       "7      0      All Routes       1977  1977   TMA04C4   \n",
       "8      0      All Routes       1978  1978   TMA04C1   \n",
       "9      0      All Routes       1978  1978   TMA04C2   \n",
       "\n",
       "                                    Statistic Label      UNIT   VALUE  \n",
       "0                               Visitors to Ireland  Thousand  1312.0  \n",
       "1     Average Length of Stay by Visitors to Ireland    Nights    12.0  \n",
       "2                  Visits Abroad by Irish Residents  Thousand   886.0  \n",
       "3  Average Length of Stay Abroad by Irish Residents    Nights    11.2  \n",
       "4                               Visitors to Ireland  Thousand  1473.0  \n",
       "5     Average Length of Stay by Visitors to Ireland    Nights    11.3  \n",
       "6                  Visits Abroad by Irish Residents  Thousand   969.0  \n",
       "7  Average Length of Stay Abroad by Irish Residents    Nights    10.6  \n",
       "8                               Visitors to Ireland  Thousand  1673.0  \n",
       "9     Average Length of Stay by Visitors to Ireland    Nights    10.7  "
      ]
     },
     "execution_count": 362,
     "metadata": {},
     "output_type": "execute_result"
    }
   ],
   "source": [
    "# TMA04-Visits-to-and-from-Ireland dataset contains 8 columns and 660 rows\n",
    "# (33 years in Years=33 rows),33 rows by 2 Direction=66 rows,66 rows by 5 regions=330 rows by 2(lenght of stay and number) = 660 rows\n",
    "# Columns: ROUTE, Route of Travel, TLIST(A1), Year, STATISTIC, Statistic Label, UNIT, VALUE\n",
    "\n",
    "print(duration_of_stay.columns)\n",
    "duration_of_stay.head(10)"
   ]
  },
  {
   "cell_type": "code",
   "execution_count": 363,
   "id": "31cb60d3",
   "metadata": {},
   "outputs": [
    {
     "data": {
      "text/plain": [
       "(480, 8)"
      ]
     },
     "execution_count": 363,
     "metadata": {},
     "output_type": "execute_result"
    }
   ],
   "source": [
    "# Remove rows for years 1976 to 1985, without matching data in other datasets, Edited to include 1985-2008\n",
    "# (24 years in Years = 24 rows), 24 rows by 2 Direction = 48 rows, 48 rows by 5 regions = 240 rows by 2(lenght of stay and number) = 480 rows\n",
    "# Columns: ROUTE, Route of Travel, TLIST(A1), Year, STATISTIC, Statistic Label, UNIT, VALUE\n",
    "duration_of_stay = duration_of_stay[duration_of_stay['Year'] > 1984]\n",
    "duration_of_stay.shape"
   ]
  },
  {
   "cell_type": "code",
   "execution_count": 364,
   "id": "e11f183d",
   "metadata": {},
   "outputs": [
    {
     "data": {
      "text/plain": [
       "UNIT\n",
       "Thousand    240\n",
       "Nights      240\n",
       "Name: count, dtype: int64"
      ]
     },
     "execution_count": 364,
     "metadata": {},
     "output_type": "execute_result"
    }
   ],
   "source": [
    "duration_of_stay['UNIT'].value_counts()"
   ]
  },
  {
   "cell_type": "code",
   "execution_count": 365,
   "id": "ddb9300c",
   "metadata": {},
   "outputs": [
    {
     "data": {
      "text/plain": [
       "(480, 4)"
      ]
     },
     "execution_count": 365,
     "metadata": {},
     "output_type": "execute_result"
    }
   ],
   "source": [
    "# Remove 'UNIT' column as 'VALUE' column heading will be amended to reflect units. \n",
    "# Remove 'ROUTE' column as 'Route of Travel' contains the same information in human readable language.\n",
    "# Remove 'STATISTIC' column as this data is contained within 'Quarter' and 'Statistic Label' columns in human readable language.\n",
    "duration_of_stay = duration_of_stay.drop(columns=['UNIT', 'ROUTE', 'STATISTIC', 'TLIST(A1)'])\n",
    "\n",
    "# Rename 'TLIST(Q1)' column to Year\n",
    "duration_of_stay.rename(columns={\"TLIST(A1)\": \"Year\"}, inplace=True)\n",
    "\n",
    "# Rename 'Statistic Label' column for Direction\n",
    "duration_of_stay.rename(columns={\"Statistic Label\": \"Direction\"}, inplace=True)\n",
    "\n",
    "duration_of_stay.shape"
   ]
  },
  {
   "cell_type": "code",
   "execution_count": 366,
   "id": "746c2a52",
   "metadata": {},
   "outputs": [
    {
     "data": {
      "text/plain": [
       "(240, 4)"
      ]
     },
     "execution_count": 366,
     "metadata": {},
     "output_type": "execute_result"
    },
    {
     "data": {
      "text/plain": [
       "(240, 4)"
      ]
     },
     "execution_count": 366,
     "metadata": {},
     "output_type": "execute_result"
    }
   ],
   "source": [
    "num_visitors = duration_of_stay[(duration_of_stay['Direction'] == 'Visitors to Ireland') | (duration_of_stay['Direction'] == 'Visits Abroad by Irish Residents')]\n",
    "duration_of_stay_nights = duration_of_stay[(duration_of_stay['Direction'] == 'Average Length of Stay Abroad by Irish Residents') | (duration_of_stay['Direction'] == 'Average Length of Stay by Visitors to Ireland')]\n",
    "\n",
    "num_visitors.rename(columns={\"VALUE\": \"Num Visitors (x 1,000)\"}, inplace=True)\n",
    "duration_of_stay_nights.rename(columns={\"VALUE\": \"Length Stay (Nights)\"}, inplace=True)\n",
    "\n",
    "num_visitors.shape\n",
    "duration_of_stay_nights.shape\n"
   ]
  },
  {
   "cell_type": "code",
   "execution_count": 367,
   "id": "ba7e7494",
   "metadata": {},
   "outputs": [],
   "source": [
    "direction_mapping = {'Average Length of Stay by Visitors to Ireland': 'Visitors to Ireland',\n",
    "                     'Average Length of Stay Abroad by Irish Residents': 'Visits Abroad by Irish Residents'}\n",
    "\n",
    "duration_of_stay_nights[\"Direction\"] = duration_of_stay_nights['Direction'].apply(lambda x: direction_mapping[x])"
   ]
  },
  {
   "cell_type": "code",
   "execution_count": 368,
   "id": "b2730f22",
   "metadata": {},
   "outputs": [
    {
     "data": {
      "text/html": [
       "<div>\n",
       "<style scoped>\n",
       "    .dataframe tbody tr th:only-of-type {\n",
       "        vertical-align: middle;\n",
       "    }\n",
       "\n",
       "    .dataframe tbody tr th {\n",
       "        vertical-align: top;\n",
       "    }\n",
       "\n",
       "    .dataframe thead th {\n",
       "        text-align: right;\n",
       "    }\n",
       "</style>\n",
       "<table border=\"1\" class=\"dataframe\">\n",
       "  <thead>\n",
       "    <tr style=\"text-align: right;\">\n",
       "      <th></th>\n",
       "      <th>Route of Travel</th>\n",
       "      <th>Year</th>\n",
       "      <th>Direction</th>\n",
       "      <th>Num Visitors (x 1,000)</th>\n",
       "      <th>Length Stay (Nights)</th>\n",
       "    </tr>\n",
       "  </thead>\n",
       "  <tbody>\n",
       "    <tr>\n",
       "      <th>0</th>\n",
       "      <td>All Routes</td>\n",
       "      <td>1985</td>\n",
       "      <td>Visitors to Ireland</td>\n",
       "      <td>1912.0</td>\n",
       "      <td>9.9</td>\n",
       "    </tr>\n",
       "    <tr>\n",
       "      <th>1</th>\n",
       "      <td>All Routes</td>\n",
       "      <td>1985</td>\n",
       "      <td>Visits Abroad by Irish Residents</td>\n",
       "      <td>1258.0</td>\n",
       "      <td>9.5</td>\n",
       "    </tr>\n",
       "    <tr>\n",
       "      <th>2</th>\n",
       "      <td>All Routes</td>\n",
       "      <td>1986</td>\n",
       "      <td>Visitors to Ireland</td>\n",
       "      <td>1813.0</td>\n",
       "      <td>9.9</td>\n",
       "    </tr>\n",
       "    <tr>\n",
       "      <th>3</th>\n",
       "      <td>All Routes</td>\n",
       "      <td>1986</td>\n",
       "      <td>Visits Abroad by Irish Residents</td>\n",
       "      <td>1375.0</td>\n",
       "      <td>10.7</td>\n",
       "    </tr>\n",
       "    <tr>\n",
       "      <th>4</th>\n",
       "      <td>All Routes</td>\n",
       "      <td>1987</td>\n",
       "      <td>Visitors to Ireland</td>\n",
       "      <td>2039.0</td>\n",
       "      <td>9.4</td>\n",
       "    </tr>\n",
       "    <tr>\n",
       "      <th>...</th>\n",
       "      <td>...</td>\n",
       "      <td>...</td>\n",
       "      <td>...</td>\n",
       "      <td>...</td>\n",
       "      <td>...</td>\n",
       "    </tr>\n",
       "    <tr>\n",
       "      <th>235</th>\n",
       "      <td>Transatlantic</td>\n",
       "      <td>2006</td>\n",
       "      <td>Visits Abroad by Irish Residents</td>\n",
       "      <td>387.0</td>\n",
       "      <td>10.9</td>\n",
       "    </tr>\n",
       "    <tr>\n",
       "      <th>236</th>\n",
       "      <td>Transatlantic</td>\n",
       "      <td>2007</td>\n",
       "      <td>Visitors to Ireland</td>\n",
       "      <td>669.0</td>\n",
       "      <td>9.5</td>\n",
       "    </tr>\n",
       "    <tr>\n",
       "      <th>237</th>\n",
       "      <td>Transatlantic</td>\n",
       "      <td>2007</td>\n",
       "      <td>Visits Abroad by Irish Residents</td>\n",
       "      <td>441.0</td>\n",
       "      <td>10.2</td>\n",
       "    </tr>\n",
       "    <tr>\n",
       "      <th>238</th>\n",
       "      <td>Transatlantic</td>\n",
       "      <td>2008</td>\n",
       "      <td>Visitors to Ireland</td>\n",
       "      <td>603.0</td>\n",
       "      <td>10.2</td>\n",
       "    </tr>\n",
       "    <tr>\n",
       "      <th>239</th>\n",
       "      <td>Transatlantic</td>\n",
       "      <td>2008</td>\n",
       "      <td>Visits Abroad by Irish Residents</td>\n",
       "      <td>520.0</td>\n",
       "      <td>11.0</td>\n",
       "    </tr>\n",
       "  </tbody>\n",
       "</table>\n",
       "<p>240 rows × 5 columns</p>\n",
       "</div>"
      ],
      "text/plain": [
       "    Route of Travel  Year                         Direction  \\\n",
       "0        All Routes  1985               Visitors to Ireland   \n",
       "1        All Routes  1985  Visits Abroad by Irish Residents   \n",
       "2        All Routes  1986               Visitors to Ireland   \n",
       "3        All Routes  1986  Visits Abroad by Irish Residents   \n",
       "4        All Routes  1987               Visitors to Ireland   \n",
       "..              ...   ...                               ...   \n",
       "235   Transatlantic  2006  Visits Abroad by Irish Residents   \n",
       "236   Transatlantic  2007               Visitors to Ireland   \n",
       "237   Transatlantic  2007  Visits Abroad by Irish Residents   \n",
       "238   Transatlantic  2008               Visitors to Ireland   \n",
       "239   Transatlantic  2008  Visits Abroad by Irish Residents   \n",
       "\n",
       "     Num Visitors (x 1,000)  Length Stay (Nights)  \n",
       "0                    1912.0                   9.9  \n",
       "1                    1258.0                   9.5  \n",
       "2                    1813.0                   9.9  \n",
       "3                    1375.0                  10.7  \n",
       "4                    2039.0                   9.4  \n",
       "..                      ...                   ...  \n",
       "235                   387.0                  10.9  \n",
       "236                   669.0                   9.5  \n",
       "237                   441.0                  10.2  \n",
       "238                   603.0                  10.2  \n",
       "239                   520.0                  11.0  \n",
       "\n",
       "[240 rows x 5 columns]"
      ]
     },
     "execution_count": 368,
     "metadata": {},
     "output_type": "execute_result"
    }
   ],
   "source": [
    "duration_and_num = num_visitors.merge(duration_of_stay_nights, on=['Year', 'Direction', 'Route of Travel'])\n",
    "duration_and_num"
   ]
  },
  {
   "cell_type": "code",
   "execution_count": 369,
   "id": "ba9fdaf5",
   "metadata": {},
   "outputs": [
    {
     "data": {
      "text/plain": [
       "(192, 5)"
      ]
     },
     "execution_count": 369,
     "metadata": {},
     "output_type": "execute_result"
    }
   ],
   "source": [
    "concatenated_duration_and_num = merge_air_and_sea(duration_and_num, ['Year', 'Direction'])\n",
    "concatenated_duration_and_num.shape"
   ]
  },
  {
   "cell_type": "code",
   "execution_count": 370,
   "id": "6c3812a1",
   "metadata": {},
   "outputs": [],
   "source": [
    "# duration_of_stay['ROUTE'].value_counts()\n",
    "# duration_of_stay['Route of Travel'].value_counts()\n",
    "# duration_of_stay['Year'].value_counts()\n",
    "# duration_of_stay['STATISTIC'].value_counts()\n",
    "# duration_of_stay['Statistic Label'].value_counts()\n",
    "# duration_of_stay['UNIT'].value_counts()\n",
    "# duration_of_stay['VALUE'].value_counts(bins=10)"
   ]
  },
  {
   "cell_type": "markdown",
   "id": "ee3deaba",
   "metadata": {},
   "source": [
    "## Merging Cleaned Dataframes 1 & 2"
   ]
  },
  {
   "cell_type": "code",
   "execution_count": 371,
   "id": "3011a243",
   "metadata": {},
   "outputs": [
    {
     "ename": "NameError",
     "evalue": "name 'merged_route_quarter_2' is not defined",
     "output_type": "error",
     "traceback": [
      "\u001b[1;31m---------------------------------------------------------------------------\u001b[0m",
      "\u001b[1;31mNameError\u001b[0m                                 Traceback (most recent call last)",
      "Cell \u001b[1;32mIn[371], line 1\u001b[0m\n\u001b[1;32m----> 1\u001b[0m merged_route_quarter_2[\u001b[38;5;124m'\u001b[39m\u001b[38;5;124mRoute of Travel\u001b[39m\u001b[38;5;124m'\u001b[39m]\u001b[38;5;241m.\u001b[39mvalue_counts()\n\u001b[0;32m      2\u001b[0m merged_route_quarter_2[\u001b[38;5;124m'\u001b[39m\u001b[38;5;124mYear\u001b[39m\u001b[38;5;124m'\u001b[39m]\u001b[38;5;241m.\u001b[39mvalue_counts()\n\u001b[0;32m      3\u001b[0m merged_route_quarter_2[\u001b[38;5;124m'\u001b[39m\u001b[38;5;124mQuarter\u001b[39m\u001b[38;5;124m'\u001b[39m]\u001b[38;5;241m.\u001b[39mvalue_counts()\n",
      "\u001b[1;31mNameError\u001b[0m: name 'merged_route_quarter_2' is not defined"
     ]
    }
   ],
   "source": [
    "merged_route_quarter_2['Route of Travel'].value_counts()\n",
    "merged_route_quarter_2['Year'].value_counts()\n",
    "merged_route_quarter_2['Quarter'].value_counts()\n",
    "merged_route_quarter_2['Direction'].value_counts()\n"
   ]
  },
  {
   "cell_type": "code",
   "execution_count": null,
   "id": "4ef19325",
   "metadata": {},
   "outputs": [],
   "source": [
    "# Merging dataframe 1 and 2 together on common column values for 'All Routes' values in Route of Travel column \n",
    "merged_route_quarter_2 = pd.merge(concatenated_route_quarter_tourism[concatenated_route_quarter_tourism['Route of Travel'] == 'All Routes'], expend_quarter_tourism, on=['Year', 'Quarter', 'Direction'])\n",
    "\n",
    "print(merged_route_quarter_2.columns)\n",
    "merged_route_quarter_2.shape"
   ]
  },
  {
   "cell_type": "markdown",
   "id": "1855750f",
   "metadata": {},
   "source": [
    "## Dataset 4_reason - Exploration and Cleaning\n",
    "#### Explore reason dataset\n",
    "#### Dataset describes travel to and from Ireland by all routes between the years of 1976 and 2008, yearly, with lenght of stay, reason for travel and expenditure ."
   ]
  },
  {
   "cell_type": "code",
   "execution_count": null,
   "id": "eb53c737",
   "metadata": {},
   "outputs": [
    {
     "data": {
      "text/plain": [
       "(792, 8)"
      ]
     },
     "execution_count": 269,
     "metadata": {},
     "output_type": "execute_result"
    }
   ],
   "source": [
    "# Read csv file into pandas dataframe \n",
    "# url = https://data.gov.ie/dataset/tma05-visits-to-and-from-ireland/resource/3fe9ec9d-c16f-47dc-92e3-6749c6361d7c\n",
    "\n",
    "reason = pd.read_csv(\"TMA05-Visits-to-and-from-Ireland.csv\")\n",
    "reason.shape"
   ]
  },
  {
   "cell_type": "code",
   "execution_count": null,
   "id": "c100e6e2",
   "metadata": {},
   "outputs": [
    {
     "name": "stdout",
     "output_type": "stream",
     "text": [
      "Index(['C02118V02559', 'Reason for Journey', 'TLIST(A1)', 'Year', 'STATISTIC',\n",
      "       'Statistic Label', 'UNIT', 'VALUE'],\n",
      "      dtype='object')\n"
     ]
    },
    {
     "data": {
      "text/html": [
       "<div>\n",
       "<style scoped>\n",
       "    .dataframe tbody tr th:only-of-type {\n",
       "        vertical-align: middle;\n",
       "    }\n",
       "\n",
       "    .dataframe tbody tr th {\n",
       "        vertical-align: top;\n",
       "    }\n",
       "\n",
       "    .dataframe thead th {\n",
       "        text-align: right;\n",
       "    }\n",
       "</style>\n",
       "<table border=\"1\" class=\"dataframe\">\n",
       "  <thead>\n",
       "    <tr style=\"text-align: right;\">\n",
       "      <th></th>\n",
       "      <th>C02118V02559</th>\n",
       "      <th>Reason for Journey</th>\n",
       "      <th>TLIST(A1)</th>\n",
       "      <th>Year</th>\n",
       "      <th>STATISTIC</th>\n",
       "      <th>Statistic Label</th>\n",
       "      <th>UNIT</th>\n",
       "      <th>VALUE</th>\n",
       "    </tr>\n",
       "  </thead>\n",
       "  <tbody>\n",
       "    <tr>\n",
       "      <th>0</th>\n",
       "      <td>1</td>\n",
       "      <td>Holiday/leisure/recreation</td>\n",
       "      <td>1976</td>\n",
       "      <td>1976</td>\n",
       "      <td>TMA05C1</td>\n",
       "      <td>Expenditure by Vistors to Ireland</td>\n",
       "      <td>Euro Million</td>\n",
       "      <td>69.0</td>\n",
       "    </tr>\n",
       "    <tr>\n",
       "      <th>1</th>\n",
       "      <td>1</td>\n",
       "      <td>Holiday/leisure/recreation</td>\n",
       "      <td>1976</td>\n",
       "      <td>1976</td>\n",
       "      <td>TMA05C2</td>\n",
       "      <td>Visitors to Ireland</td>\n",
       "      <td>Thousand</td>\n",
       "      <td>553.0</td>\n",
       "    </tr>\n",
       "    <tr>\n",
       "      <th>2</th>\n",
       "      <td>1</td>\n",
       "      <td>Holiday/leisure/recreation</td>\n",
       "      <td>1976</td>\n",
       "      <td>1976</td>\n",
       "      <td>TMA05C3</td>\n",
       "      <td>Average Length of Stay by Visitors to Ireland</td>\n",
       "      <td>Nights</td>\n",
       "      <td>NaN</td>\n",
       "    </tr>\n",
       "    <tr>\n",
       "      <th>3</th>\n",
       "      <td>1</td>\n",
       "      <td>Holiday/leisure/recreation</td>\n",
       "      <td>1976</td>\n",
       "      <td>1976</td>\n",
       "      <td>TMA05C4</td>\n",
       "      <td>Expenditure by Irish Residents Abroad</td>\n",
       "      <td>Euro Million</td>\n",
       "      <td>81.0</td>\n",
       "    </tr>\n",
       "    <tr>\n",
       "      <th>4</th>\n",
       "      <td>1</td>\n",
       "      <td>Holiday/leisure/recreation</td>\n",
       "      <td>1976</td>\n",
       "      <td>1976</td>\n",
       "      <td>TMA05C5</td>\n",
       "      <td>Visits Abroad by Irish Residents</td>\n",
       "      <td>Thousand</td>\n",
       "      <td>428.0</td>\n",
       "    </tr>\n",
       "    <tr>\n",
       "      <th>5</th>\n",
       "      <td>1</td>\n",
       "      <td>Holiday/leisure/recreation</td>\n",
       "      <td>1976</td>\n",
       "      <td>1976</td>\n",
       "      <td>TMA05C6</td>\n",
       "      <td>Average Length of Stay Abroad by Irish Residents</td>\n",
       "      <td>Nights</td>\n",
       "      <td>NaN</td>\n",
       "    </tr>\n",
       "    <tr>\n",
       "      <th>6</th>\n",
       "      <td>1</td>\n",
       "      <td>Holiday/leisure/recreation</td>\n",
       "      <td>1977</td>\n",
       "      <td>1977</td>\n",
       "      <td>TMA05C1</td>\n",
       "      <td>Expenditure by Vistors to Ireland</td>\n",
       "      <td>Euro Million</td>\n",
       "      <td>98.0</td>\n",
       "    </tr>\n",
       "    <tr>\n",
       "      <th>7</th>\n",
       "      <td>1</td>\n",
       "      <td>Holiday/leisure/recreation</td>\n",
       "      <td>1977</td>\n",
       "      <td>1977</td>\n",
       "      <td>TMA05C2</td>\n",
       "      <td>Visitors to Ireland</td>\n",
       "      <td>Thousand</td>\n",
       "      <td>665.0</td>\n",
       "    </tr>\n",
       "    <tr>\n",
       "      <th>8</th>\n",
       "      <td>1</td>\n",
       "      <td>Holiday/leisure/recreation</td>\n",
       "      <td>1977</td>\n",
       "      <td>1977</td>\n",
       "      <td>TMA05C3</td>\n",
       "      <td>Average Length of Stay by Visitors to Ireland</td>\n",
       "      <td>Nights</td>\n",
       "      <td>NaN</td>\n",
       "    </tr>\n",
       "    <tr>\n",
       "      <th>9</th>\n",
       "      <td>1</td>\n",
       "      <td>Holiday/leisure/recreation</td>\n",
       "      <td>1977</td>\n",
       "      <td>1977</td>\n",
       "      <td>TMA05C4</td>\n",
       "      <td>Expenditure by Irish Residents Abroad</td>\n",
       "      <td>Euro Million</td>\n",
       "      <td>94.0</td>\n",
       "    </tr>\n",
       "  </tbody>\n",
       "</table>\n",
       "</div>"
      ],
      "text/plain": [
       "   C02118V02559          Reason for Journey  TLIST(A1)  Year STATISTIC  \\\n",
       "0             1  Holiday/leisure/recreation       1976  1976   TMA05C1   \n",
       "1             1  Holiday/leisure/recreation       1976  1976   TMA05C2   \n",
       "2             1  Holiday/leisure/recreation       1976  1976   TMA05C3   \n",
       "3             1  Holiday/leisure/recreation       1976  1976   TMA05C4   \n",
       "4             1  Holiday/leisure/recreation       1976  1976   TMA05C5   \n",
       "5             1  Holiday/leisure/recreation       1976  1976   TMA05C6   \n",
       "6             1  Holiday/leisure/recreation       1977  1977   TMA05C1   \n",
       "7             1  Holiday/leisure/recreation       1977  1977   TMA05C2   \n",
       "8             1  Holiday/leisure/recreation       1977  1977   TMA05C3   \n",
       "9             1  Holiday/leisure/recreation       1977  1977   TMA05C4   \n",
       "\n",
       "                                    Statistic Label          UNIT  VALUE  \n",
       "0                 Expenditure by Vistors to Ireland  Euro Million   69.0  \n",
       "1                               Visitors to Ireland      Thousand  553.0  \n",
       "2     Average Length of Stay by Visitors to Ireland        Nights    NaN  \n",
       "3             Expenditure by Irish Residents Abroad  Euro Million   81.0  \n",
       "4                  Visits Abroad by Irish Residents      Thousand  428.0  \n",
       "5  Average Length of Stay Abroad by Irish Residents        Nights    NaN  \n",
       "6                 Expenditure by Vistors to Ireland  Euro Million   98.0  \n",
       "7                               Visitors to Ireland      Thousand  665.0  \n",
       "8     Average Length of Stay by Visitors to Ireland        Nights    NaN  \n",
       "9             Expenditure by Irish Residents Abroad  Euro Million   94.0  "
      ]
     },
     "execution_count": 268,
     "metadata": {},
     "output_type": "execute_result"
    }
   ],
   "source": [
    "# TMA05-Visits-to-and-from-Ireland dataset contains 8 columns and 792 rows\n",
    "# (33 years in Years = 33 rows), 33 rows by 2 Direction = 66 rows, 66 rows by 4 reasons for travel = 264 rows \n",
    "# 264 rows by 3 Features (lenght of stay, expense, # of visitors) = 792 rows\n",
    "# Columns: C02118V02559, Reason for Journey, TLIST(A1), Year, STATISTIC, Statistic Label, UNIT, VALUE\n",
    "\n",
    "print(reason.columns)\n",
    "reason.head(10)"
   ]
  },
  {
   "cell_type": "markdown",
   "id": "e064b32b",
   "metadata": {},
   "source": [
    "# STOPPED HERE!!!"
   ]
  },
  {
   "cell_type": "code",
   "execution_count": null,
   "id": "571958b2",
   "metadata": {},
   "outputs": [],
   "source": [
    "concatenated_df.shape"
   ]
  },
  {
   "cell_type": "markdown",
   "id": "35ac8c5d",
   "metadata": {},
   "source": [
    "## Explore Imported Dataset"
   ]
  },
  {
   "cell_type": "markdown",
   "id": "f2530952",
   "metadata": {},
   "source": [
    "#### Dataset describes travel to and from Ireland by routes between the years of 1985 and 2008."
   ]
  },
  {
   "cell_type": "code",
   "execution_count": null,
   "id": "a5788e9e",
   "metadata": {
    "scrolled": true
   },
   "outputs": [],
   "source": [
    "# Prints out the first few rows\n",
    "\n",
    "concatenated_df.tail(144)\n",
    "columns_without_values = concatenated_df.columns[concatenated_df.isnull().all()]\n",
    "columns_without_values\n"
   ]
  },
  {
   "cell_type": "code",
   "execution_count": null,
   "id": "63986eb5",
   "metadata": {},
   "outputs": [],
   "source": [
    "\n",
    "missing_values = concatenated_df.isnull().sum()\n",
    "print(missing_values)\n"
   ]
  },
  {
   "cell_type": "code",
   "execution_count": null,
   "id": "a216b68b",
   "metadata": {},
   "outputs": [],
   "source": [
    "# Dataframe is composed of 8 Columns and 960 Rows\n",
    "concatenated_df.shape"
   ]
  },
  {
   "cell_type": "code",
   "execution_count": null,
   "id": "7f56aa2c",
   "metadata": {},
   "outputs": [],
   "source": [
    "df.describe()"
   ]
  },
  {
   "cell_type": "markdown",
   "id": "df4f44b0",
   "metadata": {},
   "source": [
    "#### Dataset contains categorical and quantitative variables \n",
    "#### Categorical = \n",
    "#### Quantitative = "
   ]
  },
  {
   "cell_type": "code",
   "execution_count": null,
   "id": "fe396fe2",
   "metadata": {},
   "outputs": [],
   "source": [
    "concatenated_df.dtypes"
   ]
  },
  {
   "cell_type": "markdown",
   "id": "e3f73b46",
   "metadata": {},
   "source": [
    "## Edit Dataframe - Data Cleaning"
   ]
  },
  {
   "cell_type": "markdown",
   "id": "94379fe9",
   "metadata": {},
   "source": [
    "### Remove, Rename and Transform columns  "
   ]
  },
  {
   "cell_type": "code",
   "execution_count": null,
   "id": "44f061eb",
   "metadata": {},
   "outputs": [],
   "source": [
    "# Remove 'UNIT' column as 'VALUE' column heading will be amended to reflect units. \n",
    "# Remove 'ROUTE' column as 'Route of Travel' contains the same information in human readable language.\n",
    "# Remove 'STATISTIC' column as this data is contained within 'Quarter' and 'Statistic Label' columns in human readable language.\n",
    "tourism_df = route_quarter.drop(columns=['UNIT', 'ROUTE', 'STATISTIC'])\n",
    "\n",
    "# Rename 'TLIST(Q1)' column to Year\n",
    "tourism_df.rename(columns={\"TLIST(Q1)\": \"Year\"}, inplace=True)\n",
    "\n",
    "# Last character in 'Year' column refers to quarter (1-4) \n",
    "# Remove last character from by dividing by 10 and saving as integer to remove non-whole numbers. e.g. 19854 -> 1985.4 = 1985\n",
    "tourism_df[\"Year\"] = tourism_df[\"Year\"].transform(lambda x: x / 10).astype(int)\n",
    "\n",
    "# The'Quarter' column contains the year and Q before the number designating the quarter. e.g. 1985Q4\n",
    "# Transform 'Quarter' column, reassigning last character of each entry as integer reflecting the quarter. e.g. 1985Q4 = 4\n",
    "tourism_df[\"Quarter\"] = tourism_df[\"Quarter\"].transform(lambda x: str(x)[-1]).astype(int)\n",
    "\n",
    "# Rename 'Statistic Label' column for Direction\n",
    "tourism_df.rename(columns={\"Statistic Label\": \"Direction\"}, inplace=True)\n",
    "\n",
    "# Rename Column for Travellers x 1,000\n",
    "tourism_df.rename(columns={\"VALUE\": \"Travellers (x 1,000)\"}, inplace=True)\n",
    "#pd.set_option('display.max_rows', tourism_df.shape[0]+1)\n",
    "tourism_df"
   ]
  },
  {
   "cell_type": "markdown",
   "id": "7fac72cf",
   "metadata": {},
   "source": [
    "## Explore Edited Dataframe"
   ]
  },
  {
   "cell_type": "code",
   "execution_count": null,
   "id": "1c5ff9a1",
   "metadata": {},
   "outputs": [],
   "source": [
    "# Select cross channel travel by both sea and air for each quarter and year\n",
    "cross_channel_df = tourism_df[tourism_df.isin(['Air Cross Channel', 'Sea Cross Channel'])['Route of Travel']==True]\n",
    "#pd.set_option('display.max_rows', 10)\n",
    "cross_channel_df"
   ]
  },
  {
   "cell_type": "code",
   "execution_count": null,
   "id": "de968a05",
   "metadata": {},
   "outputs": [],
   "source": [
    "# Combine Air and Sea cross channel travel into Cross channel travel dataframe\n",
    "combined_cross_channel = cross_channel_df.groupby(['Year', 'Quarter', 'Direction'], as_index=False).sum()\n",
    "combined_cross_channel['Route of Travel'] = 'Cross Channel'\n",
    "combined_cross_channel"
   ]
  },
  {
   "cell_type": "code",
   "execution_count": null,
   "id": "4752ffd0",
   "metadata": {},
   "outputs": [],
   "source": [
    "# Drop all rows containing cross channel travel by air or sea\n",
    "tourism_df = tourism_df.drop(tourism_df[tourism_df.isin(['Air Cross Channel', 'Sea Cross Channel'])['Route of Travel']==True].index)"
   ]
  },
  {
   "cell_type": "code",
   "execution_count": null,
   "id": "f07efd89",
   "metadata": {},
   "outputs": [],
   "source": [
    "# Concatenate the datasets with the specified order of \"All Routes\", \"Cross Channel\", \"Continental Europe\", and \"Transatlantic\" to be consistent\n",
    "# with the original dataset.\n",
    "concatenated_df = pd.concat([tourism_df[tourism_df['Route of Travel'] == 'All Routes'],\n",
    "                            tourism_df[tourism_df['Route of Travel'] == 'Cross Channel'],\n",
    "                            tourism_df[tourism_df['Route of Travel'] == 'Continental Europe'],\n",
    "                            tourism_df[tourism_df['Route of Travel'] == 'Transatlantic']])\n",
    "\n",
    "# Reset the index of the concatenated dataframe\n",
    "concatenated_df.reset_index(drop=True, inplace=True)\n",
    "\n",
    "# Display the concatenated dataframe\n",
    "concatenated_df\n"
   ]
  },
  {
   "cell_type": "code",
   "execution_count": null,
   "id": "cd1d0b8c",
   "metadata": {},
   "outputs": [],
   "source": [
    "# Assess how many Series and Rows in tidied dataframe\n",
    "tourism_df.shape"
   ]
  },
  {
   "cell_type": "code",
   "execution_count": null,
   "id": "c199439f",
   "metadata": {},
   "outputs": [],
   "source": [
    "tourism_df.dtypes"
   ]
  },
  {
   "cell_type": "code",
   "execution_count": null,
   "id": "a91ed05f",
   "metadata": {},
   "outputs": [],
   "source": [
    "tourism_df.describe()"
   ]
  },
  {
   "cell_type": "code",
   "execution_count": null,
   "id": "ced0bac5",
   "metadata": {},
   "outputs": [],
   "source": [
    "# Remove rows without matching data in other datasets\n",
    "duration_of_stay = duration_of_stay[duration_of_stay['Year'] > 1984]\n",
    "reason = reason[reason['Year'] > 1984]\n",
    "# Concatenate datasets horizontally\n",
    "concatenated_df = pd.concat([route_quarter, expend_quarter, duration_of_stay, reason], axis=1)\n",
    "concatenated_df.head(50)"
   ]
  },
  {
   "cell_type": "markdown",
   "id": "77464d7f",
   "metadata": {},
   "source": [
    "## Create Seperate Dataframe of Inbound Travel to Ireland"
   ]
  },
  {
   "cell_type": "code",
   "execution_count": null,
   "id": "958f6178",
   "metadata": {},
   "outputs": [],
   "source": [
    "# Create new seperate dataframes for inbound Irish travel\n",
    "intourism_df = tourism_df[tourism_df['Direction'] == 'Visitors to Ireland']\n",
    "intourism_df = intourism_df.drop(columns=['Direction'])\n",
    "#intourism_df = intourism_df.drop(intourism_df[intourism_df['Route of Travel'] == 'All Routes'].index)"
   ]
  },
  {
   "cell_type": "code",
   "execution_count": null,
   "id": "a5e6935c",
   "metadata": {},
   "outputs": [],
   "source": [
    "(intourism_df.head(5))"
   ]
  },
  {
   "cell_type": "code",
   "execution_count": null,
   "id": "5126c8b6",
   "metadata": {},
   "outputs": [],
   "source": [
    "intourism_df.shape"
   ]
  },
  {
   "cell_type": "code",
   "execution_count": null,
   "id": "2b2e2bcc",
   "metadata": {},
   "outputs": [],
   "source": [
    "intourism_df.describe()"
   ]
  },
  {
   "cell_type": "code",
   "execution_count": null,
   "id": "8d47ee56",
   "metadata": {},
   "outputs": [],
   "source": [
    "# 5 categories for Routes of Travel with column 0 = Sum of columns 1-4\n",
    "intourism_df['Route of Travel'].value_counts() "
   ]
  },
  {
   "cell_type": "code",
   "execution_count": null,
   "id": "6f0111a8",
   "metadata": {},
   "outputs": [],
   "source": [
    "# Create dataframe with values for each quarter of the year summed to give travel into Ireland per year by each route \n",
    "in_grouped = intourism_df.groupby(['Year', 'Route of Travel'], as_index=False).sum().drop(columns=['Quarter'])\n",
    "in_grouped"
   ]
  },
  {
   "cell_type": "code",
   "execution_count": null,
   "id": "374be7a6",
   "metadata": {},
   "outputs": [],
   "source": [
    "# Assess demographics of tourists travelling to Ireland from different regions over time\n",
    "plt.figure(figsize=(12, 6))\n",
    "\n",
    "ax = sns.barplot(data=in_grouped, x=\"Year\", y=\"Travellers (x 1,000)\", hue='Route of Travel')\n",
    "ax.tick_params(axis='x', labelrotation=45)"
   ]
  },
  {
   "cell_type": "markdown",
   "id": "62479117",
   "metadata": {},
   "source": [
    "## Create Seperate Dataframe of Outbound Travel from Ireland"
   ]
  },
  {
   "cell_type": "code",
   "execution_count": null,
   "id": "31acfa47",
   "metadata": {},
   "outputs": [],
   "source": [
    "# Create new seperate dataframes for inbound Irish travel\n",
    "outtourism_df = tourism_df[tourism_df['Direction'] == 'Visits Abroad by Irish Residents']\n",
    "outtourism_df = outtourism_df.drop(columns=['Direction'])\n",
    "#outtourism_df = outtourism_df.drop(outtourism_df[outtourism_df['Route of Travel'] == 'All Routes'].index)\n",
    "#outtourism_df = outtourism_df.sum(outtourism_df[outtourism_df['Route of Travel'] == 'All Routes'].index)"
   ]
  },
  {
   "cell_type": "code",
   "execution_count": null,
   "id": "d5d16f22",
   "metadata": {},
   "outputs": [],
   "source": [
    "(outtourism_df.tail(5))"
   ]
  },
  {
   "cell_type": "code",
   "execution_count": null,
   "id": "fe7b4339",
   "metadata": {},
   "outputs": [],
   "source": [
    "outtourism_df.shape"
   ]
  },
  {
   "cell_type": "code",
   "execution_count": null,
   "id": "794ba0d0",
   "metadata": {},
   "outputs": [],
   "source": [
    "outtourism_df.describe()"
   ]
  },
  {
   "cell_type": "code",
   "execution_count": null,
   "id": "22919dd8",
   "metadata": {},
   "outputs": [],
   "source": [
    "# 5 categories for Routes of Travel with column 0 = Sum of columns 1-4\n",
    "outtourism_df['Route of Travel'].value_counts() "
   ]
  },
  {
   "cell_type": "code",
   "execution_count": null,
   "id": "b36b9688",
   "metadata": {},
   "outputs": [],
   "source": [
    "# Create dataframe with values for each quarter of the year summed to give travel from Ireland per year by each route \n",
    "out_grouped = outtourism_df.groupby(['Year', 'Route of Travel'], as_index=False).sum().drop(columns=['Quarter'])\n",
    "out_grouped"
   ]
  },
  {
   "cell_type": "code",
   "execution_count": null,
   "id": "e0c1a503",
   "metadata": {},
   "outputs": [],
   "source": [
    "# Assess demographics of tourists travelling from Ireland to different regions over time\n",
    "plt.figure(figsize=(12, 6))\n",
    "\n",
    "ax = sns.barplot(data=out_grouped, x=\"Year\", y=\"Travellers (x 1,000)\", hue='Route of Travel')\n",
    "ax.tick_params(axis='x', labelrotation=45)"
   ]
  },
  {
   "cell_type": "markdown",
   "id": "f658ac31",
   "metadata": {},
   "source": [
    "## Travel to Ireland by Quarter\n",
    "Q1: January – March, Q2: April – June, Q3: July – September, Q4: October – December"
   ]
  },
  {
   "cell_type": "code",
   "execution_count": null,
   "id": "1cd04353",
   "metadata": {},
   "outputs": [],
   "source": [
    "# Assess demographics of tourists travelling to Ireland from different regions per Quarter\n",
    "plt.figure(figsize=(12, 6))\n",
    "\n",
    "ax = sns.barplot(data=intourism_df, x=\"Route of Travel\", y=\"Travellers (x 1,000)\", hue='Quarter')\n",
    "ax.tick_params(axis='x', labelrotation=45)"
   ]
  },
  {
   "cell_type": "code",
   "execution_count": null,
   "id": "e7651aa9",
   "metadata": {},
   "outputs": [],
   "source": [
    "# Assess demographics of tourists travelling to Ireland from different regions per Quarter\n",
    "plt.figure(figsize=(12, 6))\n",
    "\n",
    "ax = sns.barplot(data=intourism_df, x=\"Quarter\", y=\"Travellers (x 1,000)\", hue='Route of Travel')\n",
    "ax.tick_params(axis='x', labelrotation=45)"
   ]
  },
  {
   "cell_type": "markdown",
   "id": "091adfa5",
   "metadata": {},
   "source": [
    "## Travel from Ireland by Quarter"
   ]
  },
  {
   "cell_type": "code",
   "execution_count": null,
   "id": "ad660a97",
   "metadata": {},
   "outputs": [],
   "source": [
    "# Assess demographics of tourists travelling from Ireland to different regions per Quarter\n",
    "plt.figure(figsize=(12, 6))\n",
    "\n",
    "ax = sns.barplot(data=outtourism_df, x=\"Route of Travel\", y=\"Travellers (x 1,000)\", hue='Quarter')\n",
    "ax.tick_params(axis='x', labelrotation=45)"
   ]
  },
  {
   "cell_type": "code",
   "execution_count": null,
   "id": "cbd673f6",
   "metadata": {},
   "outputs": [],
   "source": [
    "# Assess demographics of tourists travelling from Ireland to different regions per Quarter\n",
    "plt.figure(figsize=(12, 6))\n",
    "\n",
    "ax = sns.barplot(data=outtourism_df, x=\"Quarter\", y=\"Travellers (x 1,000)\", hue='Route of Travel')\n",
    "ax.tick_params(axis='x', labelrotation=45)"
   ]
  },
  {
   "cell_type": "markdown",
   "id": "ae8631e8",
   "metadata": {},
   "source": [
    "## Lineplot of Tourism out of Ireland"
   ]
  },
  {
   "cell_type": "code",
   "execution_count": null,
   "id": "c5d76e79",
   "metadata": {},
   "outputs": [],
   "source": [
    "# Assess demographics of tourists travelling from Ireland to different regions per Quarter\n",
    "\n",
    "plt.figure(figsize=(12, 6))\n",
    "\n",
    "ax = sns.lineplot(data=outtourism_df, x=\"Year\", y=\"Travellers (x 1,000)\", hue='Route of Travel')\n",
    "ax.tick_params(axis='x', labelrotation=45)"
   ]
  },
  {
   "cell_type": "code",
   "execution_count": null,
   "id": "d7152cfe",
   "metadata": {},
   "outputs": [],
   "source": [
    "# Assess demographics of tourists travelling from Ireland to different regions per Quarter\n",
    "plt.figure(figsize=(12, 6))\n",
    "\n",
    "ax = sns.lineplot(data=out_grouped, x=\"Year\", y=\"Travellers (x 1,000)\", hue='Route of Travel')\n",
    "ax.tick_params(axis='x', labelrotation=45)"
   ]
  },
  {
   "cell_type": "markdown",
   "id": "820a43bc",
   "metadata": {},
   "source": [
    "## Lineplot of Tourism into Ireland"
   ]
  },
  {
   "cell_type": "code",
   "execution_count": null,
   "id": "8d94de2a",
   "metadata": {},
   "outputs": [],
   "source": [
    "# Assess demographics of tourists travelling from Ireland to different regions per Quarter\n",
    "plt.figure(figsize=(12, 6))\n",
    "\n",
    "ax = sns.lineplot(data=in_grouped, x=\"Year\", y=\"Travellers (x 1,000)\", hue='Route of Travel')\n",
    "ax.tick_params(axis='x', labelrotation=45)"
   ]
  },
  {
   "cell_type": "code",
   "execution_count": null,
   "id": "dbe85701",
   "metadata": {},
   "outputs": [],
   "source": [
    "# Assess demographics of tourists travelling from Ireland to different regions per Quarter\n",
    "plt.figure(figsize=(12, 6))\n",
    "\n",
    "ax = sns.lineplot(data=intourism_df, x=\"Year\", y=\"Travellers (x 1,000)\", hue='Route of Travel')\n",
    "ax.tick_params(axis='x', labelrotation=45)"
   ]
  },
  {
   "cell_type": "code",
   "execution_count": null,
   "id": "23cae7da",
   "metadata": {},
   "outputs": [],
   "source": []
  },
  {
   "cell_type": "code",
   "execution_count": null,
   "id": "e80a5744",
   "metadata": {},
   "outputs": [],
   "source": []
  },
  {
   "cell_type": "code",
   "execution_count": null,
   "id": "5931e5fb",
   "metadata": {},
   "outputs": [],
   "source": []
  },
  {
   "cell_type": "code",
   "execution_count": null,
   "id": "0918a9d5",
   "metadata": {},
   "outputs": [],
   "source": []
  },
  {
   "cell_type": "code",
   "execution_count": null,
   "id": "8b4acb9a",
   "metadata": {},
   "outputs": [],
   "source": []
  }
 ],
 "metadata": {
  "kernelspec": {
   "display_name": "Python 3 (ipykernel)",
   "language": "python",
   "name": "python3"
  },
  "language_info": {
   "codemirror_mode": {
    "name": "ipython",
    "version": 3
   },
   "file_extension": ".py",
   "mimetype": "text/x-python",
   "name": "python",
   "nbconvert_exporter": "python",
   "pygments_lexer": "ipython3",
   "version": "3.11.5"
  }
 },
 "nbformat": 4,
 "nbformat_minor": 5
}
