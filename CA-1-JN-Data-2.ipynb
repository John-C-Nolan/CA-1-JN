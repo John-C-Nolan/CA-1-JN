{
 "cells": [
  {
   "cell_type": "markdown",
   "id": "94330bcc",
   "metadata": {},
   "source": [
    "## Import dataset"
   ]
  },
  {
   "cell_type": "code",
   "execution_count": 1,
   "id": "5412d17d",
   "metadata": {},
   "outputs": [],
   "source": [
    "# Import libraries\n",
    "import pandas as pd\n",
    "import numpy as np\n",
    "import seaborn as sns\n",
    "import matplotlib.pyplot as plt\n",
    "import warnings\n",
    "warnings.filterwarnings('ignore') # Suppress warnings\n",
    "\n",
    "from IPython.core.interactiveshell import InteractiveShell\n",
    "InteractiveShell.ast_node_interactivity = \"all\"\n",
    "\n",
    "# Read csv file into pandas dataframe \n",
    "# url = https://data.gov.ie/dataset/tmq01-visits-to-and-from-ireland/resource/d018a88d-6944-4728-aa62-cd05074ffa5e\n",
    "# url = https://data.gov.ie/dataset/tmq03-expenditure-of-visitors-to-and-from-ireland/resource/231eb892-f7cf-4a1a-93d2-25754c99e3b1\n",
    "# url = https://data.gov.ie/dataset/tma04-visits-to-and-from-ireland/resource/47481033-39c0-4eda-b02e-d0dba591ab31\n",
    "# url = https://data.gov.ie/dataset/tma05-visits-to-and-from-ireland/resource/3fe9ec9d-c16f-47dc-92e3-6749c6361d7c\n",
    "\n",
    "reason = pd.read_csv(\"TMA05-Visits-to-and-from-Ireland.csv\")"
   ]
  },
  {
   "cell_type": "markdown",
   "id": "76ab95b2",
   "metadata": {},
   "source": [
    "## Routes Dataset: Exploration and Cleaning\n",
    "#### Explore route_quarter dataset\n",
    "#### Dataset describes travel to and from Ireland by routes between the years of 1985 and 2008, Quarterly, by Route of Travel."
   ]
  },
  {
   "cell_type": "code",
   "execution_count": 2,
   "id": "ed37880c",
   "metadata": {},
   "outputs": [
    {
     "data": {
      "text/plain": [
       "(960, 8)"
      ]
     },
     "execution_count": 2,
     "metadata": {},
     "output_type": "execute_result"
    }
   ],
   "source": [
    "# route_quarter_TMQ01-Visits-to-and-from-Ireland dataset contains 8 columns and 960 rows \n",
    "# (24 years in Quarters = 96 rows), 96 rows by 2 Direction = 192 rows, 192 rows by 5 regions = 960 rows\n",
    "# Columns: ROUTE, Route of Travel, TLIST(Q1), Quarter,STATISTIC, Statistic Label, UNIT, VALUE\n",
    "route_quarter = pd.read_csv(\"TMQ01-Visits-to-and-from-Ireland.csv\")\n",
    "route_quarter.shape"
   ]
  },
  {
   "cell_type": "markdown",
   "id": "d2eeb66c",
   "metadata": {},
   "source": [
    "### Display column names in Dataset 1"
   ]
  },
  {
   "cell_type": "code",
   "execution_count": 3,
   "id": "f71e5292",
   "metadata": {},
   "outputs": [
    {
     "name": "stdout",
     "output_type": "stream",
     "text": [
      "Index(['ROUTE', 'Route of Travel', 'TLIST(Q1)', 'Quarter', 'STATISTIC',\n",
      "       'Statistic Label', 'UNIT', 'VALUE'],\n",
      "      dtype='object')\n"
     ]
    }
   ],
   "source": [
    "print(route_quarter.columns)"
   ]
  },
  {
   "cell_type": "code",
   "execution_count": 4,
   "id": "226971f0",
   "metadata": {},
   "outputs": [
    {
     "data": {
      "text/plain": [
       "Route of Travel\n",
       "All Routes            192\n",
       "Air Cross Channel     192\n",
       "Sea Cross Channel     192\n",
       "Continental Europe    192\n",
       "Transatlantic         192\n",
       "Name: count, dtype: int64"
      ]
     },
     "execution_count": 4,
     "metadata": {},
     "output_type": "execute_result"
    },
    {
     "data": {
      "text/plain": [
       "ROUTE\n",
       "0    192\n",
       "1    192\n",
       "2    192\n",
       "3    192\n",
       "4    192\n",
       "Name: count, dtype: int64"
      ]
     },
     "execution_count": 4,
     "metadata": {},
     "output_type": "execute_result"
    },
    {
     "data": {
      "text/plain": [
       "Statistic Label\n",
       "Visitors to Ireland                 480\n",
       "Visits Abroad by Irish Residents    480\n",
       "Name: count, dtype: int64"
      ]
     },
     "execution_count": 4,
     "metadata": {},
     "output_type": "execute_result"
    },
    {
     "data": {
      "text/plain": [
       "TLIST(Q1)\n",
       "19851    10\n",
       "19852    10\n",
       "20023    10\n",
       "20022    10\n",
       "20021    10\n",
       "         ..\n",
       "19922    10\n",
       "19921    10\n",
       "19914    10\n",
       "19913    10\n",
       "20084    10\n",
       "Name: count, Length: 96, dtype: int64"
      ]
     },
     "execution_count": 4,
     "metadata": {},
     "output_type": "execute_result"
    },
    {
     "data": {
      "text/plain": [
       "UNIT\n",
       "Thousand    960\n",
       "Name: count, dtype: int64"
      ]
     },
     "execution_count": 4,
     "metadata": {},
     "output_type": "execute_result"
    },
    {
     "data": {
      "text/plain": [
       "(2.359, 533.0]      711\n",
       "(533.0, 1061.0]     158\n",
       "(1061.0, 1589.0]     51\n",
       "(1589.0, 2117.0]     26\n",
       "(2117.0, 2645.0]     14\n",
       "Name: count, dtype: int64"
      ]
     },
     "execution_count": 4,
     "metadata": {},
     "output_type": "execute_result"
    }
   ],
   "source": [
    "route_quarter['Route of Travel'].value_counts()\n",
    "route_quarter['ROUTE'].value_counts()\n",
    "route_quarter['Statistic Label'].value_counts()\n",
    "route_quarter['TLIST(Q1)'].value_counts()\n",
    "route_quarter['UNIT'].value_counts()\n",
    "route_quarter['VALUE'].value_counts(bins=5)"
   ]
  },
  {
   "cell_type": "code",
   "execution_count": 5,
   "id": "dc10b3c0",
   "metadata": {},
   "outputs": [
    {
     "data": {
      "text/html": [
       "<div>\n",
       "<style scoped>\n",
       "    .dataframe tbody tr th:only-of-type {\n",
       "        vertical-align: middle;\n",
       "    }\n",
       "\n",
       "    .dataframe tbody tr th {\n",
       "        vertical-align: top;\n",
       "    }\n",
       "\n",
       "    .dataframe thead th {\n",
       "        text-align: right;\n",
       "    }\n",
       "</style>\n",
       "<table border=\"1\" class=\"dataframe\">\n",
       "  <thead>\n",
       "    <tr style=\"text-align: right;\">\n",
       "      <th></th>\n",
       "      <th>ROUTE</th>\n",
       "      <th>Route of Travel</th>\n",
       "      <th>TLIST(Q1)</th>\n",
       "      <th>Quarter</th>\n",
       "      <th>STATISTIC</th>\n",
       "      <th>Statistic Label</th>\n",
       "      <th>UNIT</th>\n",
       "      <th>VALUE</th>\n",
       "    </tr>\n",
       "  </thead>\n",
       "  <tbody>\n",
       "    <tr>\n",
       "      <th>0</th>\n",
       "      <td>0</td>\n",
       "      <td>All Routes</td>\n",
       "      <td>19851</td>\n",
       "      <td>1985Q1</td>\n",
       "      <td>TMQ01C1</td>\n",
       "      <td>Visitors to Ireland</td>\n",
       "      <td>Thousand</td>\n",
       "      <td>254</td>\n",
       "    </tr>\n",
       "    <tr>\n",
       "      <th>1</th>\n",
       "      <td>0</td>\n",
       "      <td>All Routes</td>\n",
       "      <td>19851</td>\n",
       "      <td>1985Q1</td>\n",
       "      <td>TMQ01C2</td>\n",
       "      <td>Visits Abroad by Irish Residents</td>\n",
       "      <td>Thousand</td>\n",
       "      <td>186</td>\n",
       "    </tr>\n",
       "    <tr>\n",
       "      <th>2</th>\n",
       "      <td>0</td>\n",
       "      <td>All Routes</td>\n",
       "      <td>19852</td>\n",
       "      <td>1985Q2</td>\n",
       "      <td>TMQ01C1</td>\n",
       "      <td>Visitors to Ireland</td>\n",
       "      <td>Thousand</td>\n",
       "      <td>495</td>\n",
       "    </tr>\n",
       "    <tr>\n",
       "      <th>3</th>\n",
       "      <td>0</td>\n",
       "      <td>All Routes</td>\n",
       "      <td>19852</td>\n",
       "      <td>1985Q2</td>\n",
       "      <td>TMQ01C2</td>\n",
       "      <td>Visits Abroad by Irish Residents</td>\n",
       "      <td>Thousand</td>\n",
       "      <td>336</td>\n",
       "    </tr>\n",
       "    <tr>\n",
       "      <th>4</th>\n",
       "      <td>0</td>\n",
       "      <td>All Routes</td>\n",
       "      <td>19853</td>\n",
       "      <td>1985Q3</td>\n",
       "      <td>TMQ01C1</td>\n",
       "      <td>Visitors to Ireland</td>\n",
       "      <td>Thousand</td>\n",
       "      <td>840</td>\n",
       "    </tr>\n",
       "  </tbody>\n",
       "</table>\n",
       "</div>"
      ],
      "text/plain": [
       "   ROUTE Route of Travel  TLIST(Q1) Quarter STATISTIC  \\\n",
       "0      0      All Routes      19851  1985Q1   TMQ01C1   \n",
       "1      0      All Routes      19851  1985Q1   TMQ01C2   \n",
       "2      0      All Routes      19852  1985Q2   TMQ01C1   \n",
       "3      0      All Routes      19852  1985Q2   TMQ01C2   \n",
       "4      0      All Routes      19853  1985Q3   TMQ01C1   \n",
       "\n",
       "                    Statistic Label      UNIT  VALUE  \n",
       "0               Visitors to Ireland  Thousand    254  \n",
       "1  Visits Abroad by Irish Residents  Thousand    186  \n",
       "2               Visitors to Ireland  Thousand    495  \n",
       "3  Visits Abroad by Irish Residents  Thousand    336  \n",
       "4               Visitors to Ireland  Thousand    840  "
      ]
     },
     "execution_count": 5,
     "metadata": {},
     "output_type": "execute_result"
    }
   ],
   "source": [
    "route_quarter.head()"
   ]
  },
  {
   "cell_type": "markdown",
   "id": "8fb12192",
   "metadata": {},
   "source": [
    "## Edit Dataframe 1 - Data Cleaning \n",
    "### Remove, Rename and Transform columns"
   ]
  },
  {
   "cell_type": "code",
   "execution_count": 6,
   "id": "0df3909c",
   "metadata": {},
   "outputs": [
    {
     "data": {
      "text/plain": [
       "(960, 5)"
      ]
     },
     "execution_count": 6,
     "metadata": {},
     "output_type": "execute_result"
    }
   ],
   "source": [
    "# Remove 'UNIT' column as 'VALUE' column heading will be amended to reflect units. \n",
    "# Remove 'ROUTE' column as 'Route of Travel' contains the same information in human readable language.\n",
    "# Remove 'STATISTIC' column as this data is contained within 'Quarter' and 'Statistic Label' columns in human readable language.\n",
    "route_quarter_tourism = route_quarter.drop(columns=['UNIT', 'ROUTE', 'STATISTIC'])\n",
    "\n",
    "# Rename 'TLIST(Q1)' column to Year\n",
    "route_quarter_tourism.rename(columns={\"TLIST(Q1)\": \"Year\"}, inplace=True)\n",
    "\n",
    "# Last character in 'Year' column refers to quarter (1-4) \n",
    "# Remove last character from by dividing by 10 and saving as integer to remove non-whole numbers. e.g. 19854 -> 1985.4 = 1985\n",
    "route_quarter_tourism[\"Year\"] = route_quarter_tourism[\"Year\"].transform(lambda x: x / 10).astype(int)\n",
    "\n",
    "# The'Quarter' column contains the year and Q before the number designating the quarter. e.g. 1985Q4\n",
    "# Transform 'Quarter' column, reassigning last character of each entry as integer reflecting the quarter. e.g. 1985Q4 = 4\n",
    "route_quarter_tourism[\"Quarter\"] = route_quarter_tourism[\"Quarter\"].transform(lambda x: str(x)[-1]).astype(int)\n",
    "\n",
    "# Rename 'Statistic Label' column for Direction\n",
    "route_quarter_tourism.rename(columns={\"Statistic Label\": \"Direction\"}, inplace=True)\n",
    "\n",
    "# Rename Column for Travellers x 1,000\n",
    "route_quarter_tourism.rename(columns={\"VALUE\": \"Travellers x(1,000)\"}, inplace=True)\n",
    "\n",
    "route_quarter_tourism.shape"
   ]
  },
  {
   "cell_type": "markdown",
   "id": "f00392de",
   "metadata": {},
   "source": [
    "### Display column names in edited dataframe 1"
   ]
  },
  {
   "cell_type": "code",
   "execution_count": 7,
   "id": "d6a619a6",
   "metadata": {},
   "outputs": [
    {
     "name": "stdout",
     "output_type": "stream",
     "text": [
      "Index(['Route of Travel', 'Year', 'Quarter', 'Direction',\n",
      "       'Travellers x(1,000)'],\n",
      "      dtype='object')\n"
     ]
    }
   ],
   "source": [
    "print(route_quarter_tourism.columns)"
   ]
  },
  {
   "cell_type": "markdown",
   "id": "8c99caf9",
   "metadata": {},
   "source": [
    "### Merge Air and Sea Cross channel values into combined Cross Channel values"
   ]
  },
  {
   "cell_type": "code",
   "execution_count": 8,
   "id": "de38c9df",
   "metadata": {},
   "outputs": [],
   "source": [
    "def merge_air_and_sea(df, common_cols):\n",
    "    # Select cross channel travel by both sea and air for each quarter and year from the dataset\n",
    "    cross_channel_df = df[df.isin(['Air Cross Channel', 'Sea Cross Channel'])['Route of Travel']==True]\n",
    "    #pd.set_option('display.max_rows', cross_channel_df.shape[0]+1)\n",
    "    cross_channel_df.shape\n",
    "    \n",
    "    # Combine Air and Sea cross channel travel into Cross channel travel dataframe\n",
    "    combined_cross_channel = cross_channel_df.groupby(common_cols, as_index=False).sum()\n",
    "    combined_cross_channel['Route of Travel'] = 'Cross Channel'\n",
    "    combined_cross_channel.shape\n",
    "\n",
    "    # Remove Air and Sea Cross Channel travel from original dataset\n",
    "    df = df.drop(df[df.isin(['Air Cross Channel', 'Sea Cross Channel'])['Route of Travel']==True].index)\n",
    "    # Concatenate original dataset with new Cross Channel travel dataset\n",
    "    df = pd.concat([df, combined_cross_channel], axis=0, ignore_index=True)\n",
    "    #pd.set_option('display.max_rows', df.shape[0]+1)\n",
    "    # df\n",
    "    # Change order of routes to \"All Routes\", \"Cross Channel\", \"Continental Europe\", and \"Transatlantic\" to be consistent with the original dataset.\n",
    "    concatenated_df = pd.concat([df[df['Route of Travel'] == 'All Routes'],\n",
    "                                df[df['Route of Travel'] == 'Cross Channel'],\n",
    "                                df[df['Route of Travel'] == 'Continental Europe'],\n",
    "                                df[df['Route of Travel'] == 'Transatlantic']])\n",
    "\n",
    "    # Reset the index of the concatenated dataframe\n",
    "    concatenated_df.reset_index(drop=True, inplace=True)\n",
    "    return concatenated_df"
   ]
  },
  {
   "cell_type": "code",
   "execution_count": 9,
   "id": "d24f1f56",
   "metadata": {},
   "outputs": [
    {
     "data": {
      "text/plain": [
       "Route of Travel\n",
       "All Routes            192\n",
       "Cross Channel         192\n",
       "Continental Europe    192\n",
       "Transatlantic         192\n",
       "Name: count, dtype: int64"
      ]
     },
     "execution_count": 9,
     "metadata": {},
     "output_type": "execute_result"
    }
   ],
   "source": [
    "concatenated_route_quarter_tourism = merge_air_and_sea(route_quarter_tourism, ['Year', 'Quarter', 'Direction'])\n",
    "concatenated_route_quarter_tourism['Route of Travel'].value_counts()"
   ]
  },
  {
   "cell_type": "code",
   "execution_count": 10,
   "id": "5d93de8b",
   "metadata": {},
   "outputs": [
    {
     "data": {
      "text/plain": [
       "(768, 5)"
      ]
     },
     "execution_count": 10,
     "metadata": {},
     "output_type": "execute_result"
    },
    {
     "data": {
      "text/html": [
       "<div>\n",
       "<style scoped>\n",
       "    .dataframe tbody tr th:only-of-type {\n",
       "        vertical-align: middle;\n",
       "    }\n",
       "\n",
       "    .dataframe tbody tr th {\n",
       "        vertical-align: top;\n",
       "    }\n",
       "\n",
       "    .dataframe thead th {\n",
       "        text-align: right;\n",
       "    }\n",
       "</style>\n",
       "<table border=\"1\" class=\"dataframe\">\n",
       "  <thead>\n",
       "    <tr style=\"text-align: right;\">\n",
       "      <th></th>\n",
       "      <th>Route of Travel</th>\n",
       "      <th>Year</th>\n",
       "      <th>Quarter</th>\n",
       "      <th>Direction</th>\n",
       "      <th>Travellers x(1,000)</th>\n",
       "    </tr>\n",
       "  </thead>\n",
       "  <tbody>\n",
       "    <tr>\n",
       "      <th>0</th>\n",
       "      <td>All Routes</td>\n",
       "      <td>1985</td>\n",
       "      <td>1</td>\n",
       "      <td>Visitors to Ireland</td>\n",
       "      <td>254</td>\n",
       "    </tr>\n",
       "    <tr>\n",
       "      <th>1</th>\n",
       "      <td>All Routes</td>\n",
       "      <td>1985</td>\n",
       "      <td>1</td>\n",
       "      <td>Visits Abroad by Irish Residents</td>\n",
       "      <td>186</td>\n",
       "    </tr>\n",
       "    <tr>\n",
       "      <th>2</th>\n",
       "      <td>All Routes</td>\n",
       "      <td>1985</td>\n",
       "      <td>2</td>\n",
       "      <td>Visitors to Ireland</td>\n",
       "      <td>495</td>\n",
       "    </tr>\n",
       "    <tr>\n",
       "      <th>3</th>\n",
       "      <td>All Routes</td>\n",
       "      <td>1985</td>\n",
       "      <td>2</td>\n",
       "      <td>Visits Abroad by Irish Residents</td>\n",
       "      <td>336</td>\n",
       "    </tr>\n",
       "    <tr>\n",
       "      <th>4</th>\n",
       "      <td>All Routes</td>\n",
       "      <td>1985</td>\n",
       "      <td>3</td>\n",
       "      <td>Visitors to Ireland</td>\n",
       "      <td>840</td>\n",
       "    </tr>\n",
       "  </tbody>\n",
       "</table>\n",
       "</div>"
      ],
      "text/plain": [
       "  Route of Travel  Year  Quarter                         Direction  \\\n",
       "0      All Routes  1985        1               Visitors to Ireland   \n",
       "1      All Routes  1985        1  Visits Abroad by Irish Residents   \n",
       "2      All Routes  1985        2               Visitors to Ireland   \n",
       "3      All Routes  1985        2  Visits Abroad by Irish Residents   \n",
       "4      All Routes  1985        3               Visitors to Ireland   \n",
       "\n",
       "   Travellers x(1,000)  \n",
       "0                  254  \n",
       "1                  186  \n",
       "2                  495  \n",
       "3                  336  \n",
       "4                  840  "
      ]
     },
     "execution_count": 10,
     "metadata": {},
     "output_type": "execute_result"
    },
    {
     "data": {
      "text/html": [
       "<div>\n",
       "<style scoped>\n",
       "    .dataframe tbody tr th:only-of-type {\n",
       "        vertical-align: middle;\n",
       "    }\n",
       "\n",
       "    .dataframe tbody tr th {\n",
       "        vertical-align: top;\n",
       "    }\n",
       "\n",
       "    .dataframe thead th {\n",
       "        text-align: right;\n",
       "    }\n",
       "</style>\n",
       "<table border=\"1\" class=\"dataframe\">\n",
       "  <thead>\n",
       "    <tr style=\"text-align: right;\">\n",
       "      <th></th>\n",
       "      <th>Route of Travel</th>\n",
       "      <th>Year</th>\n",
       "      <th>Quarter</th>\n",
       "      <th>Direction</th>\n",
       "      <th>Travellers x(1,000)</th>\n",
       "    </tr>\n",
       "  </thead>\n",
       "  <tbody>\n",
       "    <tr>\n",
       "      <th>763</th>\n",
       "      <td>Transatlantic</td>\n",
       "      <td>2008</td>\n",
       "      <td>2</td>\n",
       "      <td>Visits Abroad by Irish Residents</td>\n",
       "      <td>115</td>\n",
       "    </tr>\n",
       "    <tr>\n",
       "      <th>764</th>\n",
       "      <td>Transatlantic</td>\n",
       "      <td>2008</td>\n",
       "      <td>3</td>\n",
       "      <td>Visitors to Ireland</td>\n",
       "      <td>218</td>\n",
       "    </tr>\n",
       "    <tr>\n",
       "      <th>765</th>\n",
       "      <td>Transatlantic</td>\n",
       "      <td>2008</td>\n",
       "      <td>3</td>\n",
       "      <td>Visits Abroad by Irish Residents</td>\n",
       "      <td>142</td>\n",
       "    </tr>\n",
       "    <tr>\n",
       "      <th>766</th>\n",
       "      <td>Transatlantic</td>\n",
       "      <td>2008</td>\n",
       "      <td>4</td>\n",
       "      <td>Visitors to Ireland</td>\n",
       "      <td>101</td>\n",
       "    </tr>\n",
       "    <tr>\n",
       "      <th>767</th>\n",
       "      <td>Transatlantic</td>\n",
       "      <td>2008</td>\n",
       "      <td>4</td>\n",
       "      <td>Visits Abroad by Irish Residents</td>\n",
       "      <td>152</td>\n",
       "    </tr>\n",
       "  </tbody>\n",
       "</table>\n",
       "</div>"
      ],
      "text/plain": [
       "    Route of Travel  Year  Quarter                         Direction  \\\n",
       "763   Transatlantic  2008        2  Visits Abroad by Irish Residents   \n",
       "764   Transatlantic  2008        3               Visitors to Ireland   \n",
       "765   Transatlantic  2008        3  Visits Abroad by Irish Residents   \n",
       "766   Transatlantic  2008        4               Visitors to Ireland   \n",
       "767   Transatlantic  2008        4  Visits Abroad by Irish Residents   \n",
       "\n",
       "     Travellers x(1,000)  \n",
       "763                  115  \n",
       "764                  218  \n",
       "765                  142  \n",
       "766                  101  \n",
       "767                  152  "
      ]
     },
     "execution_count": 10,
     "metadata": {},
     "output_type": "execute_result"
    }
   ],
   "source": [
    "# Display edited dataset rows and columns after cleaning. (960 rows, 5 routes = (960/5)*4 = 768 rows) \n",
    "concatenated_route_quarter_tourism.shape\n",
    "concatenated_route_quarter_tourism.head()\n",
    "concatenated_route_quarter_tourism.tail()"
   ]
  },
  {
   "cell_type": "code",
   "execution_count": 11,
   "id": "24074d8b",
   "metadata": {},
   "outputs": [
    {
     "data": {
      "text/html": [
       "<div>\n",
       "<style scoped>\n",
       "    .dataframe tbody tr th:only-of-type {\n",
       "        vertical-align: middle;\n",
       "    }\n",
       "\n",
       "    .dataframe tbody tr th {\n",
       "        vertical-align: top;\n",
       "    }\n",
       "\n",
       "    .dataframe thead th {\n",
       "        text-align: right;\n",
       "    }\n",
       "</style>\n",
       "<table border=\"1\" class=\"dataframe\">\n",
       "  <thead>\n",
       "    <tr style=\"text-align: right;\">\n",
       "      <th></th>\n",
       "      <th>Route of Travel</th>\n",
       "      <th>Year</th>\n",
       "      <th>Quarter</th>\n",
       "      <th>Direction</th>\n",
       "      <th>Travellers x(1,000)</th>\n",
       "    </tr>\n",
       "  </thead>\n",
       "  <tbody>\n",
       "    <tr>\n",
       "      <th>192</th>\n",
       "      <td>Cross Channel</td>\n",
       "      <td>1985</td>\n",
       "      <td>1</td>\n",
       "      <td>Visitors to Ireland</td>\n",
       "      <td>211</td>\n",
       "    </tr>\n",
       "    <tr>\n",
       "      <th>193</th>\n",
       "      <td>Cross Channel</td>\n",
       "      <td>1985</td>\n",
       "      <td>1</td>\n",
       "      <td>Visits Abroad by Irish Residents</td>\n",
       "      <td>140</td>\n",
       "    </tr>\n",
       "    <tr>\n",
       "      <th>194</th>\n",
       "      <td>Cross Channel</td>\n",
       "      <td>1985</td>\n",
       "      <td>2</td>\n",
       "      <td>Visitors to Ireland</td>\n",
       "      <td>366</td>\n",
       "    </tr>\n",
       "    <tr>\n",
       "      <th>195</th>\n",
       "      <td>Cross Channel</td>\n",
       "      <td>1985</td>\n",
       "      <td>2</td>\n",
       "      <td>Visits Abroad by Irish Residents</td>\n",
       "      <td>221</td>\n",
       "    </tr>\n",
       "    <tr>\n",
       "      <th>196</th>\n",
       "      <td>Cross Channel</td>\n",
       "      <td>1985</td>\n",
       "      <td>3</td>\n",
       "      <td>Visitors to Ireland</td>\n",
       "      <td>608</td>\n",
       "    </tr>\n",
       "    <tr>\n",
       "      <th>...</th>\n",
       "      <td>...</td>\n",
       "      <td>...</td>\n",
       "      <td>...</td>\n",
       "      <td>...</td>\n",
       "      <td>...</td>\n",
       "    </tr>\n",
       "    <tr>\n",
       "      <th>763</th>\n",
       "      <td>Transatlantic</td>\n",
       "      <td>2008</td>\n",
       "      <td>2</td>\n",
       "      <td>Visits Abroad by Irish Residents</td>\n",
       "      <td>115</td>\n",
       "    </tr>\n",
       "    <tr>\n",
       "      <th>764</th>\n",
       "      <td>Transatlantic</td>\n",
       "      <td>2008</td>\n",
       "      <td>3</td>\n",
       "      <td>Visitors to Ireland</td>\n",
       "      <td>218</td>\n",
       "    </tr>\n",
       "    <tr>\n",
       "      <th>765</th>\n",
       "      <td>Transatlantic</td>\n",
       "      <td>2008</td>\n",
       "      <td>3</td>\n",
       "      <td>Visits Abroad by Irish Residents</td>\n",
       "      <td>142</td>\n",
       "    </tr>\n",
       "    <tr>\n",
       "      <th>766</th>\n",
       "      <td>Transatlantic</td>\n",
       "      <td>2008</td>\n",
       "      <td>4</td>\n",
       "      <td>Visitors to Ireland</td>\n",
       "      <td>101</td>\n",
       "    </tr>\n",
       "    <tr>\n",
       "      <th>767</th>\n",
       "      <td>Transatlantic</td>\n",
       "      <td>2008</td>\n",
       "      <td>4</td>\n",
       "      <td>Visits Abroad by Irish Residents</td>\n",
       "      <td>152</td>\n",
       "    </tr>\n",
       "  </tbody>\n",
       "</table>\n",
       "<p>576 rows × 5 columns</p>\n",
       "</div>"
      ],
      "text/plain": [
       "    Route of Travel  Year  Quarter                         Direction  \\\n",
       "192   Cross Channel  1985        1               Visitors to Ireland   \n",
       "193   Cross Channel  1985        1  Visits Abroad by Irish Residents   \n",
       "194   Cross Channel  1985        2               Visitors to Ireland   \n",
       "195   Cross Channel  1985        2  Visits Abroad by Irish Residents   \n",
       "196   Cross Channel  1985        3               Visitors to Ireland   \n",
       "..              ...   ...      ...                               ...   \n",
       "763   Transatlantic  2008        2  Visits Abroad by Irish Residents   \n",
       "764   Transatlantic  2008        3               Visitors to Ireland   \n",
       "765   Transatlantic  2008        3  Visits Abroad by Irish Residents   \n",
       "766   Transatlantic  2008        4               Visitors to Ireland   \n",
       "767   Transatlantic  2008        4  Visits Abroad by Irish Residents   \n",
       "\n",
       "     Travellers x(1,000)  \n",
       "192                  211  \n",
       "193                  140  \n",
       "194                  366  \n",
       "195                  221  \n",
       "196                  608  \n",
       "..                   ...  \n",
       "763                  115  \n",
       "764                  218  \n",
       "765                  142  \n",
       "766                  101  \n",
       "767                  152  \n",
       "\n",
       "[576 rows x 5 columns]"
      ]
     },
     "execution_count": 11,
     "metadata": {},
     "output_type": "execute_result"
    }
   ],
   "source": [
    "concatenated_route_quarter_tourism = concatenated_route_quarter_tourism.drop(concatenated_route_quarter_tourism[concatenated_route_quarter_tourism.isin(['All Routes'])['Route of Travel']==True].index)\n",
    "\n",
    "concatenated_route_quarter_tourism"
   ]
  },
  {
   "cell_type": "code",
   "execution_count": 12,
   "id": "464accc7",
   "metadata": {},
   "outputs": [
    {
     "data": {
      "text/plain": [
       "0    254\n",
       "1    254\n",
       "2    254\n",
       "3    186\n",
       "4    186\n",
       "Name: Total Num Per Quarter All Routes, dtype: int64"
      ]
     },
     "execution_count": 12,
     "metadata": {},
     "output_type": "execute_result"
    },
    {
     "data": {
      "text/html": [
       "<div>\n",
       "<style scoped>\n",
       "    .dataframe tbody tr th:only-of-type {\n",
       "        vertical-align: middle;\n",
       "    }\n",
       "\n",
       "    .dataframe tbody tr th {\n",
       "        vertical-align: top;\n",
       "    }\n",
       "\n",
       "    .dataframe thead th {\n",
       "        text-align: right;\n",
       "    }\n",
       "</style>\n",
       "<table border=\"1\" class=\"dataframe\">\n",
       "  <thead>\n",
       "    <tr style=\"text-align: right;\">\n",
       "      <th></th>\n",
       "      <th>Route of Travel</th>\n",
       "      <th>Year</th>\n",
       "      <th>Quarter</th>\n",
       "      <th>Direction</th>\n",
       "      <th>Travellers x(1,000)</th>\n",
       "      <th>Distribution Per Route</th>\n",
       "    </tr>\n",
       "  </thead>\n",
       "  <tbody>\n",
       "    <tr>\n",
       "      <th>0</th>\n",
       "      <td>Continental Europe</td>\n",
       "      <td>1985</td>\n",
       "      <td>1</td>\n",
       "      <td>Visitors to Ireland</td>\n",
       "      <td>28</td>\n",
       "      <td>0.110236</td>\n",
       "    </tr>\n",
       "    <tr>\n",
       "      <th>1</th>\n",
       "      <td>Cross Channel</td>\n",
       "      <td>1985</td>\n",
       "      <td>1</td>\n",
       "      <td>Visitors to Ireland</td>\n",
       "      <td>211</td>\n",
       "      <td>0.830709</td>\n",
       "    </tr>\n",
       "    <tr>\n",
       "      <th>2</th>\n",
       "      <td>Transatlantic</td>\n",
       "      <td>1985</td>\n",
       "      <td>1</td>\n",
       "      <td>Visitors to Ireland</td>\n",
       "      <td>15</td>\n",
       "      <td>0.059055</td>\n",
       "    </tr>\n",
       "    <tr>\n",
       "      <th>3</th>\n",
       "      <td>Continental Europe</td>\n",
       "      <td>1985</td>\n",
       "      <td>1</td>\n",
       "      <td>Visits Abroad by Irish Residents</td>\n",
       "      <td>41</td>\n",
       "      <td>0.220430</td>\n",
       "    </tr>\n",
       "    <tr>\n",
       "      <th>4</th>\n",
       "      <td>Cross Channel</td>\n",
       "      <td>1985</td>\n",
       "      <td>1</td>\n",
       "      <td>Visits Abroad by Irish Residents</td>\n",
       "      <td>140</td>\n",
       "      <td>0.752688</td>\n",
       "    </tr>\n",
       "    <tr>\n",
       "      <th>...</th>\n",
       "      <td>...</td>\n",
       "      <td>...</td>\n",
       "      <td>...</td>\n",
       "      <td>...</td>\n",
       "      <td>...</td>\n",
       "      <td>...</td>\n",
       "    </tr>\n",
       "    <tr>\n",
       "      <th>571</th>\n",
       "      <td>Cross Channel</td>\n",
       "      <td>2008</td>\n",
       "      <td>4</td>\n",
       "      <td>Visitors to Ireland</td>\n",
       "      <td>981</td>\n",
       "      <td>0.589189</td>\n",
       "    </tr>\n",
       "    <tr>\n",
       "      <th>572</th>\n",
       "      <td>Transatlantic</td>\n",
       "      <td>2008</td>\n",
       "      <td>4</td>\n",
       "      <td>Visitors to Ireland</td>\n",
       "      <td>101</td>\n",
       "      <td>0.060661</td>\n",
       "    </tr>\n",
       "    <tr>\n",
       "      <th>573</th>\n",
       "      <td>Continental Europe</td>\n",
       "      <td>2008</td>\n",
       "      <td>4</td>\n",
       "      <td>Visits Abroad by Irish Residents</td>\n",
       "      <td>806</td>\n",
       "      <td>0.492966</td>\n",
       "    </tr>\n",
       "    <tr>\n",
       "      <th>574</th>\n",
       "      <td>Cross Channel</td>\n",
       "      <td>2008</td>\n",
       "      <td>4</td>\n",
       "      <td>Visits Abroad by Irish Residents</td>\n",
       "      <td>677</td>\n",
       "      <td>0.414067</td>\n",
       "    </tr>\n",
       "    <tr>\n",
       "      <th>575</th>\n",
       "      <td>Transatlantic</td>\n",
       "      <td>2008</td>\n",
       "      <td>4</td>\n",
       "      <td>Visits Abroad by Irish Residents</td>\n",
       "      <td>152</td>\n",
       "      <td>0.092966</td>\n",
       "    </tr>\n",
       "  </tbody>\n",
       "</table>\n",
       "<p>576 rows × 6 columns</p>\n",
       "</div>"
      ],
      "text/plain": [
       "        Route of Travel  Year  Quarter                         Direction  \\\n",
       "0    Continental Europe  1985        1               Visitors to Ireland   \n",
       "1         Cross Channel  1985        1               Visitors to Ireland   \n",
       "2         Transatlantic  1985        1               Visitors to Ireland   \n",
       "3    Continental Europe  1985        1  Visits Abroad by Irish Residents   \n",
       "4         Cross Channel  1985        1  Visits Abroad by Irish Residents   \n",
       "..                  ...   ...      ...                               ...   \n",
       "571       Cross Channel  2008        4               Visitors to Ireland   \n",
       "572       Transatlantic  2008        4               Visitors to Ireland   \n",
       "573  Continental Europe  2008        4  Visits Abroad by Irish Residents   \n",
       "574       Cross Channel  2008        4  Visits Abroad by Irish Residents   \n",
       "575       Transatlantic  2008        4  Visits Abroad by Irish Residents   \n",
       "\n",
       "     Travellers x(1,000)  Distribution Per Route  \n",
       "0                     28                0.110236  \n",
       "1                    211                0.830709  \n",
       "2                     15                0.059055  \n",
       "3                     41                0.220430  \n",
       "4                    140                0.752688  \n",
       "..                   ...                     ...  \n",
       "571                  981                0.589189  \n",
       "572                  101                0.060661  \n",
       "573                  806                0.492966  \n",
       "574                  677                0.414067  \n",
       "575                  152                0.092966  \n",
       "\n",
       "[576 rows x 6 columns]"
      ]
     },
     "execution_count": 12,
     "metadata": {},
     "output_type": "execute_result"
    }
   ],
   "source": [
    "# Calculate the sum for all Routes of Travel per **year - quarter - direction**\n",
    "sums = concatenated_route_quarter_tourism.groupby(['Year', 'Quarter', 'Direction'], as_index=False).sum()\n",
    "sums.rename(columns={\"Travellers x(1,000)\": \"Total Num Per Quarter All Routes\"}, inplace=True)\n",
    "\n",
    "# Extract the total numbers per **year - quarter - direction** and repeat them 3 times, because we have 3 routes\n",
    "mask = sums.loc[sums.index.repeat(3)].reset_index(drop=True)['Total Num Per Quarter All Routes']\n",
    "mask.head()\n",
    "\n",
    "# We have to prodive 'ignore_index=True', because otherwise the division by the totals_mask will produce NaN values, as indexes are misaligned\n",
    "concatenated_route_quarter_tourism.sort_values(by=['Year', 'Quarter', 'Direction', 'Route of Travel'], inplace=True, ignore_index=True)\n",
    "\n",
    "#concatenated_route_quarter_tourism['Distribution']\n",
    "concatenated_route_quarter_tourism['Distribution Per Route'] = concatenated_route_quarter_tourism['Travellers x(1,000)'] / mask\n",
    "concatenated_route_quarter_tourism\n"
   ]
  },
  {
   "cell_type": "code",
   "execution_count": 14,
   "id": "9bcc1e2c",
   "metadata": {},
   "outputs": [
    {
     "data": {
      "text/plain": [
       "<Axes: xlabel='Year', ylabel='Distribution Per Route'>"
      ]
     },
     "execution_count": 14,
     "metadata": {},
     "output_type": "execute_result"
    },
    {
     "data": {
      "image/png": "[encoded data removed]",
      "text/plain": [
       "<Figure size 640x480 with 1 Axes>"
      ]
     },
     "metadata": {},
     "output_type": "display_data"
    }
   ],
   "source": [
    "to_ireland = concatenated_route_quarter_tourism[concatenated_route_quarter_tourism['Direction'] == 'Visitors to Ireland']\n",
    "sns.barplot(x='Year', y='Distribution Per Route', data=to_ireland, hue='Route of Travel', ci=None)"
   ]
  },
  {
   "cell_type": "markdown",
   "id": "f20d4e04",
   "metadata": {},
   "source": [
    "## Expenditures Dataset: Exploration and Cleaning\n",
    "#### Explore expend_quarter dataset\n",
    "#### Dataset describes travel to and from Ireland by all routes between the years of 1985 and 2008, Quarterly, with Expenditure."
   ]
  },
  {
   "cell_type": "code",
   "execution_count": null,
   "id": "3ff9ea7c",
   "metadata": {},
   "outputs": [],
   "source": [
    "# TMQ03-Expenditure-of-Visitors-to-and-from-Ireland dataset contains 8 columns and 192 rows\n",
    "# (24 years in Quarters = 96 rows), 96 rows by 2 Direction = 192 rows\n",
    "# Columns: C02196V02652, State, TLIST(Q1), Quarter, STATISTIC, Statistic Label, UNIT, VALUE\n",
    "# Columns 1 and 2 do not contain useful information\n",
    "expend_quarter = pd.read_csv(\"TMQ03-Expenditure-of-Visitors-to-and-from-Ireland.csv\")\n",
    "\n",
    "expend_quarter.shape"
   ]
  },
  {
   "cell_type": "markdown",
   "id": "97120744",
   "metadata": {},
   "source": [
    "### Display column names in Dataset 2"
   ]
  },
  {
   "cell_type": "code",
   "execution_count": null,
   "id": "0895125b",
   "metadata": {},
   "outputs": [],
   "source": [
    "print(expend_quarter.columns)"
   ]
  },
  {
   "cell_type": "code",
   "execution_count": null,
   "id": "113bf3b4",
   "metadata": {},
   "outputs": [],
   "source": [
    "expend_quarter['State'].value_counts()\n",
    "expend_quarter['Statistic Label'].value_counts()\n",
    "expend_quarter['C02196V02652'].value_counts()\n",
    "expend_quarter['UNIT'].value_counts()\n",
    "expend_quarter['VALUE'].value_counts(bins=10)"
   ]
  },
  {
   "cell_type": "code",
   "execution_count": null,
   "id": "e1369347",
   "metadata": {},
   "outputs": [],
   "source": [
    "expend_quarter.head(10)"
   ]
  },
  {
   "cell_type": "markdown",
   "id": "ac94ec37",
   "metadata": {},
   "source": [
    "## Edit Dataframe 2 - Data Cleaning \n",
    "### Remove, Rename and Transform columns"
   ]
  },
  {
   "cell_type": "code",
   "execution_count": null,
   "id": "434f8a1f",
   "metadata": {},
   "outputs": [],
   "source": [
    "# Remove 'UNIT' column as 'VALUE' column heading will be amended to reflect units. \n",
    "# Remove 'ROUTE' column as 'Route of Travel' contains the same information in human readable language.\n",
    "# Remove 'STATISTIC' column as this data is contained within 'Quarter' and 'Statistic Label' columns in human readable language.\n",
    "expend_quarter_tourism = expend_quarter.drop(columns=['UNIT', 'State', 'C02196V02652', 'STATISTIC'])\n",
    "\n",
    "# Rename 'TLIST(Q1)' column to Year\n",
    "expend_quarter_tourism.rename(columns={\"TLIST(Q1)\": \"Year\"}, inplace=True)\n",
    "\n",
    "# Last character in 'Year' column refers to quarter (1-4) \n",
    "# Remove last character from by dividing by 10 and saving as integer to remove non-whole numbers. e.g. 19854 -> 1985.4 = 1985\n",
    "expend_quarter_tourism[\"Year\"] = expend_quarter_tourism[\"Year\"].transform(lambda x: x / 10).astype(int)\n",
    "\n",
    "# The'Quarter' column contains the year and Q before the number designating the quarter. e.g. 1985Q4\n",
    "# Transform 'Quarter' column, reassigning last character of each entry as integer reflecting the quarter. e.g. 1985Q4 = 4\n",
    "expend_quarter_tourism[\"Quarter\"] = expend_quarter_tourism[\"Quarter\"].transform(lambda x: str(x)[-1]).astype(int)\n",
    "\n",
    "# Rename 'Statistic Label' column for Direction\n",
    "expend_quarter_tourism.rename(columns={\"Statistic Label\": \"Direction\"}, inplace=True)\n",
    "\n",
    "# Rename Column for Travellers x 1,000\n",
    "expend_quarter_tourism.rename(columns={\"VALUE\": \"Expenditure x(€1,000,000)\"}, inplace=True)\n",
    "\n",
    "expend_quarter_tourism.shape"
   ]
  },
  {
   "cell_type": "code",
   "execution_count": null,
   "id": "86447f20",
   "metadata": {},
   "outputs": [],
   "source": [
    "# A better way of renaming column values to enable concatenation of the two datasets\n",
    "direction_mapping = {'Expenditure of Visitors to Ireland (excluding International fares)': 'Visitors to Ireland',\n",
    "                     'Expenditure of Irish Residents Abroad (including International fares)': 'Visits Abroad by Irish Residents'}\n",
    "\n",
    "expend_quarter_tourism[\"Direction\"]=expend_quarter_tourism['Direction'].apply(lambda x: direction_mapping[x])"
   ]
  },
  {
   "cell_type": "markdown",
   "id": "32a2bd0d",
   "metadata": {},
   "source": [
    "### Display column names in edited dataframe 2"
   ]
  },
  {
   "cell_type": "code",
   "execution_count": null,
   "id": "95e0a392",
   "metadata": {},
   "outputs": [],
   "source": [
    "print(expend_quarter_tourism.columns)"
   ]
  },
  {
   "cell_type": "code",
   "execution_count": null,
   "id": "346c2666",
   "metadata": {},
   "outputs": [],
   "source": [
    "expend_quarter_tourism.head()"
   ]
  },
  {
   "cell_type": "code",
   "execution_count": null,
   "id": "8fe2f069",
   "metadata": {},
   "outputs": [],
   "source": [
    "expend_quarter_tourism.shape"
   ]
  },
  {
   "cell_type": "markdown",
   "id": "298aca26",
   "metadata": {},
   "source": [
    "## Dataset 3 Exploration and Cleaning\n",
    "#### Explore duration_of_stay dataset\n",
    "#### Dataset describes travel to and from Ireland by all routes between the years of 1976 and 2008, Yearly, with Lenght of Stay."
   ]
  },
  {
   "cell_type": "code",
   "execution_count": null,
   "id": "4bb2dfb6",
   "metadata": {},
   "outputs": [],
   "source": [
    "duration_of_stay = pd.read_csv(\"TMA04-Visits-to-and-from-Ireland.csv\")"
   ]
  },
  {
   "cell_type": "code",
   "execution_count": null,
   "id": "9ba7c332",
   "metadata": {},
   "outputs": [],
   "source": [
    "# TMA04-Visits-to-and-from-Ireland dataset contains 8 columns and 660 rows\n",
    "# (33 years in Years=33 rows),33 rows by 2 Direction=66 rows,66 rows by 5 regions=330 rows by 2(lenght of stay and number) = 660 rows\n",
    "# Columns: ROUTE, Route of Travel, TLIST(A1), Year, STATISTIC, Statistic Label, UNIT, VALUE\n",
    "duration_of_stay.shape\n",
    "print(duration_of_stay.columns)\n",
    "duration_of_stay.head(10)"
   ]
  },
  {
   "cell_type": "code",
   "execution_count": null,
   "id": "31cb60d3",
   "metadata": {},
   "outputs": [],
   "source": [
    "# Remove rows for years 1976 to 1985, without matching data in other datasets, Edited to include 1985-2008\n",
    "# (24 years in Years = 24 rows), 24 rows by 2 Direction = 48 rows, 48 rows by 5 regions = 240 rows by 2(lenght of stay and number) = 480 rows\n",
    "# Columns: ROUTE, Route of Travel, TLIST(A1), Year, STATISTIC, Statistic Label, UNIT, VALUE\n",
    "duration_of_stay = duration_of_stay[duration_of_stay['Year'] > 1984]\n",
    "duration_of_stay.shape"
   ]
  },
  {
   "cell_type": "code",
   "execution_count": null,
   "id": "e11f183d",
   "metadata": {},
   "outputs": [],
   "source": [
    "duration_of_stay['UNIT'].value_counts()"
   ]
  },
  {
   "cell_type": "code",
   "execution_count": null,
   "id": "ddb9300c",
   "metadata": {},
   "outputs": [],
   "source": [
    "# Remove 'UNIT' column as 'VALUE' column heading will be amended to reflect units. \n",
    "# Remove 'ROUTE' column as 'Route of Travel' contains the same information in human readable language.\n",
    "# Remove 'STATISTIC' column as this data is contained within 'Quarter' and 'Statistic Label' columns in human readable language.\n",
    "duration_of_stay = duration_of_stay.drop(columns=['UNIT', 'ROUTE', 'STATISTIC', 'TLIST(A1)'])\n",
    "\n",
    "# Rename 'TLIST(Q1)' column to Year\n",
    "duration_of_stay.rename(columns={\"TLIST(A1)\": \"Year\"}, inplace=True)\n",
    "\n",
    "# Rename 'Statistic Label' column for Direction\n",
    "duration_of_stay.rename(columns={\"Statistic Label\": \"Direction\"}, inplace=True)\n",
    "\n",
    "duration_of_stay.shape"
   ]
  },
  {
   "cell_type": "code",
   "execution_count": null,
   "id": "746c2a52",
   "metadata": {},
   "outputs": [],
   "source": [
    "num_visitors = duration_of_stay[(duration_of_stay['Direction'] == 'Visitors to Ireland') | (duration_of_stay['Direction'] == 'Visits Abroad by Irish Residents')]\n",
    "duration_of_stay_nights = duration_of_stay[(duration_of_stay['Direction'] == 'Average Length of Stay Abroad by Irish Residents') | (duration_of_stay['Direction'] == 'Average Length of Stay by Visitors to Ireland')]\n",
    "\n",
    "num_visitors.rename(columns={\"VALUE\": \"Num Visitors (x 1,000)\"}, inplace=True)\n",
    "duration_of_stay_nights.rename(columns={\"VALUE\": \"Length Stay (Nights)\"}, inplace=True)\n",
    "\n",
    "num_visitors.shape\n",
    "duration_of_stay_nights.shape\n"
   ]
  },
  {
   "cell_type": "code",
   "execution_count": null,
   "id": "ba7e7494",
   "metadata": {},
   "outputs": [],
   "source": [
    "direction_mapping = {'Average Length of Stay by Visitors to Ireland': 'Visitors to Ireland',\n",
    "                     'Average Length of Stay Abroad by Irish Residents': 'Visits Abroad by Irish Residents'}\n",
    "\n",
    "duration_of_stay_nights[\"Direction\"] = duration_of_stay_nights['Direction'].apply(lambda x: direction_mapping[x])"
   ]
  },
  {
   "cell_type": "code",
   "execution_count": null,
   "id": "b2730f22",
   "metadata": {},
   "outputs": [],
   "source": [
    "duration_and_num = num_visitors.merge(duration_of_stay_nights, on=['Year', 'Direction', 'Route of Travel'])\n",
    "duration_and_num"
   ]
  },
  {
   "cell_type": "code",
   "execution_count": null,
   "id": "ba9fdaf5",
   "metadata": {},
   "outputs": [],
   "source": [
    "concatenated_duration_and_num = merge_air_and_sea(duration_and_num, ['Year', 'Direction'])\n",
    "concatenated_duration_and_num.shape"
   ]
  },
  {
   "cell_type": "code",
   "execution_count": null,
   "id": "6c3812a1",
   "metadata": {},
   "outputs": [],
   "source": [
    "# duration_of_stay['ROUTE'].value_counts()\n",
    "# duration_of_stay['Route of Travel'].value_counts()\n",
    "# duration_of_stay['Year'].value_counts()\n",
    "# duration_of_stay['STATISTIC'].value_counts()\n",
    "# duration_of_stay['Statistic Label'].value_counts()\n",
    "# duration_of_stay['UNIT'].value_counts()\n",
    "# duration_of_stay['VALUE'].value_counts(bins=10)"
   ]
  },
  {
   "cell_type": "markdown",
   "id": "ee3deaba",
   "metadata": {},
   "source": [
    "## Merging Cleaned Dataframes 1 & 2"
   ]
  },
  {
   "cell_type": "code",
   "execution_count": null,
   "id": "3011a243",
   "metadata": {},
   "outputs": [],
   "source": [
    "merged_route_quarter_2['Route of Travel'].value_counts()\n",
    "merged_route_quarter_2['Year'].value_counts()\n",
    "merged_route_quarter_2['Quarter'].value_counts()\n",
    "merged_route_quarter_2['Direction'].value_counts()\n"
   ]
  },
  {
   "cell_type": "code",
   "execution_count": null,
   "id": "4ef19325",
   "metadata": {},
   "outputs": [],
   "source": [
    "# Merging dataframe 1 and 2 together on common column values for 'All Routes' values in Route of Travel column \n",
    "merged_route_quarter_2 = pd.merge(concatenated_route_quarter_tourism[concatenated_route_quarter_tourism['Route of Travel'] == 'All Routes'], expend_quarter_tourism, on=['Year', 'Quarter', 'Direction'])\n",
    "\n",
    "print(merged_route_quarter_2.columns)\n",
    "merged_route_quarter_2.shape"
   ]
  },
  {
   "cell_type": "markdown",
   "id": "e064b32b",
   "metadata": {},
   "source": [
    "# STOPPED HERE!!!"
   ]
  },
  {
   "cell_type": "code",
   "execution_count": null,
   "id": "c100e6e2",
   "metadata": {},
   "outputs": [],
   "source": [
    "# TMA05-Visits-to-and-from-Ireland dataset contains 8 columns and 792 rows\n",
    "# (33 years in Years = 33 rows), 33 rows by 2 Direction = 66 rows, 66 rows by 4 reasons for travel = 264 rows \n",
    "# 264 rows by 3 Features (lenght of stay, expense, # of visitors) = 792 rows\n",
    "# Columns: C02118V02559, Reason for Journey, TLIST(A1), Year, STATISTIC, Statistic Label, UNIT, VALUE\n",
    "reason.shape"
   ]
  },
  {
   "cell_type": "code",
   "execution_count": null,
   "id": "571958b2",
   "metadata": {},
   "outputs": [],
   "source": [
    "concatenated_df.shape"
   ]
  },
  {
   "cell_type": "markdown",
   "id": "35ac8c5d",
   "metadata": {},
   "source": [
    "## Explore Imported Dataset"
   ]
  },
  {
   "cell_type": "markdown",
   "id": "f2530952",
   "metadata": {},
   "source": [
    "#### Dataset describes travel to and from Ireland by routes between the years of 1985 and 2008."
   ]
  },
  {
   "cell_type": "code",
   "execution_count": null,
   "id": "a5788e9e",
   "metadata": {
    "scrolled": true
   },
   "outputs": [],
   "source": [
    "# Prints out the first few rows\n",
    "\n",
    "concatenated_df.tail(144)\n",
    "columns_without_values = concatenated_df.columns[concatenated_df.isnull().all()]\n",
    "columns_without_values\n"
   ]
  },
  {
   "cell_type": "code",
   "execution_count": null,
   "id": "63986eb5",
   "metadata": {},
   "outputs": [],
   "source": [
    "\n",
    "missing_values = concatenated_df.isnull().sum()\n",
    "print(missing_values)\n"
   ]
  },
  {
   "cell_type": "code",
   "execution_count": null,
   "id": "a216b68b",
   "metadata": {},
   "outputs": [],
   "source": [
    "# Dataframe is composed of 8 Columns and 960 Rows\n",
    "concatenated_df.shape"
   ]
  },
  {
   "cell_type": "code",
   "execution_count": null,
   "id": "7f56aa2c",
   "metadata": {},
   "outputs": [],
   "source": [
    "df.describe()"
   ]
  },
  {
   "cell_type": "markdown",
   "id": "df4f44b0",
   "metadata": {},
   "source": [
    "#### Dataset contains categorical and quantitative variables \n",
    "#### Categorical = \n",
    "#### Quantitative = "
   ]
  },
  {
   "cell_type": "code",
   "execution_count": null,
   "id": "fe396fe2",
   "metadata": {},
   "outputs": [],
   "source": [
    "concatenated_df.dtypes"
   ]
  },
  {
   "cell_type": "markdown",
   "id": "e3f73b46",
   "metadata": {},
   "source": [
    "## Edit Dataframe - Data Cleaning"
   ]
  },
  {
   "cell_type": "markdown",
   "id": "94379fe9",
   "metadata": {},
   "source": [
    "### Remove, Rename and Transform columns  "
   ]
  },
  {
   "cell_type": "code",
   "execution_count": null,
   "id": "44f061eb",
   "metadata": {},
   "outputs": [],
   "source": [
    "# Remove 'UNIT' column as 'VALUE' column heading will be amended to reflect units. \n",
    "# Remove 'ROUTE' column as 'Route of Travel' contains the same information in human readable language.\n",
    "# Remove 'STATISTIC' column as this data is contained within 'Quarter' and 'Statistic Label' columns in human readable language.\n",
    "tourism_df = route_quarter.drop(columns=['UNIT', 'ROUTE', 'STATISTIC'])\n",
    "\n",
    "# Rename 'TLIST(Q1)' column to Year\n",
    "tourism_df.rename(columns={\"TLIST(Q1)\": \"Year\"}, inplace=True)\n",
    "\n",
    "# Last character in 'Year' column refers to quarter (1-4) \n",
    "# Remove last character from by dividing by 10 and saving as integer to remove non-whole numbers. e.g. 19854 -> 1985.4 = 1985\n",
    "tourism_df[\"Year\"] = tourism_df[\"Year\"].transform(lambda x: x / 10).astype(int)\n",
    "\n",
    "# The'Quarter' column contains the year and Q before the number designating the quarter. e.g. 1985Q4\n",
    "# Transform 'Quarter' column, reassigning last character of each entry as integer reflecting the quarter. e.g. 1985Q4 = 4\n",
    "tourism_df[\"Quarter\"] = tourism_df[\"Quarter\"].transform(lambda x: str(x)[-1]).astype(int)\n",
    "\n",
    "# Rename 'Statistic Label' column for Direction\n",
    "tourism_df.rename(columns={\"Statistic Label\": \"Direction\"}, inplace=True)\n",
    "\n",
    "# Rename Column for Travellers x 1,000\n",
    "tourism_df.rename(columns={\"VALUE\": \"Travellers (x 1,000)\"}, inplace=True)\n",
    "#pd.set_option('display.max_rows', tourism_df.shape[0]+1)\n",
    "tourism_df"
   ]
  },
  {
   "cell_type": "markdown",
   "id": "7fac72cf",
   "metadata": {},
   "source": [
    "## Explore Edited Dataframe"
   ]
  },
  {
   "cell_type": "code",
   "execution_count": null,
   "id": "1c5ff9a1",
   "metadata": {},
   "outputs": [],
   "source": [
    "# Select cross channel travel by both sea and air for each quarter and year\n",
    "cross_channel_df = tourism_df[tourism_df.isin(['Air Cross Channel', 'Sea Cross Channel'])['Route of Travel']==True]\n",
    "#pd.set_option('display.max_rows', 10)\n",
    "cross_channel_df"
   ]
  },
  {
   "cell_type": "code",
   "execution_count": null,
   "id": "de968a05",
   "metadata": {},
   "outputs": [],
   "source": [
    "# Combine Air and Sea cross channel travel into Cross channel travel dataframe\n",
    "combined_cross_channel = cross_channel_df.groupby(['Year', 'Quarter', 'Direction'], as_index=False).sum()\n",
    "combined_cross_channel['Route of Travel'] = 'Cross Channel'\n",
    "combined_cross_channel"
   ]
  },
  {
   "cell_type": "code",
   "execution_count": null,
   "id": "4752ffd0",
   "metadata": {},
   "outputs": [],
   "source": [
    "# Drop all rows containing cross channel travel by air or sea\n",
    "tourism_df = tourism_df.drop(tourism_df[tourism_df.isin(['Air Cross Channel', 'Sea Cross Channel'])['Route of Travel']==True].index)"
   ]
  },
  {
   "cell_type": "code",
   "execution_count": null,
   "id": "f07efd89",
   "metadata": {},
   "outputs": [],
   "source": [
    "# Concatenate the datasets with the specified order of \"All Routes\", \"Cross Channel\", \"Continental Europe\", and \"Transatlantic\" to be consistent\n",
    "# with the original dataset.\n",
    "concatenated_df = pd.concat([tourism_df[tourism_df['Route of Travel'] == 'All Routes'],\n",
    "                            tourism_df[tourism_df['Route of Travel'] == 'Cross Channel'],\n",
    "                            tourism_df[tourism_df['Route of Travel'] == 'Continental Europe'],\n",
    "                            tourism_df[tourism_df['Route of Travel'] == 'Transatlantic']])\n",
    "\n",
    "# Reset the index of the concatenated dataframe\n",
    "concatenated_df.reset_index(drop=True, inplace=True)\n",
    "\n",
    "# Display the concatenated dataframe\n",
    "concatenated_df\n"
   ]
  },
  {
   "cell_type": "code",
   "execution_count": null,
   "id": "cd1d0b8c",
   "metadata": {},
   "outputs": [],
   "source": [
    "# Assess how many Series and Rows in tidied dataframe\n",
    "tourism_df.shape"
   ]
  },
  {
   "cell_type": "code",
   "execution_count": null,
   "id": "c199439f",
   "metadata": {},
   "outputs": [],
   "source": [
    "tourism_df.dtypes"
   ]
  },
  {
   "cell_type": "code",
   "execution_count": null,
   "id": "a91ed05f",
   "metadata": {},
   "outputs": [],
   "source": [
    "tourism_df.describe()"
   ]
  },
  {
   "cell_type": "code",
   "execution_count": null,
   "id": "ced0bac5",
   "metadata": {},
   "outputs": [],
   "source": [
    "# Remove rows without matching data in other datasets\n",
    "duration_of_stay = duration_of_stay[duration_of_stay['Year'] > 1984]\n",
    "reason = reason[reason['Year'] > 1984]\n",
    "# Concatenate datasets horizontally\n",
    "concatenated_df = pd.concat([route_quarter, expend_quarter, duration_of_stay, reason], axis=1)\n",
    "concatenated_df.head(50)"
   ]
  },
  {
   "cell_type": "markdown",
   "id": "77464d7f",
   "metadata": {},
   "source": [
    "## Create Seperate Dataframe of Inbound Travel to Ireland"
   ]
  },
  {
   "cell_type": "code",
   "execution_count": null,
   "id": "958f6178",
   "metadata": {},
   "outputs": [],
   "source": [
    "# Create new seperate dataframes for inbound Irish travel\n",
    "intourism_df = tourism_df[tourism_df['Direction'] == 'Visitors to Ireland']\n",
    "intourism_df = intourism_df.drop(columns=['Direction'])\n",
    "#intourism_df = intourism_df.drop(intourism_df[intourism_df['Route of Travel'] == 'All Routes'].index)"
   ]
  },
  {
   "cell_type": "code",
   "execution_count": null,
   "id": "a5e6935c",
   "metadata": {},
   "outputs": [],
   "source": [
    "(intourism_df.head(5))"
   ]
  },
  {
   "cell_type": "code",
   "execution_count": null,
   "id": "5126c8b6",
   "metadata": {},
   "outputs": [],
   "source": [
    "intourism_df.shape"
   ]
  },
  {
   "cell_type": "code",
   "execution_count": null,
   "id": "2b2e2bcc",
   "metadata": {},
   "outputs": [],
   "source": [
    "intourism_df.describe()"
   ]
  },
  {
   "cell_type": "code",
   "execution_count": null,
   "id": "8d47ee56",
   "metadata": {},
   "outputs": [],
   "source": [
    "# 5 categories for Routes of Travel with column 0 = Sum of columns 1-4\n",
    "intourism_df['Route of Travel'].value_counts() "
   ]
  },
  {
   "cell_type": "code",
   "execution_count": null,
   "id": "6f0111a8",
   "metadata": {},
   "outputs": [],
   "source": [
    "# Create dataframe with values for each quarter of the year summed to give travel into Ireland per year by each route \n",
    "in_grouped = intourism_df.groupby(['Year', 'Route of Travel'], as_index=False).sum().drop(columns=['Quarter'])\n",
    "in_grouped"
   ]
  },
  {
   "cell_type": "code",
   "execution_count": null,
   "id": "374be7a6",
   "metadata": {},
   "outputs": [],
   "source": [
    "# Assess demographics of tourists travelling to Ireland from different regions over time\n",
    "plt.figure(figsize=(12, 6))\n",
    "\n",
    "ax = sns.barplot(data=in_grouped, x=\"Year\", y=\"Travellers (x 1,000)\", hue='Route of Travel')\n",
    "ax.tick_params(axis='x', labelrotation=45)"
   ]
  },
  {
   "cell_type": "markdown",
   "id": "62479117",
   "metadata": {},
   "source": [
    "## Create Seperate Dataframe of Outbound Travel from Ireland"
   ]
  },
  {
   "cell_type": "code",
   "execution_count": null,
   "id": "31acfa47",
   "metadata": {},
   "outputs": [],
   "source": [
    "# Create new seperate dataframes for inbound Irish travel\n",
    "outtourism_df = tourism_df[tourism_df['Direction'] == 'Visits Abroad by Irish Residents']\n",
    "outtourism_df = outtourism_df.drop(columns=['Direction'])\n",
    "#outtourism_df = outtourism_df.drop(outtourism_df[outtourism_df['Route of Travel'] == 'All Routes'].index)\n",
    "#outtourism_df = outtourism_df.sum(outtourism_df[outtourism_df['Route of Travel'] == 'All Routes'].index)"
   ]
  },
  {
   "cell_type": "code",
   "execution_count": null,
   "id": "d5d16f22",
   "metadata": {},
   "outputs": [],
   "source": [
    "(outtourism_df.tail(5))"
   ]
  },
  {
   "cell_type": "code",
   "execution_count": null,
   "id": "fe7b4339",
   "metadata": {},
   "outputs": [],
   "source": [
    "outtourism_df.shape"
   ]
  },
  {
   "cell_type": "code",
   "execution_count": null,
   "id": "794ba0d0",
   "metadata": {},
   "outputs": [],
   "source": [
    "outtourism_df.describe()"
   ]
  },
  {
   "cell_type": "code",
   "execution_count": null,
   "id": "22919dd8",
   "metadata": {},
   "outputs": [],
   "source": [
    "# 5 categories for Routes of Travel with column 0 = Sum of columns 1-4\n",
    "outtourism_df['Route of Travel'].value_counts() "
   ]
  },
  {
   "cell_type": "code",
   "execution_count": null,
   "id": "b36b9688",
   "metadata": {},
   "outputs": [],
   "source": [
    "# Create dataframe with values for each quarter of the year summed to give travel from Ireland per year by each route \n",
    "out_grouped = outtourism_df.groupby(['Year', 'Route of Travel'], as_index=False).sum().drop(columns=['Quarter'])\n",
    "out_grouped"
   ]
  },
  {
   "cell_type": "code",
   "execution_count": null,
   "id": "e0c1a503",
   "metadata": {},
   "outputs": [],
   "source": [
    "# Assess demographics of tourists travelling from Ireland to different regions over time\n",
    "plt.figure(figsize=(12, 6))\n",
    "\n",
    "ax = sns.barplot(data=out_grouped, x=\"Year\", y=\"Travellers (x 1,000)\", hue='Route of Travel')\n",
    "ax.tick_params(axis='x', labelrotation=45)"
   ]
  },
  {
   "cell_type": "markdown",
   "id": "f658ac31",
   "metadata": {},
   "source": [
    "## Travel to Ireland by Quarter\n",
    "Q1: January – March, Q2: April – June, Q3: July – September, Q4: October – December"
   ]
  },
  {
   "cell_type": "code",
   "execution_count": null,
   "id": "1cd04353",
   "metadata": {},
   "outputs": [],
   "source": [
    "# Assess demographics of tourists travelling to Ireland from different regions per Quarter\n",
    "plt.figure(figsize=(12, 6))\n",
    "\n",
    "ax = sns.barplot(data=intourism_df, x=\"Route of Travel\", y=\"Travellers (x 1,000)\", hue='Quarter')\n",
    "ax.tick_params(axis='x', labelrotation=45)"
   ]
  },
  {
   "cell_type": "code",
   "execution_count": null,
   "id": "e7651aa9",
   "metadata": {},
   "outputs": [],
   "source": [
    "# Assess demographics of tourists travelling to Ireland from different regions per Quarter\n",
    "plt.figure(figsize=(12, 6))\n",
    "\n",
    "ax = sns.barplot(data=intourism_df, x=\"Quarter\", y=\"Travellers (x 1,000)\", hue='Route of Travel')\n",
    "ax.tick_params(axis='x', labelrotation=45)"
   ]
  },
  {
   "cell_type": "markdown",
   "id": "091adfa5",
   "metadata": {},
   "source": [
    "## Travel from Ireland by Quarter"
   ]
  },
  {
   "cell_type": "code",
   "execution_count": null,
   "id": "ad660a97",
   "metadata": {},
   "outputs": [],
   "source": [
    "# Assess demographics of tourists travelling from Ireland to different regions per Quarter\n",
    "plt.figure(figsize=(12, 6))\n",
    "\n",
    "ax = sns.barplot(data=outtourism_df, x=\"Route of Travel\", y=\"Travellers (x 1,000)\", hue='Quarter')\n",
    "ax.tick_params(axis='x', labelrotation=45)"
   ]
  },
  {
   "cell_type": "code",
   "execution_count": null,
   "id": "cbd673f6",
   "metadata": {},
   "outputs": [],
   "source": [
    "# Assess demographics of tourists travelling from Ireland to different regions per Quarter\n",
    "plt.figure(figsize=(12, 6))\n",
    "\n",
    "ax = sns.barplot(data=outtourism_df, x=\"Quarter\", y=\"Travellers (x 1,000)\", hue='Route of Travel')\n",
    "ax.tick_params(axis='x', labelrotation=45)"
   ]
  },
  {
   "cell_type": "markdown",
   "id": "ae8631e8",
   "metadata": {},
   "source": [
    "## Lineplot of Tourism out of Ireland"
   ]
  },
  {
   "cell_type": "code",
   "execution_count": null,
   "id": "c5d76e79",
   "metadata": {},
   "outputs": [],
   "source": [
    "# Assess demographics of tourists travelling from Ireland to different regions per Quarter\n",
    "\n",
    "plt.figure(figsize=(12, 6))\n",
    "\n",
    "ax = sns.lineplot(data=outtourism_df, x=\"Year\", y=\"Travellers (x 1,000)\", hue='Route of Travel')\n",
    "ax.tick_params(axis='x', labelrotation=45)"
   ]
  },
  {
   "cell_type": "code",
   "execution_count": null,
   "id": "d7152cfe",
   "metadata": {},
   "outputs": [],
   "source": [
    "# Assess demographics of tourists travelling from Ireland to different regions per Quarter\n",
    "plt.figure(figsize=(12, 6))\n",
    "\n",
    "ax = sns.lineplot(data=out_grouped, x=\"Year\", y=\"Travellers (x 1,000)\", hue='Route of Travel')\n",
    "ax.tick_params(axis='x', labelrotation=45)"
   ]
  },
  {
   "cell_type": "markdown",
   "id": "820a43bc",
   "metadata": {},
   "source": [
    "## Lineplot of Tourism into Ireland"
   ]
  },
  {
   "cell_type": "code",
   "execution_count": null,
   "id": "8d94de2a",
   "metadata": {},
   "outputs": [],
   "source": [
    "# Assess demographics of tourists travelling from Ireland to different regions per Quarter\n",
    "plt.figure(figsize=(12, 6))\n",
    "\n",
    "ax = sns.lineplot(data=in_grouped, x=\"Year\", y=\"Travellers (x 1,000)\", hue='Route of Travel')\n",
    "ax.tick_params(axis='x', labelrotation=45)"
   ]
  },
  {
   "cell_type": "code",
   "execution_count": null,
   "id": "dbe85701",
   "metadata": {},
   "outputs": [],
   "source": [
    "# Assess demographics of tourists travelling from Ireland to different regions per Quarter\n",
    "plt.figure(figsize=(12, 6))\n",
    "\n",
    "ax = sns.lineplot(data=intourism_df, x=\"Year\", y=\"Travellers (x 1,000)\", hue='Route of Travel')\n",
    "ax.tick_params(axis='x', labelrotation=45)"
   ]
  },
  {
   "cell_type": "code",
   "execution_count": null,
   "id": "23cae7da",
   "metadata": {},
   "outputs": [],
   "source": []
  },
  {
   "cell_type": "code",
   "execution_count": null,
   "id": "e80a5744",
   "metadata": {},
   "outputs": [],
   "source": []
  },
  {
   "cell_type": "code",
   "execution_count": null,
   "id": "5931e5fb",
   "metadata": {},
   "outputs": [],
   "source": []
  },
  {
   "cell_type": "code",
   "execution_count": null,
   "id": "0918a9d5",
   "metadata": {},
   "outputs": [],
   "source": []
  },
  {
   "cell_type": "code",
   "execution_count": null,
   "id": "8b4acb9a",
   "metadata": {},
   "outputs": [],
   "source": []
  }
 ],
 "metadata": {
  "kernelspec": {
   "display_name": "Python 3 (ipykernel)",
   "language": "python",
   "name": "python3"
  },
  "language_info": {
   "codemirror_mode": {
    "name": "ipython",
    "version": 3
   },
   "file_extension": ".py",
   "mimetype": "text/x-python",
   "name": "python",
   "nbconvert_exporter": "python",
   "pygments_lexer": "ipython3",
   "version": "3.11.5"
  }
 },
 "nbformat": 4,
 "nbformat_minor": 5
}
