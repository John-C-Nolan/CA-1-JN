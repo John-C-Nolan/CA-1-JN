{
 "cells": [
  {
   "cell_type": "code",
   "execution_count": 1,
   "metadata": {},
   "outputs": [],
   "source": [
    "# Import libraries\n",
    "import pandas as pd\n",
    "import numpy as np\n",
    "import pingouin as pg \n",
    "import seaborn as sns\n",
    "import matplotlib.pyplot as plt\n",
    "\n",
    "from matplotlib import pyplot\n",
    "from matplotlib.pyplot import figure\n",
    "\n",
    "from dash import Dash, dcc, html, Input, Output, callback\n",
    "import plotly.express as px\n",
    "import plotly.graph_objects as go\n",
    "\n",
    "\n",
    "from plotly.subplots import make_subplots\n",
    "import plotly.express as px\n",
    "import plotly.graph_objects as go\n",
    "\n",
    "import warnings\n",
    "warnings.filterwarnings('ignore') # Suppress warnings\n",
    "\n",
    "from IPython.core.interactiveshell import InteractiveShell\n",
    "InteractiveShell.ast_node_interactivity = \"all\"\n",
    "\n",
    "pd.set_option('display.max_columns', None)"
   ]
  },
  {
   "cell_type": "code",
   "execution_count": 2,
   "metadata": {},
   "outputs": [],
   "source": [
    "dairy_ag_df_PCA_kmeans = pd.read_csv('trained_models/dairy_ag_df_PCA_kmeans_results.csv')"
   ]
  },
  {
   "cell_type": "code",
   "execution_count": 3,
   "metadata": {},
   "outputs": [],
   "source": [
    "NUM_CLUSTERS = 3"
   ]
  },
  {
   "cell_type": "code",
   "execution_count": 4,
   "metadata": {},
   "outputs": [
    {
     "data": {
      "application/vnd.plotly.v1+json": {
       "config": {
        "plotlyServerURL": "https://plot.ly"
       },
       "data": [
        {
         "colorscale": [
          [
           0,
           "rgb(0, 147, 146)"
          ],
          [
           1,
           "rgb(0, 147, 146)"
          ]
         ],
         "geo": "geo",
         "hovertemplate": "<b>%{hovertext}</b><br><br>Predicated_Cluster_STR=2<br>Year=2004<br>country_code=%{location}<extra></extra>",
         "hovertext": [
          "Belgium",
          "Czechia",
          "Estonia",
          "Ireland",
          "Greece",
          "Spain",
          "France",
          "Italy",
          "Cyprus",
          "Latvia",
          "Lithuania",
          "Luxembourg",
          "Hungary",
          "Malta",
          "Austria",
          "Poland",
          "Portugal",
          "Slovenia",
          "Finland",
          "Sweden"
         ],
         "locations": [
          "BEL",
          "CZE",
          "EST",
          "IRL",
          "GRC",
          "ESP",
          "FRA",
          "ITA",
          "CYP",
          "LVA",
          "LTU",
          "LUX",
          "HUN",
          "MLT",
          "AUT",
          "POL",
          "PRT",
          "SVN",
          "FIN",
          "SWE"
         ],
         "name": "2",
         "showlegend": true,
         "showscale": false,
         "type": "choropleth",
         "z": [
          1,
          1,
          1,
          1,
          1,
          1,
          1,
          1,
          1,
          1,
          1,
          1,
          1,
          1,
          1,
          1,
          1,
          1,
          1,
          1
         ]
        },
        {
         "colorscale": [
          [
           0,
           "#EF553B"
          ],
          [
           1,
           "#EF553B"
          ]
         ],
         "geo": "geo",
         "hovertemplate": "<b>%{hovertext}</b><br><br>Predicated_Cluster_STR=0<br>Year=2004<br>country_code=%{location}<extra></extra>",
         "hovertext": [
          "Denmark",
          "Germany",
          "Netherlands"
         ],
         "locations": [
          "DNK",
          "DEU",
          null
         ],
         "name": "0",
         "showlegend": true,
         "showscale": false,
         "type": "choropleth",
         "z": [
          1,
          1,
          1
         ]
        },
        {
         "colorscale": [
          [
           0,
           "#00cc96"
          ],
          [
           1,
           "#00cc96"
          ]
         ],
         "geo": "geo",
         "hovertemplate": "<b>%{hovertext}</b><br><br>Predicated_Cluster_STR=1<br>Year=2004<br>country_code=%{location}<extra></extra>",
         "hovertext": [
          "Slovakia"
         ],
         "locations": [
          "SVK"
         ],
         "name": "1",
         "showlegend": true,
         "showscale": false,
         "type": "choropleth",
         "z": [
          1
         ]
        }
       ],
       "frames": [
        {
         "data": [
          {
           "colorscale": [
            [
             0,
             "rgb(0, 147, 146)"
            ],
            [
             1,
             "rgb(0, 147, 146)"
            ]
           ],
           "geo": "geo",
           "hovertemplate": "<b>%{hovertext}</b><br><br>Predicated_Cluster_STR=2<br>Year=2004<br>country_code=%{location}<extra></extra>",
           "hovertext": [
            "Belgium",
            "Czechia",
            "Estonia",
            "Ireland",
            "Greece",
            "Spain",
            "France",
            "Italy",
            "Cyprus",
            "Latvia",
            "Lithuania",
            "Luxembourg",
            "Hungary",
            "Malta",
            "Austria",
            "Poland",
            "Portugal",
            "Slovenia",
            "Finland",
            "Sweden"
           ],
           "locations": [
            "BEL",
            "CZE",
            "EST",
            "IRL",
            "GRC",
            "ESP",
            "FRA",
            "ITA",
            "CYP",
            "LVA",
            "LTU",
            "LUX",
            "HUN",
            "MLT",
            "AUT",
            "POL",
            "PRT",
            "SVN",
            "FIN",
            "SWE"
           ],
           "name": "2",
           "showlegend": true,
           "showscale": false,
           "type": "choropleth",
           "z": [
            1,
            1,
            1,
            1,
            1,
            1,
            1,
            1,
            1,
            1,
            1,
            1,
            1,
            1,
            1,
            1,
            1,
            1,
            1,
            1
           ]
          },
          {
           "colorscale": [
            [
             0,
             "#EF553B"
            ],
            [
             1,
             "#EF553B"
            ]
           ],
           "geo": "geo",
           "hovertemplate": "<b>%{hovertext}</b><br><br>Predicated_Cluster_STR=0<br>Year=2004<br>country_code=%{location}<extra></extra>",
           "hovertext": [
            "Denmark",
            "Germany",
            "Netherlands"
           ],
           "locations": [
            "DNK",
            "DEU",
            null
           ],
           "name": "0",
           "showlegend": true,
           "showscale": false,
           "type": "choropleth",
           "z": [
            1,
            1,
            1
           ]
          },
          {
           "colorscale": [
            [
             0,
             "#00cc96"
            ],
            [
             1,
             "#00cc96"
            ]
           ],
           "geo": "geo",
           "hovertemplate": "<b>%{hovertext}</b><br><br>Predicated_Cluster_STR=1<br>Year=2004<br>country_code=%{location}<extra></extra>",
           "hovertext": [
            "Slovakia"
           ],
           "locations": [
            "SVK"
           ],
           "name": "1",
           "showlegend": true,
           "showscale": false,
           "type": "choropleth",
           "z": [
            1
           ]
          }
         ],
         "name": "2004"
        },
        {
         "data": [
          {
           "colorscale": [
            [
             0,
             "rgb(0, 147, 146)"
            ],
            [
             1,
             "rgb(0, 147, 146)"
            ]
           ],
           "geo": "geo",
           "hovertemplate": "<b>%{hovertext}</b><br><br>Predicated_Cluster_STR=2<br>Year=2005<br>country_code=%{location}<extra></extra>",
           "hovertext": [
            "Belgium",
            "Czechia",
            "Estonia",
            "Ireland",
            "Greece",
            "Spain",
            "France",
            "Cyprus",
            "Latvia",
            "Lithuania",
            "Hungary",
            "Malta",
            "Austria",
            "Poland",
            "Portugal",
            "Slovenia",
            "Finland",
            "Sweden"
           ],
           "locations": [
            "BEL",
            "CZE",
            "EST",
            "IRL",
            "GRC",
            "ESP",
            "FRA",
            "CYP",
            "LVA",
            "LTU",
            "HUN",
            "MLT",
            "AUT",
            "POL",
            "PRT",
            "SVN",
            "FIN",
            "SWE"
           ],
           "name": "2",
           "showlegend": true,
           "showscale": false,
           "type": "choropleth",
           "z": [
            1,
            1,
            1,
            1,
            1,
            1,
            1,
            1,
            1,
            1,
            1,
            1,
            1,
            1,
            1,
            1,
            1,
            1
           ]
          },
          {
           "colorscale": [
            [
             0,
             "#EF553B"
            ],
            [
             1,
             "#EF553B"
            ]
           ],
           "geo": "geo",
           "hovertemplate": "<b>%{hovertext}</b><br><br>Predicated_Cluster_STR=0<br>Year=2005<br>country_code=%{location}<extra></extra>",
           "hovertext": [
            "Denmark",
            "Germany",
            "Italy",
            "Luxembourg",
            "Netherlands"
           ],
           "locations": [
            "DNK",
            "DEU",
            "ITA",
            "LUX",
            null
           ],
           "name": "0",
           "showlegend": true,
           "showscale": false,
           "type": "choropleth",
           "z": [
            1,
            1,
            1,
            1,
            1
           ]
          },
          {
           "colorscale": [
            [
             0,
             "#00cc96"
            ],
            [
             1,
             "#00cc96"
            ]
           ],
           "geo": "geo",
           "hovertemplate": "<b>%{hovertext}</b><br><br>Predicated_Cluster_STR=1<br>Year=2005<br>country_code=%{location}<extra></extra>",
           "hovertext": [
            "Slovakia"
           ],
           "locations": [
            "SVK"
           ],
           "name": "1",
           "showlegend": true,
           "showscale": false,
           "type": "choropleth",
           "z": [
            1
           ]
          }
         ],
         "name": "2005"
        },
        {
         "data": [
          {
           "colorscale": [
            [
             0,
             "rgb(0, 147, 146)"
            ],
            [
             1,
             "rgb(0, 147, 146)"
            ]
           ],
           "geo": "geo",
           "hovertemplate": "<b>%{hovertext}</b><br><br>Predicated_Cluster_STR=2<br>Year=2006<br>country_code=%{location}<extra></extra>",
           "hovertext": [
            "Belgium",
            "Estonia",
            "Ireland",
            "Greece",
            "Spain",
            "France",
            "Cyprus",
            "Latvia",
            "Lithuania",
            "Hungary",
            "Malta",
            "Austria",
            "Poland",
            "Portugal",
            "Slovenia",
            "Finland",
            "Sweden"
           ],
           "locations": [
            "BEL",
            "EST",
            "IRL",
            "GRC",
            "ESP",
            "FRA",
            "CYP",
            "LVA",
            "LTU",
            "HUN",
            "MLT",
            "AUT",
            "POL",
            "PRT",
            "SVN",
            "FIN",
            "SWE"
           ],
           "name": "2",
           "showlegend": true,
           "showscale": false,
           "type": "choropleth",
           "z": [
            1,
            1,
            1,
            1,
            1,
            1,
            1,
            1,
            1,
            1,
            1,
            1,
            1,
            1,
            1,
            1,
            1
           ]
          },
          {
           "colorscale": [
            [
             0,
             "#EF553B"
            ],
            [
             1,
             "#EF553B"
            ]
           ],
           "geo": "geo",
           "hovertemplate": "<b>%{hovertext}</b><br><br>Predicated_Cluster_STR=0<br>Year=2006<br>country_code=%{location}<extra></extra>",
           "hovertext": [
            "Czechia",
            "Denmark",
            "Germany",
            "Italy",
            "Luxembourg",
            "Netherlands"
           ],
           "locations": [
            "CZE",
            "DNK",
            "DEU",
            "ITA",
            "LUX",
            null
           ],
           "name": "0",
           "showlegend": true,
           "showscale": false,
           "type": "choropleth",
           "z": [
            1,
            1,
            1,
            1,
            1,
            1
           ]
          },
          {
           "colorscale": [
            [
             0,
             "#00cc96"
            ],
            [
             1,
             "#00cc96"
            ]
           ],
           "geo": "geo",
           "hovertemplate": "<b>%{hovertext}</b><br><br>Predicated_Cluster_STR=1<br>Year=2006<br>country_code=%{location}<extra></extra>",
           "hovertext": [
            "Slovakia"
           ],
           "locations": [
            "SVK"
           ],
           "name": "1",
           "showlegend": true,
           "showscale": false,
           "type": "choropleth",
           "z": [
            1
           ]
          }
         ],
         "name": "2006"
        },
        {
         "data": [
          {
           "colorscale": [
            [
             0,
             "rgb(0, 147, 146)"
            ],
            [
             1,
             "rgb(0, 147, 146)"
            ]
           ],
           "geo": "geo",
           "hovertemplate": "<b>%{hovertext}</b><br><br>Predicated_Cluster_STR=2<br>Year=2007<br>country_code=%{location}<extra></extra>",
           "hovertext": [
            "Belgium",
            "Bulgaria",
            "Estonia",
            "Greece",
            "Spain",
            "Italy",
            "Cyprus",
            "Latvia",
            "Lithuania",
            "Hungary",
            "Austria",
            "Poland",
            "Portugal",
            "Romania",
            "Slovenia",
            "Finland"
           ],
           "locations": [
            "BEL",
            "BGR",
            "EST",
            "GRC",
            "ESP",
            "ITA",
            "CYP",
            "LVA",
            "LTU",
            "HUN",
            "AUT",
            "POL",
            "PRT",
            "ROU",
            "SVN",
            "FIN"
           ],
           "name": "2",
           "showlegend": true,
           "showscale": false,
           "type": "choropleth",
           "z": [
            1,
            1,
            1,
            1,
            1,
            1,
            1,
            1,
            1,
            1,
            1,
            1,
            1,
            1,
            1,
            1
           ]
          },
          {
           "colorscale": [
            [
             0,
             "#EF553B"
            ],
            [
             1,
             "#EF553B"
            ]
           ],
           "geo": "geo",
           "hovertemplate": "<b>%{hovertext}</b><br><br>Predicated_Cluster_STR=0<br>Year=2007<br>country_code=%{location}<extra></extra>",
           "hovertext": [
            "Czechia",
            "Denmark",
            "Germany",
            "Ireland",
            "France",
            "Luxembourg",
            "Malta",
            "Netherlands",
            "Sweden"
           ],
           "locations": [
            "CZE",
            "DNK",
            "DEU",
            "IRL",
            "FRA",
            "LUX",
            "MLT",
            null,
            "SWE"
           ],
           "name": "0",
           "showlegend": true,
           "showscale": false,
           "type": "choropleth",
           "z": [
            1,
            1,
            1,
            1,
            1,
            1,
            1,
            1,
            1
           ]
          },
          {
           "colorscale": [
            [
             0,
             "#00cc96"
            ],
            [
             1,
             "#00cc96"
            ]
           ],
           "geo": "geo",
           "hovertemplate": "<b>%{hovertext}</b><br><br>Predicated_Cluster_STR=1<br>Year=2007<br>country_code=%{location}<extra></extra>",
           "hovertext": [
            "Slovakia"
           ],
           "locations": [
            "SVK"
           ],
           "name": "1",
           "showlegend": true,
           "showscale": false,
           "type": "choropleth",
           "z": [
            1
           ]
          }
         ],
         "name": "2007"
        },
        {
         "data": [
          {
           "colorscale": [
            [
             0,
             "rgb(0, 147, 146)"
            ],
            [
             1,
             "rgb(0, 147, 146)"
            ]
           ],
           "geo": "geo",
           "hovertemplate": "<b>%{hovertext}</b><br><br>Predicated_Cluster_STR=2<br>Year=2008<br>country_code=%{location}<extra></extra>",
           "hovertext": [
            "Belgium",
            "Bulgaria",
            "Estonia",
            "Greece",
            "Spain",
            "Italy",
            "Cyprus",
            "Latvia",
            "Lithuania",
            "Hungary",
            "Austria",
            "Poland",
            "Portugal",
            "Romania",
            "Slovenia",
            "Finland"
           ],
           "locations": [
            "BEL",
            "BGR",
            "EST",
            "GRC",
            "ESP",
            "ITA",
            "CYP",
            "LVA",
            "LTU",
            "HUN",
            "AUT",
            "POL",
            "PRT",
            "ROU",
            "SVN",
            "FIN"
           ],
           "name": "2",
           "showlegend": true,
           "showscale": false,
           "type": "choropleth",
           "z": [
            1,
            1,
            1,
            1,
            1,
            1,
            1,
            1,
            1,
            1,
            1,
            1,
            1,
            1,
            1,
            1
           ]
          },
          {
           "colorscale": [
            [
             0,
             "#EF553B"
            ],
            [
             1,
             "#EF553B"
            ]
           ],
           "geo": "geo",
           "hovertemplate": "<b>%{hovertext}</b><br><br>Predicated_Cluster_STR=0<br>Year=2008<br>country_code=%{location}<extra></extra>",
           "hovertext": [
            "Czechia",
            "Denmark",
            "Germany",
            "Ireland",
            "France",
            "Luxembourg",
            "Malta",
            "Netherlands",
            "Sweden"
           ],
           "locations": [
            "CZE",
            "DNK",
            "DEU",
            "IRL",
            "FRA",
            "LUX",
            "MLT",
            null,
            "SWE"
           ],
           "name": "0",
           "showlegend": true,
           "showscale": false,
           "type": "choropleth",
           "z": [
            1,
            1,
            1,
            1,
            1,
            1,
            1,
            1,
            1
           ]
          },
          {
           "colorscale": [
            [
             0,
             "#00cc96"
            ],
            [
             1,
             "#00cc96"
            ]
           ],
           "geo": "geo",
           "hovertemplate": "<b>%{hovertext}</b><br><br>Predicated_Cluster_STR=1<br>Year=2008<br>country_code=%{location}<extra></extra>",
           "hovertext": [
            "Slovakia"
           ],
           "locations": [
            "SVK"
           ],
           "name": "1",
           "showlegend": true,
           "showscale": false,
           "type": "choropleth",
           "z": [
            1
           ]
          }
         ],
         "name": "2008"
        },
        {
         "data": [
          {
           "colorscale": [
            [
             0,
             "rgb(0, 147, 146)"
            ],
            [
             1,
             "rgb(0, 147, 146)"
            ]
           ],
           "geo": "geo",
           "hovertemplate": "<b>%{hovertext}</b><br><br>Predicated_Cluster_STR=2<br>Year=2009<br>country_code=%{location}<extra></extra>",
           "hovertext": [
            "Belgium",
            "Bulgaria",
            "Estonia",
            "Ireland",
            "Greece",
            "Spain",
            "Italy",
            "Cyprus",
            "Latvia",
            "Lithuania",
            "Hungary",
            "Malta",
            "Austria",
            "Poland",
            "Portugal",
            "Romania",
            "Slovenia",
            "Finland"
           ],
           "locations": [
            "BEL",
            "BGR",
            "EST",
            "IRL",
            "GRC",
            "ESP",
            "ITA",
            "CYP",
            "LVA",
            "LTU",
            "HUN",
            "MLT",
            "AUT",
            "POL",
            "PRT",
            "ROU",
            "SVN",
            "FIN"
           ],
           "name": "2",
           "showlegend": true,
           "showscale": false,
           "type": "choropleth",
           "z": [
            1,
            1,
            1,
            1,
            1,
            1,
            1,
            1,
            1,
            1,
            1,
            1,
            1,
            1,
            1,
            1,
            1,
            1
           ]
          },
          {
           "colorscale": [
            [
             0,
             "#EF553B"
            ],
            [
             1,
             "#EF553B"
            ]
           ],
           "geo": "geo",
           "hovertemplate": "<b>%{hovertext}</b><br><br>Predicated_Cluster_STR=0<br>Year=2009<br>country_code=%{location}<extra></extra>",
           "hovertext": [
            "Czechia",
            "Germany",
            "France",
            "Luxembourg",
            "Netherlands",
            "Sweden"
           ],
           "locations": [
            "CZE",
            "DEU",
            "FRA",
            "LUX",
            null,
            "SWE"
           ],
           "name": "0",
           "showlegend": true,
           "showscale": false,
           "type": "choropleth",
           "z": [
            1,
            1,
            1,
            1,
            1,
            1
           ]
          },
          {
           "colorscale": [
            [
             0,
             "#00cc96"
            ],
            [
             1,
             "#00cc96"
            ]
           ],
           "geo": "geo",
           "hovertemplate": "<b>%{hovertext}</b><br><br>Predicated_Cluster_STR=1<br>Year=2009<br>country_code=%{location}<extra></extra>",
           "hovertext": [
            "Denmark",
            "Slovakia"
           ],
           "locations": [
            "DNK",
            "SVK"
           ],
           "name": "1",
           "showlegend": true,
           "showscale": false,
           "type": "choropleth",
           "z": [
            1,
            1
           ]
          }
         ],
         "name": "2009"
        },
        {
         "data": [
          {
           "colorscale": [
            [
             0,
             "rgb(0, 147, 146)"
            ],
            [
             1,
             "rgb(0, 147, 146)"
            ]
           ],
           "geo": "geo",
           "hovertemplate": "<b>%{hovertext}</b><br><br>Predicated_Cluster_STR=2<br>Year=2010<br>country_code=%{location}<extra></extra>",
           "hovertext": [
            "Belgium",
            "Bulgaria",
            "Estonia",
            "Greece",
            "Spain",
            "Italy",
            "Cyprus",
            "Latvia",
            "Lithuania",
            "Hungary",
            "Austria",
            "Poland",
            "Portugal",
            "Romania",
            "Slovenia",
            "Finland"
           ],
           "locations": [
            "BEL",
            "BGR",
            "EST",
            "GRC",
            "ESP",
            "ITA",
            "CYP",
            "LVA",
            "LTU",
            "HUN",
            "AUT",
            "POL",
            "PRT",
            "ROU",
            "SVN",
            "FIN"
           ],
           "name": "2",
           "showlegend": true,
           "showscale": false,
           "type": "choropleth",
           "z": [
            1,
            1,
            1,
            1,
            1,
            1,
            1,
            1,
            1,
            1,
            1,
            1,
            1,
            1,
            1,
            1
           ]
          },
          {
           "colorscale": [
            [
             0,
             "#EF553B"
            ],
            [
             1,
             "#EF553B"
            ]
           ],
           "geo": "geo",
           "hovertemplate": "<b>%{hovertext}</b><br><br>Predicated_Cluster_STR=0<br>Year=2010<br>country_code=%{location}<extra></extra>",
           "hovertext": [
            "Czechia",
            "Germany",
            "Ireland",
            "France",
            "Luxembourg",
            "Malta",
            "Netherlands",
            "Sweden"
           ],
           "locations": [
            "CZE",
            "DEU",
            "IRL",
            "FRA",
            "LUX",
            "MLT",
            null,
            "SWE"
           ],
           "name": "0",
           "showlegend": true,
           "showscale": false,
           "type": "choropleth",
           "z": [
            1,
            1,
            1,
            1,
            1,
            1,
            1,
            1
           ]
          },
          {
           "colorscale": [
            [
             0,
             "#00cc96"
            ],
            [
             1,
             "#00cc96"
            ]
           ],
           "geo": "geo",
           "hovertemplate": "<b>%{hovertext}</b><br><br>Predicated_Cluster_STR=1<br>Year=2010<br>country_code=%{location}<extra></extra>",
           "hovertext": [
            "Denmark",
            "Slovakia"
           ],
           "locations": [
            "DNK",
            "SVK"
           ],
           "name": "1",
           "showlegend": true,
           "showscale": false,
           "type": "choropleth",
           "z": [
            1,
            1
           ]
          }
         ],
         "name": "2010"
        },
        {
         "data": [
          {
           "colorscale": [
            [
             0,
             "rgb(0, 147, 146)"
            ],
            [
             1,
             "rgb(0, 147, 146)"
            ]
           ],
           "geo": "geo",
           "hovertemplate": "<b>%{hovertext}</b><br><br>Predicated_Cluster_STR=2<br>Year=2011<br>country_code=%{location}<extra></extra>",
           "hovertext": [
            "Belgium",
            "Bulgaria",
            "Estonia",
            "Greece",
            "Spain",
            "Cyprus",
            "Latvia",
            "Lithuania",
            "Hungary",
            "Austria",
            "Poland",
            "Portugal",
            "Romania",
            "Slovenia",
            "Finland"
           ],
           "locations": [
            "BEL",
            "BGR",
            "EST",
            "GRC",
            "ESP",
            "CYP",
            "LVA",
            "LTU",
            "HUN",
            "AUT",
            "POL",
            "PRT",
            "ROU",
            "SVN",
            "FIN"
           ],
           "name": "2",
           "showlegend": true,
           "showscale": false,
           "type": "choropleth",
           "z": [
            1,
            1,
            1,
            1,
            1,
            1,
            1,
            1,
            1,
            1,
            1,
            1,
            1,
            1,
            1
           ]
          },
          {
           "colorscale": [
            [
             0,
             "#EF553B"
            ],
            [
             1,
             "#EF553B"
            ]
           ],
           "geo": "geo",
           "hovertemplate": "<b>%{hovertext}</b><br><br>Predicated_Cluster_STR=0<br>Year=2011<br>country_code=%{location}<extra></extra>",
           "hovertext": [
            "Czechia",
            "Germany",
            "Ireland",
            "France",
            "Italy",
            "Luxembourg",
            "Malta",
            "Netherlands",
            "Sweden"
           ],
           "locations": [
            "CZE",
            "DEU",
            "IRL",
            "FRA",
            "ITA",
            "LUX",
            "MLT",
            null,
            "SWE"
           ],
           "name": "0",
           "showlegend": true,
           "showscale": false,
           "type": "choropleth",
           "z": [
            1,
            1,
            1,
            1,
            1,
            1,
            1,
            1,
            1
           ]
          },
          {
           "colorscale": [
            [
             0,
             "#00cc96"
            ],
            [
             1,
             "#00cc96"
            ]
           ],
           "geo": "geo",
           "hovertemplate": "<b>%{hovertext}</b><br><br>Predicated_Cluster_STR=1<br>Year=2011<br>country_code=%{location}<extra></extra>",
           "hovertext": [
            "Denmark",
            "Slovakia"
           ],
           "locations": [
            "DNK",
            "SVK"
           ],
           "name": "1",
           "showlegend": true,
           "showscale": false,
           "type": "choropleth",
           "z": [
            1,
            1
           ]
          }
         ],
         "name": "2011"
        },
        {
         "data": [
          {
           "colorscale": [
            [
             0,
             "rgb(0, 147, 146)"
            ],
            [
             1,
             "rgb(0, 147, 146)"
            ]
           ],
           "geo": "geo",
           "hovertemplate": "<b>%{hovertext}</b><br><br>Predicated_Cluster_STR=2<br>Year=2012<br>country_code=%{location}<extra></extra>",
           "hovertext": [
            "Belgium",
            "Bulgaria",
            "Greece",
            "Spain",
            "Cyprus",
            "Latvia",
            "Lithuania",
            "Hungary",
            "Austria",
            "Poland",
            "Portugal",
            "Romania",
            "Slovenia"
           ],
           "locations": [
            "BEL",
            "BGR",
            "GRC",
            "ESP",
            "CYP",
            "LVA",
            "LTU",
            "HUN",
            "AUT",
            "POL",
            "PRT",
            "ROU",
            "SVN"
           ],
           "name": "2",
           "showlegend": true,
           "showscale": false,
           "type": "choropleth",
           "z": [
            1,
            1,
            1,
            1,
            1,
            1,
            1,
            1,
            1,
            1,
            1,
            1,
            1
           ]
          },
          {
           "colorscale": [
            [
             0,
             "#EF553B"
            ],
            [
             1,
             "#EF553B"
            ]
           ],
           "geo": "geo",
           "hovertemplate": "<b>%{hovertext}</b><br><br>Predicated_Cluster_STR=0<br>Year=2012<br>country_code=%{location}<extra></extra>",
           "hovertext": [
            "Czechia",
            "Germany",
            "Estonia",
            "Ireland",
            "France",
            "Italy",
            "Luxembourg",
            "Malta",
            "Netherlands",
            "Finland",
            "Sweden"
           ],
           "locations": [
            "CZE",
            "DEU",
            "EST",
            "IRL",
            "FRA",
            "ITA",
            "LUX",
            "MLT",
            null,
            "FIN",
            "SWE"
           ],
           "name": "0",
           "showlegend": true,
           "showscale": false,
           "type": "choropleth",
           "z": [
            1,
            1,
            1,
            1,
            1,
            1,
            1,
            1,
            1,
            1,
            1
           ]
          },
          {
           "colorscale": [
            [
             0,
             "#00cc96"
            ],
            [
             1,
             "#00cc96"
            ]
           ],
           "geo": "geo",
           "hovertemplate": "<b>%{hovertext}</b><br><br>Predicated_Cluster_STR=1<br>Year=2012<br>country_code=%{location}<extra></extra>",
           "hovertext": [
            "Denmark",
            "Slovakia"
           ],
           "locations": [
            "DNK",
            "SVK"
           ],
           "name": "1",
           "showlegend": true,
           "showscale": false,
           "type": "choropleth",
           "z": [
            1,
            1
           ]
          }
         ],
         "name": "2012"
        },
        {
         "data": [
          {
           "colorscale": [
            [
             0,
             "rgb(0, 147, 146)"
            ],
            [
             1,
             "rgb(0, 147, 146)"
            ]
           ],
           "geo": "geo",
           "hovertemplate": "<b>%{hovertext}</b><br><br>Predicated_Cluster_STR=2<br>Year=2013<br>country_code=%{location}<extra></extra>",
           "hovertext": [
            "Bulgaria",
            "Greece",
            "Spain",
            "Croatia",
            "Cyprus",
            "Latvia",
            "Lithuania",
            "Hungary",
            "Austria",
            "Poland",
            "Portugal",
            "Romania",
            "Slovenia"
           ],
           "locations": [
            "BGR",
            "GRC",
            "ESP",
            "HRV",
            "CYP",
            "LVA",
            "LTU",
            "HUN",
            "AUT",
            "POL",
            "PRT",
            "ROU",
            "SVN"
           ],
           "name": "2",
           "showlegend": true,
           "showscale": false,
           "type": "choropleth",
           "z": [
            1,
            1,
            1,
            1,
            1,
            1,
            1,
            1,
            1,
            1,
            1,
            1,
            1
           ]
          },
          {
           "colorscale": [
            [
             0,
             "#EF553B"
            ],
            [
             1,
             "#EF553B"
            ]
           ],
           "geo": "geo",
           "hovertemplate": "<b>%{hovertext}</b><br><br>Predicated_Cluster_STR=0<br>Year=2013<br>country_code=%{location}<extra></extra>",
           "hovertext": [
            "Belgium",
            "Czechia",
            "Germany",
            "Estonia",
            "Ireland",
            "France",
            "Italy",
            "Luxembourg",
            "Malta",
            "Netherlands",
            "Finland",
            "Sweden"
           ],
           "locations": [
            "BEL",
            "CZE",
            "DEU",
            "EST",
            "IRL",
            "FRA",
            "ITA",
            "LUX",
            "MLT",
            null,
            "FIN",
            "SWE"
           ],
           "name": "0",
           "showlegend": true,
           "showscale": false,
           "type": "choropleth",
           "z": [
            1,
            1,
            1,
            1,
            1,
            1,
            1,
            1,
            1,
            1,
            1,
            1
           ]
          },
          {
           "colorscale": [
            [
             0,
             "#00cc96"
            ],
            [
             1,
             "#00cc96"
            ]
           ],
           "geo": "geo",
           "hovertemplate": "<b>%{hovertext}</b><br><br>Predicated_Cluster_STR=1<br>Year=2013<br>country_code=%{location}<extra></extra>",
           "hovertext": [
            "Denmark",
            "Slovakia"
           ],
           "locations": [
            "DNK",
            "SVK"
           ],
           "name": "1",
           "showlegend": true,
           "showscale": false,
           "type": "choropleth",
           "z": [
            1,
            1
           ]
          }
         ],
         "name": "2013"
        },
        {
         "data": [
          {
           "colorscale": [
            [
             0,
             "rgb(0, 147, 146)"
            ],
            [
             1,
             "rgb(0, 147, 146)"
            ]
           ],
           "geo": "geo",
           "hovertemplate": "<b>%{hovertext}</b><br><br>Predicated_Cluster_STR=2<br>Year=2014<br>country_code=%{location}<extra></extra>",
           "hovertext": [
            "Bulgaria",
            "Greece",
            "Spain",
            "Croatia",
            "Cyprus",
            "Latvia",
            "Lithuania",
            "Hungary",
            "Austria",
            "Poland",
            "Portugal",
            "Romania",
            "Slovenia"
           ],
           "locations": [
            "BGR",
            "GRC",
            "ESP",
            "HRV",
            "CYP",
            "LVA",
            "LTU",
            "HUN",
            "AUT",
            "POL",
            "PRT",
            "ROU",
            "SVN"
           ],
           "name": "2",
           "showlegend": true,
           "showscale": false,
           "type": "choropleth",
           "z": [
            1,
            1,
            1,
            1,
            1,
            1,
            1,
            1,
            1,
            1,
            1,
            1,
            1
           ]
          },
          {
           "colorscale": [
            [
             0,
             "#EF553B"
            ],
            [
             1,
             "#EF553B"
            ]
           ],
           "geo": "geo",
           "hovertemplate": "<b>%{hovertext}</b><br><br>Predicated_Cluster_STR=0<br>Year=2014<br>country_code=%{location}<extra></extra>",
           "hovertext": [
            "Belgium",
            "Czechia",
            "Germany",
            "Estonia",
            "Ireland",
            "France",
            "Italy",
            "Luxembourg",
            "Malta",
            "Netherlands",
            "Finland",
            "Sweden"
           ],
           "locations": [
            "BEL",
            "CZE",
            "DEU",
            "EST",
            "IRL",
            "FRA",
            "ITA",
            "LUX",
            "MLT",
            null,
            "FIN",
            "SWE"
           ],
           "name": "0",
           "showlegend": true,
           "showscale": false,
           "type": "choropleth",
           "z": [
            1,
            1,
            1,
            1,
            1,
            1,
            1,
            1,
            1,
            1,
            1,
            1
           ]
          },
          {
           "colorscale": [
            [
             0,
             "#00cc96"
            ],
            [
             1,
             "#00cc96"
            ]
           ],
           "geo": "geo",
           "hovertemplate": "<b>%{hovertext}</b><br><br>Predicated_Cluster_STR=1<br>Year=2014<br>country_code=%{location}<extra></extra>",
           "hovertext": [
            "Denmark",
            "Slovakia"
           ],
           "locations": [
            "DNK",
            "SVK"
           ],
           "name": "1",
           "showlegend": true,
           "showscale": false,
           "type": "choropleth",
           "z": [
            1,
            1
           ]
          }
         ],
         "name": "2014"
        },
        {
         "data": [
          {
           "colorscale": [
            [
             0,
             "rgb(0, 147, 146)"
            ],
            [
             1,
             "rgb(0, 147, 146)"
            ]
           ],
           "geo": "geo",
           "hovertemplate": "<b>%{hovertext}</b><br><br>Predicated_Cluster_STR=2<br>Year=2015<br>country_code=%{location}<extra></extra>",
           "hovertext": [
            "Bulgaria",
            "Greece",
            "Spain",
            "Croatia",
            "Cyprus",
            "Latvia",
            "Lithuania",
            "Hungary",
            "Austria",
            "Poland",
            "Portugal",
            "Romania",
            "Slovenia"
           ],
           "locations": [
            "BGR",
            "GRC",
            "ESP",
            "HRV",
            "CYP",
            "LVA",
            "LTU",
            "HUN",
            "AUT",
            "POL",
            "PRT",
            "ROU",
            "SVN"
           ],
           "name": "2",
           "showlegend": true,
           "showscale": false,
           "type": "choropleth",
           "z": [
            1,
            1,
            1,
            1,
            1,
            1,
            1,
            1,
            1,
            1,
            1,
            1,
            1
           ]
          },
          {
           "colorscale": [
            [
             0,
             "#EF553B"
            ],
            [
             1,
             "#EF553B"
            ]
           ],
           "geo": "geo",
           "hovertemplate": "<b>%{hovertext}</b><br><br>Predicated_Cluster_STR=0<br>Year=2015<br>country_code=%{location}<extra></extra>",
           "hovertext": [
            "Belgium",
            "Germany",
            "Estonia",
            "Ireland",
            "France",
            "Italy",
            "Luxembourg",
            "Malta",
            "Netherlands",
            "Finland",
            "Sweden"
           ],
           "locations": [
            "BEL",
            "DEU",
            "EST",
            "IRL",
            "FRA",
            "ITA",
            "LUX",
            "MLT",
            null,
            "FIN",
            "SWE"
           ],
           "name": "0",
           "showlegend": true,
           "showscale": false,
           "type": "choropleth",
           "z": [
            1,
            1,
            1,
            1,
            1,
            1,
            1,
            1,
            1,
            1,
            1
           ]
          },
          {
           "colorscale": [
            [
             0,
             "#00cc96"
            ],
            [
             1,
             "#00cc96"
            ]
           ],
           "geo": "geo",
           "hovertemplate": "<b>%{hovertext}</b><br><br>Predicated_Cluster_STR=1<br>Year=2015<br>country_code=%{location}<extra></extra>",
           "hovertext": [
            "Czechia",
            "Denmark",
            "Slovakia"
           ],
           "locations": [
            "CZE",
            "DNK",
            "SVK"
           ],
           "name": "1",
           "showlegend": true,
           "showscale": false,
           "type": "choropleth",
           "z": [
            1,
            1,
            1
           ]
          }
         ],
         "name": "2015"
        },
        {
         "data": [
          {
           "colorscale": [
            [
             0,
             "rgb(0, 147, 146)"
            ],
            [
             1,
             "rgb(0, 147, 146)"
            ]
           ],
           "geo": "geo",
           "hovertemplate": "<b>%{hovertext}</b><br><br>Predicated_Cluster_STR=2<br>Year=2016<br>country_code=%{location}<extra></extra>",
           "hovertext": [
            "Bulgaria",
            "Greece",
            "Spain",
            "Croatia",
            "Cyprus",
            "Latvia",
            "Lithuania",
            "Hungary",
            "Austria",
            "Poland",
            "Portugal",
            "Romania",
            "Slovenia"
           ],
           "locations": [
            "BGR",
            "GRC",
            "ESP",
            "HRV",
            "CYP",
            "LVA",
            "LTU",
            "HUN",
            "AUT",
            "POL",
            "PRT",
            "ROU",
            "SVN"
           ],
           "name": "2",
           "showlegend": true,
           "showscale": false,
           "type": "choropleth",
           "z": [
            1,
            1,
            1,
            1,
            1,
            1,
            1,
            1,
            1,
            1,
            1,
            1,
            1
           ]
          },
          {
           "colorscale": [
            [
             0,
             "#EF553B"
            ],
            [
             1,
             "#EF553B"
            ]
           ],
           "geo": "geo",
           "hovertemplate": "<b>%{hovertext}</b><br><br>Predicated_Cluster_STR=0<br>Year=2016<br>country_code=%{location}<extra></extra>",
           "hovertext": [
            "Belgium",
            "Germany",
            "Estonia",
            "Ireland",
            "France",
            "Italy",
            "Luxembourg",
            "Malta",
            "Netherlands",
            "Finland",
            "Sweden"
           ],
           "locations": [
            "BEL",
            "DEU",
            "EST",
            "IRL",
            "FRA",
            "ITA",
            "LUX",
            "MLT",
            null,
            "FIN",
            "SWE"
           ],
           "name": "0",
           "showlegend": true,
           "showscale": false,
           "type": "choropleth",
           "z": [
            1,
            1,
            1,
            1,
            1,
            1,
            1,
            1,
            1,
            1,
            1
           ]
          },
          {
           "colorscale": [
            [
             0,
             "#00cc96"
            ],
            [
             1,
             "#00cc96"
            ]
           ],
           "geo": "geo",
           "hovertemplate": "<b>%{hovertext}</b><br><br>Predicated_Cluster_STR=1<br>Year=2016<br>country_code=%{location}<extra></extra>",
           "hovertext": [
            "Czechia",
            "Denmark",
            "Slovakia"
           ],
           "locations": [
            "CZE",
            "DNK",
            "SVK"
           ],
           "name": "1",
           "showlegend": true,
           "showscale": false,
           "type": "choropleth",
           "z": [
            1,
            1,
            1
           ]
          }
         ],
         "name": "2016"
        },
        {
         "data": [
          {
           "colorscale": [
            [
             0,
             "rgb(0, 147, 146)"
            ],
            [
             1,
             "rgb(0, 147, 146)"
            ]
           ],
           "geo": "geo",
           "hovertemplate": "<b>%{hovertext}</b><br><br>Predicated_Cluster_STR=2<br>Year=2017<br>country_code=%{location}<extra></extra>",
           "hovertext": [
            "Bulgaria",
            "Greece",
            "Spain",
            "Croatia",
            "Cyprus",
            "Latvia",
            "Lithuania",
            "Hungary",
            "Austria",
            "Poland",
            "Portugal",
            "Romania",
            "Slovenia"
           ],
           "locations": [
            "BGR",
            "GRC",
            "ESP",
            "HRV",
            "CYP",
            "LVA",
            "LTU",
            "HUN",
            "AUT",
            "POL",
            "PRT",
            "ROU",
            "SVN"
           ],
           "name": "2",
           "showlegend": true,
           "showscale": false,
           "type": "choropleth",
           "z": [
            1,
            1,
            1,
            1,
            1,
            1,
            1,
            1,
            1,
            1,
            1,
            1,
            1
           ]
          },
          {
           "colorscale": [
            [
             0,
             "#EF553B"
            ],
            [
             1,
             "#EF553B"
            ]
           ],
           "geo": "geo",
           "hovertemplate": "<b>%{hovertext}</b><br><br>Predicated_Cluster_STR=0<br>Year=2017<br>country_code=%{location}<extra></extra>",
           "hovertext": [
            "Belgium",
            "Germany",
            "Estonia",
            "Ireland",
            "France",
            "Italy",
            "Luxembourg",
            "Malta",
            "Netherlands",
            "Finland",
            "Sweden"
           ],
           "locations": [
            "BEL",
            "DEU",
            "EST",
            "IRL",
            "FRA",
            "ITA",
            "LUX",
            "MLT",
            null,
            "FIN",
            "SWE"
           ],
           "name": "0",
           "showlegend": true,
           "showscale": false,
           "type": "choropleth",
           "z": [
            1,
            1,
            1,
            1,
            1,
            1,
            1,
            1,
            1,
            1,
            1
           ]
          },
          {
           "colorscale": [
            [
             0,
             "#00cc96"
            ],
            [
             1,
             "#00cc96"
            ]
           ],
           "geo": "geo",
           "hovertemplate": "<b>%{hovertext}</b><br><br>Predicated_Cluster_STR=1<br>Year=2017<br>country_code=%{location}<extra></extra>",
           "hovertext": [
            "Czechia",
            "Denmark",
            "Slovakia"
           ],
           "locations": [
            "CZE",
            "DNK",
            "SVK"
           ],
           "name": "1",
           "showlegend": true,
           "showscale": false,
           "type": "choropleth",
           "z": [
            1,
            1,
            1
           ]
          }
         ],
         "name": "2017"
        },
        {
         "data": [
          {
           "colorscale": [
            [
             0,
             "rgb(0, 147, 146)"
            ],
            [
             1,
             "rgb(0, 147, 146)"
            ]
           ],
           "geo": "geo",
           "hovertemplate": "<b>%{hovertext}</b><br><br>Predicated_Cluster_STR=2<br>Year=2018<br>country_code=%{location}<extra></extra>",
           "hovertext": [
            "Bulgaria",
            "Greece",
            "Croatia",
            "Cyprus",
            "Latvia",
            "Lithuania",
            "Austria",
            "Poland",
            "Portugal",
            "Romania",
            "Slovenia"
           ],
           "locations": [
            "BGR",
            "GRC",
            "HRV",
            "CYP",
            "LVA",
            "LTU",
            "AUT",
            "POL",
            "PRT",
            "ROU",
            "SVN"
           ],
           "name": "2",
           "showlegend": true,
           "showscale": false,
           "type": "choropleth",
           "z": [
            1,
            1,
            1,
            1,
            1,
            1,
            1,
            1,
            1,
            1,
            1
           ]
          },
          {
           "colorscale": [
            [
             0,
             "#EF553B"
            ],
            [
             1,
             "#EF553B"
            ]
           ],
           "geo": "geo",
           "hovertemplate": "<b>%{hovertext}</b><br><br>Predicated_Cluster_STR=0<br>Year=2018<br>country_code=%{location}<extra></extra>",
           "hovertext": [
            "Belgium",
            "Germany",
            "Ireland",
            "Spain",
            "France",
            "Italy",
            "Luxembourg",
            "Hungary",
            "Malta",
            "Netherlands",
            "Finland",
            "Sweden"
           ],
           "locations": [
            "BEL",
            "DEU",
            "IRL",
            "ESP",
            "FRA",
            "ITA",
            "LUX",
            "HUN",
            "MLT",
            null,
            "FIN",
            "SWE"
           ],
           "name": "0",
           "showlegend": true,
           "showscale": false,
           "type": "choropleth",
           "z": [
            1,
            1,
            1,
            1,
            1,
            1,
            1,
            1,
            1,
            1,
            1,
            1
           ]
          },
          {
           "colorscale": [
            [
             0,
             "#00cc96"
            ],
            [
             1,
             "#00cc96"
            ]
           ],
           "geo": "geo",
           "hovertemplate": "<b>%{hovertext}</b><br><br>Predicated_Cluster_STR=1<br>Year=2018<br>country_code=%{location}<extra></extra>",
           "hovertext": [
            "Czechia",
            "Denmark",
            "Estonia",
            "Slovakia"
           ],
           "locations": [
            "CZE",
            "DNK",
            "EST",
            "SVK"
           ],
           "name": "1",
           "showlegend": true,
           "showscale": false,
           "type": "choropleth",
           "z": [
            1,
            1,
            1,
            1
           ]
          }
         ],
         "name": "2018"
        },
        {
         "data": [
          {
           "colorscale": [
            [
             0,
             "rgb(0, 147, 146)"
            ],
            [
             1,
             "rgb(0, 147, 146)"
            ]
           ],
           "geo": "geo",
           "hovertemplate": "<b>%{hovertext}</b><br><br>Predicated_Cluster_STR=2<br>Year=2019<br>country_code=%{location}<extra></extra>",
           "hovertext": [
            "Bulgaria",
            "Greece",
            "Croatia",
            "Cyprus",
            "Latvia",
            "Lithuania",
            "Austria",
            "Poland",
            "Portugal",
            "Romania",
            "Slovenia"
           ],
           "locations": [
            "BGR",
            "GRC",
            "HRV",
            "CYP",
            "LVA",
            "LTU",
            "AUT",
            "POL",
            "PRT",
            "ROU",
            "SVN"
           ],
           "name": "2",
           "showlegend": true,
           "showscale": false,
           "type": "choropleth",
           "z": [
            1,
            1,
            1,
            1,
            1,
            1,
            1,
            1,
            1,
            1,
            1
           ]
          },
          {
           "colorscale": [
            [
             0,
             "#EF553B"
            ],
            [
             1,
             "#EF553B"
            ]
           ],
           "geo": "geo",
           "hovertemplate": "<b>%{hovertext}</b><br><br>Predicated_Cluster_STR=0<br>Year=2019<br>country_code=%{location}<extra></extra>",
           "hovertext": [
            "Belgium",
            "Germany",
            "Ireland",
            "Spain",
            "France",
            "Italy",
            "Luxembourg",
            "Hungary",
            "Malta",
            "Netherlands",
            "Finland",
            "Sweden"
           ],
           "locations": [
            "BEL",
            "DEU",
            "IRL",
            "ESP",
            "FRA",
            "ITA",
            "LUX",
            "HUN",
            "MLT",
            null,
            "FIN",
            "SWE"
           ],
           "name": "0",
           "showlegend": true,
           "showscale": false,
           "type": "choropleth",
           "z": [
            1,
            1,
            1,
            1,
            1,
            1,
            1,
            1,
            1,
            1,
            1,
            1
           ]
          },
          {
           "colorscale": [
            [
             0,
             "#00cc96"
            ],
            [
             1,
             "#00cc96"
            ]
           ],
           "geo": "geo",
           "hovertemplate": "<b>%{hovertext}</b><br><br>Predicated_Cluster_STR=1<br>Year=2019<br>country_code=%{location}<extra></extra>",
           "hovertext": [
            "Czechia",
            "Denmark",
            "Estonia",
            "Slovakia"
           ],
           "locations": [
            "CZE",
            "DNK",
            "EST",
            "SVK"
           ],
           "name": "1",
           "showlegend": true,
           "showscale": false,
           "type": "choropleth",
           "z": [
            1,
            1,
            1,
            1
           ]
          }
         ],
         "name": "2019"
        },
        {
         "data": [
          {
           "colorscale": [
            [
             0,
             "rgb(0, 147, 146)"
            ],
            [
             1,
             "rgb(0, 147, 146)"
            ]
           ],
           "geo": "geo",
           "hovertemplate": "<b>%{hovertext}</b><br><br>Predicated_Cluster_STR=2<br>Year=2020<br>country_code=%{location}<extra></extra>",
           "hovertext": [
            "Bulgaria",
            "Greece",
            "Croatia",
            "Cyprus",
            "Latvia",
            "Lithuania",
            "Austria",
            "Poland",
            "Portugal",
            "Romania",
            "Slovenia"
           ],
           "locations": [
            "BGR",
            "GRC",
            "HRV",
            "CYP",
            "LVA",
            "LTU",
            "AUT",
            "POL",
            "PRT",
            "ROU",
            "SVN"
           ],
           "name": "2",
           "showlegend": true,
           "showscale": false,
           "type": "choropleth",
           "z": [
            1,
            1,
            1,
            1,
            1,
            1,
            1,
            1,
            1,
            1,
            1
           ]
          },
          {
           "colorscale": [
            [
             0,
             "#EF553B"
            ],
            [
             1,
             "#EF553B"
            ]
           ],
           "geo": "geo",
           "hovertemplate": "<b>%{hovertext}</b><br><br>Predicated_Cluster_STR=0<br>Year=2020<br>country_code=%{location}<extra></extra>",
           "hovertext": [
            "Belgium",
            "Germany",
            "Ireland",
            "Spain",
            "France",
            "Italy",
            "Luxembourg",
            "Hungary",
            "Malta",
            "Netherlands",
            "Finland",
            "Sweden"
           ],
           "locations": [
            "BEL",
            "DEU",
            "IRL",
            "ESP",
            "FRA",
            "ITA",
            "LUX",
            "HUN",
            "MLT",
            null,
            "FIN",
            "SWE"
           ],
           "name": "0",
           "showlegend": true,
           "showscale": false,
           "type": "choropleth",
           "z": [
            1,
            1,
            1,
            1,
            1,
            1,
            1,
            1,
            1,
            1,
            1,
            1
           ]
          },
          {
           "colorscale": [
            [
             0,
             "#00cc96"
            ],
            [
             1,
             "#00cc96"
            ]
           ],
           "geo": "geo",
           "hovertemplate": "<b>%{hovertext}</b><br><br>Predicated_Cluster_STR=1<br>Year=2020<br>country_code=%{location}<extra></extra>",
           "hovertext": [
            "Czechia",
            "Denmark",
            "Estonia",
            "Slovakia"
           ],
           "locations": [
            "CZE",
            "DNK",
            "EST",
            "SVK"
           ],
           "name": "1",
           "showlegend": true,
           "showscale": false,
           "type": "choropleth",
           "z": [
            1,
            1,
            1,
            1
           ]
          }
         ],
         "name": "2020"
        },
        {
         "data": [
          {
           "colorscale": [
            [
             0,
             "rgb(0, 147, 146)"
            ],
            [
             1,
             "rgb(0, 147, 146)"
            ]
           ],
           "geo": "geo",
           "hovertemplate": "<b>%{hovertext}</b><br><br>Predicated_Cluster_STR=2<br>Year=2021<br>country_code=%{location}<extra></extra>",
           "hovertext": [
            "Bulgaria",
            "Greece",
            "Croatia",
            "Cyprus",
            "Latvia",
            "Lithuania",
            "Austria",
            "Poland",
            "Portugal",
            "Romania",
            "Slovenia"
           ],
           "locations": [
            "BGR",
            "GRC",
            "HRV",
            "CYP",
            "LVA",
            "LTU",
            "AUT",
            "POL",
            "PRT",
            "ROU",
            "SVN"
           ],
           "name": "2",
           "showlegend": true,
           "showscale": false,
           "type": "choropleth",
           "z": [
            1,
            1,
            1,
            1,
            1,
            1,
            1,
            1,
            1,
            1,
            1
           ]
          },
          {
           "colorscale": [
            [
             0,
             "#EF553B"
            ],
            [
             1,
             "#EF553B"
            ]
           ],
           "geo": "geo",
           "hovertemplate": "<b>%{hovertext}</b><br><br>Predicated_Cluster_STR=0<br>Year=2021<br>country_code=%{location}<extra></extra>",
           "hovertext": [
            "Belgium",
            "Germany",
            "Ireland",
            "Spain",
            "France",
            "Italy",
            "Luxembourg",
            "Hungary",
            "Malta",
            "Netherlands",
            "Finland",
            "Sweden"
           ],
           "locations": [
            "BEL",
            "DEU",
            "IRL",
            "ESP",
            "FRA",
            "ITA",
            "LUX",
            "HUN",
            "MLT",
            null,
            "FIN",
            "SWE"
           ],
           "name": "0",
           "showlegend": true,
           "showscale": false,
           "type": "choropleth",
           "z": [
            1,
            1,
            1,
            1,
            1,
            1,
            1,
            1,
            1,
            1,
            1,
            1
           ]
          },
          {
           "colorscale": [
            [
             0,
             "#00cc96"
            ],
            [
             1,
             "#00cc96"
            ]
           ],
           "geo": "geo",
           "hovertemplate": "<b>%{hovertext}</b><br><br>Predicated_Cluster_STR=1<br>Year=2021<br>country_code=%{location}<extra></extra>",
           "hovertext": [
            "Czechia",
            "Denmark",
            "Estonia",
            "Slovakia"
           ],
           "locations": [
            "CZE",
            "DNK",
            "EST",
            "SVK"
           ],
           "name": "1",
           "showlegend": true,
           "showscale": false,
           "type": "choropleth",
           "z": [
            1,
            1,
            1,
            1
           ]
          }
         ],
         "name": "2021"
        }
       ],
       "layout": {
        "geo": {
         "center": {},
         "domain": {
          "x": [
           0,
           1
          ],
          "y": [
           0,
           1
          ]
         },
         "scope": "europe"
        },
        "height": 600,
        "legend": {
         "title": {
          "text": "Predicated_Cluster_STR"
         },
         "tracegroupgap": 0
        },
        "margin": {
         "b": 10,
         "l": 10,
         "r": 10,
         "t": 10
        },
        "sliders": [
         {
          "active": 0,
          "currentvalue": {
           "prefix": "Year="
          },
          "len": 0.9,
          "pad": {
           "b": 10,
           "t": 60
          },
          "steps": [
           {
            "args": [
             [
              "2004"
             ],
             {
              "frame": {
               "duration": 0,
               "redraw": true
              },
              "fromcurrent": true,
              "mode": "immediate",
              "transition": {
               "duration": 0,
               "easing": "linear"
              }
             }
            ],
            "label": "2004",
            "method": "animate"
           },
           {
            "args": [
             [
              "2005"
             ],
             {
              "frame": {
               "duration": 0,
               "redraw": true
              },
              "fromcurrent": true,
              "mode": "immediate",
              "transition": {
               "duration": 0,
               "easing": "linear"
              }
             }
            ],
            "label": "2005",
            "method": "animate"
           },
           {
            "args": [
             [
              "2006"
             ],
             {
              "frame": {
               "duration": 0,
               "redraw": true
              },
              "fromcurrent": true,
              "mode": "immediate",
              "transition": {
               "duration": 0,
               "easing": "linear"
              }
             }
            ],
            "label": "2006",
            "method": "animate"
           },
           {
            "args": [
             [
              "2007"
             ],
             {
              "frame": {
               "duration": 0,
               "redraw": true
              },
              "fromcurrent": true,
              "mode": "immediate",
              "transition": {
               "duration": 0,
               "easing": "linear"
              }
             }
            ],
            "label": "2007",
            "method": "animate"
           },
           {
            "args": [
             [
              "2008"
             ],
             {
              "frame": {
               "duration": 0,
               "redraw": true
              },
              "fromcurrent": true,
              "mode": "immediate",
              "transition": {
               "duration": 0,
               "easing": "linear"
              }
             }
            ],
            "label": "2008",
            "method": "animate"
           },
           {
            "args": [
             [
              "2009"
             ],
             {
              "frame": {
               "duration": 0,
               "redraw": true
              },
              "fromcurrent": true,
              "mode": "immediate",
              "transition": {
               "duration": 0,
               "easing": "linear"
              }
             }
            ],
            "label": "2009",
            "method": "animate"
           },
           {
            "args": [
             [
              "2010"
             ],
             {
              "frame": {
               "duration": 0,
               "redraw": true
              },
              "fromcurrent": true,
              "mode": "immediate",
              "transition": {
               "duration": 0,
               "easing": "linear"
              }
             }
            ],
            "label": "2010",
            "method": "animate"
           },
           {
            "args": [
             [
              "2011"
             ],
             {
              "frame": {
               "duration": 0,
               "redraw": true
              },
              "fromcurrent": true,
              "mode": "immediate",
              "transition": {
               "duration": 0,
               "easing": "linear"
              }
             }
            ],
            "label": "2011",
            "method": "animate"
           },
           {
            "args": [
             [
              "2012"
             ],
             {
              "frame": {
               "duration": 0,
               "redraw": true
              },
              "fromcurrent": true,
              "mode": "immediate",
              "transition": {
               "duration": 0,
               "easing": "linear"
              }
             }
            ],
            "label": "2012",
            "method": "animate"
           },
           {
            "args": [
             [
              "2013"
             ],
             {
              "frame": {
               "duration": 0,
               "redraw": true
              },
              "fromcurrent": true,
              "mode": "immediate",
              "transition": {
               "duration": 0,
               "easing": "linear"
              }
             }
            ],
            "label": "2013",
            "method": "animate"
           },
           {
            "args": [
             [
              "2014"
             ],
             {
              "frame": {
               "duration": 0,
               "redraw": true
              },
              "fromcurrent": true,
              "mode": "immediate",
              "transition": {
               "duration": 0,
               "easing": "linear"
              }
             }
            ],
            "label": "2014",
            "method": "animate"
           },
           {
            "args": [
             [
              "2015"
             ],
             {
              "frame": {
               "duration": 0,
               "redraw": true
              },
              "fromcurrent": true,
              "mode": "immediate",
              "transition": {
               "duration": 0,
               "easing": "linear"
              }
             }
            ],
            "label": "2015",
            "method": "animate"
           },
           {
            "args": [
             [
              "2016"
             ],
             {
              "frame": {
               "duration": 0,
               "redraw": true
              },
              "fromcurrent": true,
              "mode": "immediate",
              "transition": {
               "duration": 0,
               "easing": "linear"
              }
             }
            ],
            "label": "2016",
            "method": "animate"
           },
           {
            "args": [
             [
              "2017"
             ],
             {
              "frame": {
               "duration": 0,
               "redraw": true
              },
              "fromcurrent": true,
              "mode": "immediate",
              "transition": {
               "duration": 0,
               "easing": "linear"
              }
             }
            ],
            "label": "2017",
            "method": "animate"
           },
           {
            "args": [
             [
              "2018"
             ],
             {
              "frame": {
               "duration": 0,
               "redraw": true
              },
              "fromcurrent": true,
              "mode": "immediate",
              "transition": {
               "duration": 0,
               "easing": "linear"
              }
             }
            ],
            "label": "2018",
            "method": "animate"
           },
           {
            "args": [
             [
              "2019"
             ],
             {
              "frame": {
               "duration": 0,
               "redraw": true
              },
              "fromcurrent": true,
              "mode": "immediate",
              "transition": {
               "duration": 0,
               "easing": "linear"
              }
             }
            ],
            "label": "2019",
            "method": "animate"
           },
           {
            "args": [
             [
              "2020"
             ],
             {
              "frame": {
               "duration": 0,
               "redraw": true
              },
              "fromcurrent": true,
              "mode": "immediate",
              "transition": {
               "duration": 0,
               "easing": "linear"
              }
             }
            ],
            "label": "2020",
            "method": "animate"
           },
           {
            "args": [
             [
              "2021"
             ],
             {
              "frame": {
               "duration": 0,
               "redraw": true
              },
              "fromcurrent": true,
              "mode": "immediate",
              "transition": {
               "duration": 0,
               "easing": "linear"
              }
             }
            ],
            "label": "2021",
            "method": "animate"
           }
          ],
          "x": 0.1,
          "xanchor": "left",
          "y": 0,
          "yanchor": "top"
         }
        ],
        "template": {
         "data": {
          "bar": [
           {
            "error_x": {
             "color": "#2a3f5f"
            },
            "error_y": {
             "color": "#2a3f5f"
            },
            "marker": {
             "line": {
              "color": "#E5ECF6",
              "width": 0.5
             },
             "pattern": {
              "fillmode": "overlay",
              "size": 10,
              "solidity": 0.2
             }
            },
            "type": "bar"
           }
          ],
          "barpolar": [
           {
            "marker": {
             "line": {
              "color": "#E5ECF6",
              "width": 0.5
             },
             "pattern": {
              "fillmode": "overlay",
              "size": 10,
              "solidity": 0.2
             }
            },
            "type": "barpolar"
           }
          ],
          "carpet": [
           {
            "aaxis": {
             "endlinecolor": "#2a3f5f",
             "gridcolor": "white",
             "linecolor": "white",
             "minorgridcolor": "white",
             "startlinecolor": "#2a3f5f"
            },
            "baxis": {
             "endlinecolor": "#2a3f5f",
             "gridcolor": "white",
             "linecolor": "white",
             "minorgridcolor": "white",
             "startlinecolor": "#2a3f5f"
            },
            "type": "carpet"
           }
          ],
          "choropleth": [
           {
            "colorbar": {
             "outlinewidth": 0,
             "ticks": ""
            },
            "type": "choropleth"
           }
          ],
          "contour": [
           {
            "colorbar": {
             "outlinewidth": 0,
             "ticks": ""
            },
            "colorscale": [
             [
              0,
              "#0d0887"
             ],
             [
              0.1111111111111111,
              "#46039f"
             ],
             [
              0.2222222222222222,
              "#7201a8"
             ],
             [
              0.3333333333333333,
              "#9c179e"
             ],
             [
              0.4444444444444444,
              "#bd3786"
             ],
             [
              0.5555555555555556,
              "#d8576b"
             ],
             [
              0.6666666666666666,
              "#ed7953"
             ],
             [
              0.7777777777777778,
              "#fb9f3a"
             ],
             [
              0.8888888888888888,
              "#fdca26"
             ],
             [
              1,
              "#f0f921"
             ]
            ],
            "type": "contour"
           }
          ],
          "contourcarpet": [
           {
            "colorbar": {
             "outlinewidth": 0,
             "ticks": ""
            },
            "type": "contourcarpet"
           }
          ],
          "heatmap": [
           {
            "colorbar": {
             "outlinewidth": 0,
             "ticks": ""
            },
            "colorscale": [
             [
              0,
              "#0d0887"
             ],
             [
              0.1111111111111111,
              "#46039f"
             ],
             [
              0.2222222222222222,
              "#7201a8"
             ],
             [
              0.3333333333333333,
              "#9c179e"
             ],
             [
              0.4444444444444444,
              "#bd3786"
             ],
             [
              0.5555555555555556,
              "#d8576b"
             ],
             [
              0.6666666666666666,
              "#ed7953"
             ],
             [
              0.7777777777777778,
              "#fb9f3a"
             ],
             [
              0.8888888888888888,
              "#fdca26"
             ],
             [
              1,
              "#f0f921"
             ]
            ],
            "type": "heatmap"
           }
          ],
          "heatmapgl": [
           {
            "colorbar": {
             "outlinewidth": 0,
             "ticks": ""
            },
            "colorscale": [
             [
              0,
              "#0d0887"
             ],
             [
              0.1111111111111111,
              "#46039f"
             ],
             [
              0.2222222222222222,
              "#7201a8"
             ],
             [
              0.3333333333333333,
              "#9c179e"
             ],
             [
              0.4444444444444444,
              "#bd3786"
             ],
             [
              0.5555555555555556,
              "#d8576b"
             ],
             [
              0.6666666666666666,
              "#ed7953"
             ],
             [
              0.7777777777777778,
              "#fb9f3a"
             ],
             [
              0.8888888888888888,
              "#fdca26"
             ],
             [
              1,
              "#f0f921"
             ]
            ],
            "type": "heatmapgl"
           }
          ],
          "histogram": [
           {
            "marker": {
             "pattern": {
              "fillmode": "overlay",
              "size": 10,
              "solidity": 0.2
             }
            },
            "type": "histogram"
           }
          ],
          "histogram2d": [
           {
            "colorbar": {
             "outlinewidth": 0,
             "ticks": ""
            },
            "colorscale": [
             [
              0,
              "#0d0887"
             ],
             [
              0.1111111111111111,
              "#46039f"
             ],
             [
              0.2222222222222222,
              "#7201a8"
             ],
             [
              0.3333333333333333,
              "#9c179e"
             ],
             [
              0.4444444444444444,
              "#bd3786"
             ],
             [
              0.5555555555555556,
              "#d8576b"
             ],
             [
              0.6666666666666666,
              "#ed7953"
             ],
             [
              0.7777777777777778,
              "#fb9f3a"
             ],
             [
              0.8888888888888888,
              "#fdca26"
             ],
             [
              1,
              "#f0f921"
             ]
            ],
            "type": "histogram2d"
           }
          ],
          "histogram2dcontour": [
           {
            "colorbar": {
             "outlinewidth": 0,
             "ticks": ""
            },
            "colorscale": [
             [
              0,
              "#0d0887"
             ],
             [
              0.1111111111111111,
              "#46039f"
             ],
             [
              0.2222222222222222,
              "#7201a8"
             ],
             [
              0.3333333333333333,
              "#9c179e"
             ],
             [
              0.4444444444444444,
              "#bd3786"
             ],
             [
              0.5555555555555556,
              "#d8576b"
             ],
             [
              0.6666666666666666,
              "#ed7953"
             ],
             [
              0.7777777777777778,
              "#fb9f3a"
             ],
             [
              0.8888888888888888,
              "#fdca26"
             ],
             [
              1,
              "#f0f921"
             ]
            ],
            "type": "histogram2dcontour"
           }
          ],
          "mesh3d": [
           {
            "colorbar": {
             "outlinewidth": 0,
             "ticks": ""
            },
            "type": "mesh3d"
           }
          ],
          "parcoords": [
           {
            "line": {
             "colorbar": {
              "outlinewidth": 0,
              "ticks": ""
             }
            },
            "type": "parcoords"
           }
          ],
          "pie": [
           {
            "automargin": true,
            "type": "pie"
           }
          ],
          "scatter": [
           {
            "fillpattern": {
             "fillmode": "overlay",
             "size": 10,
             "solidity": 0.2
            },
            "type": "scatter"
           }
          ],
          "scatter3d": [
           {
            "line": {
             "colorbar": {
              "outlinewidth": 0,
              "ticks": ""
             }
            },
            "marker": {
             "colorbar": {
              "outlinewidth": 0,
              "ticks": ""
             }
            },
            "type": "scatter3d"
           }
          ],
          "scattercarpet": [
           {
            "marker": {
             "colorbar": {
              "outlinewidth": 0,
              "ticks": ""
             }
            },
            "type": "scattercarpet"
           }
          ],
          "scattergeo": [
           {
            "marker": {
             "colorbar": {
              "outlinewidth": 0,
              "ticks": ""
             }
            },
            "type": "scattergeo"
           }
          ],
          "scattergl": [
           {
            "marker": {
             "colorbar": {
              "outlinewidth": 0,
              "ticks": ""
             }
            },
            "type": "scattergl"
           }
          ],
          "scattermapbox": [
           {
            "marker": {
             "colorbar": {
              "outlinewidth": 0,
              "ticks": ""
             }
            },
            "type": "scattermapbox"
           }
          ],
          "scatterpolar": [
           {
            "marker": {
             "colorbar": {
              "outlinewidth": 0,
              "ticks": ""
             }
            },
            "type": "scatterpolar"
           }
          ],
          "scatterpolargl": [
           {
            "marker": {
             "colorbar": {
              "outlinewidth": 0,
              "ticks": ""
             }
            },
            "type": "scatterpolargl"
           }
          ],
          "scatterternary": [
           {
            "marker": {
             "colorbar": {
              "outlinewidth": 0,
              "ticks": ""
             }
            },
            "type": "scatterternary"
           }
          ],
          "surface": [
           {
            "colorbar": {
             "outlinewidth": 0,
             "ticks": ""
            },
            "colorscale": [
             [
              0,
              "#0d0887"
             ],
             [
              0.1111111111111111,
              "#46039f"
             ],
             [
              0.2222222222222222,
              "#7201a8"
             ],
             [
              0.3333333333333333,
              "#9c179e"
             ],
             [
              0.4444444444444444,
              "#bd3786"
             ],
             [
              0.5555555555555556,
              "#d8576b"
             ],
             [
              0.6666666666666666,
              "#ed7953"
             ],
             [
              0.7777777777777778,
              "#fb9f3a"
             ],
             [
              0.8888888888888888,
              "#fdca26"
             ],
             [
              1,
              "#f0f921"
             ]
            ],
            "type": "surface"
           }
          ],
          "table": [
           {
            "cells": {
             "fill": {
              "color": "#EBF0F8"
             },
             "line": {
              "color": "white"
             }
            },
            "header": {
             "fill": {
              "color": "#C8D4E3"
             },
             "line": {
              "color": "white"
             }
            },
            "type": "table"
           }
          ]
         },
         "layout": {
          "annotationdefaults": {
           "arrowcolor": "#2a3f5f",
           "arrowhead": 0,
           "arrowwidth": 1
          },
          "autotypenumbers": "strict",
          "coloraxis": {
           "colorbar": {
            "outlinewidth": 0,
            "ticks": ""
           }
          },
          "colorscale": {
           "diverging": [
            [
             0,
             "#8e0152"
            ],
            [
             0.1,
             "#c51b7d"
            ],
            [
             0.2,
             "#de77ae"
            ],
            [
             0.3,
             "#f1b6da"
            ],
            [
             0.4,
             "#fde0ef"
            ],
            [
             0.5,
             "#f7f7f7"
            ],
            [
             0.6,
             "#e6f5d0"
            ],
            [
             0.7,
             "#b8e186"
            ],
            [
             0.8,
             "#7fbc41"
            ],
            [
             0.9,
             "#4d9221"
            ],
            [
             1,
             "#276419"
            ]
           ],
           "sequential": [
            [
             0,
             "#0d0887"
            ],
            [
             0.1111111111111111,
             "#46039f"
            ],
            [
             0.2222222222222222,
             "#7201a8"
            ],
            [
             0.3333333333333333,
             "#9c179e"
            ],
            [
             0.4444444444444444,
             "#bd3786"
            ],
            [
             0.5555555555555556,
             "#d8576b"
            ],
            [
             0.6666666666666666,
             "#ed7953"
            ],
            [
             0.7777777777777778,
             "#fb9f3a"
            ],
            [
             0.8888888888888888,
             "#fdca26"
            ],
            [
             1,
             "#f0f921"
            ]
           ],
           "sequentialminus": [
            [
             0,
             "#0d0887"
            ],
            [
             0.1111111111111111,
             "#46039f"
            ],
            [
             0.2222222222222222,
             "#7201a8"
            ],
            [
             0.3333333333333333,
             "#9c179e"
            ],
            [
             0.4444444444444444,
             "#bd3786"
            ],
            [
             0.5555555555555556,
             "#d8576b"
            ],
            [
             0.6666666666666666,
             "#ed7953"
            ],
            [
             0.7777777777777778,
             "#fb9f3a"
            ],
            [
             0.8888888888888888,
             "#fdca26"
            ],
            [
             1,
             "#f0f921"
            ]
           ]
          },
          "colorway": [
           "#636efa",
           "#EF553B",
           "#00cc96",
           "#ab63fa",
           "#FFA15A",
           "#19d3f3",
           "#FF6692",
           "#B6E880",
           "#FF97FF",
           "#FECB52"
          ],
          "font": {
           "color": "#2a3f5f"
          },
          "geo": {
           "bgcolor": "white",
           "lakecolor": "white",
           "landcolor": "#E5ECF6",
           "showlakes": true,
           "showland": true,
           "subunitcolor": "white"
          },
          "hoverlabel": {
           "align": "left"
          },
          "hovermode": "closest",
          "mapbox": {
           "style": "light"
          },
          "paper_bgcolor": "white",
          "plot_bgcolor": "#E5ECF6",
          "polar": {
           "angularaxis": {
            "gridcolor": "white",
            "linecolor": "white",
            "ticks": ""
           },
           "bgcolor": "#E5ECF6",
           "radialaxis": {
            "gridcolor": "white",
            "linecolor": "white",
            "ticks": ""
           }
          },
          "scene": {
           "xaxis": {
            "backgroundcolor": "#E5ECF6",
            "gridcolor": "white",
            "gridwidth": 2,
            "linecolor": "white",
            "showbackground": true,
            "ticks": "",
            "zerolinecolor": "white"
           },
           "yaxis": {
            "backgroundcolor": "#E5ECF6",
            "gridcolor": "white",
            "gridwidth": 2,
            "linecolor": "white",
            "showbackground": true,
            "ticks": "",
            "zerolinecolor": "white"
           },
           "zaxis": {
            "backgroundcolor": "#E5ECF6",
            "gridcolor": "white",
            "gridwidth": 2,
            "linecolor": "white",
            "showbackground": true,
            "ticks": "",
            "zerolinecolor": "white"
           }
          },
          "shapedefaults": {
           "line": {
            "color": "#2a3f5f"
           }
          },
          "ternary": {
           "aaxis": {
            "gridcolor": "white",
            "linecolor": "white",
            "ticks": ""
           },
           "baxis": {
            "gridcolor": "white",
            "linecolor": "white",
            "ticks": ""
           },
           "bgcolor": "#E5ECF6",
           "caxis": {
            "gridcolor": "white",
            "linecolor": "white",
            "ticks": ""
           }
          },
          "title": {
           "x": 0.05
          },
          "xaxis": {
           "automargin": true,
           "gridcolor": "white",
           "linecolor": "white",
           "ticks": "",
           "title": {
            "standoff": 15
           },
           "zerolinecolor": "white",
           "zerolinewidth": 2
          },
          "yaxis": {
           "automargin": true,
           "gridcolor": "white",
           "linecolor": "white",
           "ticks": "",
           "title": {
            "standoff": 15
           },
           "zerolinecolor": "white",
           "zerolinewidth": 2
          }
         }
        },
        "updatemenus": [
         {
          "buttons": [
           {
            "args": [
             null,
             {
              "frame": {
               "duration": 500,
               "redraw": true
              },
              "fromcurrent": true,
              "mode": "immediate",
              "transition": {
               "duration": 500,
               "easing": "linear"
              }
             }
            ],
            "label": "&#9654;",
            "method": "animate"
           },
           {
            "args": [
             [
              null
             ],
             {
              "frame": {
               "duration": 0,
               "redraw": true
              },
              "fromcurrent": true,
              "mode": "immediate",
              "transition": {
               "duration": 0,
               "easing": "linear"
              }
             }
            ],
            "label": "&#9724;",
            "method": "animate"
           }
          ],
          "direction": "left",
          "pad": {
           "r": 10,
           "t": 70
          },
          "showactive": false,
          "type": "buttons",
          "x": 0.1,
          "xanchor": "right",
          "y": 0,
          "yanchor": "top"
         }
        ],
        "width": 600
       }
      }
     },
     "metadata": {},
     "output_type": "display_data"
    }
   ],
   "source": [
    "# This needs to be done since our clusters are numbers, and we want to use them as strings for Choropleth graph. \n",
    "# Providing numbers keeps resulting in Plotly using continuous scale instead of discrete one.\n",
    "dairy_ag_df_PCA_kmeans['Predicated_Cluster_STR'] = dairy_ag_df_PCA_kmeans.Predicated_Cluster.astype(str)\n",
    "\n",
    "color_dictionary = dict(\n",
    "    zip(\n",
    "        dairy_ag_df_PCA_kmeans['Predicated_Cluster_STR'].unique().tolist(), \n",
    "        px.colors.carto.Temps[:NUM_CLUSTERS:3]\n",
    "        )\n",
    ")\n",
    "\n",
    "figKMeans = px.choropleth(dairy_ag_df_PCA_kmeans,\n",
    "                locations=\"country_code\", \n",
    "                color='Predicated_Cluster_STR', \n",
    "                hover_name=\"Member State\", # column to display in hover information\n",
    "                scope='europe', # set the scope to europe\n",
    "                color_discrete_map=color_dictionary,\n",
    "                animation_frame=\"Year\",\n",
    "                # color_continuous_scale=px.colors.carto.Temps, # set the color scale\n",
    "                width=600,\n",
    "                height=600,\n",
    "                )\n",
    "figKMeans.update_layout(\n",
    "    margin=dict(l=10, r=10, t=10, b=10)\n",
    ")"
   ]
  },
  {
   "cell_type": "code",
   "execution_count": 5,
   "metadata": {},
   "outputs": [],
   "source": [
    "dairy_ag_df_PCA_Agglomerative = pd.read_csv('trained_models/dairy_ag_df_PCA_Agglomerative_results.csv')"
   ]
  },
  {
   "cell_type": "code",
   "execution_count": 6,
   "metadata": {},
   "outputs": [
    {
     "data": {
      "application/vnd.plotly.v1+json": {
       "config": {
        "plotlyServerURL": "https://plot.ly"
       },
       "data": [
        {
         "colorscale": [
          [
           0,
           "rgb(0, 147, 146)"
          ],
          [
           1,
           "rgb(0, 147, 146)"
          ]
         ],
         "geo": "geo",
         "hovertemplate": "<b>%{hovertext}</b><br><br>Predicated_Cluster_STR=2<br>Year=2004<br>country_code=%{location}<extra></extra>",
         "hovertext": [
          "Belgium",
          "Czechia",
          "Estonia",
          "Ireland",
          "Greece",
          "Spain",
          "Italy",
          "Cyprus",
          "Latvia",
          "Lithuania",
          "Luxembourg",
          "Hungary",
          "Austria",
          "Poland",
          "Portugal",
          "Slovenia",
          "Finland",
          "Sweden"
         ],
         "locations": [
          "BEL",
          "CZE",
          "EST",
          "IRL",
          "GRC",
          "ESP",
          "ITA",
          "CYP",
          "LVA",
          "LTU",
          "LUX",
          "HUN",
          "AUT",
          "POL",
          "PRT",
          "SVN",
          "FIN",
          "SWE"
         ],
         "name": "2",
         "showlegend": true,
         "showscale": false,
         "type": "choropleth",
         "z": [
          1,
          1,
          1,
          1,
          1,
          1,
          1,
          1,
          1,
          1,
          1,
          1,
          1,
          1,
          1,
          1,
          1,
          1
         ]
        },
        {
         "colorscale": [
          [
           0,
           "#EF553B"
          ],
          [
           1,
           "#EF553B"
          ]
         ],
         "geo": "geo",
         "hovertemplate": "<b>%{hovertext}</b><br><br>Predicated_Cluster_STR=1<br>Year=2004<br>country_code=%{location}<extra></extra>",
         "hovertext": [
          "Denmark",
          "Germany",
          "France",
          "Malta",
          "Netherlands"
         ],
         "locations": [
          "DNK",
          "DEU",
          "FRA",
          "MLT",
          null
         ],
         "name": "1",
         "showlegend": true,
         "showscale": false,
         "type": "choropleth",
         "z": [
          1,
          1,
          1,
          1,
          1
         ]
        },
        {
         "colorscale": [
          [
           0,
           "#00cc96"
          ],
          [
           1,
           "#00cc96"
          ]
         ],
         "geo": "geo",
         "hovertemplate": "<b>%{hovertext}</b><br><br>Predicated_Cluster_STR=0<br>Year=2004<br>country_code=%{location}<extra></extra>",
         "hovertext": [
          "Slovakia"
         ],
         "locations": [
          "SVK"
         ],
         "name": "0",
         "showlegend": true,
         "showscale": false,
         "type": "choropleth",
         "z": [
          1
         ]
        }
       ],
       "frames": [
        {
         "data": [
          {
           "colorscale": [
            [
             0,
             "rgb(0, 147, 146)"
            ],
            [
             1,
             "rgb(0, 147, 146)"
            ]
           ],
           "geo": "geo",
           "hovertemplate": "<b>%{hovertext}</b><br><br>Predicated_Cluster_STR=2<br>Year=2004<br>country_code=%{location}<extra></extra>",
           "hovertext": [
            "Belgium",
            "Czechia",
            "Estonia",
            "Ireland",
            "Greece",
            "Spain",
            "Italy",
            "Cyprus",
            "Latvia",
            "Lithuania",
            "Luxembourg",
            "Hungary",
            "Austria",
            "Poland",
            "Portugal",
            "Slovenia",
            "Finland",
            "Sweden"
           ],
           "locations": [
            "BEL",
            "CZE",
            "EST",
            "IRL",
            "GRC",
            "ESP",
            "ITA",
            "CYP",
            "LVA",
            "LTU",
            "LUX",
            "HUN",
            "AUT",
            "POL",
            "PRT",
            "SVN",
            "FIN",
            "SWE"
           ],
           "name": "2",
           "showlegend": true,
           "showscale": false,
           "type": "choropleth",
           "z": [
            1,
            1,
            1,
            1,
            1,
            1,
            1,
            1,
            1,
            1,
            1,
            1,
            1,
            1,
            1,
            1,
            1,
            1
           ]
          },
          {
           "colorscale": [
            [
             0,
             "#EF553B"
            ],
            [
             1,
             "#EF553B"
            ]
           ],
           "geo": "geo",
           "hovertemplate": "<b>%{hovertext}</b><br><br>Predicated_Cluster_STR=1<br>Year=2004<br>country_code=%{location}<extra></extra>",
           "hovertext": [
            "Denmark",
            "Germany",
            "France",
            "Malta",
            "Netherlands"
           ],
           "locations": [
            "DNK",
            "DEU",
            "FRA",
            "MLT",
            null
           ],
           "name": "1",
           "showlegend": true,
           "showscale": false,
           "type": "choropleth",
           "z": [
            1,
            1,
            1,
            1,
            1
           ]
          },
          {
           "colorscale": [
            [
             0,
             "#00cc96"
            ],
            [
             1,
             "#00cc96"
            ]
           ],
           "geo": "geo",
           "hovertemplate": "<b>%{hovertext}</b><br><br>Predicated_Cluster_STR=0<br>Year=2004<br>country_code=%{location}<extra></extra>",
           "hovertext": [
            "Slovakia"
           ],
           "locations": [
            "SVK"
           ],
           "name": "0",
           "showlegend": true,
           "showscale": false,
           "type": "choropleth",
           "z": [
            1
           ]
          }
         ],
         "name": "2004"
        },
        {
         "data": [
          {
           "colorscale": [
            [
             0,
             "rgb(0, 147, 146)"
            ],
            [
             1,
             "rgb(0, 147, 146)"
            ]
           ],
           "geo": "geo",
           "hovertemplate": "<b>%{hovertext}</b><br><br>Predicated_Cluster_STR=2<br>Year=2005<br>country_code=%{location}<extra></extra>",
           "hovertext": [
            "Belgium",
            "Czechia",
            "Estonia",
            "Greece",
            "Spain",
            "Italy",
            "Cyprus",
            "Latvia",
            "Lithuania",
            "Luxembourg",
            "Hungary",
            "Austria",
            "Poland",
            "Portugal",
            "Slovenia",
            "Finland",
            "Sweden"
           ],
           "locations": [
            "BEL",
            "CZE",
            "EST",
            "GRC",
            "ESP",
            "ITA",
            "CYP",
            "LVA",
            "LTU",
            "LUX",
            "HUN",
            "AUT",
            "POL",
            "PRT",
            "SVN",
            "FIN",
            "SWE"
           ],
           "name": "2",
           "showlegend": true,
           "showscale": false,
           "type": "choropleth",
           "z": [
            1,
            1,
            1,
            1,
            1,
            1,
            1,
            1,
            1,
            1,
            1,
            1,
            1,
            1,
            1,
            1,
            1
           ]
          },
          {
           "colorscale": [
            [
             0,
             "#EF553B"
            ],
            [
             1,
             "#EF553B"
            ]
           ],
           "geo": "geo",
           "hovertemplate": "<b>%{hovertext}</b><br><br>Predicated_Cluster_STR=1<br>Year=2005<br>country_code=%{location}<extra></extra>",
           "hovertext": [
            "Denmark",
            "Germany",
            "Ireland",
            "France",
            "Malta",
            "Netherlands"
           ],
           "locations": [
            "DNK",
            "DEU",
            "IRL",
            "FRA",
            "MLT",
            null
           ],
           "name": "1",
           "showlegend": true,
           "showscale": false,
           "type": "choropleth",
           "z": [
            1,
            1,
            1,
            1,
            1,
            1
           ]
          },
          {
           "colorscale": [
            [
             0,
             "#00cc96"
            ],
            [
             1,
             "#00cc96"
            ]
           ],
           "geo": "geo",
           "hovertemplate": "<b>%{hovertext}</b><br><br>Predicated_Cluster_STR=0<br>Year=2005<br>country_code=%{location}<extra></extra>",
           "hovertext": [
            "Slovakia"
           ],
           "locations": [
            "SVK"
           ],
           "name": "0",
           "showlegend": true,
           "showscale": false,
           "type": "choropleth",
           "z": [
            1
           ]
          }
         ],
         "name": "2005"
        },
        {
         "data": [
          {
           "colorscale": [
            [
             0,
             "rgb(0, 147, 146)"
            ],
            [
             1,
             "rgb(0, 147, 146)"
            ]
           ],
           "geo": "geo",
           "hovertemplate": "<b>%{hovertext}</b><br><br>Predicated_Cluster_STR=2<br>Year=2006<br>country_code=%{location}<extra></extra>",
           "hovertext": [
            "Belgium",
            "Czechia",
            "Estonia",
            "Greece",
            "Spain",
            "Italy",
            "Cyprus",
            "Latvia",
            "Lithuania",
            "Luxembourg",
            "Hungary",
            "Austria",
            "Poland",
            "Portugal",
            "Slovenia",
            "Finland",
            "Sweden"
           ],
           "locations": [
            "BEL",
            "CZE",
            "EST",
            "GRC",
            "ESP",
            "ITA",
            "CYP",
            "LVA",
            "LTU",
            "LUX",
            "HUN",
            "AUT",
            "POL",
            "PRT",
            "SVN",
            "FIN",
            "SWE"
           ],
           "name": "2",
           "showlegend": true,
           "showscale": false,
           "type": "choropleth",
           "z": [
            1,
            1,
            1,
            1,
            1,
            1,
            1,
            1,
            1,
            1,
            1,
            1,
            1,
            1,
            1,
            1,
            1
           ]
          },
          {
           "colorscale": [
            [
             0,
             "#EF553B"
            ],
            [
             1,
             "#EF553B"
            ]
           ],
           "geo": "geo",
           "hovertemplate": "<b>%{hovertext}</b><br><br>Predicated_Cluster_STR=1<br>Year=2006<br>country_code=%{location}<extra></extra>",
           "hovertext": [
            "Denmark",
            "Germany",
            "Ireland",
            "France",
            "Malta",
            "Netherlands"
           ],
           "locations": [
            "DNK",
            "DEU",
            "IRL",
            "FRA",
            "MLT",
            null
           ],
           "name": "1",
           "showlegend": true,
           "showscale": false,
           "type": "choropleth",
           "z": [
            1,
            1,
            1,
            1,
            1,
            1
           ]
          },
          {
           "colorscale": [
            [
             0,
             "#00cc96"
            ],
            [
             1,
             "#00cc96"
            ]
           ],
           "geo": "geo",
           "hovertemplate": "<b>%{hovertext}</b><br><br>Predicated_Cluster_STR=0<br>Year=2006<br>country_code=%{location}<extra></extra>",
           "hovertext": [
            "Slovakia"
           ],
           "locations": [
            "SVK"
           ],
           "name": "0",
           "showlegend": true,
           "showscale": false,
           "type": "choropleth",
           "z": [
            1
           ]
          }
         ],
         "name": "2006"
        },
        {
         "data": [
          {
           "colorscale": [
            [
             0,
             "rgb(0, 147, 146)"
            ],
            [
             1,
             "rgb(0, 147, 146)"
            ]
           ],
           "geo": "geo",
           "hovertemplate": "<b>%{hovertext}</b><br><br>Predicated_Cluster_STR=2<br>Year=2007<br>country_code=%{location}<extra></extra>",
           "hovertext": [
            "Belgium",
            "Bulgaria",
            "Estonia",
            "Greece",
            "Spain",
            "Italy",
            "Cyprus",
            "Latvia",
            "Lithuania",
            "Luxembourg",
            "Hungary",
            "Austria",
            "Poland",
            "Portugal",
            "Romania",
            "Slovenia",
            "Finland",
            "Sweden"
           ],
           "locations": [
            "BEL",
            "BGR",
            "EST",
            "GRC",
            "ESP",
            "ITA",
            "CYP",
            "LVA",
            "LTU",
            "LUX",
            "HUN",
            "AUT",
            "POL",
            "PRT",
            "ROU",
            "SVN",
            "FIN",
            "SWE"
           ],
           "name": "2",
           "showlegend": true,
           "showscale": false,
           "type": "choropleth",
           "z": [
            1,
            1,
            1,
            1,
            1,
            1,
            1,
            1,
            1,
            1,
            1,
            1,
            1,
            1,
            1,
            1,
            1,
            1
           ]
          },
          {
           "colorscale": [
            [
             0,
             "#EF553B"
            ],
            [
             1,
             "#EF553B"
            ]
           ],
           "geo": "geo",
           "hovertemplate": "<b>%{hovertext}</b><br><br>Predicated_Cluster_STR=1<br>Year=2007<br>country_code=%{location}<extra></extra>",
           "hovertext": [
            "Czechia",
            "Germany",
            "Ireland",
            "France",
            "Malta",
            "Netherlands"
           ],
           "locations": [
            "CZE",
            "DEU",
            "IRL",
            "FRA",
            "MLT",
            null
           ],
           "name": "1",
           "showlegend": true,
           "showscale": false,
           "type": "choropleth",
           "z": [
            1,
            1,
            1,
            1,
            1,
            1
           ]
          },
          {
           "colorscale": [
            [
             0,
             "#00cc96"
            ],
            [
             1,
             "#00cc96"
            ]
           ],
           "geo": "geo",
           "hovertemplate": "<b>%{hovertext}</b><br><br>Predicated_Cluster_STR=0<br>Year=2007<br>country_code=%{location}<extra></extra>",
           "hovertext": [
            "Denmark",
            "Slovakia"
           ],
           "locations": [
            "DNK",
            "SVK"
           ],
           "name": "0",
           "showlegend": true,
           "showscale": false,
           "type": "choropleth",
           "z": [
            1,
            1
           ]
          }
         ],
         "name": "2007"
        },
        {
         "data": [
          {
           "colorscale": [
            [
             0,
             "rgb(0, 147, 146)"
            ],
            [
             1,
             "rgb(0, 147, 146)"
            ]
           ],
           "geo": "geo",
           "hovertemplate": "<b>%{hovertext}</b><br><br>Predicated_Cluster_STR=2<br>Year=2008<br>country_code=%{location}<extra></extra>",
           "hovertext": [
            "Belgium",
            "Bulgaria",
            "Estonia",
            "Greece",
            "Spain",
            "Italy",
            "Cyprus",
            "Latvia",
            "Lithuania",
            "Luxembourg",
            "Hungary",
            "Austria",
            "Poland",
            "Portugal",
            "Romania",
            "Slovenia",
            "Finland",
            "Sweden"
           ],
           "locations": [
            "BEL",
            "BGR",
            "EST",
            "GRC",
            "ESP",
            "ITA",
            "CYP",
            "LVA",
            "LTU",
            "LUX",
            "HUN",
            "AUT",
            "POL",
            "PRT",
            "ROU",
            "SVN",
            "FIN",
            "SWE"
           ],
           "name": "2",
           "showlegend": true,
           "showscale": false,
           "type": "choropleth",
           "z": [
            1,
            1,
            1,
            1,
            1,
            1,
            1,
            1,
            1,
            1,
            1,
            1,
            1,
            1,
            1,
            1,
            1,
            1
           ]
          },
          {
           "colorscale": [
            [
             0,
             "#EF553B"
            ],
            [
             1,
             "#EF553B"
            ]
           ],
           "geo": "geo",
           "hovertemplate": "<b>%{hovertext}</b><br><br>Predicated_Cluster_STR=1<br>Year=2008<br>country_code=%{location}<extra></extra>",
           "hovertext": [
            "Czechia",
            "Germany",
            "Ireland",
            "France",
            "Malta",
            "Netherlands"
           ],
           "locations": [
            "CZE",
            "DEU",
            "IRL",
            "FRA",
            "MLT",
            null
           ],
           "name": "1",
           "showlegend": true,
           "showscale": false,
           "type": "choropleth",
           "z": [
            1,
            1,
            1,
            1,
            1,
            1
           ]
          },
          {
           "colorscale": [
            [
             0,
             "#00cc96"
            ],
            [
             1,
             "#00cc96"
            ]
           ],
           "geo": "geo",
           "hovertemplate": "<b>%{hovertext}</b><br><br>Predicated_Cluster_STR=0<br>Year=2008<br>country_code=%{location}<extra></extra>",
           "hovertext": [
            "Denmark",
            "Slovakia"
           ],
           "locations": [
            "DNK",
            "SVK"
           ],
           "name": "0",
           "showlegend": true,
           "showscale": false,
           "type": "choropleth",
           "z": [
            1,
            1
           ]
          }
         ],
         "name": "2008"
        },
        {
         "data": [
          {
           "colorscale": [
            [
             0,
             "rgb(0, 147, 146)"
            ],
            [
             1,
             "rgb(0, 147, 146)"
            ]
           ],
           "geo": "geo",
           "hovertemplate": "<b>%{hovertext}</b><br><br>Predicated_Cluster_STR=2<br>Year=2009<br>country_code=%{location}<extra></extra>",
           "hovertext": [
            "Belgium",
            "Bulgaria",
            "Estonia",
            "Greece",
            "Spain",
            "Italy",
            "Cyprus",
            "Latvia",
            "Lithuania",
            "Luxembourg",
            "Hungary",
            "Austria",
            "Poland",
            "Portugal",
            "Romania",
            "Slovenia",
            "Finland"
           ],
           "locations": [
            "BEL",
            "BGR",
            "EST",
            "GRC",
            "ESP",
            "ITA",
            "CYP",
            "LVA",
            "LTU",
            "LUX",
            "HUN",
            "AUT",
            "POL",
            "PRT",
            "ROU",
            "SVN",
            "FIN"
           ],
           "name": "2",
           "showlegend": true,
           "showscale": false,
           "type": "choropleth",
           "z": [
            1,
            1,
            1,
            1,
            1,
            1,
            1,
            1,
            1,
            1,
            1,
            1,
            1,
            1,
            1,
            1,
            1
           ]
          },
          {
           "colorscale": [
            [
             0,
             "#EF553B"
            ],
            [
             1,
             "#EF553B"
            ]
           ],
           "geo": "geo",
           "hovertemplate": "<b>%{hovertext}</b><br><br>Predicated_Cluster_STR=1<br>Year=2009<br>country_code=%{location}<extra></extra>",
           "hovertext": [
            "Czechia",
            "Germany",
            "Ireland",
            "France",
            "Malta",
            "Netherlands",
            "Sweden"
           ],
           "locations": [
            "CZE",
            "DEU",
            "IRL",
            "FRA",
            "MLT",
            null,
            "SWE"
           ],
           "name": "1",
           "showlegend": true,
           "showscale": false,
           "type": "choropleth",
           "z": [
            1,
            1,
            1,
            1,
            1,
            1,
            1
           ]
          },
          {
           "colorscale": [
            [
             0,
             "#00cc96"
            ],
            [
             1,
             "#00cc96"
            ]
           ],
           "geo": "geo",
           "hovertemplate": "<b>%{hovertext}</b><br><br>Predicated_Cluster_STR=0<br>Year=2009<br>country_code=%{location}<extra></extra>",
           "hovertext": [
            "Denmark",
            "Slovakia"
           ],
           "locations": [
            "DNK",
            "SVK"
           ],
           "name": "0",
           "showlegend": true,
           "showscale": false,
           "type": "choropleth",
           "z": [
            1,
            1
           ]
          }
         ],
         "name": "2009"
        },
        {
         "data": [
          {
           "colorscale": [
            [
             0,
             "rgb(0, 147, 146)"
            ],
            [
             1,
             "rgb(0, 147, 146)"
            ]
           ],
           "geo": "geo",
           "hovertemplate": "<b>%{hovertext}</b><br><br>Predicated_Cluster_STR=2<br>Year=2010<br>country_code=%{location}<extra></extra>",
           "hovertext": [
            "Belgium",
            "Bulgaria",
            "Estonia",
            "Greece",
            "Spain",
            "Italy",
            "Cyprus",
            "Latvia",
            "Lithuania",
            "Luxembourg",
            "Hungary",
            "Austria",
            "Poland",
            "Portugal",
            "Romania",
            "Slovenia",
            "Finland"
           ],
           "locations": [
            "BEL",
            "BGR",
            "EST",
            "GRC",
            "ESP",
            "ITA",
            "CYP",
            "LVA",
            "LTU",
            "LUX",
            "HUN",
            "AUT",
            "POL",
            "PRT",
            "ROU",
            "SVN",
            "FIN"
           ],
           "name": "2",
           "showlegend": true,
           "showscale": false,
           "type": "choropleth",
           "z": [
            1,
            1,
            1,
            1,
            1,
            1,
            1,
            1,
            1,
            1,
            1,
            1,
            1,
            1,
            1,
            1,
            1
           ]
          },
          {
           "colorscale": [
            [
             0,
             "#EF553B"
            ],
            [
             1,
             "#EF553B"
            ]
           ],
           "geo": "geo",
           "hovertemplate": "<b>%{hovertext}</b><br><br>Predicated_Cluster_STR=1<br>Year=2010<br>country_code=%{location}<extra></extra>",
           "hovertext": [
            "Czechia",
            "Germany",
            "Ireland",
            "France",
            "Malta",
            "Netherlands",
            "Sweden"
           ],
           "locations": [
            "CZE",
            "DEU",
            "IRL",
            "FRA",
            "MLT",
            null,
            "SWE"
           ],
           "name": "1",
           "showlegend": true,
           "showscale": false,
           "type": "choropleth",
           "z": [
            1,
            1,
            1,
            1,
            1,
            1,
            1
           ]
          },
          {
           "colorscale": [
            [
             0,
             "#00cc96"
            ],
            [
             1,
             "#00cc96"
            ]
           ],
           "geo": "geo",
           "hovertemplate": "<b>%{hovertext}</b><br><br>Predicated_Cluster_STR=0<br>Year=2010<br>country_code=%{location}<extra></extra>",
           "hovertext": [
            "Denmark",
            "Slovakia"
           ],
           "locations": [
            "DNK",
            "SVK"
           ],
           "name": "0",
           "showlegend": true,
           "showscale": false,
           "type": "choropleth",
           "z": [
            1,
            1
           ]
          }
         ],
         "name": "2010"
        },
        {
         "data": [
          {
           "colorscale": [
            [
             0,
             "rgb(0, 147, 146)"
            ],
            [
             1,
             "rgb(0, 147, 146)"
            ]
           ],
           "geo": "geo",
           "hovertemplate": "<b>%{hovertext}</b><br><br>Predicated_Cluster_STR=2<br>Year=2011<br>country_code=%{location}<extra></extra>",
           "hovertext": [
            "Belgium",
            "Bulgaria",
            "Estonia",
            "Greece",
            "Spain",
            "Italy",
            "Cyprus",
            "Latvia",
            "Lithuania",
            "Luxembourg",
            "Hungary",
            "Austria",
            "Poland",
            "Portugal",
            "Romania",
            "Slovenia",
            "Finland"
           ],
           "locations": [
            "BEL",
            "BGR",
            "EST",
            "GRC",
            "ESP",
            "ITA",
            "CYP",
            "LVA",
            "LTU",
            "LUX",
            "HUN",
            "AUT",
            "POL",
            "PRT",
            "ROU",
            "SVN",
            "FIN"
           ],
           "name": "2",
           "showlegend": true,
           "showscale": false,
           "type": "choropleth",
           "z": [
            1,
            1,
            1,
            1,
            1,
            1,
            1,
            1,
            1,
            1,
            1,
            1,
            1,
            1,
            1,
            1,
            1
           ]
          },
          {
           "colorscale": [
            [
             0,
             "#EF553B"
            ],
            [
             1,
             "#EF553B"
            ]
           ],
           "geo": "geo",
           "hovertemplate": "<b>%{hovertext}</b><br><br>Predicated_Cluster_STR=1<br>Year=2011<br>country_code=%{location}<extra></extra>",
           "hovertext": [
            "Czechia",
            "Germany",
            "Ireland",
            "France",
            "Malta",
            "Netherlands",
            "Sweden"
           ],
           "locations": [
            "CZE",
            "DEU",
            "IRL",
            "FRA",
            "MLT",
            null,
            "SWE"
           ],
           "name": "1",
           "showlegend": true,
           "showscale": false,
           "type": "choropleth",
           "z": [
            1,
            1,
            1,
            1,
            1,
            1,
            1
           ]
          },
          {
           "colorscale": [
            [
             0,
             "#00cc96"
            ],
            [
             1,
             "#00cc96"
            ]
           ],
           "geo": "geo",
           "hovertemplate": "<b>%{hovertext}</b><br><br>Predicated_Cluster_STR=0<br>Year=2011<br>country_code=%{location}<extra></extra>",
           "hovertext": [
            "Denmark",
            "Slovakia"
           ],
           "locations": [
            "DNK",
            "SVK"
           ],
           "name": "0",
           "showlegend": true,
           "showscale": false,
           "type": "choropleth",
           "z": [
            1,
            1
           ]
          }
         ],
         "name": "2011"
        },
        {
         "data": [
          {
           "colorscale": [
            [
             0,
             "rgb(0, 147, 146)"
            ],
            [
             1,
             "rgb(0, 147, 146)"
            ]
           ],
           "geo": "geo",
           "hovertemplate": "<b>%{hovertext}</b><br><br>Predicated_Cluster_STR=2<br>Year=2012<br>country_code=%{location}<extra></extra>",
           "hovertext": [
            "Belgium",
            "Bulgaria",
            "Estonia",
            "Greece",
            "Spain",
            "Italy",
            "Cyprus",
            "Latvia",
            "Lithuania",
            "Luxembourg",
            "Hungary",
            "Austria",
            "Poland",
            "Portugal",
            "Romania",
            "Slovenia"
           ],
           "locations": [
            "BEL",
            "BGR",
            "EST",
            "GRC",
            "ESP",
            "ITA",
            "CYP",
            "LVA",
            "LTU",
            "LUX",
            "HUN",
            "AUT",
            "POL",
            "PRT",
            "ROU",
            "SVN"
           ],
           "name": "2",
           "showlegend": true,
           "showscale": false,
           "type": "choropleth",
           "z": [
            1,
            1,
            1,
            1,
            1,
            1,
            1,
            1,
            1,
            1,
            1,
            1,
            1,
            1,
            1,
            1
           ]
          },
          {
           "colorscale": [
            [
             0,
             "#EF553B"
            ],
            [
             1,
             "#EF553B"
            ]
           ],
           "geo": "geo",
           "hovertemplate": "<b>%{hovertext}</b><br><br>Predicated_Cluster_STR=1<br>Year=2012<br>country_code=%{location}<extra></extra>",
           "hovertext": [
            "Czechia",
            "Germany",
            "Ireland",
            "France",
            "Malta",
            "Netherlands",
            "Finland",
            "Sweden"
           ],
           "locations": [
            "CZE",
            "DEU",
            "IRL",
            "FRA",
            "MLT",
            null,
            "FIN",
            "SWE"
           ],
           "name": "1",
           "showlegend": true,
           "showscale": false,
           "type": "choropleth",
           "z": [
            1,
            1,
            1,
            1,
            1,
            1,
            1,
            1
           ]
          },
          {
           "colorscale": [
            [
             0,
             "#00cc96"
            ],
            [
             1,
             "#00cc96"
            ]
           ],
           "geo": "geo",
           "hovertemplate": "<b>%{hovertext}</b><br><br>Predicated_Cluster_STR=0<br>Year=2012<br>country_code=%{location}<extra></extra>",
           "hovertext": [
            "Denmark",
            "Slovakia"
           ],
           "locations": [
            "DNK",
            "SVK"
           ],
           "name": "0",
           "showlegend": true,
           "showscale": false,
           "type": "choropleth",
           "z": [
            1,
            1
           ]
          }
         ],
         "name": "2012"
        },
        {
         "data": [
          {
           "colorscale": [
            [
             0,
             "rgb(0, 147, 146)"
            ],
            [
             1,
             "rgb(0, 147, 146)"
            ]
           ],
           "geo": "geo",
           "hovertemplate": "<b>%{hovertext}</b><br><br>Predicated_Cluster_STR=2<br>Year=2013<br>country_code=%{location}<extra></extra>",
           "hovertext": [
            "Belgium",
            "Bulgaria",
            "Estonia",
            "Greece",
            "Spain",
            "Croatia",
            "Italy",
            "Cyprus",
            "Latvia",
            "Lithuania",
            "Luxembourg",
            "Hungary",
            "Austria",
            "Poland",
            "Portugal",
            "Romania",
            "Slovenia"
           ],
           "locations": [
            "BEL",
            "BGR",
            "EST",
            "GRC",
            "ESP",
            "HRV",
            "ITA",
            "CYP",
            "LVA",
            "LTU",
            "LUX",
            "HUN",
            "AUT",
            "POL",
            "PRT",
            "ROU",
            "SVN"
           ],
           "name": "2",
           "showlegend": true,
           "showscale": false,
           "type": "choropleth",
           "z": [
            1,
            1,
            1,
            1,
            1,
            1,
            1,
            1,
            1,
            1,
            1,
            1,
            1,
            1,
            1,
            1,
            1
           ]
          },
          {
           "colorscale": [
            [
             0,
             "#EF553B"
            ],
            [
             1,
             "#EF553B"
            ]
           ],
           "geo": "geo",
           "hovertemplate": "<b>%{hovertext}</b><br><br>Predicated_Cluster_STR=1<br>Year=2013<br>country_code=%{location}<extra></extra>",
           "hovertext": [
            "Czechia",
            "Germany",
            "Ireland",
            "France",
            "Malta",
            "Netherlands",
            "Finland",
            "Sweden"
           ],
           "locations": [
            "CZE",
            "DEU",
            "IRL",
            "FRA",
            "MLT",
            null,
            "FIN",
            "SWE"
           ],
           "name": "1",
           "showlegend": true,
           "showscale": false,
           "type": "choropleth",
           "z": [
            1,
            1,
            1,
            1,
            1,
            1,
            1,
            1
           ]
          },
          {
           "colorscale": [
            [
             0,
             "#00cc96"
            ],
            [
             1,
             "#00cc96"
            ]
           ],
           "geo": "geo",
           "hovertemplate": "<b>%{hovertext}</b><br><br>Predicated_Cluster_STR=0<br>Year=2013<br>country_code=%{location}<extra></extra>",
           "hovertext": [
            "Denmark",
            "Slovakia"
           ],
           "locations": [
            "DNK",
            "SVK"
           ],
           "name": "0",
           "showlegend": true,
           "showscale": false,
           "type": "choropleth",
           "z": [
            1,
            1
           ]
          }
         ],
         "name": "2013"
        },
        {
         "data": [
          {
           "colorscale": [
            [
             0,
             "rgb(0, 147, 146)"
            ],
            [
             1,
             "rgb(0, 147, 146)"
            ]
           ],
           "geo": "geo",
           "hovertemplate": "<b>%{hovertext}</b><br><br>Predicated_Cluster_STR=2<br>Year=2014<br>country_code=%{location}<extra></extra>",
           "hovertext": [
            "Bulgaria",
            "Greece",
            "Spain",
            "Croatia",
            "Cyprus",
            "Latvia",
            "Lithuania",
            "Hungary",
            "Austria",
            "Poland",
            "Portugal",
            "Romania",
            "Slovenia"
           ],
           "locations": [
            "BGR",
            "GRC",
            "ESP",
            "HRV",
            "CYP",
            "LVA",
            "LTU",
            "HUN",
            "AUT",
            "POL",
            "PRT",
            "ROU",
            "SVN"
           ],
           "name": "2",
           "showlegend": true,
           "showscale": false,
           "type": "choropleth",
           "z": [
            1,
            1,
            1,
            1,
            1,
            1,
            1,
            1,
            1,
            1,
            1,
            1,
            1
           ]
          },
          {
           "colorscale": [
            [
             0,
             "#EF553B"
            ],
            [
             1,
             "#EF553B"
            ]
           ],
           "geo": "geo",
           "hovertemplate": "<b>%{hovertext}</b><br><br>Predicated_Cluster_STR=1<br>Year=2014<br>country_code=%{location}<extra></extra>",
           "hovertext": [
            "Belgium",
            "Czechia",
            "Germany",
            "Estonia",
            "Ireland",
            "France",
            "Italy",
            "Luxembourg",
            "Malta",
            "Netherlands",
            "Finland",
            "Sweden"
           ],
           "locations": [
            "BEL",
            "CZE",
            "DEU",
            "EST",
            "IRL",
            "FRA",
            "ITA",
            "LUX",
            "MLT",
            null,
            "FIN",
            "SWE"
           ],
           "name": "1",
           "showlegend": true,
           "showscale": false,
           "type": "choropleth",
           "z": [
            1,
            1,
            1,
            1,
            1,
            1,
            1,
            1,
            1,
            1,
            1,
            1
           ]
          },
          {
           "colorscale": [
            [
             0,
             "#00cc96"
            ],
            [
             1,
             "#00cc96"
            ]
           ],
           "geo": "geo",
           "hovertemplate": "<b>%{hovertext}</b><br><br>Predicated_Cluster_STR=0<br>Year=2014<br>country_code=%{location}<extra></extra>",
           "hovertext": [
            "Denmark",
            "Slovakia"
           ],
           "locations": [
            "DNK",
            "SVK"
           ],
           "name": "0",
           "showlegend": true,
           "showscale": false,
           "type": "choropleth",
           "z": [
            1,
            1
           ]
          }
         ],
         "name": "2014"
        },
        {
         "data": [
          {
           "colorscale": [
            [
             0,
             "rgb(0, 147, 146)"
            ],
            [
             1,
             "rgb(0, 147, 146)"
            ]
           ],
           "geo": "geo",
           "hovertemplate": "<b>%{hovertext}</b><br><br>Predicated_Cluster_STR=2<br>Year=2015<br>country_code=%{location}<extra></extra>",
           "hovertext": [
            "Bulgaria",
            "Greece",
            "Spain",
            "Croatia",
            "Cyprus",
            "Latvia",
            "Lithuania",
            "Austria",
            "Poland",
            "Portugal",
            "Romania",
            "Slovenia"
           ],
           "locations": [
            "BGR",
            "GRC",
            "ESP",
            "HRV",
            "CYP",
            "LVA",
            "LTU",
            "AUT",
            "POL",
            "PRT",
            "ROU",
            "SVN"
           ],
           "name": "2",
           "showlegend": true,
           "showscale": false,
           "type": "choropleth",
           "z": [
            1,
            1,
            1,
            1,
            1,
            1,
            1,
            1,
            1,
            1,
            1,
            1
           ]
          },
          {
           "colorscale": [
            [
             0,
             "#EF553B"
            ],
            [
             1,
             "#EF553B"
            ]
           ],
           "geo": "geo",
           "hovertemplate": "<b>%{hovertext}</b><br><br>Predicated_Cluster_STR=1<br>Year=2015<br>country_code=%{location}<extra></extra>",
           "hovertext": [
            "Belgium",
            "Germany",
            "Estonia",
            "Ireland",
            "France",
            "Italy",
            "Luxembourg",
            "Hungary",
            "Malta",
            "Netherlands",
            "Finland",
            "Sweden"
           ],
           "locations": [
            "BEL",
            "DEU",
            "EST",
            "IRL",
            "FRA",
            "ITA",
            "LUX",
            "HUN",
            "MLT",
            null,
            "FIN",
            "SWE"
           ],
           "name": "1",
           "showlegend": true,
           "showscale": false,
           "type": "choropleth",
           "z": [
            1,
            1,
            1,
            1,
            1,
            1,
            1,
            1,
            1,
            1,
            1,
            1
           ]
          },
          {
           "colorscale": [
            [
             0,
             "#00cc96"
            ],
            [
             1,
             "#00cc96"
            ]
           ],
           "geo": "geo",
           "hovertemplate": "<b>%{hovertext}</b><br><br>Predicated_Cluster_STR=0<br>Year=2015<br>country_code=%{location}<extra></extra>",
           "hovertext": [
            "Czechia",
            "Denmark",
            "Slovakia"
           ],
           "locations": [
            "CZE",
            "DNK",
            "SVK"
           ],
           "name": "0",
           "showlegend": true,
           "showscale": false,
           "type": "choropleth",
           "z": [
            1,
            1,
            1
           ]
          }
         ],
         "name": "2015"
        },
        {
         "data": [
          {
           "colorscale": [
            [
             0,
             "rgb(0, 147, 146)"
            ],
            [
             1,
             "rgb(0, 147, 146)"
            ]
           ],
           "geo": "geo",
           "hovertemplate": "<b>%{hovertext}</b><br><br>Predicated_Cluster_STR=2<br>Year=2016<br>country_code=%{location}<extra></extra>",
           "hovertext": [
            "Bulgaria",
            "Greece",
            "Spain",
            "Croatia",
            "Cyprus",
            "Latvia",
            "Lithuania",
            "Austria",
            "Poland",
            "Portugal",
            "Romania",
            "Slovenia"
           ],
           "locations": [
            "BGR",
            "GRC",
            "ESP",
            "HRV",
            "CYP",
            "LVA",
            "LTU",
            "AUT",
            "POL",
            "PRT",
            "ROU",
            "SVN"
           ],
           "name": "2",
           "showlegend": true,
           "showscale": false,
           "type": "choropleth",
           "z": [
            1,
            1,
            1,
            1,
            1,
            1,
            1,
            1,
            1,
            1,
            1,
            1
           ]
          },
          {
           "colorscale": [
            [
             0,
             "#EF553B"
            ],
            [
             1,
             "#EF553B"
            ]
           ],
           "geo": "geo",
           "hovertemplate": "<b>%{hovertext}</b><br><br>Predicated_Cluster_STR=1<br>Year=2016<br>country_code=%{location}<extra></extra>",
           "hovertext": [
            "Belgium",
            "Germany",
            "Estonia",
            "Ireland",
            "France",
            "Italy",
            "Luxembourg",
            "Hungary",
            "Malta",
            "Netherlands",
            "Finland",
            "Sweden"
           ],
           "locations": [
            "BEL",
            "DEU",
            "EST",
            "IRL",
            "FRA",
            "ITA",
            "LUX",
            "HUN",
            "MLT",
            null,
            "FIN",
            "SWE"
           ],
           "name": "1",
           "showlegend": true,
           "showscale": false,
           "type": "choropleth",
           "z": [
            1,
            1,
            1,
            1,
            1,
            1,
            1,
            1,
            1,
            1,
            1,
            1
           ]
          },
          {
           "colorscale": [
            [
             0,
             "#00cc96"
            ],
            [
             1,
             "#00cc96"
            ]
           ],
           "geo": "geo",
           "hovertemplate": "<b>%{hovertext}</b><br><br>Predicated_Cluster_STR=0<br>Year=2016<br>country_code=%{location}<extra></extra>",
           "hovertext": [
            "Czechia",
            "Denmark",
            "Slovakia"
           ],
           "locations": [
            "CZE",
            "DNK",
            "SVK"
           ],
           "name": "0",
           "showlegend": true,
           "showscale": false,
           "type": "choropleth",
           "z": [
            1,
            1,
            1
           ]
          }
         ],
         "name": "2016"
        },
        {
         "data": [
          {
           "colorscale": [
            [
             0,
             "rgb(0, 147, 146)"
            ],
            [
             1,
             "rgb(0, 147, 146)"
            ]
           ],
           "geo": "geo",
           "hovertemplate": "<b>%{hovertext}</b><br><br>Predicated_Cluster_STR=2<br>Year=2017<br>country_code=%{location}<extra></extra>",
           "hovertext": [
            "Bulgaria",
            "Greece",
            "Croatia",
            "Cyprus",
            "Latvia",
            "Lithuania",
            "Austria",
            "Poland",
            "Portugal",
            "Romania",
            "Slovenia"
           ],
           "locations": [
            "BGR",
            "GRC",
            "HRV",
            "CYP",
            "LVA",
            "LTU",
            "AUT",
            "POL",
            "PRT",
            "ROU",
            "SVN"
           ],
           "name": "2",
           "showlegend": true,
           "showscale": false,
           "type": "choropleth",
           "z": [
            1,
            1,
            1,
            1,
            1,
            1,
            1,
            1,
            1,
            1,
            1
           ]
          },
          {
           "colorscale": [
            [
             0,
             "#EF553B"
            ],
            [
             1,
             "#EF553B"
            ]
           ],
           "geo": "geo",
           "hovertemplate": "<b>%{hovertext}</b><br><br>Predicated_Cluster_STR=1<br>Year=2017<br>country_code=%{location}<extra></extra>",
           "hovertext": [
            "Belgium",
            "Germany",
            "Estonia",
            "Ireland",
            "Spain",
            "France",
            "Italy",
            "Luxembourg",
            "Hungary",
            "Malta",
            "Netherlands",
            "Finland",
            "Sweden"
           ],
           "locations": [
            "BEL",
            "DEU",
            "EST",
            "IRL",
            "ESP",
            "FRA",
            "ITA",
            "LUX",
            "HUN",
            "MLT",
            null,
            "FIN",
            "SWE"
           ],
           "name": "1",
           "showlegend": true,
           "showscale": false,
           "type": "choropleth",
           "z": [
            1,
            1,
            1,
            1,
            1,
            1,
            1,
            1,
            1,
            1,
            1,
            1,
            1
           ]
          },
          {
           "colorscale": [
            [
             0,
             "#00cc96"
            ],
            [
             1,
             "#00cc96"
            ]
           ],
           "geo": "geo",
           "hovertemplate": "<b>%{hovertext}</b><br><br>Predicated_Cluster_STR=0<br>Year=2017<br>country_code=%{location}<extra></extra>",
           "hovertext": [
            "Czechia",
            "Denmark",
            "Slovakia"
           ],
           "locations": [
            "CZE",
            "DNK",
            "SVK"
           ],
           "name": "0",
           "showlegend": true,
           "showscale": false,
           "type": "choropleth",
           "z": [
            1,
            1,
            1
           ]
          }
         ],
         "name": "2017"
        },
        {
         "data": [
          {
           "colorscale": [
            [
             0,
             "rgb(0, 147, 146)"
            ],
            [
             1,
             "rgb(0, 147, 146)"
            ]
           ],
           "geo": "geo",
           "hovertemplate": "<b>%{hovertext}</b><br><br>Predicated_Cluster_STR=2<br>Year=2018<br>country_code=%{location}<extra></extra>",
           "hovertext": [
            "Bulgaria",
            "Greece",
            "Croatia",
            "Cyprus",
            "Latvia",
            "Lithuania",
            "Austria",
            "Poland",
            "Portugal",
            "Romania",
            "Slovenia"
           ],
           "locations": [
            "BGR",
            "GRC",
            "HRV",
            "CYP",
            "LVA",
            "LTU",
            "AUT",
            "POL",
            "PRT",
            "ROU",
            "SVN"
           ],
           "name": "2",
           "showlegend": true,
           "showscale": false,
           "type": "choropleth",
           "z": [
            1,
            1,
            1,
            1,
            1,
            1,
            1,
            1,
            1,
            1,
            1
           ]
          },
          {
           "colorscale": [
            [
             0,
             "#EF553B"
            ],
            [
             1,
             "#EF553B"
            ]
           ],
           "geo": "geo",
           "hovertemplate": "<b>%{hovertext}</b><br><br>Predicated_Cluster_STR=1<br>Year=2018<br>country_code=%{location}<extra></extra>",
           "hovertext": [
            "Belgium",
            "Germany",
            "Estonia",
            "Ireland",
            "Spain",
            "France",
            "Italy",
            "Luxembourg",
            "Hungary",
            "Malta",
            "Netherlands",
            "Finland",
            "Sweden"
           ],
           "locations": [
            "BEL",
            "DEU",
            "EST",
            "IRL",
            "ESP",
            "FRA",
            "ITA",
            "LUX",
            "HUN",
            "MLT",
            null,
            "FIN",
            "SWE"
           ],
           "name": "1",
           "showlegend": true,
           "showscale": false,
           "type": "choropleth",
           "z": [
            1,
            1,
            1,
            1,
            1,
            1,
            1,
            1,
            1,
            1,
            1,
            1,
            1
           ]
          },
          {
           "colorscale": [
            [
             0,
             "#00cc96"
            ],
            [
             1,
             "#00cc96"
            ]
           ],
           "geo": "geo",
           "hovertemplate": "<b>%{hovertext}</b><br><br>Predicated_Cluster_STR=0<br>Year=2018<br>country_code=%{location}<extra></extra>",
           "hovertext": [
            "Czechia",
            "Denmark",
            "Slovakia"
           ],
           "locations": [
            "CZE",
            "DNK",
            "SVK"
           ],
           "name": "0",
           "showlegend": true,
           "showscale": false,
           "type": "choropleth",
           "z": [
            1,
            1,
            1
           ]
          }
         ],
         "name": "2018"
        },
        {
         "data": [
          {
           "colorscale": [
            [
             0,
             "rgb(0, 147, 146)"
            ],
            [
             1,
             "rgb(0, 147, 146)"
            ]
           ],
           "geo": "geo",
           "hovertemplate": "<b>%{hovertext}</b><br><br>Predicated_Cluster_STR=2<br>Year=2019<br>country_code=%{location}<extra></extra>",
           "hovertext": [
            "Bulgaria",
            "Greece",
            "Croatia",
            "Cyprus",
            "Latvia",
            "Lithuania",
            "Austria",
            "Poland",
            "Portugal",
            "Romania",
            "Slovenia"
           ],
           "locations": [
            "BGR",
            "GRC",
            "HRV",
            "CYP",
            "LVA",
            "LTU",
            "AUT",
            "POL",
            "PRT",
            "ROU",
            "SVN"
           ],
           "name": "2",
           "showlegend": true,
           "showscale": false,
           "type": "choropleth",
           "z": [
            1,
            1,
            1,
            1,
            1,
            1,
            1,
            1,
            1,
            1,
            1
           ]
          },
          {
           "colorscale": [
            [
             0,
             "#EF553B"
            ],
            [
             1,
             "#EF553B"
            ]
           ],
           "geo": "geo",
           "hovertemplate": "<b>%{hovertext}</b><br><br>Predicated_Cluster_STR=1<br>Year=2019<br>country_code=%{location}<extra></extra>",
           "hovertext": [
            "Belgium",
            "Germany",
            "Estonia",
            "Ireland",
            "Spain",
            "France",
            "Italy",
            "Luxembourg",
            "Hungary",
            "Malta",
            "Netherlands",
            "Finland",
            "Sweden"
           ],
           "locations": [
            "BEL",
            "DEU",
            "EST",
            "IRL",
            "ESP",
            "FRA",
            "ITA",
            "LUX",
            "HUN",
            "MLT",
            null,
            "FIN",
            "SWE"
           ],
           "name": "1",
           "showlegend": true,
           "showscale": false,
           "type": "choropleth",
           "z": [
            1,
            1,
            1,
            1,
            1,
            1,
            1,
            1,
            1,
            1,
            1,
            1,
            1
           ]
          },
          {
           "colorscale": [
            [
             0,
             "#00cc96"
            ],
            [
             1,
             "#00cc96"
            ]
           ],
           "geo": "geo",
           "hovertemplate": "<b>%{hovertext}</b><br><br>Predicated_Cluster_STR=0<br>Year=2019<br>country_code=%{location}<extra></extra>",
           "hovertext": [
            "Czechia",
            "Denmark",
            "Slovakia"
           ],
           "locations": [
            "CZE",
            "DNK",
            "SVK"
           ],
           "name": "0",
           "showlegend": true,
           "showscale": false,
           "type": "choropleth",
           "z": [
            1,
            1,
            1
           ]
          }
         ],
         "name": "2019"
        },
        {
         "data": [
          {
           "colorscale": [
            [
             0,
             "rgb(0, 147, 146)"
            ],
            [
             1,
             "rgb(0, 147, 146)"
            ]
           ],
           "geo": "geo",
           "hovertemplate": "<b>%{hovertext}</b><br><br>Predicated_Cluster_STR=2<br>Year=2020<br>country_code=%{location}<extra></extra>",
           "hovertext": [
            "Bulgaria",
            "Greece",
            "Croatia",
            "Cyprus",
            "Latvia",
            "Lithuania",
            "Austria",
            "Poland",
            "Portugal",
            "Romania",
            "Slovenia"
           ],
           "locations": [
            "BGR",
            "GRC",
            "HRV",
            "CYP",
            "LVA",
            "LTU",
            "AUT",
            "POL",
            "PRT",
            "ROU",
            "SVN"
           ],
           "name": "2",
           "showlegend": true,
           "showscale": false,
           "type": "choropleth",
           "z": [
            1,
            1,
            1,
            1,
            1,
            1,
            1,
            1,
            1,
            1,
            1
           ]
          },
          {
           "colorscale": [
            [
             0,
             "#EF553B"
            ],
            [
             1,
             "#EF553B"
            ]
           ],
           "geo": "geo",
           "hovertemplate": "<b>%{hovertext}</b><br><br>Predicated_Cluster_STR=1<br>Year=2020<br>country_code=%{location}<extra></extra>",
           "hovertext": [
            "Belgium",
            "Germany",
            "Estonia",
            "Ireland",
            "Spain",
            "France",
            "Italy",
            "Luxembourg",
            "Hungary",
            "Malta",
            "Netherlands",
            "Finland",
            "Sweden"
           ],
           "locations": [
            "BEL",
            "DEU",
            "EST",
            "IRL",
            "ESP",
            "FRA",
            "ITA",
            "LUX",
            "HUN",
            "MLT",
            null,
            "FIN",
            "SWE"
           ],
           "name": "1",
           "showlegend": true,
           "showscale": false,
           "type": "choropleth",
           "z": [
            1,
            1,
            1,
            1,
            1,
            1,
            1,
            1,
            1,
            1,
            1,
            1,
            1
           ]
          },
          {
           "colorscale": [
            [
             0,
             "#00cc96"
            ],
            [
             1,
             "#00cc96"
            ]
           ],
           "geo": "geo",
           "hovertemplate": "<b>%{hovertext}</b><br><br>Predicated_Cluster_STR=0<br>Year=2020<br>country_code=%{location}<extra></extra>",
           "hovertext": [
            "Czechia",
            "Denmark",
            "Slovakia"
           ],
           "locations": [
            "CZE",
            "DNK",
            "SVK"
           ],
           "name": "0",
           "showlegend": true,
           "showscale": false,
           "type": "choropleth",
           "z": [
            1,
            1,
            1
           ]
          }
         ],
         "name": "2020"
        },
        {
         "data": [
          {
           "colorscale": [
            [
             0,
             "rgb(0, 147, 146)"
            ],
            [
             1,
             "rgb(0, 147, 146)"
            ]
           ],
           "geo": "geo",
           "hovertemplate": "<b>%{hovertext}</b><br><br>Predicated_Cluster_STR=2<br>Year=2021<br>country_code=%{location}<extra></extra>",
           "hovertext": [
            "Bulgaria",
            "Greece",
            "Croatia",
            "Cyprus",
            "Latvia",
            "Lithuania",
            "Austria",
            "Poland",
            "Portugal",
            "Romania",
            "Slovenia"
           ],
           "locations": [
            "BGR",
            "GRC",
            "HRV",
            "CYP",
            "LVA",
            "LTU",
            "AUT",
            "POL",
            "PRT",
            "ROU",
            "SVN"
           ],
           "name": "2",
           "showlegend": true,
           "showscale": false,
           "type": "choropleth",
           "z": [
            1,
            1,
            1,
            1,
            1,
            1,
            1,
            1,
            1,
            1,
            1
           ]
          },
          {
           "colorscale": [
            [
             0,
             "#EF553B"
            ],
            [
             1,
             "#EF553B"
            ]
           ],
           "geo": "geo",
           "hovertemplate": "<b>%{hovertext}</b><br><br>Predicated_Cluster_STR=1<br>Year=2021<br>country_code=%{location}<extra></extra>",
           "hovertext": [
            "Belgium",
            "Germany",
            "Estonia",
            "Ireland",
            "Spain",
            "France",
            "Italy",
            "Luxembourg",
            "Hungary",
            "Malta",
            "Netherlands",
            "Finland",
            "Sweden"
           ],
           "locations": [
            "BEL",
            "DEU",
            "EST",
            "IRL",
            "ESP",
            "FRA",
            "ITA",
            "LUX",
            "HUN",
            "MLT",
            null,
            "FIN",
            "SWE"
           ],
           "name": "1",
           "showlegend": true,
           "showscale": false,
           "type": "choropleth",
           "z": [
            1,
            1,
            1,
            1,
            1,
            1,
            1,
            1,
            1,
            1,
            1,
            1,
            1
           ]
          },
          {
           "colorscale": [
            [
             0,
             "#00cc96"
            ],
            [
             1,
             "#00cc96"
            ]
           ],
           "geo": "geo",
           "hovertemplate": "<b>%{hovertext}</b><br><br>Predicated_Cluster_STR=0<br>Year=2021<br>country_code=%{location}<extra></extra>",
           "hovertext": [
            "Czechia",
            "Denmark",
            "Slovakia"
           ],
           "locations": [
            "CZE",
            "DNK",
            "SVK"
           ],
           "name": "0",
           "showlegend": true,
           "showscale": false,
           "type": "choropleth",
           "z": [
            1,
            1,
            1
           ]
          }
         ],
         "name": "2021"
        }
       ],
       "layout": {
        "geo": {
         "center": {},
         "domain": {
          "x": [
           0,
           1
          ],
          "y": [
           0,
           1
          ]
         },
         "scope": "europe"
        },
        "height": 600,
        "legend": {
         "title": {
          "text": "Predicated_Cluster_STR"
         },
         "tracegroupgap": 0
        },
        "margin": {
         "b": 10,
         "l": 10,
         "r": 10,
         "t": 10
        },
        "sliders": [
         {
          "active": 0,
          "currentvalue": {
           "prefix": "Year="
          },
          "len": 0.9,
          "pad": {
           "b": 10,
           "t": 60
          },
          "steps": [
           {
            "args": [
             [
              "2004"
             ],
             {
              "frame": {
               "duration": 0,
               "redraw": true
              },
              "fromcurrent": true,
              "mode": "immediate",
              "transition": {
               "duration": 0,
               "easing": "linear"
              }
             }
            ],
            "label": "2004",
            "method": "animate"
           },
           {
            "args": [
             [
              "2005"
             ],
             {
              "frame": {
               "duration": 0,
               "redraw": true
              },
              "fromcurrent": true,
              "mode": "immediate",
              "transition": {
               "duration": 0,
               "easing": "linear"
              }
             }
            ],
            "label": "2005",
            "method": "animate"
           },
           {
            "args": [
             [
              "2006"
             ],
             {
              "frame": {
               "duration": 0,
               "redraw": true
              },
              "fromcurrent": true,
              "mode": "immediate",
              "transition": {
               "duration": 0,
               "easing": "linear"
              }
             }
            ],
            "label": "2006",
            "method": "animate"
           },
           {
            "args": [
             [
              "2007"
             ],
             {
              "frame": {
               "duration": 0,
               "redraw": true
              },
              "fromcurrent": true,
              "mode": "immediate",
              "transition": {
               "duration": 0,
               "easing": "linear"
              }
             }
            ],
            "label": "2007",
            "method": "animate"
           },
           {
            "args": [
             [
              "2008"
             ],
             {
              "frame": {
               "duration": 0,
               "redraw": true
              },
              "fromcurrent": true,
              "mode": "immediate",
              "transition": {
               "duration": 0,
               "easing": "linear"
              }
             }
            ],
            "label": "2008",
            "method": "animate"
           },
           {
            "args": [
             [
              "2009"
             ],
             {
              "frame": {
               "duration": 0,
               "redraw": true
              },
              "fromcurrent": true,
              "mode": "immediate",
              "transition": {
               "duration": 0,
               "easing": "linear"
              }
             }
            ],
            "label": "2009",
            "method": "animate"
           },
           {
            "args": [
             [
              "2010"
             ],
             {
              "frame": {
               "duration": 0,
               "redraw": true
              },
              "fromcurrent": true,
              "mode": "immediate",
              "transition": {
               "duration": 0,
               "easing": "linear"
              }
             }
            ],
            "label": "2010",
            "method": "animate"
           },
           {
            "args": [
             [
              "2011"
             ],
             {
              "frame": {
               "duration": 0,
               "redraw": true
              },
              "fromcurrent": true,
              "mode": "immediate",
              "transition": {
               "duration": 0,
               "easing": "linear"
              }
             }
            ],
            "label": "2011",
            "method": "animate"
           },
           {
            "args": [
             [
              "2012"
             ],
             {
              "frame": {
               "duration": 0,
               "redraw": true
              },
              "fromcurrent": true,
              "mode": "immediate",
              "transition": {
               "duration": 0,
               "easing": "linear"
              }
             }
            ],
            "label": "2012",
            "method": "animate"
           },
           {
            "args": [
             [
              "2013"
             ],
             {
              "frame": {
               "duration": 0,
               "redraw": true
              },
              "fromcurrent": true,
              "mode": "immediate",
              "transition": {
               "duration": 0,
               "easing": "linear"
              }
             }
            ],
            "label": "2013",
            "method": "animate"
           },
           {
            "args": [
             [
              "2014"
             ],
             {
              "frame": {
               "duration": 0,
               "redraw": true
              },
              "fromcurrent": true,
              "mode": "immediate",
              "transition": {
               "duration": 0,
               "easing": "linear"
              }
             }
            ],
            "label": "2014",
            "method": "animate"
           },
           {
            "args": [
             [
              "2015"
             ],
             {
              "frame": {
               "duration": 0,
               "redraw": true
              },
              "fromcurrent": true,
              "mode": "immediate",
              "transition": {
               "duration": 0,
               "easing": "linear"
              }
             }
            ],
            "label": "2015",
            "method": "animate"
           },
           {
            "args": [
             [
              "2016"
             ],
             {
              "frame": {
               "duration": 0,
               "redraw": true
              },
              "fromcurrent": true,
              "mode": "immediate",
              "transition": {
               "duration": 0,
               "easing": "linear"
              }
             }
            ],
            "label": "2016",
            "method": "animate"
           },
           {
            "args": [
             [
              "2017"
             ],
             {
              "frame": {
               "duration": 0,
               "redraw": true
              },
              "fromcurrent": true,
              "mode": "immediate",
              "transition": {
               "duration": 0,
               "easing": "linear"
              }
             }
            ],
            "label": "2017",
            "method": "animate"
           },
           {
            "args": [
             [
              "2018"
             ],
             {
              "frame": {
               "duration": 0,
               "redraw": true
              },
              "fromcurrent": true,
              "mode": "immediate",
              "transition": {
               "duration": 0,
               "easing": "linear"
              }
             }
            ],
            "label": "2018",
            "method": "animate"
           },
           {
            "args": [
             [
              "2019"
             ],
             {
              "frame": {
               "duration": 0,
               "redraw": true
              },
              "fromcurrent": true,
              "mode": "immediate",
              "transition": {
               "duration": 0,
               "easing": "linear"
              }
             }
            ],
            "label": "2019",
            "method": "animate"
           },
           {
            "args": [
             [
              "2020"
             ],
             {
              "frame": {
               "duration": 0,
               "redraw": true
              },
              "fromcurrent": true,
              "mode": "immediate",
              "transition": {
               "duration": 0,
               "easing": "linear"
              }
             }
            ],
            "label": "2020",
            "method": "animate"
           },
           {
            "args": [
             [
              "2021"
             ],
             {
              "frame": {
               "duration": 0,
               "redraw": true
              },
              "fromcurrent": true,
              "mode": "immediate",
              "transition": {
               "duration": 0,
               "easing": "linear"
              }
             }
            ],
            "label": "2021",
            "method": "animate"
           }
          ],
          "x": 0.1,
          "xanchor": "left",
          "y": 0,
          "yanchor": "top"
         }
        ],
        "template": {
         "data": {
          "bar": [
           {
            "error_x": {
             "color": "#2a3f5f"
            },
            "error_y": {
             "color": "#2a3f5f"
            },
            "marker": {
             "line": {
              "color": "#E5ECF6",
              "width": 0.5
             },
             "pattern": {
              "fillmode": "overlay",
              "size": 10,
              "solidity": 0.2
             }
            },
            "type": "bar"
           }
          ],
          "barpolar": [
           {
            "marker": {
             "line": {
              "color": "#E5ECF6",
              "width": 0.5
             },
             "pattern": {
              "fillmode": "overlay",
              "size": 10,
              "solidity": 0.2
             }
            },
            "type": "barpolar"
           }
          ],
          "carpet": [
           {
            "aaxis": {
             "endlinecolor": "#2a3f5f",
             "gridcolor": "white",
             "linecolor": "white",
             "minorgridcolor": "white",
             "startlinecolor": "#2a3f5f"
            },
            "baxis": {
             "endlinecolor": "#2a3f5f",
             "gridcolor": "white",
             "linecolor": "white",
             "minorgridcolor": "white",
             "startlinecolor": "#2a3f5f"
            },
            "type": "carpet"
           }
          ],
          "choropleth": [
           {
            "colorbar": {
             "outlinewidth": 0,
             "ticks": ""
            },
            "type": "choropleth"
           }
          ],
          "contour": [
           {
            "colorbar": {
             "outlinewidth": 0,
             "ticks": ""
            },
            "colorscale": [
             [
              0,
              "#0d0887"
             ],
             [
              0.1111111111111111,
              "#46039f"
             ],
             [
              0.2222222222222222,
              "#7201a8"
             ],
             [
              0.3333333333333333,
              "#9c179e"
             ],
             [
              0.4444444444444444,
              "#bd3786"
             ],
             [
              0.5555555555555556,
              "#d8576b"
             ],
             [
              0.6666666666666666,
              "#ed7953"
             ],
             [
              0.7777777777777778,
              "#fb9f3a"
             ],
             [
              0.8888888888888888,
              "#fdca26"
             ],
             [
              1,
              "#f0f921"
             ]
            ],
            "type": "contour"
           }
          ],
          "contourcarpet": [
           {
            "colorbar": {
             "outlinewidth": 0,
             "ticks": ""
            },
            "type": "contourcarpet"
           }
          ],
          "heatmap": [
           {
            "colorbar": {
             "outlinewidth": 0,
             "ticks": ""
            },
            "colorscale": [
             [
              0,
              "#0d0887"
             ],
             [
              0.1111111111111111,
              "#46039f"
             ],
             [
              0.2222222222222222,
              "#7201a8"
             ],
             [
              0.3333333333333333,
              "#9c179e"
             ],
             [
              0.4444444444444444,
              "#bd3786"
             ],
             [
              0.5555555555555556,
              "#d8576b"
             ],
             [
              0.6666666666666666,
              "#ed7953"
             ],
             [
              0.7777777777777778,
              "#fb9f3a"
             ],
             [
              0.8888888888888888,
              "#fdca26"
             ],
             [
              1,
              "#f0f921"
             ]
            ],
            "type": "heatmap"
           }
          ],
          "heatmapgl": [
           {
            "colorbar": {
             "outlinewidth": 0,
             "ticks": ""
            },
            "colorscale": [
             [
              0,
              "#0d0887"
             ],
             [
              0.1111111111111111,
              "#46039f"
             ],
             [
              0.2222222222222222,
              "#7201a8"
             ],
             [
              0.3333333333333333,
              "#9c179e"
             ],
             [
              0.4444444444444444,
              "#bd3786"
             ],
             [
              0.5555555555555556,
              "#d8576b"
             ],
             [
              0.6666666666666666,
              "#ed7953"
             ],
             [
              0.7777777777777778,
              "#fb9f3a"
             ],
             [
              0.8888888888888888,
              "#fdca26"
             ],
             [
              1,
              "#f0f921"
             ]
            ],
            "type": "heatmapgl"
           }
          ],
          "histogram": [
           {
            "marker": {
             "pattern": {
              "fillmode": "overlay",
              "size": 10,
              "solidity": 0.2
             }
            },
            "type": "histogram"
           }
          ],
          "histogram2d": [
           {
            "colorbar": {
             "outlinewidth": 0,
             "ticks": ""
            },
            "colorscale": [
             [
              0,
              "#0d0887"
             ],
             [
              0.1111111111111111,
              "#46039f"
             ],
             [
              0.2222222222222222,
              "#7201a8"
             ],
             [
              0.3333333333333333,
              "#9c179e"
             ],
             [
              0.4444444444444444,
              "#bd3786"
             ],
             [
              0.5555555555555556,
              "#d8576b"
             ],
             [
              0.6666666666666666,
              "#ed7953"
             ],
             [
              0.7777777777777778,
              "#fb9f3a"
             ],
             [
              0.8888888888888888,
              "#fdca26"
             ],
             [
              1,
              "#f0f921"
             ]
            ],
            "type": "histogram2d"
           }
          ],
          "histogram2dcontour": [
           {
            "colorbar": {
             "outlinewidth": 0,
             "ticks": ""
            },
            "colorscale": [
             [
              0,
              "#0d0887"
             ],
             [
              0.1111111111111111,
              "#46039f"
             ],
             [
              0.2222222222222222,
              "#7201a8"
             ],
             [
              0.3333333333333333,
              "#9c179e"
             ],
             [
              0.4444444444444444,
              "#bd3786"
             ],
             [
              0.5555555555555556,
              "#d8576b"
             ],
             [
              0.6666666666666666,
              "#ed7953"
             ],
             [
              0.7777777777777778,
              "#fb9f3a"
             ],
             [
              0.8888888888888888,
              "#fdca26"
             ],
             [
              1,
              "#f0f921"
             ]
            ],
            "type": "histogram2dcontour"
           }
          ],
          "mesh3d": [
           {
            "colorbar": {
             "outlinewidth": 0,
             "ticks": ""
            },
            "type": "mesh3d"
           }
          ],
          "parcoords": [
           {
            "line": {
             "colorbar": {
              "outlinewidth": 0,
              "ticks": ""
             }
            },
            "type": "parcoords"
           }
          ],
          "pie": [
           {
            "automargin": true,
            "type": "pie"
           }
          ],
          "scatter": [
           {
            "fillpattern": {
             "fillmode": "overlay",
             "size": 10,
             "solidity": 0.2
            },
            "type": "scatter"
           }
          ],
          "scatter3d": [
           {
            "line": {
             "colorbar": {
              "outlinewidth": 0,
              "ticks": ""
             }
            },
            "marker": {
             "colorbar": {
              "outlinewidth": 0,
              "ticks": ""
             }
            },
            "type": "scatter3d"
           }
          ],
          "scattercarpet": [
           {
            "marker": {
             "colorbar": {
              "outlinewidth": 0,
              "ticks": ""
             }
            },
            "type": "scattercarpet"
           }
          ],
          "scattergeo": [
           {
            "marker": {
             "colorbar": {
              "outlinewidth": 0,
              "ticks": ""
             }
            },
            "type": "scattergeo"
           }
          ],
          "scattergl": [
           {
            "marker": {
             "colorbar": {
              "outlinewidth": 0,
              "ticks": ""
             }
            },
            "type": "scattergl"
           }
          ],
          "scattermapbox": [
           {
            "marker": {
             "colorbar": {
              "outlinewidth": 0,
              "ticks": ""
             }
            },
            "type": "scattermapbox"
           }
          ],
          "scatterpolar": [
           {
            "marker": {
             "colorbar": {
              "outlinewidth": 0,
              "ticks": ""
             }
            },
            "type": "scatterpolar"
           }
          ],
          "scatterpolargl": [
           {
            "marker": {
             "colorbar": {
              "outlinewidth": 0,
              "ticks": ""
             }
            },
            "type": "scatterpolargl"
           }
          ],
          "scatterternary": [
           {
            "marker": {
             "colorbar": {
              "outlinewidth": 0,
              "ticks": ""
             }
            },
            "type": "scatterternary"
           }
          ],
          "surface": [
           {
            "colorbar": {
             "outlinewidth": 0,
             "ticks": ""
            },
            "colorscale": [
             [
              0,
              "#0d0887"
             ],
             [
              0.1111111111111111,
              "#46039f"
             ],
             [
              0.2222222222222222,
              "#7201a8"
             ],
             [
              0.3333333333333333,
              "#9c179e"
             ],
             [
              0.4444444444444444,
              "#bd3786"
             ],
             [
              0.5555555555555556,
              "#d8576b"
             ],
             [
              0.6666666666666666,
              "#ed7953"
             ],
             [
              0.7777777777777778,
              "#fb9f3a"
             ],
             [
              0.8888888888888888,
              "#fdca26"
             ],
             [
              1,
              "#f0f921"
             ]
            ],
            "type": "surface"
           }
          ],
          "table": [
           {
            "cells": {
             "fill": {
              "color": "#EBF0F8"
             },
             "line": {
              "color": "white"
             }
            },
            "header": {
             "fill": {
              "color": "#C8D4E3"
             },
             "line": {
              "color": "white"
             }
            },
            "type": "table"
           }
          ]
         },
         "layout": {
          "annotationdefaults": {
           "arrowcolor": "#2a3f5f",
           "arrowhead": 0,
           "arrowwidth": 1
          },
          "autotypenumbers": "strict",
          "coloraxis": {
           "colorbar": {
            "outlinewidth": 0,
            "ticks": ""
           }
          },
          "colorscale": {
           "diverging": [
            [
             0,
             "#8e0152"
            ],
            [
             0.1,
             "#c51b7d"
            ],
            [
             0.2,
             "#de77ae"
            ],
            [
             0.3,
             "#f1b6da"
            ],
            [
             0.4,
             "#fde0ef"
            ],
            [
             0.5,
             "#f7f7f7"
            ],
            [
             0.6,
             "#e6f5d0"
            ],
            [
             0.7,
             "#b8e186"
            ],
            [
             0.8,
             "#7fbc41"
            ],
            [
             0.9,
             "#4d9221"
            ],
            [
             1,
             "#276419"
            ]
           ],
           "sequential": [
            [
             0,
             "#0d0887"
            ],
            [
             0.1111111111111111,
             "#46039f"
            ],
            [
             0.2222222222222222,
             "#7201a8"
            ],
            [
             0.3333333333333333,
             "#9c179e"
            ],
            [
             0.4444444444444444,
             "#bd3786"
            ],
            [
             0.5555555555555556,
             "#d8576b"
            ],
            [
             0.6666666666666666,
             "#ed7953"
            ],
            [
             0.7777777777777778,
             "#fb9f3a"
            ],
            [
             0.8888888888888888,
             "#fdca26"
            ],
            [
             1,
             "#f0f921"
            ]
           ],
           "sequentialminus": [
            [
             0,
             "#0d0887"
            ],
            [
             0.1111111111111111,
             "#46039f"
            ],
            [
             0.2222222222222222,
             "#7201a8"
            ],
            [
             0.3333333333333333,
             "#9c179e"
            ],
            [
             0.4444444444444444,
             "#bd3786"
            ],
            [
             0.5555555555555556,
             "#d8576b"
            ],
            [
             0.6666666666666666,
             "#ed7953"
            ],
            [
             0.7777777777777778,
             "#fb9f3a"
            ],
            [
             0.8888888888888888,
             "#fdca26"
            ],
            [
             1,
             "#f0f921"
            ]
           ]
          },
          "colorway": [
           "#636efa",
           "#EF553B",
           "#00cc96",
           "#ab63fa",
           "#FFA15A",
           "#19d3f3",
           "#FF6692",
           "#B6E880",
           "#FF97FF",
           "#FECB52"
          ],
          "font": {
           "color": "#2a3f5f"
          },
          "geo": {
           "bgcolor": "white",
           "lakecolor": "white",
           "landcolor": "#E5ECF6",
           "showlakes": true,
           "showland": true,
           "subunitcolor": "white"
          },
          "hoverlabel": {
           "align": "left"
          },
          "hovermode": "closest",
          "mapbox": {
           "style": "light"
          },
          "paper_bgcolor": "white",
          "plot_bgcolor": "#E5ECF6",
          "polar": {
           "angularaxis": {
            "gridcolor": "white",
            "linecolor": "white",
            "ticks": ""
           },
           "bgcolor": "#E5ECF6",
           "radialaxis": {
            "gridcolor": "white",
            "linecolor": "white",
            "ticks": ""
           }
          },
          "scene": {
           "xaxis": {
            "backgroundcolor": "#E5ECF6",
            "gridcolor": "white",
            "gridwidth": 2,
            "linecolor": "white",
            "showbackground": true,
            "ticks": "",
            "zerolinecolor": "white"
           },
           "yaxis": {
            "backgroundcolor": "#E5ECF6",
            "gridcolor": "white",
            "gridwidth": 2,
            "linecolor": "white",
            "showbackground": true,
            "ticks": "",
            "zerolinecolor": "white"
           },
           "zaxis": {
            "backgroundcolor": "#E5ECF6",
            "gridcolor": "white",
            "gridwidth": 2,
            "linecolor": "white",
            "showbackground": true,
            "ticks": "",
            "zerolinecolor": "white"
           }
          },
          "shapedefaults": {
           "line": {
            "color": "#2a3f5f"
           }
          },
          "ternary": {
           "aaxis": {
            "gridcolor": "white",
            "linecolor": "white",
            "ticks": ""
           },
           "baxis": {
            "gridcolor": "white",
            "linecolor": "white",
            "ticks": ""
           },
           "bgcolor": "#E5ECF6",
           "caxis": {
            "gridcolor": "white",
            "linecolor": "white",
            "ticks": ""
           }
          },
          "title": {
           "x": 0.05
          },
          "xaxis": {
           "automargin": true,
           "gridcolor": "white",
           "linecolor": "white",
           "ticks": "",
           "title": {
            "standoff": 15
           },
           "zerolinecolor": "white",
           "zerolinewidth": 2
          },
          "yaxis": {
           "automargin": true,
           "gridcolor": "white",
           "linecolor": "white",
           "ticks": "",
           "title": {
            "standoff": 15
           },
           "zerolinecolor": "white",
           "zerolinewidth": 2
          }
         }
        },
        "updatemenus": [
         {
          "buttons": [
           {
            "args": [
             null,
             {
              "frame": {
               "duration": 500,
               "redraw": true
              },
              "fromcurrent": true,
              "mode": "immediate",
              "transition": {
               "duration": 500,
               "easing": "linear"
              }
             }
            ],
            "label": "&#9654;",
            "method": "animate"
           },
           {
            "args": [
             [
              null
             ],
             {
              "frame": {
               "duration": 0,
               "redraw": true
              },
              "fromcurrent": true,
              "mode": "immediate",
              "transition": {
               "duration": 0,
               "easing": "linear"
              }
             }
            ],
            "label": "&#9724;",
            "method": "animate"
           }
          ],
          "direction": "left",
          "pad": {
           "r": 10,
           "t": 70
          },
          "showactive": false,
          "type": "buttons",
          "x": 0.1,
          "xanchor": "right",
          "y": 0,
          "yanchor": "top"
         }
        ],
        "width": 600
       }
      }
     },
     "metadata": {},
     "output_type": "display_data"
    }
   ],
   "source": [
    "dairy_ag_df_PCA_Agglomerative['Predicated_Cluster_STR'] = dairy_ag_df_PCA_Agglomerative.Predicated_Cluster.astype(str)\n",
    "\n",
    "color_dictionary = dict(\n",
    "    zip(\n",
    "        dairy_ag_df_PCA_kmeans['Predicated_Cluster_STR'].unique().tolist(), \n",
    "        px.colors.carto.Temps[:NUM_CLUSTERS:3]\n",
    "        )\n",
    ")\n",
    "\n",
    "figAggr = px.choropleth(dairy_ag_df_PCA_Agglomerative,\n",
    "                locations=\"country_code\", \n",
    "                color='Predicated_Cluster_STR', \n",
    "                hover_name=\"Member State\", # column to display in hover information\n",
    "                scope='europe', # set the scope to europe\n",
    "                color_discrete_map=color_dictionary,\n",
    "                animation_frame=\"Year\",\n",
    "                # color_continuous_scale=px.colors.carto.Temps, # set the color scale\n",
    "                width=600,\n",
    "                height=600,\n",
    "                )\n",
    "figAggr.update_layout(\n",
    "    margin=dict(l=10, r=10, t=10, b=10)\n",
    ")"
   ]
  },
  {
   "cell_type": "code",
   "execution_count": null,
   "metadata": {},
   "outputs": [],
   "source": []
  }
 ],
 "metadata": {
  "kernelspec": {
   "display_name": "base",
   "language": "python",
   "name": "python3"
  },
  "language_info": {
   "codemirror_mode": {
    "name": "ipython",
    "version": 3
   },
   "file_extension": ".py",
   "mimetype": "text/x-python",
   "name": "python",
   "nbconvert_exporter": "python",
   "pygments_lexer": "ipython3",
   "version": "3.11.5"
  }
 },
 "nbformat": 4,
 "nbformat_minor": 2
}
