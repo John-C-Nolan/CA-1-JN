{
 "cells": [
  {
   "cell_type": "code",
   "execution_count": 1,
   "metadata": {},
   "outputs": [],
   "source": [
    "# Import libraries\n",
    "import pandas as pd\n",
    "import numpy as np\n",
    "import pingouin as pg \n",
    "import seaborn as sns\n",
    "import matplotlib.pyplot as plt\n",
    "import warnings\n",
    "import statsmodels.api as sm\n",
    "import scikit_posthocs as sp\n",
    "from scipy.stats import binom, poisson, norm\n",
    "from scipy.stats import kruskal\n",
    "\n",
    "import ipywidgets as widgets\n",
    "from ipywidgets import interact, interact_manual\n",
    "\n",
    "warnings.filterwarnings('ignore') # Suppress warnings\n",
    "\n",
    "from IPython.core.interactiveshell import InteractiveShell\n",
    "InteractiveShell.ast_node_interactivity = \"all\"\n",
    "\n",
    "pd.set_option('display.max_columns', None)"
   ]
  },
  {
   "cell_type": "code",
   "execution_count": 2,
   "metadata": {},
   "outputs": [],
   "source": [
    "# Read in the data\n",
    "# f = open('data/Dairy_unmerged.xlsx', 'rb').read()\n",
    "# dairy_df = pd.read_excel(f)\n",
    "\n",
    "FAO_dairy_total_df = pd.read_csv(\"data/FAOSTAT_data_en_4-28-2024.csv\")"
   ]
  },
  {
   "cell_type": "code",
   "execution_count": 3,
   "metadata": {},
   "outputs": [
    {
     "data": {
      "text/plain": [
       "(6736, 15)"
      ]
     },
     "execution_count": 3,
     "metadata": {},
     "output_type": "execute_result"
    },
    {
     "data": {
      "text/html": [
       "<div>\n",
       "<style scoped>\n",
       "    .dataframe tbody tr th:only-of-type {\n",
       "        vertical-align: middle;\n",
       "    }\n",
       "\n",
       "    .dataframe tbody tr th {\n",
       "        vertical-align: top;\n",
       "    }\n",
       "\n",
       "    .dataframe thead th {\n",
       "        text-align: right;\n",
       "    }\n",
       "</style>\n",
       "<table border=\"1\" class=\"dataframe\">\n",
       "  <thead>\n",
       "    <tr style=\"text-align: right;\">\n",
       "      <th></th>\n",
       "      <th>Domain Code</th>\n",
       "      <th>Domain</th>\n",
       "      <th>Area Code (M49)</th>\n",
       "      <th>Area</th>\n",
       "      <th>Element Code</th>\n",
       "      <th>Element</th>\n",
       "      <th>Item Code (CPC)</th>\n",
       "      <th>Item</th>\n",
       "      <th>Year Code</th>\n",
       "      <th>Year</th>\n",
       "      <th>Unit</th>\n",
       "      <th>Value</th>\n",
       "      <th>Flag</th>\n",
       "      <th>Flag Description</th>\n",
       "      <th>Note</th>\n",
       "    </tr>\n",
       "  </thead>\n",
       "  <tbody>\n",
       "    <tr>\n",
       "      <th>0</th>\n",
       "      <td>QCL</td>\n",
       "      <td>Crops and livestock products</td>\n",
       "      <td>40</td>\n",
       "      <td>Austria</td>\n",
       "      <td>5510</td>\n",
       "      <td>Production</td>\n",
       "      <td>22241.01</td>\n",
       "      <td>Butter of cow milk</td>\n",
       "      <td>2004</td>\n",
       "      <td>2004</td>\n",
       "      <td>t</td>\n",
       "      <td>32937.0</td>\n",
       "      <td>A</td>\n",
       "      <td>Official figure</td>\n",
       "      <td>NaN</td>\n",
       "    </tr>\n",
       "    <tr>\n",
       "      <th>1</th>\n",
       "      <td>QCL</td>\n",
       "      <td>Crops and livestock products</td>\n",
       "      <td>40</td>\n",
       "      <td>Austria</td>\n",
       "      <td>5510</td>\n",
       "      <td>Production</td>\n",
       "      <td>22241.01</td>\n",
       "      <td>Butter of cow milk</td>\n",
       "      <td>2005</td>\n",
       "      <td>2005</td>\n",
       "      <td>t</td>\n",
       "      <td>31208.0</td>\n",
       "      <td>A</td>\n",
       "      <td>Official figure</td>\n",
       "      <td>NaN</td>\n",
       "    </tr>\n",
       "    <tr>\n",
       "      <th>2</th>\n",
       "      <td>QCL</td>\n",
       "      <td>Crops and livestock products</td>\n",
       "      <td>40</td>\n",
       "      <td>Austria</td>\n",
       "      <td>5510</td>\n",
       "      <td>Production</td>\n",
       "      <td>22241.01</td>\n",
       "      <td>Butter of cow milk</td>\n",
       "      <td>2006</td>\n",
       "      <td>2006</td>\n",
       "      <td>t</td>\n",
       "      <td>33059.0</td>\n",
       "      <td>A</td>\n",
       "      <td>Official figure</td>\n",
       "      <td>NaN</td>\n",
       "    </tr>\n",
       "    <tr>\n",
       "      <th>3</th>\n",
       "      <td>QCL</td>\n",
       "      <td>Crops and livestock products</td>\n",
       "      <td>40</td>\n",
       "      <td>Austria</td>\n",
       "      <td>5510</td>\n",
       "      <td>Production</td>\n",
       "      <td>22241.01</td>\n",
       "      <td>Butter of cow milk</td>\n",
       "      <td>2007</td>\n",
       "      <td>2007</td>\n",
       "      <td>t</td>\n",
       "      <td>34667.0</td>\n",
       "      <td>A</td>\n",
       "      <td>Official figure</td>\n",
       "      <td>NaN</td>\n",
       "    </tr>\n",
       "    <tr>\n",
       "      <th>4</th>\n",
       "      <td>QCL</td>\n",
       "      <td>Crops and livestock products</td>\n",
       "      <td>40</td>\n",
       "      <td>Austria</td>\n",
       "      <td>5510</td>\n",
       "      <td>Production</td>\n",
       "      <td>22241.01</td>\n",
       "      <td>Butter of cow milk</td>\n",
       "      <td>2008</td>\n",
       "      <td>2008</td>\n",
       "      <td>t</td>\n",
       "      <td>33517.0</td>\n",
       "      <td>A</td>\n",
       "      <td>Official figure</td>\n",
       "      <td>NaN</td>\n",
       "    </tr>\n",
       "  </tbody>\n",
       "</table>\n",
       "</div>"
      ],
      "text/plain": [
       "  Domain Code                        Domain  Area Code (M49)     Area  \\\n",
       "0         QCL  Crops and livestock products               40  Austria   \n",
       "1         QCL  Crops and livestock products               40  Austria   \n",
       "2         QCL  Crops and livestock products               40  Austria   \n",
       "3         QCL  Crops and livestock products               40  Austria   \n",
       "4         QCL  Crops and livestock products               40  Austria   \n",
       "\n",
       "   Element Code     Element  Item Code (CPC)                Item  Year Code  \\\n",
       "0          5510  Production         22241.01  Butter of cow milk       2004   \n",
       "1          5510  Production         22241.01  Butter of cow milk       2005   \n",
       "2          5510  Production         22241.01  Butter of cow milk       2006   \n",
       "3          5510  Production         22241.01  Butter of cow milk       2007   \n",
       "4          5510  Production         22241.01  Butter of cow milk       2008   \n",
       "\n",
       "   Year Unit    Value Flag Flag Description Note  \n",
       "0  2004    t  32937.0    A  Official figure  NaN  \n",
       "1  2005    t  31208.0    A  Official figure  NaN  \n",
       "2  2006    t  33059.0    A  Official figure  NaN  \n",
       "3  2007    t  34667.0    A  Official figure  NaN  \n",
       "4  2008    t  33517.0    A  Official figure  NaN  "
      ]
     },
     "execution_count": 3,
     "metadata": {},
     "output_type": "execute_result"
    }
   ],
   "source": [
    "# Check the data\n",
    "\n",
    "FAO_dairy_total_df.shape\n",
    "FAO_dairy_total_df.head()"
   ]
  },
  {
   "cell_type": "code",
   "execution_count": 4,
   "metadata": {},
   "outputs": [
    {
     "data": {
      "text/plain": [
       "Item\n",
       "Raw milk of cattle                                 1026\n",
       "Raw milk of goats                                   808\n",
       "Raw milk of sheep                                   651\n",
       "Butter of cow milk                                  464\n",
       "Skim milk of cows                                   453\n",
       "Cheese from whole cow milk                          450\n",
       "Skim milk and whey powder                           407\n",
       "Whole milk powder                                   389\n",
       "Whole milk, evaporated                              379\n",
       "Whole milk, condensed                               328\n",
       "Cheese from milk of sheep, fresh or processed       286\n",
       "Cheese from milk of goats, fresh or processed       257\n",
       "Cheese from skimmed cow milk                        243\n",
       "Buttermilk, dry                                     239\n",
       "Raw milk of buffalo                                 212\n",
       "Skim milk, condensed                                 64\n",
       "Skim milk, evaporated                                49\n",
       "Cheese from milk of buffalo, fresh or processed      20\n",
       "Ghee from cow milk                                    9\n",
       "Butter of goat milk                                   2\n",
       "Name: count, dtype: int64"
      ]
     },
     "execution_count": 4,
     "metadata": {},
     "output_type": "execute_result"
    },
    {
     "data": {
      "text/plain": [
       "Element\n",
       "Production    5520\n",
       "Yield         1216\n",
       "Name: count, dtype: int64"
      ]
     },
     "execution_count": 4,
     "metadata": {},
     "output_type": "execute_result"
    },
    {
     "data": {
      "text/plain": [
       "Unit\n",
       "t           5520\n",
       "100 g/An    1216\n",
       "Name: count, dtype: int64"
      ]
     },
     "execution_count": 4,
     "metadata": {},
     "output_type": "execute_result"
    }
   ],
   "source": [
    "# Check the data types for each column\n",
    "\n",
    "FAO_dairy_total_df.Item.value_counts()\n",
    "FAO_dairy_total_df.Element.value_counts()\n",
    "FAO_dairy_total_df.Unit.value_counts()"
   ]
  },
  {
   "cell_type": "code",
   "execution_count": 5,
   "metadata": {},
   "outputs": [
    {
     "data": {
      "text/html": [
       "<div>\n",
       "<style scoped>\n",
       "    .dataframe tbody tr th:only-of-type {\n",
       "        vertical-align: middle;\n",
       "    }\n",
       "\n",
       "    .dataframe tbody tr th {\n",
       "        vertical-align: top;\n",
       "    }\n",
       "\n",
       "    .dataframe thead th {\n",
       "        text-align: right;\n",
       "    }\n",
       "</style>\n",
       "<table border=\"1\" class=\"dataframe\">\n",
       "  <thead>\n",
       "    <tr style=\"text-align: right;\">\n",
       "      <th></th>\n",
       "      <th>Domain Code</th>\n",
       "      <th>Domain</th>\n",
       "      <th>Area Code (M49)</th>\n",
       "      <th>Area</th>\n",
       "      <th>Element Code</th>\n",
       "      <th>Element</th>\n",
       "      <th>Item Code (CPC)</th>\n",
       "      <th>Item</th>\n",
       "      <th>Year Code</th>\n",
       "      <th>Year</th>\n",
       "      <th>Unit</th>\n",
       "      <th>Value</th>\n",
       "      <th>Flag</th>\n",
       "      <th>Flag Description</th>\n",
       "      <th>Note</th>\n",
       "    </tr>\n",
       "  </thead>\n",
       "  <tbody>\n",
       "    <tr>\n",
       "      <th>0</th>\n",
       "      <td>QCL</td>\n",
       "      <td>Crops and livestock products</td>\n",
       "      <td>40</td>\n",
       "      <td>Austria</td>\n",
       "      <td>5510</td>\n",
       "      <td>Production</td>\n",
       "      <td>2212.0</td>\n",
       "      <td>Raw milk of buffalo</td>\n",
       "      <td>2018</td>\n",
       "      <td>2018</td>\n",
       "      <td>t</td>\n",
       "      <td>0.0</td>\n",
       "      <td>A</td>\n",
       "      <td>Official figure</td>\n",
       "      <td>NaN</td>\n",
       "    </tr>\n",
       "    <tr>\n",
       "      <th>1</th>\n",
       "      <td>QCL</td>\n",
       "      <td>Crops and livestock products</td>\n",
       "      <td>40</td>\n",
       "      <td>Austria</td>\n",
       "      <td>5510</td>\n",
       "      <td>Production</td>\n",
       "      <td>2212.0</td>\n",
       "      <td>Raw milk of buffalo</td>\n",
       "      <td>2019</td>\n",
       "      <td>2019</td>\n",
       "      <td>t</td>\n",
       "      <td>0.0</td>\n",
       "      <td>A</td>\n",
       "      <td>Official figure</td>\n",
       "      <td>NaN</td>\n",
       "    </tr>\n",
       "    <tr>\n",
       "      <th>2</th>\n",
       "      <td>QCL</td>\n",
       "      <td>Crops and livestock products</td>\n",
       "      <td>40</td>\n",
       "      <td>Austria</td>\n",
       "      <td>5510</td>\n",
       "      <td>Production</td>\n",
       "      <td>2212.0</td>\n",
       "      <td>Raw milk of buffalo</td>\n",
       "      <td>2020</td>\n",
       "      <td>2020</td>\n",
       "      <td>t</td>\n",
       "      <td>0.0</td>\n",
       "      <td>A</td>\n",
       "      <td>Official figure</td>\n",
       "      <td>NaN</td>\n",
       "    </tr>\n",
       "    <tr>\n",
       "      <th>3</th>\n",
       "      <td>QCL</td>\n",
       "      <td>Crops and livestock products</td>\n",
       "      <td>40</td>\n",
       "      <td>Austria</td>\n",
       "      <td>5510</td>\n",
       "      <td>Production</td>\n",
       "      <td>2212.0</td>\n",
       "      <td>Raw milk of buffalo</td>\n",
       "      <td>2021</td>\n",
       "      <td>2021</td>\n",
       "      <td>t</td>\n",
       "      <td>0.0</td>\n",
       "      <td>A</td>\n",
       "      <td>Official figure</td>\n",
       "      <td>NaN</td>\n",
       "    </tr>\n",
       "    <tr>\n",
       "      <th>4</th>\n",
       "      <td>QCL</td>\n",
       "      <td>Crops and livestock products</td>\n",
       "      <td>40</td>\n",
       "      <td>Austria</td>\n",
       "      <td>5510</td>\n",
       "      <td>Production</td>\n",
       "      <td>2212.0</td>\n",
       "      <td>Raw milk of buffalo</td>\n",
       "      <td>2022</td>\n",
       "      <td>2022</td>\n",
       "      <td>t</td>\n",
       "      <td>0.0</td>\n",
       "      <td>A</td>\n",
       "      <td>Official figure</td>\n",
       "      <td>NaN</td>\n",
       "    </tr>\n",
       "    <tr>\n",
       "      <th>...</th>\n",
       "      <td>...</td>\n",
       "      <td>...</td>\n",
       "      <td>...</td>\n",
       "      <td>...</td>\n",
       "      <td>...</td>\n",
       "      <td>...</td>\n",
       "      <td>...</td>\n",
       "      <td>...</td>\n",
       "      <td>...</td>\n",
       "      <td>...</td>\n",
       "      <td>...</td>\n",
       "      <td>...</td>\n",
       "      <td>...</td>\n",
       "      <td>...</td>\n",
       "      <td>...</td>\n",
       "    </tr>\n",
       "    <tr>\n",
       "      <th>95</th>\n",
       "      <td>QCL</td>\n",
       "      <td>Crops and livestock products</td>\n",
       "      <td>100</td>\n",
       "      <td>Bulgaria</td>\n",
       "      <td>5510</td>\n",
       "      <td>Production</td>\n",
       "      <td>2212.0</td>\n",
       "      <td>Raw milk of buffalo</td>\n",
       "      <td>2008</td>\n",
       "      <td>2008</td>\n",
       "      <td>t</td>\n",
       "      <td>7173.0</td>\n",
       "      <td>A</td>\n",
       "      <td>Official figure</td>\n",
       "      <td>NaN</td>\n",
       "    </tr>\n",
       "    <tr>\n",
       "      <th>96</th>\n",
       "      <td>QCL</td>\n",
       "      <td>Crops and livestock products</td>\n",
       "      <td>100</td>\n",
       "      <td>Bulgaria</td>\n",
       "      <td>5420</td>\n",
       "      <td>Yield</td>\n",
       "      <td>2212.0</td>\n",
       "      <td>Raw milk of buffalo</td>\n",
       "      <td>2009</td>\n",
       "      <td>2009</td>\n",
       "      <td>100 g/An</td>\n",
       "      <td>13222.0</td>\n",
       "      <td>A</td>\n",
       "      <td>Official figure</td>\n",
       "      <td>NaN</td>\n",
       "    </tr>\n",
       "    <tr>\n",
       "      <th>97</th>\n",
       "      <td>QCL</td>\n",
       "      <td>Crops and livestock products</td>\n",
       "      <td>100</td>\n",
       "      <td>Bulgaria</td>\n",
       "      <td>5510</td>\n",
       "      <td>Production</td>\n",
       "      <td>2212.0</td>\n",
       "      <td>Raw milk of buffalo</td>\n",
       "      <td>2009</td>\n",
       "      <td>2009</td>\n",
       "      <td>t</td>\n",
       "      <td>7022.0</td>\n",
       "      <td>A</td>\n",
       "      <td>Official figure</td>\n",
       "      <td>NaN</td>\n",
       "    </tr>\n",
       "    <tr>\n",
       "      <th>98</th>\n",
       "      <td>QCL</td>\n",
       "      <td>Crops and livestock products</td>\n",
       "      <td>100</td>\n",
       "      <td>Bulgaria</td>\n",
       "      <td>5420</td>\n",
       "      <td>Yield</td>\n",
       "      <td>2212.0</td>\n",
       "      <td>Raw milk of buffalo</td>\n",
       "      <td>2010</td>\n",
       "      <td>2010</td>\n",
       "      <td>100 g/An</td>\n",
       "      <td>15876.0</td>\n",
       "      <td>A</td>\n",
       "      <td>Official figure</td>\n",
       "      <td>NaN</td>\n",
       "    </tr>\n",
       "    <tr>\n",
       "      <th>99</th>\n",
       "      <td>QCL</td>\n",
       "      <td>Crops and livestock products</td>\n",
       "      <td>100</td>\n",
       "      <td>Bulgaria</td>\n",
       "      <td>5510</td>\n",
       "      <td>Production</td>\n",
       "      <td>2212.0</td>\n",
       "      <td>Raw milk of buffalo</td>\n",
       "      <td>2010</td>\n",
       "      <td>2010</td>\n",
       "      <td>t</td>\n",
       "      <td>7933.0</td>\n",
       "      <td>A</td>\n",
       "      <td>Official figure</td>\n",
       "      <td>NaN</td>\n",
       "    </tr>\n",
       "  </tbody>\n",
       "</table>\n",
       "<p>100 rows × 15 columns</p>\n",
       "</div>"
      ],
      "text/plain": [
       "   Domain Code                        Domain  Area Code (M49)      Area  \\\n",
       "0          QCL  Crops and livestock products               40   Austria   \n",
       "1          QCL  Crops and livestock products               40   Austria   \n",
       "2          QCL  Crops and livestock products               40   Austria   \n",
       "3          QCL  Crops and livestock products               40   Austria   \n",
       "4          QCL  Crops and livestock products               40   Austria   \n",
       "..         ...                           ...              ...       ...   \n",
       "95         QCL  Crops and livestock products              100  Bulgaria   \n",
       "96         QCL  Crops and livestock products              100  Bulgaria   \n",
       "97         QCL  Crops and livestock products              100  Bulgaria   \n",
       "98         QCL  Crops and livestock products              100  Bulgaria   \n",
       "99         QCL  Crops and livestock products              100  Bulgaria   \n",
       "\n",
       "    Element Code     Element  Item Code (CPC)                 Item  Year Code  \\\n",
       "0           5510  Production           2212.0  Raw milk of buffalo       2018   \n",
       "1           5510  Production           2212.0  Raw milk of buffalo       2019   \n",
       "2           5510  Production           2212.0  Raw milk of buffalo       2020   \n",
       "3           5510  Production           2212.0  Raw milk of buffalo       2021   \n",
       "4           5510  Production           2212.0  Raw milk of buffalo       2022   \n",
       "..           ...         ...              ...                  ...        ...   \n",
       "95          5510  Production           2212.0  Raw milk of buffalo       2008   \n",
       "96          5420       Yield           2212.0  Raw milk of buffalo       2009   \n",
       "97          5510  Production           2212.0  Raw milk of buffalo       2009   \n",
       "98          5420       Yield           2212.0  Raw milk of buffalo       2010   \n",
       "99          5510  Production           2212.0  Raw milk of buffalo       2010   \n",
       "\n",
       "    Year      Unit    Value Flag Flag Description Note  \n",
       "0   2018         t      0.0    A  Official figure  NaN  \n",
       "1   2019         t      0.0    A  Official figure  NaN  \n",
       "2   2020         t      0.0    A  Official figure  NaN  \n",
       "3   2021         t      0.0    A  Official figure  NaN  \n",
       "4   2022         t      0.0    A  Official figure  NaN  \n",
       "..   ...       ...      ...  ...              ...  ...  \n",
       "95  2008         t   7173.0    A  Official figure  NaN  \n",
       "96  2009  100 g/An  13222.0    A  Official figure  NaN  \n",
       "97  2009         t   7022.0    A  Official figure  NaN  \n",
       "98  2010  100 g/An  15876.0    A  Official figure  NaN  \n",
       "99  2010         t   7933.0    A  Official figure  NaN  \n",
       "\n",
       "[100 rows x 15 columns]"
      ]
     },
     "execution_count": 5,
     "metadata": {},
     "output_type": "execute_result"
    }
   ],
   "source": [
    "# Filter the data from FAO to only include the total production and yield of raw milk of cattle and buffalo\n",
    "\n",
    "FAO_dairy_total_df = FAO_dairy_total_df[(FAO_dairy_total_df.Item == 'Raw milk of cattle') | (FAO_dairy_total_df.Item == 'Raw milk of buffalo')].reset_index(drop=True)\n",
    "FAO_dairy_total_df.head(100)"
   ]
  },
  {
   "cell_type": "code",
   "execution_count": 6,
   "metadata": {},
   "outputs": [
    {
     "data": {
      "text/html": [
       "<div>\n",
       "<style scoped>\n",
       "    .dataframe tbody tr th:only-of-type {\n",
       "        vertical-align: middle;\n",
       "    }\n",
       "\n",
       "    .dataframe tbody tr th {\n",
       "        vertical-align: top;\n",
       "    }\n",
       "\n",
       "    .dataframe thead th {\n",
       "        text-align: right;\n",
       "    }\n",
       "</style>\n",
       "<table border=\"1\" class=\"dataframe\">\n",
       "  <thead>\n",
       "    <tr style=\"text-align: right;\">\n",
       "      <th></th>\n",
       "      <th>Member State</th>\n",
       "      <th>Year</th>\n",
       "      <th>Element</th>\n",
       "      <th>Value</th>\n",
       "    </tr>\n",
       "  </thead>\n",
       "  <tbody>\n",
       "    <tr>\n",
       "      <th>0</th>\n",
       "      <td>Austria</td>\n",
       "      <td>2004</td>\n",
       "      <td>Production</td>\n",
       "      <td>3137322.0</td>\n",
       "    </tr>\n",
       "    <tr>\n",
       "      <th>1</th>\n",
       "      <td>Austria</td>\n",
       "      <td>2004</td>\n",
       "      <td>Yield</td>\n",
       "      <td>58019.0</td>\n",
       "    </tr>\n",
       "    <tr>\n",
       "      <th>2</th>\n",
       "      <td>Austria</td>\n",
       "      <td>2005</td>\n",
       "      <td>Production</td>\n",
       "      <td>3113658.0</td>\n",
       "    </tr>\n",
       "    <tr>\n",
       "      <th>3</th>\n",
       "      <td>Austria</td>\n",
       "      <td>2005</td>\n",
       "      <td>Yield</td>\n",
       "      <td>57828.0</td>\n",
       "    </tr>\n",
       "    <tr>\n",
       "      <th>4</th>\n",
       "      <td>Austria</td>\n",
       "      <td>2006</td>\n",
       "      <td>Production</td>\n",
       "      <td>3146657.0</td>\n",
       "    </tr>\n",
       "  </tbody>\n",
       "</table>\n",
       "</div>"
      ],
      "text/plain": [
       "  Member State  Year     Element      Value\n",
       "0      Austria  2004  Production  3137322.0\n",
       "1      Austria  2004       Yield    58019.0\n",
       "2      Austria  2005  Production  3113658.0\n",
       "3      Austria  2005       Yield    57828.0\n",
       "4      Austria  2006  Production  3146657.0"
      ]
     },
     "execution_count": 6,
     "metadata": {},
     "output_type": "execute_result"
    }
   ],
   "source": [
    "# Create new dataframe selecting columns of interest from previous dataframe. Group data by Member State, Year and Element and Values for raw milk are summed for each group\n",
    "\n",
    "dairy_output_df = FAO_dairy_total_df[[ 'Year', 'Area', 'Element', 'Value']].groupby(by=['Area', 'Year', 'Element']).sum().reset_index()\n",
    "dairy_output_df.rename(columns={'Area': 'Member State'}, inplace=True)\n",
    "dairy_output_df['Member State'].replace({'Netherlands (Kingdom of the)': 'Netherlands'}, inplace=True)\n",
    "\n",
    "dairy_output_df.head()"
   ]
  },
  {
   "cell_type": "code",
   "execution_count": 7,
   "metadata": {},
   "outputs": [
    {
     "data": {
      "text/plain": [
       "Member State     object\n",
       "Year              int64\n",
       "Element          object\n",
       "Value           float64\n",
       "dtype: object"
      ]
     },
     "execution_count": 7,
     "metadata": {},
     "output_type": "execute_result"
    }
   ],
   "source": [
    "dairy_output_df.dtypes"
   ]
  },
  {
   "cell_type": "code",
   "execution_count": 8,
   "metadata": {},
   "outputs": [
    {
     "data": {
      "text/html": [
       "<div>\n",
       "<style scoped>\n",
       "    .dataframe tbody tr th:only-of-type {\n",
       "        vertical-align: middle;\n",
       "    }\n",
       "\n",
       "    .dataframe tbody tr th {\n",
       "        vertical-align: top;\n",
       "    }\n",
       "\n",
       "    .dataframe thead th {\n",
       "        text-align: right;\n",
       "    }\n",
       "</style>\n",
       "<table border=\"1\" class=\"dataframe\">\n",
       "  <thead>\n",
       "    <tr style=\"text-align: right;\">\n",
       "      <th>Element</th>\n",
       "      <th>Year</th>\n",
       "      <th>Member State</th>\n",
       "      <th>Production_tonnes</th>\n",
       "      <th>Yield_100g_per_An</th>\n",
       "    </tr>\n",
       "  </thead>\n",
       "  <tbody>\n",
       "    <tr>\n",
       "      <th>0</th>\n",
       "      <td>2004</td>\n",
       "      <td>Austria</td>\n",
       "      <td>3137322.0</td>\n",
       "      <td>58019.0</td>\n",
       "    </tr>\n",
       "    <tr>\n",
       "      <th>1</th>\n",
       "      <td>2004</td>\n",
       "      <td>Belgium</td>\n",
       "      <td>3060000.0</td>\n",
       "      <td>56387.0</td>\n",
       "    </tr>\n",
       "    <tr>\n",
       "      <th>2</th>\n",
       "      <td>2004</td>\n",
       "      <td>Bulgaria</td>\n",
       "      <td>1350979.0</td>\n",
       "      <td>50878.0</td>\n",
       "    </tr>\n",
       "    <tr>\n",
       "      <th>3</th>\n",
       "      <td>2004</td>\n",
       "      <td>Croatia</td>\n",
       "      <td>684379.0</td>\n",
       "      <td>28749.0</td>\n",
       "    </tr>\n",
       "    <tr>\n",
       "      <th>4</th>\n",
       "      <td>2004</td>\n",
       "      <td>Cyprus</td>\n",
       "      <td>151220.0</td>\n",
       "      <td>73000.0</td>\n",
       "    </tr>\n",
       "  </tbody>\n",
       "</table>\n",
       "</div>"
      ],
      "text/plain": [
       "Element  Year Member State  Production_tonnes  Yield_100g_per_An\n",
       "0        2004      Austria          3137322.0            58019.0\n",
       "1        2004      Belgium          3060000.0            56387.0\n",
       "2        2004     Bulgaria          1350979.0            50878.0\n",
       "3        2004      Croatia           684379.0            28749.0\n",
       "4        2004       Cyprus           151220.0            73000.0"
      ]
     },
     "execution_count": 8,
     "metadata": {},
     "output_type": "execute_result"
    },
    {
     "data": {
      "text/html": [
       "<div>\n",
       "<style scoped>\n",
       "    .dataframe tbody tr th:only-of-type {\n",
       "        vertical-align: middle;\n",
       "    }\n",
       "\n",
       "    .dataframe tbody tr th {\n",
       "        vertical-align: top;\n",
       "    }\n",
       "\n",
       "    .dataframe thead th {\n",
       "        text-align: right;\n",
       "    }\n",
       "</style>\n",
       "<table border=\"1\" class=\"dataframe\">\n",
       "  <thead>\n",
       "    <tr style=\"text-align: right;\">\n",
       "      <th>Element</th>\n",
       "      <th>Year</th>\n",
       "      <th>Member State</th>\n",
       "      <th>Production_tonnes</th>\n",
       "      <th>Yield_Kg_per_An</th>\n",
       "    </tr>\n",
       "  </thead>\n",
       "  <tbody>\n",
       "    <tr>\n",
       "      <th>0</th>\n",
       "      <td>2004</td>\n",
       "      <td>Austria</td>\n",
       "      <td>3137322.0</td>\n",
       "      <td>5801.9</td>\n",
       "    </tr>\n",
       "    <tr>\n",
       "      <th>1</th>\n",
       "      <td>2004</td>\n",
       "      <td>Belgium</td>\n",
       "      <td>3060000.0</td>\n",
       "      <td>5638.7</td>\n",
       "    </tr>\n",
       "    <tr>\n",
       "      <th>2</th>\n",
       "      <td>2004</td>\n",
       "      <td>Bulgaria</td>\n",
       "      <td>1350979.0</td>\n",
       "      <td>5087.8</td>\n",
       "    </tr>\n",
       "    <tr>\n",
       "      <th>3</th>\n",
       "      <td>2004</td>\n",
       "      <td>Croatia</td>\n",
       "      <td>684379.0</td>\n",
       "      <td>2874.9</td>\n",
       "    </tr>\n",
       "    <tr>\n",
       "      <th>4</th>\n",
       "      <td>2004</td>\n",
       "      <td>Cyprus</td>\n",
       "      <td>151220.0</td>\n",
       "      <td>7300.0</td>\n",
       "    </tr>\n",
       "  </tbody>\n",
       "</table>\n",
       "</div>"
      ],
      "text/plain": [
       "Element  Year Member State  Production_tonnes  Yield_Kg_per_An\n",
       "0        2004      Austria          3137322.0           5801.9\n",
       "1        2004      Belgium          3060000.0           5638.7\n",
       "2        2004     Bulgaria          1350979.0           5087.8\n",
       "3        2004      Croatia           684379.0           2874.9\n",
       "4        2004       Cyprus           151220.0           7300.0"
      ]
     },
     "execution_count": 8,
     "metadata": {},
     "output_type": "execute_result"
    },
    {
     "data": {
      "text/html": [
       "<div>\n",
       "<style scoped>\n",
       "    .dataframe tbody tr th:only-of-type {\n",
       "        vertical-align: middle;\n",
       "    }\n",
       "\n",
       "    .dataframe tbody tr th {\n",
       "        vertical-align: top;\n",
       "    }\n",
       "\n",
       "    .dataframe thead th {\n",
       "        text-align: right;\n",
       "    }\n",
       "</style>\n",
       "<table border=\"1\" class=\"dataframe\">\n",
       "  <thead>\n",
       "    <tr style=\"text-align: right;\">\n",
       "      <th>Element</th>\n",
       "      <th>Year</th>\n",
       "      <th>Member State</th>\n",
       "      <th>Production_tonnes</th>\n",
       "      <th>Yield_Kg_per_An</th>\n",
       "      <th>Derived_Animal_Number</th>\n",
       "    </tr>\n",
       "  </thead>\n",
       "  <tbody>\n",
       "    <tr>\n",
       "      <th>0</th>\n",
       "      <td>2004</td>\n",
       "      <td>Austria</td>\n",
       "      <td>3137322.0</td>\n",
       "      <td>5801.9</td>\n",
       "      <td>540740</td>\n",
       "    </tr>\n",
       "    <tr>\n",
       "      <th>1</th>\n",
       "      <td>2004</td>\n",
       "      <td>Belgium</td>\n",
       "      <td>3060000.0</td>\n",
       "      <td>5638.7</td>\n",
       "      <td>542678</td>\n",
       "    </tr>\n",
       "    <tr>\n",
       "      <th>2</th>\n",
       "      <td>2004</td>\n",
       "      <td>Bulgaria</td>\n",
       "      <td>1350979.0</td>\n",
       "      <td>5087.8</td>\n",
       "      <td>265533</td>\n",
       "    </tr>\n",
       "    <tr>\n",
       "      <th>3</th>\n",
       "      <td>2004</td>\n",
       "      <td>Croatia</td>\n",
       "      <td>684379.0</td>\n",
       "      <td>2874.9</td>\n",
       "      <td>238053</td>\n",
       "    </tr>\n",
       "    <tr>\n",
       "      <th>4</th>\n",
       "      <td>2004</td>\n",
       "      <td>Cyprus</td>\n",
       "      <td>151220.0</td>\n",
       "      <td>7300.0</td>\n",
       "      <td>20715</td>\n",
       "    </tr>\n",
       "  </tbody>\n",
       "</table>\n",
       "</div>"
      ],
      "text/plain": [
       "Element  Year Member State  Production_tonnes  Yield_Kg_per_An  \\\n",
       "0        2004      Austria          3137322.0           5801.9   \n",
       "1        2004      Belgium          3060000.0           5638.7   \n",
       "2        2004     Bulgaria          1350979.0           5087.8   \n",
       "3        2004      Croatia           684379.0           2874.9   \n",
       "4        2004       Cyprus           151220.0           7300.0   \n",
       "\n",
       "Element  Derived_Animal_Number  \n",
       "0                       540740  \n",
       "1                       542678  \n",
       "2                       265533  \n",
       "3                       238053  \n",
       "4                        20715  "
      ]
     },
     "execution_count": 8,
     "metadata": {},
     "output_type": "execute_result"
    }
   ],
   "source": [
    "# Pivot the data to create columns for 'Production' and 'Yield' from 'Element' and assign 'Value' in each column to respective rows\n",
    "dairy_output_df_pivoted =  dairy_output_df.pivot(index=['Year', 'Member State'], columns='Element', values='Value').reset_index() # Create columns out of individual rows and assign 'Value' column\n",
    "dairy_output_df_pivoted.rename(columns={'Production': 'Production_tonnes', 'Yield': 'Yield_100g_per_An'}, inplace=True)\n",
    "dairy_output_df_pivoted.head()\n",
    "\n",
    "# Convert Yield from 100g per animal to Kg per animal\n",
    "dairy_output_df_pivoted.Yield_100g_per_An = dairy_output_df_pivoted.Yield_100g_per_An / 10 # Convert to kg per animal\n",
    "dairy_output_df_pivoted.rename(columns={'Yield_100g_per_An': 'Yield_Kg_per_An'}, inplace=True)\n",
    "dairy_output_df_pivoted.head()\n",
    "\n",
    "# Derive number of animals from Production and Yield\n",
    "dairy_output_df_pivoted['Derived_Animal_Number'] = round(dairy_output_df_pivoted['Production_tonnes'] / (dairy_output_df_pivoted['Yield_Kg_per_An'] / 1000)).astype('int') # Converting Yield_Kg_per_An into Tonnes & then deriving number of animals\n",
    "dairy_output_df_pivoted.head()\n"
   ]
  },
  {
   "cell_type": "code",
   "execution_count": 9,
   "metadata": {},
   "outputs": [
    {
     "data": {
      "text/html": [
       "<div>\n",
       "<style scoped>\n",
       "    .dataframe tbody tr th:only-of-type {\n",
       "        vertical-align: middle;\n",
       "    }\n",
       "\n",
       "    .dataframe tbody tr th {\n",
       "        vertical-align: top;\n",
       "    }\n",
       "\n",
       "    .dataframe thead th {\n",
       "        text-align: right;\n",
       "    }\n",
       "</style>\n",
       "<table border=\"1\" class=\"dataframe\">\n",
       "  <thead>\n",
       "    <tr style=\"text-align: right;\">\n",
       "      <th></th>\n",
       "      <th>Member State</th>\n",
       "      <th>Production_tonnes_median</th>\n",
       "      <th>Production_tonnes_percentiles</th>\n",
       "      <th>Yield_Kg_per_An_median</th>\n",
       "      <th>Yield_Kg_per_An_percentiles</th>\n",
       "      <th>Derived_Animal_Number_median</th>\n",
       "      <th>Derived_Animal_Number_percentiles</th>\n",
       "    </tr>\n",
       "  </thead>\n",
       "  <tbody>\n",
       "    <tr>\n",
       "      <th>0</th>\n",
       "      <td>Austria</td>\n",
       "      <td>3393057.0</td>\n",
       "      <td>4</td>\n",
       "      <td>6459.8</td>\n",
       "      <td>2</td>\n",
       "      <td>532867.0</td>\n",
       "      <td>4</td>\n",
       "    </tr>\n",
       "    <tr>\n",
       "      <th>1</th>\n",
       "      <td>Belgium</td>\n",
       "      <td>3474000.0</td>\n",
       "      <td>4</td>\n",
       "      <td>7107.5</td>\n",
       "      <td>3</td>\n",
       "      <td>523284.0</td>\n",
       "      <td>4</td>\n",
       "    </tr>\n",
       "    <tr>\n",
       "      <th>2</th>\n",
       "      <td>Bulgaria</td>\n",
       "      <td>1101115.0</td>\n",
       "      <td>2</td>\n",
       "      <td>5025.6</td>\n",
       "      <td>1</td>\n",
       "      <td>210604.0</td>\n",
       "      <td>2</td>\n",
       "    </tr>\n",
       "    <tr>\n",
       "      <th>3</th>\n",
       "      <td>Croatia</td>\n",
       "      <td>711400.0</td>\n",
       "      <td>1</td>\n",
       "      <td>4319.3</td>\n",
       "      <td>1</td>\n",
       "      <td>176399.0</td>\n",
       "      <td>2</td>\n",
       "    </tr>\n",
       "    <tr>\n",
       "      <th>4</th>\n",
       "      <td>Cyprus</td>\n",
       "      <td>162373.0</td>\n",
       "      <td>1</td>\n",
       "      <td>7502.6</td>\n",
       "      <td>4</td>\n",
       "      <td>20715.0</td>\n",
       "      <td>1</td>\n",
       "    </tr>\n",
       "  </tbody>\n",
       "</table>\n",
       "</div>"
      ],
      "text/plain": [
       "  Member State  Production_tonnes_median Production_tonnes_percentiles  \\\n",
       "0      Austria                 3393057.0                             4   \n",
       "1      Belgium                 3474000.0                             4   \n",
       "2     Bulgaria                 1101115.0                             2   \n",
       "3      Croatia                  711400.0                             1   \n",
       "4       Cyprus                  162373.0                             1   \n",
       "\n",
       "   Yield_Kg_per_An_median Yield_Kg_per_An_percentiles  \\\n",
       "0                  6459.8                           2   \n",
       "1                  7107.5                           3   \n",
       "2                  5025.6                           1   \n",
       "3                  4319.3                           1   \n",
       "4                  7502.6                           4   \n",
       "\n",
       "   Derived_Animal_Number_median Derived_Animal_Number_percentiles  \n",
       "0                      532867.0                                 4  \n",
       "1                      523284.0                                 4  \n",
       "2                      210604.0                                 2  \n",
       "3                      176399.0                                 2  \n",
       "4                       20715.0                                 1  "
      ]
     },
     "execution_count": 9,
     "metadata": {},
     "output_type": "execute_result"
    }
   ],
   "source": [
    "# Calculate the median of Production, Yield and Derived Animal Number for each Member State over time period and split into percentiles\n",
    "\n",
    "median_df = pd.DataFrame(dairy_output_df_pivoted['Member State'].unique().tolist(), columns=['Member State'])\n",
    "\n",
    "def calc_median(df, column_name):\n",
    "  df = df[['Member State', column_name]]\n",
    "  return df.groupby(by=['Member State'], as_index=False).median()\n",
    "\n",
    "for column_name in ['Production_tonnes', 'Yield_Kg_per_An', 'Derived_Animal_Number']:\n",
    "    median_df = median_df.merge(calc_median(dairy_output_df_pivoted, column_name).rename(columns={column_name: column_name + '_median'}), on=['Member State'])\n",
    "    median_df[column_name + '_percentiles'] =  pd.qcut(median_df[column_name + '_median'] , np.linspace(0,1,6), labels=range(1, 6, 1))\n",
    "\n",
    "\n",
    "median_df.head()"
   ]
  },
  {
   "cell_type": "markdown",
   "metadata": {},
   "source": [
    "Merging median volumns and percentiles into dataframe"
   ]
  },
  {
   "cell_type": "code",
   "execution_count": 10,
   "metadata": {},
   "outputs": [
    {
     "data": {
      "text/html": [
       "<div>\n",
       "<style scoped>\n",
       "    .dataframe tbody tr th:only-of-type {\n",
       "        vertical-align: middle;\n",
       "    }\n",
       "\n",
       "    .dataframe tbody tr th {\n",
       "        vertical-align: top;\n",
       "    }\n",
       "\n",
       "    .dataframe thead th {\n",
       "        text-align: right;\n",
       "    }\n",
       "</style>\n",
       "<table border=\"1\" class=\"dataframe\">\n",
       "  <thead>\n",
       "    <tr style=\"text-align: right;\">\n",
       "      <th></th>\n",
       "      <th>Year</th>\n",
       "      <th>Member State</th>\n",
       "      <th>Production_tonnes</th>\n",
       "      <th>Yield_Kg_per_An</th>\n",
       "      <th>Derived_Animal_Number</th>\n",
       "      <th>Production_tonnes_median</th>\n",
       "      <th>Production_tonnes_percentiles</th>\n",
       "      <th>Yield_Kg_per_An_median</th>\n",
       "      <th>Yield_Kg_per_An_percentiles</th>\n",
       "      <th>Derived_Animal_Number_median</th>\n",
       "      <th>Derived_Animal_Number_percentiles</th>\n",
       "    </tr>\n",
       "  </thead>\n",
       "  <tbody>\n",
       "    <tr>\n",
       "      <th>0</th>\n",
       "      <td>2004</td>\n",
       "      <td>Austria</td>\n",
       "      <td>3137322.0</td>\n",
       "      <td>5801.9</td>\n",
       "      <td>540740</td>\n",
       "      <td>3393057.0</td>\n",
       "      <td>4</td>\n",
       "      <td>6459.8</td>\n",
       "      <td>2</td>\n",
       "      <td>532867.0</td>\n",
       "      <td>4</td>\n",
       "    </tr>\n",
       "    <tr>\n",
       "      <th>1</th>\n",
       "      <td>2005</td>\n",
       "      <td>Austria</td>\n",
       "      <td>3113658.0</td>\n",
       "      <td>5782.8</td>\n",
       "      <td>538434</td>\n",
       "      <td>3393057.0</td>\n",
       "      <td>4</td>\n",
       "      <td>6459.8</td>\n",
       "      <td>2</td>\n",
       "      <td>532867.0</td>\n",
       "      <td>4</td>\n",
       "    </tr>\n",
       "    <tr>\n",
       "      <th>2</th>\n",
       "      <td>2006</td>\n",
       "      <td>Austria</td>\n",
       "      <td>3146657.0</td>\n",
       "      <td>5903.3</td>\n",
       "      <td>533034</td>\n",
       "      <td>3393057.0</td>\n",
       "      <td>4</td>\n",
       "      <td>6459.8</td>\n",
       "      <td>2</td>\n",
       "      <td>532867.0</td>\n",
       "      <td>4</td>\n",
       "    </tr>\n",
       "    <tr>\n",
       "      <th>3</th>\n",
       "      <td>2007</td>\n",
       "      <td>Austria</td>\n",
       "      <td>3155068.0</td>\n",
       "      <td>5997.4</td>\n",
       "      <td>526073</td>\n",
       "      <td>3393057.0</td>\n",
       "      <td>4</td>\n",
       "      <td>6459.8</td>\n",
       "      <td>2</td>\n",
       "      <td>532867.0</td>\n",
       "      <td>4</td>\n",
       "    </tr>\n",
       "    <tr>\n",
       "      <th>4</th>\n",
       "      <td>2008</td>\n",
       "      <td>Austria</td>\n",
       "      <td>3195948.0</td>\n",
       "      <td>6059.4</td>\n",
       "      <td>527436</td>\n",
       "      <td>3393057.0</td>\n",
       "      <td>4</td>\n",
       "      <td>6459.8</td>\n",
       "      <td>2</td>\n",
       "      <td>532867.0</td>\n",
       "      <td>4</td>\n",
       "    </tr>\n",
       "  </tbody>\n",
       "</table>\n",
       "</div>"
      ],
      "text/plain": [
       "   Year Member State  Production_tonnes  Yield_Kg_per_An  \\\n",
       "0  2004      Austria          3137322.0           5801.9   \n",
       "1  2005      Austria          3113658.0           5782.8   \n",
       "2  2006      Austria          3146657.0           5903.3   \n",
       "3  2007      Austria          3155068.0           5997.4   \n",
       "4  2008      Austria          3195948.0           6059.4   \n",
       "\n",
       "   Derived_Animal_Number  Production_tonnes_median  \\\n",
       "0                 540740                 3393057.0   \n",
       "1                 538434                 3393057.0   \n",
       "2                 533034                 3393057.0   \n",
       "3                 526073                 3393057.0   \n",
       "4                 527436                 3393057.0   \n",
       "\n",
       "  Production_tonnes_percentiles  Yield_Kg_per_An_median  \\\n",
       "0                             4                  6459.8   \n",
       "1                             4                  6459.8   \n",
       "2                             4                  6459.8   \n",
       "3                             4                  6459.8   \n",
       "4                             4                  6459.8   \n",
       "\n",
       "  Yield_Kg_per_An_percentiles  Derived_Animal_Number_median  \\\n",
       "0                           2                      532867.0   \n",
       "1                           2                      532867.0   \n",
       "2                           2                      532867.0   \n",
       "3                           2                      532867.0   \n",
       "4                           2                      532867.0   \n",
       "\n",
       "  Derived_Animal_Number_percentiles  \n",
       "0                                 4  \n",
       "1                                 4  \n",
       "2                                 4  \n",
       "3                                 4  \n",
       "4                                 4  "
      ]
     },
     "execution_count": 10,
     "metadata": {},
     "output_type": "execute_result"
    }
   ],
   "source": [
    "dairy_output_df_pivoted = dairy_output_df_pivoted.merge(median_df, on=['Member State'])\n",
    "dairy_output_df_pivoted.head()"
   ]
  },
  {
   "cell_type": "markdown",
   "metadata": {},
   "source": [
    "### Plotting & Assessing Dairy production across EU member states over time"
   ]
  },
  {
   "cell_type": "code",
   "execution_count": 11,
   "metadata": {},
   "outputs": [],
   "source": [
    "# import dash library\n",
    "\n",
    "from dash import Dash, dcc, html, Input, Output\n",
    "import plotly.express as px\n",
    "from plotly.subplots import make_subplots\n",
    "import plotly.graph_objects as go\n",
    "import plotly.tools as tls"
   ]
  },
  {
   "cell_type": "code",
   "execution_count": 12,
   "metadata": {},
   "outputs": [
    {
     "data": {
      "text/html": [
       "\n",
       "        <iframe\n",
       "            width=\"100%\"\n",
       "            height=\"650\"\n",
       "            src=\"http://127.0.0.1:8050/\"\n",
       "            frameborder=\"0\"\n",
       "            allowfullscreen\n",
       "            \n",
       "        ></iframe>\n",
       "        "
      ],
      "text/plain": [
       "<IPython.lib.display.IFrame at 0x256032aca90>"
      ]
     },
     "metadata": {},
     "output_type": "display_data"
    }
   ],
   "source": [
    "# Create a Dash app to visualise Dairy output for european member states over time\n",
    "\n",
    "app = Dash(__name__)\n",
    "\n",
    "app.layout = html.Div([\n",
    "    html.Div([\n",
    "        dcc.Dropdown(\n",
    "            id=\"metric\",\n",
    "            options=['Production_tonnes', 'Yield_Kg_per_An', 'Derived_Animal_Number'],\n",
    "            value=\"Production_tonnes\",\n",
    "        ),\n",
    "        dcc.Checklist(\n",
    "            options=[\n",
    "                {\"label\": \"80-100%\", \"value\": 5},\n",
    "                {\"label\": \"60-80%\", \"value\": 4},\n",
    "                {\"label\": \"40-60%\", \"value\": 3},\n",
    "                {\"label\": \"20-40%\", \"value\": 2},\n",
    "                {\"label\": \"0-20%\", \"value\": 1},\n",
    "            ],\n",
    "            value=[4, 5],\n",
    "            id=\"percentiles\",\n",
    "            inline=True,\n",
    "        ),\n",
    "    ],  style={'width': '30%', 'display': 'inline-block', \"backgroundColor\": \"white\"}),\n",
    "    html.Div([\n",
    "            dcc.Checklist(\n",
    "                id=\"states\",\n",
    "                options=dairy_output_df_pivoted['Member State'].unique(),\n",
    "                value=dairy_output_df_pivoted['Member State'].unique(),\n",
    "            ),\n",
    "        ], style={'width': '8%', 'float': 'left', 'display': 'inline-block', \"backgroundColor\": \"white\"}),\n",
    "    html.Div([\n",
    "            dcc.Graph(id=\"line-graph\"),\n",
    "    ],  style={'width': '92%', 'float': 'right', 'display': 'inline-block'}),\n",
    "], style={\"backgroundColor\": \"white\"})\n",
    "\n",
    "\n",
    "@app.callback(\n",
    "    Output(\"line-graph\", \"figure\"), \n",
    "    Input(\"metric\", \"value\"),\n",
    "    Input(\"states\", \"value\"),\n",
    "    Input('percentiles', 'value'),\n",
    ")\n",
    "def update_line_chart(metric, states, percentiles):\n",
    "    data = dairy_output_df_pivoted[dairy_output_df_pivoted['Member State'].isin(states) & (dairy_output_df_pivoted[metric + '_percentiles'].isin(percentiles))]\n",
    "    fig = px.line(data, x=\"Year\", y=metric, color='Member State', title=f\"Dairy {metric}\")\n",
    "    return fig\n",
    "\n",
    "\n",
    "app.run_server(debug=True)"
   ]
  },
  {
   "cell_type": "markdown",
   "metadata": {},
   "source": [
    "Validation of yield ranking of ireland within EU countries, https://www.irishexaminer.com/farming/arid-41257186.html (Find more legitimate source)\n",
    "\n",
    "Does Irish Milk production differ significantly from that of a closely comparable country for output such as Lithuania for yield, and Denmark for Production output. \n",
    "\n",
    "Efficiency or Expansion? https://www.dlg.org/en/agriculture/topics/dlg-agrifuture-magazine/knowledge-skills/danish-milk-producers-efficiency-is-the-secret-of-their-success"
   ]
  },
  {
   "cell_type": "markdown",
   "metadata": {},
   "source": [
    "Correlation of Variables in  ALL European member states"
   ]
  },
  {
   "cell_type": "code",
   "execution_count": 13,
   "metadata": {},
   "outputs": [
    {
     "data": {
      "image/png": "[encoded data removed]",
      "text/plain": [
       "<Figure size 640x480 with 2 Axes>"
      ]
     },
     "metadata": {},
     "output_type": "display_data"
    }
   ],
   "source": [
    "# Assessing the correlation of the different quantitative variables in the dataset of European milk production. Correlation matrix shows a moderate positive correlation between Year and Yield along with a negative correlation with Animal Numbers. \n",
    "# This indicates a progression to overall more efficient Dairy production in Europe.\n",
    "\n",
    "corr = dairy_output_df_pivoted[['Year', 'Production_tonnes', 'Yield_Kg_per_An', 'Derived_Animal_Number']].dropna().corr()\n",
    "sns.heatmap(corr, cmap=\"Reds\", annot=True, vmin=0, vmax=1);"
   ]
  },
  {
   "cell_type": "markdown",
   "metadata": {},
   "source": [
    "Correlation of Dairy variables in Ireland, Lithuania, Latvia & Denmark"
   ]
  },
  {
   "cell_type": "code",
   "execution_count": 14,
   "metadata": {},
   "outputs": [
    {
     "data": {
      "text/plain": [
       "<Axes: >"
      ]
     },
     "execution_count": 14,
     "metadata": {},
     "output_type": "execute_result"
    },
    {
     "data": {
      "text/plain": [
       "<Axes: >"
      ]
     },
     "execution_count": 14,
     "metadata": {},
     "output_type": "execute_result"
    },
    {
     "data": {
      "text/plain": [
       "<Axes: >"
      ]
     },
     "execution_count": 14,
     "metadata": {},
     "output_type": "execute_result"
    },
    {
     "data": {
      "text/plain": [
       "<Axes: >"
      ]
     },
     "execution_count": 14,
     "metadata": {},
     "output_type": "execute_result"
    },
    {
     "data": {
      "image/png": "[encoded data removed]",
      "text/plain": [
       "<Figure size 3600x600 with 8 Axes>"
      ]
     },
     "metadata": {},
     "output_type": "display_data"
    }
   ],
   "source": [
    "# Assessing the correlation of the different quantitative variables in the dataset of IRISH milk production. \n",
    "# Correlation matrix shows a strong positive correlation between all variables, demonstrating an increase in the animal number and milk production over time. \n",
    "# Yield exhibited the weakest positive correlation with time compared to all other variable indicating that the observed increase in output is more due to increased animal number than increased yield,\n",
    "\n",
    "# Assessing the correlation of the different quantitative variables in the dataset of Lithuanian milk production. \n",
    "# Correlation matrix shows a strong positive correlation between yield and year. Demonstrating an increase in milk yield per animal over time. \n",
    "# Animal number and milk production exhibit a strong negative correlation with year indicating a decline in lithuanian milk production and scale over time.\n",
    "\n",
    "# Assessing the correlation of the different quantitative variables in the dataset of Latvian milk production. \n",
    "# Correlation matrix shows a strong positive correlation between yield, production and year, demonstrating an increase in milk production and yield over time. \n",
    "# Yield exhibited the strongest correlation with time compared to all other variable indicating that the observed increase in milk production is largely due to increased yield per animal, with overall animal number showing a strong negative correlation with time.\n",
    "\n",
    "# Assessing the correlation of the different quantitative variables in the dataset of Danish milk production. \n",
    "# Correlation matrix shows a strong positive correlation between yield, production and year, demonstrating an increase in milk production and yield over time. \n",
    "# Yield and production both exhibited the strong positive correlation with time indicating that the observed increase in milk production is due to largely due to increased yield per animal, with overall animal number showing a strong negative correlation with time.\n",
    "\n",
    "\n",
    "countries_to_assess = ['Ireland', 'Lithuania','Latvia', 'Denmark']\n",
    "\n",
    "fig, axes = plt.subplots(1, len(countries_to_assess), figsize=(9 * len(countries_to_assess), 6))\n",
    "\n",
    "for i, state in enumerate(countries_to_assess):\n",
    "    corr = dairy_output_df_pivoted.loc[dairy_output_df_pivoted['Member State'] == state, ['Year', 'Production_tonnes', 'Yield_Kg_per_An', 'Derived_Animal_Number']].dropna().corr()\n",
    "    sns.heatmap(corr, cmap=\"Reds\", annot=True, vmin=-1, vmax=1, ax=axes[i])\n",
    "    _ = axes[i].set_title(state);\n",
    "\n",
    "# Heatmap color scale limits to allow for direct comparison of correlation of variables for different countries without adjustment for correlation values obtained.\n"
   ]
  },
  {
   "cell_type": "code",
   "execution_count": 15,
   "metadata": {},
   "outputs": [
    {
     "data": {
      "image/png": "[encoded data removed]",
      "text/plain": [
       "<Figure size 640x480 with 2 Axes>"
      ]
     },
     "metadata": {},
     "output_type": "display_data"
    }
   ],
   "source": [
    "# fig, axes = plt.subplots(1, len(countries_to_assess), figsize=(9 * len(countries_to_assess), 6))\n",
    "\n",
    "country = 'Denmark'\n",
    "\n",
    "corr = dairy_output_df_pivoted.loc[dairy_output_df_pivoted['Member State'] == country, ['Year', 'Production_tonnes', 'Yield_Kg_per_An', 'Derived_Animal_Number']].dropna().corr()\n",
    "a = sns.heatmap(corr, cmap=\"Reds\", annot=True, vmin=-1, vmax=1)\n",
    "a.set_title(country);\n"
   ]
  },
  {
   "cell_type": "markdown",
   "metadata": {},
   "source": [
    "## Statistics"
   ]
  },
  {
   "cell_type": "code",
   "execution_count": 16,
   "metadata": {},
   "outputs": [],
   "source": [
    "#Importing libraries\n",
    "\n",
    "import pandas as pd\n",
    "import numpy as np\n",
    "import scipy.stats as stats\n",
    "from statsmodels.stats import weightstats\n",
    "\n",
    "#Importing the libraries\n",
    "import matplotlib.pyplot as plt\n",
    "import statsmodels.api as sm\n",
    "from statsmodels.formula.api import ols\n",
    "import scipy as scipy\n",
    "\n",
    "from statsmodels.tsa.stattools import adfuller"
   ]
  },
  {
   "cell_type": "markdown",
   "metadata": {},
   "source": [
    "### Visualising distribution of variables from all european member states"
   ]
  },
  {
   "cell_type": "code",
   "execution_count": 17,
   "metadata": {},
   "outputs": [
    {
     "data": {
      "image/png": "[encoded data removed]",
      "text/plain": [
       "<Figure size 2400x600 with 3 Axes>"
      ]
     },
     "metadata": {},
     "output_type": "display_data"
    }
   ],
   "source": [
    "fig, axes = plt.subplots(1, 3, figsize=(24, 6))\n",
    "\n",
    "for i, column in enumerate(['Production_tonnes', 'Yield_Kg_per_An', 'Derived_Animal_Number']):\n",
    "    _ = sns.histplot(data=dairy_output_df_pivoted, x=column, bins=100, ax=axes[i])\n",
    "    _ = axes[i].set_title(column)\n"
   ]
  },
  {
   "cell_type": "markdown",
   "metadata": {},
   "source": [
    "## Condition 1- Normality of Distribution\n",
    "## Asssessing normality of distribution of variables from all european member states (Alpha:0.05)"
   ]
  },
  {
   "cell_type": "code",
   "execution_count": 18,
   "metadata": {},
   "outputs": [
    {
     "name": "stdout",
     "output_type": "stream",
     "text": [
      "Production_tonnes\n",
      "p = 2.68534e-52\n",
      "The null hypothesis (H0) can be rejected \n",
      "\n",
      "Yield_Kg_per_An\n",
      "p = 0.00342301\n",
      "The null hypothesis (H0) can be rejected \n",
      "\n",
      "Derived_Animal_Number\n",
      "p = 1.61122e-43\n",
      "The null hypothesis (H0) can be rejected \n",
      "\n"
     ]
    }
   ],
   "source": [
    "for i, column in enumerate(['Production_tonnes', 'Yield_Kg_per_An', 'Derived_Animal_Number']):\n",
    "    k2, p = stats.normaltest(dairy_output_df_pivoted[column])\n",
    "\n",
    "    alpha = 0.05\n",
    "    print(column)\n",
    "    print(\"p = {:g}\".format(p))\n",
    "\n",
    "    if p < alpha:  # null hypothesis: x comes from a normal distribution\n",
    "        print(\"The null hypothesis (H0) can be rejected \\n\")\n",
    "    else:\n",
    "        print(\"The null hypothesis (H0) cannot be rejected \\n\")\n",
    "\n",
    "# Normality test shows variables are not normally distributed for all aggregated EU member states"
   ]
  },
  {
   "cell_type": "markdown",
   "metadata": {},
   "source": [
    "### QQ plots visualises the normality of distribution of all variables across all EU member states. "
   ]
  },
  {
   "cell_type": "code",
   "execution_count": 19,
   "metadata": {},
   "outputs": [
    {
     "data": {
      "image/png": "[encoded data removed]",
      "text/plain": [
       "<Figure size 1700x500 with 3 Axes>"
      ]
     },
     "metadata": {},
     "output_type": "display_data"
    }
   ],
   "source": [
    "# Check normality of the data for Production & Yield & Number of animals\n",
    "# Probability plot - QQ plot\n",
    "# https://www.ucd.ie/ecomodel/Resources/QQplots_WebVersion.html\n",
    "\n",
    "f, axes = plt.subplots(1, 3, figsize=(17, 5))\n",
    "\n",
    "for i, column in enumerate(['Production_tonnes', 'Yield_Kg_per_An', 'Derived_Animal_Number']):\n",
    "   _ = stats.probplot(dairy_output_df_pivoted[column], plot=axes[i]);\n",
    "   _ = axes[i].set_title(column);\n",
    "f.show()\n",
    "\n",
    "# QQ plot visualises the distribution for all EU member states with a deviation from the normal distribution line, indicating a non normal distribution. \n",
    "# Yield exhibit a more linear relationship with the normal distribution line than Production and Animal number indicating it is the variable which is closest to normally distributed for aggregated EU member states."
   ]
  },
  {
   "cell_type": "markdown",
   "metadata": {},
   "source": [
    "### QQ plot visual assessment of the normality of distribution of all variables in selected european member states (Ireland, Denmark, Latvia, Lithuania). "
   ]
  },
  {
   "cell_type": "code",
   "execution_count": 87,
   "metadata": {},
   "outputs": [
    {
     "data": {
      "image/png": "[encoded data removed]",
      "text/plain": [
       "<Figure size 1900x1000 with 12 Axes>"
      ]
     },
     "metadata": {},
     "output_type": "display_data"
    }
   ],
   "source": [
    "f, axes = plt.subplots(4, 3, figsize=(19, 10))\n",
    "\n",
    "for i, state in enumerate(['Ireland', 'Denmark', 'Latvia', 'Lithuania']): \n",
    "    state_data = dairy_output_df_pivoted[dairy_output_df_pivoted['Member State'] == state]\n",
    "    for j, column in enumerate(['Production_tonnes', 'Yield_Kg_per_An', 'Derived_Animal_Number']):\n",
    "       _ = stats.probplot(state_data[column], plot=axes[i, j]);\n",
    "       _ = axes[i, j].set_title(state + ' ' + column,), ;\n",
    "\n",
    "plt.subplots_adjust(top = 0.8, bottom=0.05, hspace=0.5, wspace=0.4)\n",
    "f.show()\n",
    "\n",
    "# QQ plot visualises the non normal distribution for selected EU member states"
   ]
  },
  {
   "cell_type": "markdown",
   "metadata": {},
   "source": [
    "*** Both Shapiro-Wilk and D'Agostino's K^2 normality tests are tested on all variables for all member states. \n"
   ]
  },
  {
   "cell_type": "code",
   "execution_count": 89,
   "metadata": {},
   "outputs": [],
   "source": [
    "normality_test_results = []\n",
    "\n",
    "for state in dairy_output_df_pivoted['Member State'].unique(): \n",
    "    state_data = dairy_output_df_pivoted[dairy_output_df_pivoted['Member State'] == state]\n",
    "    for column in ['Production_tonnes', 'Yield_Kg_per_An', 'Derived_Animal_Number']:\n",
    "        shap_result = stats.shapiro(state_data[column]);\n",
    "        k2, norm_result_pvalue = stats.normaltest(state_data[column])\n",
    "        normality_test_results.append([state, column, shap_result.pvalue >= 0.05, shap_result.statistic, shap_result.pvalue, norm_result_pvalue >= 0.05, k2, norm_result_pvalue])\n",
    "\n",
    "normality_test_results_df = pd.DataFrame(data=normality_test_results, columns=['Member State', 'Metric', 'shap_Normally_Distributed', 'shap_Statistic', 'shap_p-value', 'dag_Normally_Distributed', 'norm_k2', 'norm_p-value'])"
   ]
  },
  {
   "cell_type": "code",
   "execution_count": 92,
   "metadata": {},
   "outputs": [
    {
     "data": {
      "text/html": [
       "<div>\n",
       "<style scoped>\n",
       "    .dataframe tbody tr th:only-of-type {\n",
       "        vertical-align: middle;\n",
       "    }\n",
       "\n",
       "    .dataframe tbody tr th {\n",
       "        vertical-align: top;\n",
       "    }\n",
       "\n",
       "    .dataframe thead th {\n",
       "        text-align: right;\n",
       "    }\n",
       "</style>\n",
       "<table border=\"1\" class=\"dataframe\">\n",
       "  <thead>\n",
       "    <tr style=\"text-align: right;\">\n",
       "      <th></th>\n",
       "      <th>Member State</th>\n",
       "      <th>Metric</th>\n",
       "      <th>shap_Normally_Distributed</th>\n",
       "      <th>shap_Statistic</th>\n",
       "      <th>shap_p-value</th>\n",
       "      <th>dag_Normally_Distributed</th>\n",
       "      <th>norm_k2</th>\n",
       "      <th>norm_p-value</th>\n",
       "    </tr>\n",
       "  </thead>\n",
       "  <tbody>\n",
       "    <tr>\n",
       "      <th>18</th>\n",
       "      <td>Denmark</td>\n",
       "      <td>Production_tonnes</td>\n",
       "      <td>False</td>\n",
       "      <td>0.880699</td>\n",
       "      <td>0.022081</td>\n",
       "      <td>False</td>\n",
       "      <td>9.675400</td>\n",
       "      <td>0.007925</td>\n",
       "    </tr>\n",
       "    <tr>\n",
       "      <th>19</th>\n",
       "      <td>Denmark</td>\n",
       "      <td>Yield_Kg_per_An</td>\n",
       "      <td>True</td>\n",
       "      <td>0.912691</td>\n",
       "      <td>0.082956</td>\n",
       "      <td>True</td>\n",
       "      <td>4.640328</td>\n",
       "      <td>0.098257</td>\n",
       "    </tr>\n",
       "    <tr>\n",
       "      <th>20</th>\n",
       "      <td>Denmark</td>\n",
       "      <td>Derived_Animal_Number</td>\n",
       "      <td>True</td>\n",
       "      <td>0.942100</td>\n",
       "      <td>0.287589</td>\n",
       "      <td>True</td>\n",
       "      <td>1.707435</td>\n",
       "      <td>0.425829</td>\n",
       "    </tr>\n",
       "    <tr>\n",
       "      <th>39</th>\n",
       "      <td>Ireland</td>\n",
       "      <td>Production_tonnes</td>\n",
       "      <td>False</td>\n",
       "      <td>0.820394</td>\n",
       "      <td>0.002296</td>\n",
       "      <td>True</td>\n",
       "      <td>3.875891</td>\n",
       "      <td>0.143999</td>\n",
       "    </tr>\n",
       "    <tr>\n",
       "      <th>40</th>\n",
       "      <td>Ireland</td>\n",
       "      <td>Yield_Kg_per_An</td>\n",
       "      <td>False</td>\n",
       "      <td>0.816618</td>\n",
       "      <td>0.002013</td>\n",
       "      <td>True</td>\n",
       "      <td>3.741031</td>\n",
       "      <td>0.154044</td>\n",
       "    </tr>\n",
       "    <tr>\n",
       "      <th>41</th>\n",
       "      <td>Ireland</td>\n",
       "      <td>Derived_Animal_Number</td>\n",
       "      <td>False</td>\n",
       "      <td>0.861015</td>\n",
       "      <td>0.010189</td>\n",
       "      <td>False</td>\n",
       "      <td>8.103802</td>\n",
       "      <td>0.017389</td>\n",
       "    </tr>\n",
       "    <tr>\n",
       "      <th>45</th>\n",
       "      <td>Latvia</td>\n",
       "      <td>Production_tonnes</td>\n",
       "      <td>False</td>\n",
       "      <td>0.828717</td>\n",
       "      <td>0.003081</td>\n",
       "      <td>False</td>\n",
       "      <td>16.701409</td>\n",
       "      <td>0.000236</td>\n",
       "    </tr>\n",
       "    <tr>\n",
       "      <th>46</th>\n",
       "      <td>Latvia</td>\n",
       "      <td>Yield_Kg_per_An</td>\n",
       "      <td>True</td>\n",
       "      <td>0.927430</td>\n",
       "      <td>0.155277</td>\n",
       "      <td>True</td>\n",
       "      <td>3.236293</td>\n",
       "      <td>0.198266</td>\n",
       "    </tr>\n",
       "    <tr>\n",
       "      <th>47</th>\n",
       "      <td>Latvia</td>\n",
       "      <td>Derived_Animal_Number</td>\n",
       "      <td>True</td>\n",
       "      <td>0.914181</td>\n",
       "      <td>0.088368</td>\n",
       "      <td>True</td>\n",
       "      <td>1.500379</td>\n",
       "      <td>0.472277</td>\n",
       "    </tr>\n",
       "    <tr>\n",
       "      <th>48</th>\n",
       "      <td>Lithuania</td>\n",
       "      <td>Production_tonnes</td>\n",
       "      <td>True</td>\n",
       "      <td>0.925705</td>\n",
       "      <td>0.144287</td>\n",
       "      <td>True</td>\n",
       "      <td>3.780271</td>\n",
       "      <td>0.151051</td>\n",
       "    </tr>\n",
       "    <tr>\n",
       "      <th>49</th>\n",
       "      <td>Lithuania</td>\n",
       "      <td>Yield_Kg_per_An</td>\n",
       "      <td>True</td>\n",
       "      <td>0.952241</td>\n",
       "      <td>0.431067</td>\n",
       "      <td>True</td>\n",
       "      <td>1.493118</td>\n",
       "      <td>0.473995</td>\n",
       "    </tr>\n",
       "    <tr>\n",
       "      <th>50</th>\n",
       "      <td>Lithuania</td>\n",
       "      <td>Derived_Animal_Number</td>\n",
       "      <td>True</td>\n",
       "      <td>0.943304</td>\n",
       "      <td>0.302147</td>\n",
       "      <td>True</td>\n",
       "      <td>2.430556</td>\n",
       "      <td>0.296628</td>\n",
       "    </tr>\n",
       "  </tbody>\n",
       "</table>\n",
       "</div>"
      ],
      "text/plain": [
       "   Member State                 Metric  shap_Normally_Distributed  \\\n",
       "18      Denmark      Production_tonnes                      False   \n",
       "19      Denmark        Yield_Kg_per_An                       True   \n",
       "20      Denmark  Derived_Animal_Number                       True   \n",
       "39      Ireland      Production_tonnes                      False   \n",
       "40      Ireland        Yield_Kg_per_An                      False   \n",
       "41      Ireland  Derived_Animal_Number                      False   \n",
       "45       Latvia      Production_tonnes                      False   \n",
       "46       Latvia        Yield_Kg_per_An                       True   \n",
       "47       Latvia  Derived_Animal_Number                       True   \n",
       "48    Lithuania      Production_tonnes                       True   \n",
       "49    Lithuania        Yield_Kg_per_An                       True   \n",
       "50    Lithuania  Derived_Animal_Number                       True   \n",
       "\n",
       "    shap_Statistic  shap_p-value  dag_Normally_Distributed    norm_k2  \\\n",
       "18        0.880699      0.022081                     False   9.675400   \n",
       "19        0.912691      0.082956                      True   4.640328   \n",
       "20        0.942100      0.287589                      True   1.707435   \n",
       "39        0.820394      0.002296                      True   3.875891   \n",
       "40        0.816618      0.002013                      True   3.741031   \n",
       "41        0.861015      0.010189                     False   8.103802   \n",
       "45        0.828717      0.003081                     False  16.701409   \n",
       "46        0.927430      0.155277                      True   3.236293   \n",
       "47        0.914181      0.088368                      True   1.500379   \n",
       "48        0.925705      0.144287                      True   3.780271   \n",
       "49        0.952241      0.431067                      True   1.493118   \n",
       "50        0.943304      0.302147                      True   2.430556   \n",
       "\n",
       "    norm_p-value  \n",
       "18      0.007925  \n",
       "19      0.098257  \n",
       "20      0.425829  \n",
       "39      0.143999  \n",
       "40      0.154044  \n",
       "41      0.017389  \n",
       "45      0.000236  \n",
       "46      0.198266  \n",
       "47      0.472277  \n",
       "48      0.151051  \n",
       "49      0.473995  \n",
       "50      0.296628  "
      ]
     },
     "execution_count": 92,
     "metadata": {},
     "output_type": "execute_result"
    }
   ],
   "source": [
    "# Print table for Ireland, Lithuania, Latvia, Denmark\n",
    "normality_test_results_df[normality_test_results_df['Member State'].isin(['Ireland', 'Denmark', 'Latvia', 'Lithuania'])]"
   ]
  },
  {
   "cell_type": "code",
   "execution_count": 93,
   "metadata": {},
   "outputs": [
    {
     "data": {
      "application/vnd.jupyter.widget-view+json": {
       "model_id": "bed04d8ba4d941adb9ad8f707c789a69",
       "version_major": 2,
       "version_minor": 0
      },
      "text/plain": [
       "interactive(children=(Dropdown(description='metric', options=('Production_tonnes', 'Yield_Kg_per_An', 'Derived…"
      ]
     },
     "metadata": {},
     "output_type": "display_data"
    }
   ],
   "source": [
    "@interact\n",
    "def show_normality_test_results(metric=['Production_tonnes', 'Yield_Kg_per_An', 'Derived_Animal_Number'], is_shap_normally_distr=True, condition=['either (or)', 'both (and)'], is_dag_normally_distr=True):\n",
    "    if condition == 'either (or)':\n",
    "        res = normality_test_results_df[(normality_test_results_df['Metric'] == metric) & ((normality_test_results_df['shap_Normally_Distributed'] == is_shap_normally_distr) | (normality_test_results_df['dag_Normally_Distributed'] == is_dag_normally_distr))]\n",
    "    else:\n",
    "        res = normality_test_results_df[(normality_test_results_df['Metric'] == metric) & (normality_test_results_df['shap_Normally_Distributed'] == is_shap_normally_distr) & (normality_test_results_df['dag_Normally_Distributed'] == is_dag_normally_distr)]\n",
    "    print('Size of the filtered DF: ', res.shape)\n",
    "    return res"
   ]
  },
  {
   "cell_type": "markdown",
   "metadata": {},
   "source": [
    "### For Ireland only Yield cannot reject the null hypothesis and is therefore the only variable which is normally distributed by the D'Agostino normality tests but not by Shapiro-Wilks. In comparison Denmark, Latvia and Lithuania have normal distribution by both normality tests for Yield And Number of Animal. However only Lithuania exhibited normal distribution for all variables by both tests.\n",
    "\n",
    "### Therefore parametric tests will be used for Yield and non-parametric tests for Production and Number of Animals."
   ]
  },
  {
   "cell_type": "code",
   "execution_count": 26,
   "metadata": {},
   "outputs": [],
   "source": [
    "def select_data_by_parameters(df, state, year_start, year_end=0):\n",
    "    if year_end == 0:\n",
    "        year_end = max(df.Year)\n",
    "    return df[(df['Member State'] == state) & (df.Year >= year_start) & (df.Year <= year_end)]\n",
    "\n",
    "\n",
    "def null_hypothesis_test(test_result, alpha=0.05):\n",
    "    if test_result.pvalue < alpha:  # null hypothesis: countries are the same in terms of dairy output\n",
    "        print(\"The null hypothesis (H0) can be rejected\")\n",
    "    else:\n",
    "        print(\"The null hypothesis (H0) cannot be rejected\")\n"
   ]
  },
  {
   "cell_type": "code",
   "execution_count": 94,
   "metadata": {},
   "outputs": [
    {
     "data": {
      "text/plain": [
       "LeveneResult(statistic=4.6556588831997825, pvalue=0.0049673307086175586)"
      ]
     },
     "execution_count": 94,
     "metadata": {},
     "output_type": "execute_result"
    },
    {
     "data": {
      "text/plain": [
       "BartlettResult(statistic=11.457806526234972, pvalue=0.009491239607007491)"
      ]
     },
     "execution_count": 94,
     "metadata": {},
     "output_type": "execute_result"
    }
   ],
   "source": [
    "# Levene test on Milk Yield\n",
    "var_test = [select_data_by_parameters(dairy_output_df_pivoted, 'Ireland', 2004).Yield_Kg_per_An, \n",
    "       select_data_by_parameters(dairy_output_df_pivoted, 'Denmark', 2004).Yield_Kg_per_An, \n",
    "       select_data_by_parameters(dairy_output_df_pivoted, 'Latvia', 2004).Yield_Kg_per_An, \n",
    "       select_data_by_parameters(dairy_output_df_pivoted, 'Lithuania', 2004).Yield_Kg_per_An]\n",
    "\n",
    "stats.levene(*var_test, center = 'median')\n",
    "stats.bartlett(*var_test)"
   ]
  },
  {
   "cell_type": "markdown",
   "metadata": {},
   "source": [
    "## Breaking down data for dairy industry before and after the abolition of european milk quotas"
   ]
  },
  {
   "cell_type": "markdown",
   "metadata": {},
   "source": [
    "## Assessing normality of distribution of variables from individual european member states"
   ]
  },
  {
   "cell_type": "code",
   "execution_count": 28,
   "metadata": {},
   "outputs": [
    {
     "name": "stdout",
     "output_type": "stream",
     "text": [
      "Production_tonnes\n",
      "p = 0.143999\n",
      "The null hypothesis (H0) cannot be rejected \n",
      "\n",
      "Yield_Kg_per_An\n",
      "p = 0.154044\n",
      "The null hypothesis (H0) cannot be rejected \n",
      "\n",
      "Derived_Animal_Number\n",
      "p = 0.0173893\n",
      "The null hypothesis (H0) can be rejected \n",
      "\n"
     ]
    }
   ],
   "source": [
    "for column in ['Production_tonnes', 'Yield_Kg_per_An', 'Derived_Animal_Number']:\n",
    "    k2, p = stats.normaltest(select_data_by_parameters(dairy_output_df_pivoted, 'Ireland', 2004)[column])\n",
    "\n",
    "    alpha = 0.05\n",
    "    print(column)\n",
    "    print(\"p = {:g}\".format(p))\n",
    "\n",
    "    if p < alpha:  # null hypothesis: x comes from a normal distribution\n",
    "        print(\"The null hypothesis (H0) can be rejected \\n\")\n",
    "    else:\n",
    "        print(\"The null hypothesis (H0) cannot be rejected \\n\")"
   ]
  },
  {
   "cell_type": "code",
   "execution_count": 29,
   "metadata": {},
   "outputs": [
    {
     "name": "stdout",
     "output_type": "stream",
     "text": [
      "Production_tonnes\n",
      "p = 0.00792526\n",
      "The null hypothesis (H0) can be rejected \n",
      "\n",
      "Yield_Kg_per_An\n",
      "p = 0.0982575\n",
      "The null hypothesis (H0) cannot be rejected \n",
      "\n",
      "Derived_Animal_Number\n",
      "p = 0.425829\n",
      "The null hypothesis (H0) cannot be rejected \n",
      "\n"
     ]
    }
   ],
   "source": [
    "for column in ['Production_tonnes', 'Yield_Kg_per_An', 'Derived_Animal_Number']:\n",
    "    k2, p = stats.normaltest(select_data_by_parameters(dairy_output_df_pivoted, 'Denmark', 2004)[column])\n",
    "\n",
    "    alpha = 0.05\n",
    "    print(column)\n",
    "    print(\"p = {:g}\".format(p))\n",
    "\n",
    "    if p < alpha:  # null hypothesis: x comes from a normal distribution\n",
    "        print(\"The null hypothesis (H0) can be rejected \\n\")\n",
    "    else:\n",
    "        print(\"The null hypothesis (H0) cannot be rejected \\n\")"
   ]
  },
  {
   "cell_type": "code",
   "execution_count": 30,
   "metadata": {},
   "outputs": [
    {
     "name": "stdout",
     "output_type": "stream",
     "text": [
      "Production_tonnes\n",
      "p = 0.143999\n",
      "The null hypothesis (H0) cannot be rejected \n",
      "\n",
      "Yield_Kg_per_An\n",
      "p = 0.154044\n",
      "The null hypothesis (H0) cannot be rejected \n",
      "\n",
      "Derived_Animal_Number\n",
      "p = 0.0173893\n",
      "The null hypothesis (H0) can be rejected \n",
      "\n"
     ]
    }
   ],
   "source": [
    "for column in ['Production_tonnes', 'Yield_Kg_per_An', 'Derived_Animal_Number']:\n",
    "    k2, p = stats.normaltest(select_data_by_parameters(dairy_output_df_pivoted, 'Ireland', 2004)[column])\n",
    "\n",
    "    alpha = 0.05\n",
    "    print(column)\n",
    "    print(\"p = {:g}\".format(p))\n",
    "\n",
    "    if p < alpha:  # null hypothesis: x comes from a normal distribution\n",
    "        print(\"The null hypothesis (H0) can be rejected \\n\")\n",
    "    else:\n",
    "        print(\"The null hypothesis (H0) cannot be rejected \\n\")"
   ]
  },
  {
   "cell_type": "markdown",
   "metadata": {},
   "source": [
    "### Normality test indicates that Yield is the only variable which is normally distributed in both Ireland and Denmark."
   ]
  },
  {
   "cell_type": "markdown",
   "metadata": {},
   "source": [
    "## Comparison of Ireland and Denmark by PRODUCTION by Wilcoxon signed-rank test- throughout, before and after the abolition of european milk quotas in 2015"
   ]
  },
  {
   "cell_type": "code",
   "execution_count": 31,
   "metadata": {},
   "outputs": [
    {
     "data": {
      "text/plain": [
       "WilcoxonResult(statistic=190.0, pvalue=1.9073486328125e-06)"
      ]
     },
     "execution_count": 31,
     "metadata": {},
     "output_type": "execute_result"
    },
    {
     "name": "stdout",
     "output_type": "stream",
     "text": [
      "The null hypothesis (H0) can be rejected\n"
     ]
    }
   ],
   "source": [
    "# Dairy production Ireland vs Denmark\n",
    "\n",
    "X1 = select_data_by_parameters(dairy_output_df_pivoted, 'Ireland', 2004)\n",
    "X2 = select_data_by_parameters(dairy_output_df_pivoted, 'Denmark', 2004)\n",
    "\n",
    "prod_test = stats.wilcoxon(X1.Production_tonnes, X2.Production_tonnes, alternative='greater')\n",
    "prod_test\n",
    "\n",
    "null_hypothesis_test(prod_test)"
   ]
  },
  {
   "cell_type": "code",
   "execution_count": 32,
   "metadata": {},
   "outputs": [
    {
     "data": {
      "text/plain": [
       "WilcoxonResult(statistic=78.0, pvalue=0.000244140625)"
      ]
     },
     "execution_count": 32,
     "metadata": {},
     "output_type": "execute_result"
    },
    {
     "name": "stdout",
     "output_type": "stream",
     "text": [
      "The null hypothesis (H0) can be rejected\n"
     ]
    }
   ],
   "source": [
    "# Dairy production Ireland vs Denmark pre Quota abolition\n",
    "\n",
    "X1 = select_data_by_parameters(dairy_output_df_pivoted, 'Ireland', 2004, 2015)\n",
    "X2 = select_data_by_parameters(dairy_output_df_pivoted, 'Denmark', 2004, 2015)\n",
    "\n",
    "prod_test = stats.wilcoxon(X1.Production_tonnes, X2.Production_tonnes, alternative='greater')\n",
    "prod_test\n",
    "\n",
    "null_hypothesis_test(prod_test)"
   ]
  },
  {
   "cell_type": "code",
   "execution_count": 33,
   "metadata": {},
   "outputs": [
    {
     "data": {
      "text/plain": [
       "WilcoxonResult(statistic=28.0, pvalue=0.0078125)"
      ]
     },
     "execution_count": 33,
     "metadata": {},
     "output_type": "execute_result"
    },
    {
     "name": "stdout",
     "output_type": "stream",
     "text": [
      "The null hypothesis (H0) can be rejected\n"
     ]
    }
   ],
   "source": [
    "# Dairy production Ireland vs Denmark post Quota abolition\n",
    "\n",
    "X1 = select_data_by_parameters(dairy_output_df_pivoted, 'Ireland', 2016)\n",
    "X2 = select_data_by_parameters(dairy_output_df_pivoted, 'Denmark', 2016)\n",
    "\n",
    "prod_test = stats.wilcoxon(X1.Production_tonnes, X2.Production_tonnes, alternative='greater', )\n",
    "prod_test\n",
    "\n",
    "null_hypothesis_test(prod_test)"
   ]
  },
  {
   "cell_type": "markdown",
   "metadata": {},
   "source": [
    "## Comparison of PRODUCTION by T-Test before and after the abolition of european milk quotas in 2015 for Ireland and Denmark as t.test can accept different number of samples in both groups"
   ]
  },
  {
   "cell_type": "markdown",
   "metadata": {},
   "source": [
    "## Condition #2 - Equality of Variance\n",
    "### Levene's Test assessment of homogeneity of variance for a variable across multiple groups. If the Levene test pvalue is <0.05, the variances in the groups are different and the assumptions for ANOVA are not met.\n",
    "Definition based on the median is recommended as the choice that provides good robustness against many types of non-normal data while retaining good power. \n",
    "The median is used as the center because it provides a more robust test. An alpha value of 0.05 was to be more stringent for declaring heterogeneity of variance between groups. Based on decision rules, we can reject the Null Hypothesis and state that that Yield, Production and Animal number are heterogenous in variance.\n",
    "Since the data does not satisfy the criteria of normal distribution or equality of variance, the non parametric tests, Welch's ANOVA and Kruskal-Wallis H Test are used instead of ANOVA.\n"
   ]
  },
  {
   "cell_type": "code",
   "execution_count": 95,
   "metadata": {},
   "outputs": [
    {
     "data": {
      "text/plain": [
       "LeveneResult(statistic=4.6556588831997825, pvalue=0.0049673307086175586)"
      ]
     },
     "execution_count": 95,
     "metadata": {},
     "output_type": "execute_result"
    },
    {
     "data": {
      "text/plain": [
       "BartlettResult(statistic=11.457806526234972, pvalue=0.009491239607007491)"
      ]
     },
     "execution_count": 95,
     "metadata": {},
     "output_type": "execute_result"
    }
   ],
   "source": [
    "# Levene test on Milk Yield\n",
    "var_test = [select_data_by_parameters(dairy_output_df_pivoted, 'Ireland', 2004).Yield_Kg_per_An, \n",
    "       select_data_by_parameters(dairy_output_df_pivoted, 'Denmark', 2004).Yield_Kg_per_An, \n",
    "       select_data_by_parameters(dairy_output_df_pivoted, 'Latvia', 2004).Yield_Kg_per_An, \n",
    "       select_data_by_parameters(dairy_output_df_pivoted, 'Lithuania', 2004).Yield_Kg_per_An]\n",
    "\n",
    "stats.levene(*var_test, center = 'median')\n",
    "stats.bartlett(*var_test)"
   ]
  },
  {
   "cell_type": "code",
   "execution_count": 96,
   "metadata": {},
   "outputs": [
    {
     "data": {
      "text/plain": [
       "LeveneResult(statistic=12.727836884597934, pvalue=9.192166733825764e-07)"
      ]
     },
     "execution_count": 96,
     "metadata": {},
     "output_type": "execute_result"
    },
    {
     "data": {
      "text/plain": [
       "BartlettResult(statistic=136.58284046916296, pvalue=2.06156328728102e-29)"
      ]
     },
     "execution_count": 96,
     "metadata": {},
     "output_type": "execute_result"
    }
   ],
   "source": [
    "# Levene test on Milk production\n",
    "var_test = [select_data_by_parameters(dairy_output_df_pivoted, 'Ireland', 2004).Production_tonnes, \n",
    "       select_data_by_parameters(dairy_output_df_pivoted, 'Denmark', 2004).Production_tonnes, \n",
    "       select_data_by_parameters(dairy_output_df_pivoted, 'Latvia', 2004).Production_tonnes, \n",
    "       select_data_by_parameters(dairy_output_df_pivoted, 'Lithuania', 2004).Production_tonnes]\n",
    "\n",
    "stats.levene(*var_test, center = 'median')\n",
    "stats.bartlett(*var_test)"
   ]
  },
  {
   "cell_type": "code",
   "execution_count": 97,
   "metadata": {},
   "outputs": [
    {
     "data": {
      "text/plain": [
       "LeveneResult(statistic=19.56372916759224, pvalue=2.2252883685971164e-09)"
      ]
     },
     "execution_count": 97,
     "metadata": {},
     "output_type": "execute_result"
    },
    {
     "data": {
      "text/plain": [
       "BartlettResult(statistic=116.55398032092354, pvalue=4.260962200365734e-25)"
      ]
     },
     "execution_count": 97,
     "metadata": {},
     "output_type": "execute_result"
    }
   ],
   "source": [
    "# Levene test on Milk production\n",
    "var_test = [select_data_by_parameters(dairy_output_df_pivoted, 'Ireland', 2004).Derived_Animal_Number, \n",
    "       select_data_by_parameters(dairy_output_df_pivoted, 'Denmark', 2004).Derived_Animal_Number, \n",
    "       select_data_by_parameters(dairy_output_df_pivoted, 'Latvia', 2004).Derived_Animal_Number, \n",
    "       select_data_by_parameters(dairy_output_df_pivoted, 'Lithuania', 2004).Derived_Animal_Number]\n",
    "\n",
    "stats.levene(*var_test, center = 'median')\n",
    "stats.bartlett(*var_test)"
   ]
  },
  {
   "cell_type": "markdown",
   "metadata": {},
   "source": [
    "## The parametric Welch’s ANOVA is used as an alternative to the standard one-way ANOVA when assumption of equal variance is violated. To see if there is a statistically significant difference in the means of three or more independent groups."
   ]
  },
  {
   "cell_type": "code",
   "execution_count": 98,
   "metadata": {},
   "outputs": [
    {
     "data": {
      "text/html": [
       "<div>\n",
       "<style scoped>\n",
       "    .dataframe tbody tr th:only-of-type {\n",
       "        vertical-align: middle;\n",
       "    }\n",
       "\n",
       "    .dataframe tbody tr th {\n",
       "        vertical-align: top;\n",
       "    }\n",
       "\n",
       "    .dataframe thead th {\n",
       "        text-align: right;\n",
       "    }\n",
       "</style>\n",
       "<table border=\"1\" class=\"dataframe\">\n",
       "  <thead>\n",
       "    <tr style=\"text-align: right;\">\n",
       "      <th></th>\n",
       "      <th>Source</th>\n",
       "      <th>ddof1</th>\n",
       "      <th>ddof2</th>\n",
       "      <th>F</th>\n",
       "      <th>p-unc</th>\n",
       "      <th>np2</th>\n",
       "    </tr>\n",
       "  </thead>\n",
       "  <tbody>\n",
       "    <tr>\n",
       "      <th>0</th>\n",
       "      <td>group</td>\n",
       "      <td>3</td>\n",
       "      <td>38.505821</td>\n",
       "      <td>124.493373</td>\n",
       "      <td>7.323411e-20</td>\n",
       "      <td>0.799996</td>\n",
       "    </tr>\n",
       "  </tbody>\n",
       "</table>\n",
       "</div>"
      ],
      "text/plain": [
       "  Source  ddof1      ddof2           F         p-unc       np2\n",
       "0  group      3  38.505821  124.493373  7.323411e-20  0.799996"
      ]
     },
     "execution_count": 98,
     "metadata": {},
     "output_type": "execute_result"
    }
   ],
   "source": [
    "anova_grouped_df = (select_data_by_parameters(dairy_output_df_pivoted, 'Ireland', 2004).Yield_Kg_per_An.tolist() + \n",
    "       select_data_by_parameters(dairy_output_df_pivoted, 'Denmark', 2004).Yield_Kg_per_An.tolist() + \n",
    "       select_data_by_parameters(dairy_output_df_pivoted, 'Latvia', 2004).Yield_Kg_per_An.tolist() +\n",
    "       select_data_by_parameters(dairy_output_df_pivoted, 'Lithuania', 2004).Yield_Kg_per_An.tolist())\n",
    "\n",
    "num_repeats = len(select_data_by_parameters(dairy_output_df_pivoted, 'Ireland', 2004).Yield_Kg_per_An.tolist())\n",
    "\n",
    "# create DataFrame \n",
    "df = pd.DataFrame({'yield': anova_grouped_df, \n",
    "                   'group': np.repeat(['Ireland', 'Denmark', 'Latvia', 'Lithuania'], \n",
    "                                      repeats=num_repeats)}) \n",
    "  \n",
    "# perform Welch's ANOVA \n",
    "pg.welch_anova(dv='yield', between='group', data=df) "
   ]
  },
  {
   "cell_type": "code",
   "execution_count": 99,
   "metadata": {},
   "outputs": [
    {
     "data": {
      "text/html": [
       "<div>\n",
       "<style scoped>\n",
       "    .dataframe tbody tr th:only-of-type {\n",
       "        vertical-align: middle;\n",
       "    }\n",
       "\n",
       "    .dataframe tbody tr th {\n",
       "        vertical-align: top;\n",
       "    }\n",
       "\n",
       "    .dataframe thead th {\n",
       "        text-align: right;\n",
       "    }\n",
       "</style>\n",
       "<table border=\"1\" class=\"dataframe\">\n",
       "  <thead>\n",
       "    <tr style=\"text-align: right;\">\n",
       "      <th></th>\n",
       "      <th>Year</th>\n",
       "      <th>Member State</th>\n",
       "      <th>Production_tonnes</th>\n",
       "      <th>Yield_Kg_per_An</th>\n",
       "      <th>Derived_Animal_Number</th>\n",
       "      <th>Production_tonnes_median</th>\n",
       "      <th>Production_tonnes_percentiles</th>\n",
       "      <th>Yield_Kg_per_An_median</th>\n",
       "      <th>Yield_Kg_per_An_percentiles</th>\n",
       "      <th>Derived_Animal_Number_median</th>\n",
       "      <th>Derived_Animal_Number_percentiles</th>\n",
       "    </tr>\n",
       "  </thead>\n",
       "  <tbody>\n",
       "    <tr>\n",
       "      <th>114</th>\n",
       "      <td>2004</td>\n",
       "      <td>Denmark</td>\n",
       "      <td>4569000.0</td>\n",
       "      <td>7757.2</td>\n",
       "      <td>589001</td>\n",
       "      <td>5104720.0</td>\n",
       "      <td>4</td>\n",
       "      <td>8765.9</td>\n",
       "      <td>5</td>\n",
       "      <td>564268.0</td>\n",
       "      <td>4</td>\n",
       "    </tr>\n",
       "    <tr>\n",
       "      <th>115</th>\n",
       "      <td>2005</td>\n",
       "      <td>Denmark</td>\n",
       "      <td>4584000.0</td>\n",
       "      <td>8123.8</td>\n",
       "      <td>564268</td>\n",
       "      <td>5104720.0</td>\n",
       "      <td>4</td>\n",
       "      <td>8765.9</td>\n",
       "      <td>5</td>\n",
       "      <td>564268.0</td>\n",
       "      <td>4</td>\n",
       "    </tr>\n",
       "    <tr>\n",
       "      <th>116</th>\n",
       "      <td>2006</td>\n",
       "      <td>Denmark</td>\n",
       "      <td>4627000.0</td>\n",
       "      <td>8408.5</td>\n",
       "      <td>550277</td>\n",
       "      <td>5104720.0</td>\n",
       "      <td>4</td>\n",
       "      <td>8765.9</td>\n",
       "      <td>5</td>\n",
       "      <td>564268.0</td>\n",
       "      <td>4</td>\n",
       "    </tr>\n",
       "    <tr>\n",
       "      <th>117</th>\n",
       "      <td>2007</td>\n",
       "      <td>Denmark</td>\n",
       "      <td>4650000.0</td>\n",
       "      <td>8525.5</td>\n",
       "      <td>545423</td>\n",
       "      <td>5104720.0</td>\n",
       "      <td>4</td>\n",
       "      <td>8765.9</td>\n",
       "      <td>5</td>\n",
       "      <td>564268.0</td>\n",
       "      <td>4</td>\n",
       "    </tr>\n",
       "    <tr>\n",
       "      <th>118</th>\n",
       "      <td>2008</td>\n",
       "      <td>Denmark</td>\n",
       "      <td>4720000.0</td>\n",
       "      <td>8459.1</td>\n",
       "      <td>557979</td>\n",
       "      <td>5104720.0</td>\n",
       "      <td>4</td>\n",
       "      <td>8765.9</td>\n",
       "      <td>5</td>\n",
       "      <td>564268.0</td>\n",
       "      <td>4</td>\n",
       "    </tr>\n",
       "    <tr>\n",
       "      <th>...</th>\n",
       "      <td>...</td>\n",
       "      <td>...</td>\n",
       "      <td>...</td>\n",
       "      <td>...</td>\n",
       "      <td>...</td>\n",
       "      <td>...</td>\n",
       "      <td>...</td>\n",
       "      <td>...</td>\n",
       "      <td>...</td>\n",
       "      <td>...</td>\n",
       "      <td>...</td>\n",
       "    </tr>\n",
       "    <tr>\n",
       "      <th>318</th>\n",
       "      <td>2018</td>\n",
       "      <td>Lithuania</td>\n",
       "      <td>1568010.0</td>\n",
       "      <td>6120.3</td>\n",
       "      <td>256198</td>\n",
       "      <td>1734726.0</td>\n",
       "      <td>2</td>\n",
       "      <td>5315.4</td>\n",
       "      <td>1</td>\n",
       "      <td>323497.0</td>\n",
       "      <td>3</td>\n",
       "    </tr>\n",
       "    <tr>\n",
       "      <th>319</th>\n",
       "      <td>2019</td>\n",
       "      <td>Lithuania</td>\n",
       "      <td>1547430.0</td>\n",
       "      <td>6423.5</td>\n",
       "      <td>240901</td>\n",
       "      <td>1734726.0</td>\n",
       "      <td>2</td>\n",
       "      <td>5315.4</td>\n",
       "      <td>1</td>\n",
       "      <td>323497.0</td>\n",
       "      <td>3</td>\n",
       "    </tr>\n",
       "    <tr>\n",
       "      <th>320</th>\n",
       "      <td>2020</td>\n",
       "      <td>Lithuania</td>\n",
       "      <td>1488000.0</td>\n",
       "      <td>6389.0</td>\n",
       "      <td>232900</td>\n",
       "      <td>1734726.0</td>\n",
       "      <td>2</td>\n",
       "      <td>5315.4</td>\n",
       "      <td>1</td>\n",
       "      <td>323497.0</td>\n",
       "      <td>3</td>\n",
       "    </tr>\n",
       "    <tr>\n",
       "      <th>321</th>\n",
       "      <td>2021</td>\n",
       "      <td>Lithuania</td>\n",
       "      <td>1473280.0</td>\n",
       "      <td>6542.1</td>\n",
       "      <td>225200</td>\n",
       "      <td>1734726.0</td>\n",
       "      <td>2</td>\n",
       "      <td>5315.4</td>\n",
       "      <td>1</td>\n",
       "      <td>323497.0</td>\n",
       "      <td>3</td>\n",
       "    </tr>\n",
       "    <tr>\n",
       "      <th>322</th>\n",
       "      <td>2022</td>\n",
       "      <td>Lithuania</td>\n",
       "      <td>1517610.0</td>\n",
       "      <td>6769.6</td>\n",
       "      <td>224180</td>\n",
       "      <td>1734726.0</td>\n",
       "      <td>2</td>\n",
       "      <td>5315.4</td>\n",
       "      <td>1</td>\n",
       "      <td>323497.0</td>\n",
       "      <td>3</td>\n",
       "    </tr>\n",
       "  </tbody>\n",
       "</table>\n",
       "<p>76 rows × 11 columns</p>\n",
       "</div>"
      ],
      "text/plain": [
       "     Year Member State  Production_tonnes  Yield_Kg_per_An  \\\n",
       "114  2004      Denmark          4569000.0           7757.2   \n",
       "115  2005      Denmark          4584000.0           8123.8   \n",
       "116  2006      Denmark          4627000.0           8408.5   \n",
       "117  2007      Denmark          4650000.0           8525.5   \n",
       "118  2008      Denmark          4720000.0           8459.1   \n",
       "..    ...          ...                ...              ...   \n",
       "318  2018    Lithuania          1568010.0           6120.3   \n",
       "319  2019    Lithuania          1547430.0           6423.5   \n",
       "320  2020    Lithuania          1488000.0           6389.0   \n",
       "321  2021    Lithuania          1473280.0           6542.1   \n",
       "322  2022    Lithuania          1517610.0           6769.6   \n",
       "\n",
       "     Derived_Animal_Number  Production_tonnes_median  \\\n",
       "114                 589001                 5104720.0   \n",
       "115                 564268                 5104720.0   \n",
       "116                 550277                 5104720.0   \n",
       "117                 545423                 5104720.0   \n",
       "118                 557979                 5104720.0   \n",
       "..                     ...                       ...   \n",
       "318                 256198                 1734726.0   \n",
       "319                 240901                 1734726.0   \n",
       "320                 232900                 1734726.0   \n",
       "321                 225200                 1734726.0   \n",
       "322                 224180                 1734726.0   \n",
       "\n",
       "    Production_tonnes_percentiles  Yield_Kg_per_An_median  \\\n",
       "114                             4                  8765.9   \n",
       "115                             4                  8765.9   \n",
       "116                             4                  8765.9   \n",
       "117                             4                  8765.9   \n",
       "118                             4                  8765.9   \n",
       "..                            ...                     ...   \n",
       "318                             2                  5315.4   \n",
       "319                             2                  5315.4   \n",
       "320                             2                  5315.4   \n",
       "321                             2                  5315.4   \n",
       "322                             2                  5315.4   \n",
       "\n",
       "    Yield_Kg_per_An_percentiles  Derived_Animal_Number_median  \\\n",
       "114                           5                      564268.0   \n",
       "115                           5                      564268.0   \n",
       "116                           5                      564268.0   \n",
       "117                           5                      564268.0   \n",
       "118                           5                      564268.0   \n",
       "..                          ...                           ...   \n",
       "318                           1                      323497.0   \n",
       "319                           1                      323497.0   \n",
       "320                           1                      323497.0   \n",
       "321                           1                      323497.0   \n",
       "322                           1                      323497.0   \n",
       "\n",
       "    Derived_Animal_Number_percentiles  \n",
       "114                                 4  \n",
       "115                                 4  \n",
       "116                                 4  \n",
       "117                                 4  \n",
       "118                                 4  \n",
       "..                                ...  \n",
       "318                                 3  \n",
       "319                                 3  \n",
       "320                                 3  \n",
       "321                                 3  \n",
       "322                                 3  \n",
       "\n",
       "[76 rows x 11 columns]"
      ]
     },
     "execution_count": 99,
     "metadata": {},
     "output_type": "execute_result"
    }
   ],
   "source": [
    "dairy_output_df_pivoted[dairy_output_df_pivoted['Member State'].isin(['Ireland', 'Denmark', 'Latvia', 'Lithuania'])]"
   ]
  },
  {
   "cell_type": "code",
   "execution_count": 100,
   "metadata": {},
   "outputs": [
    {
     "data": {
      "text/html": [
       "<div>\n",
       "<style scoped>\n",
       "    .dataframe tbody tr th:only-of-type {\n",
       "        vertical-align: middle;\n",
       "    }\n",
       "\n",
       "    .dataframe tbody tr th {\n",
       "        vertical-align: top;\n",
       "    }\n",
       "\n",
       "    .dataframe thead th {\n",
       "        text-align: right;\n",
       "    }\n",
       "</style>\n",
       "<table border=\"1\" class=\"dataframe\">\n",
       "  <thead>\n",
       "    <tr style=\"text-align: right;\">\n",
       "      <th></th>\n",
       "      <th>A</th>\n",
       "      <th>B</th>\n",
       "      <th>mean(A)</th>\n",
       "      <th>mean(B)</th>\n",
       "      <th>diff</th>\n",
       "      <th>se</th>\n",
       "      <th>T</th>\n",
       "      <th>df</th>\n",
       "      <th>pval</th>\n",
       "      <th>hedges</th>\n",
       "    </tr>\n",
       "  </thead>\n",
       "  <tbody>\n",
       "    <tr>\n",
       "      <th>0</th>\n",
       "      <td>Denmark</td>\n",
       "      <td>Ireland</td>\n",
       "      <td>9082.853</td>\n",
       "      <td>5115.700</td>\n",
       "      <td>3967.153</td>\n",
       "      <td>208.221</td>\n",
       "      <td>19.053</td>\n",
       "      <td>31.089</td>\n",
       "      <td>0.000</td>\n",
       "      <td>6.052</td>\n",
       "    </tr>\n",
       "    <tr>\n",
       "      <th>1</th>\n",
       "      <td>Denmark</td>\n",
       "      <td>Latvia</td>\n",
       "      <td>9082.853</td>\n",
       "      <td>5714.179</td>\n",
       "      <td>3368.674</td>\n",
       "      <td>313.763</td>\n",
       "      <td>10.736</td>\n",
       "      <td>31.362</td>\n",
       "      <td>0.000</td>\n",
       "      <td>3.410</td>\n",
       "    </tr>\n",
       "    <tr>\n",
       "      <th>2</th>\n",
       "      <td>Denmark</td>\n",
       "      <td>Lithuania</td>\n",
       "      <td>9082.853</td>\n",
       "      <td>5369.368</td>\n",
       "      <td>3713.484</td>\n",
       "      <td>250.199</td>\n",
       "      <td>14.842</td>\n",
       "      <td>35.963</td>\n",
       "      <td>0.000</td>\n",
       "      <td>4.714</td>\n",
       "    </tr>\n",
       "    <tr>\n",
       "      <th>3</th>\n",
       "      <td>Ireland</td>\n",
       "      <td>Latvia</td>\n",
       "      <td>5115.700</td>\n",
       "      <td>5714.179</td>\n",
       "      <td>-598.479</td>\n",
       "      <td>284.983</td>\n",
       "      <td>-2.100</td>\n",
       "      <td>24.655</td>\n",
       "      <td>0.181</td>\n",
       "      <td>-0.667</td>\n",
       "    </tr>\n",
       "    <tr>\n",
       "      <th>4</th>\n",
       "      <td>Ireland</td>\n",
       "      <td>Lithuania</td>\n",
       "      <td>5115.700</td>\n",
       "      <td>5369.368</td>\n",
       "      <td>-253.668</td>\n",
       "      <td>212.996</td>\n",
       "      <td>-1.191</td>\n",
       "      <td>30.510</td>\n",
       "      <td>0.637</td>\n",
       "      <td>-0.378</td>\n",
       "    </tr>\n",
       "    <tr>\n",
       "      <th>5</th>\n",
       "      <td>Latvia</td>\n",
       "      <td>Lithuania</td>\n",
       "      <td>5714.179</td>\n",
       "      <td>5369.368</td>\n",
       "      <td>344.811</td>\n",
       "      <td>316.953</td>\n",
       "      <td>1.088</td>\n",
       "      <td>31.934</td>\n",
       "      <td>0.699</td>\n",
       "      <td>0.346</td>\n",
       "    </tr>\n",
       "  </tbody>\n",
       "</table>\n",
       "</div>"
      ],
      "text/plain": [
       "         A          B   mean(A)   mean(B)      diff       se       T      df  \\\n",
       "0  Denmark    Ireland  9082.853  5115.700  3967.153  208.221  19.053  31.089   \n",
       "1  Denmark     Latvia  9082.853  5714.179  3368.674  313.763  10.736  31.362   \n",
       "2  Denmark  Lithuania  9082.853  5369.368  3713.484  250.199  14.842  35.963   \n",
       "3  Ireland     Latvia  5115.700  5714.179  -598.479  284.983  -2.100  24.655   \n",
       "4  Ireland  Lithuania  5115.700  5369.368  -253.668  212.996  -1.191  30.510   \n",
       "5   Latvia  Lithuania  5714.179  5369.368   344.811  316.953   1.088  31.934   \n",
       "\n",
       "    pval  hedges  \n",
       "0  0.000   6.052  \n",
       "1  0.000   3.410  \n",
       "2  0.000   4.714  \n",
       "3  0.181  -0.667  \n",
       "4  0.637  -0.378  \n",
       "5  0.699   0.346  "
      ]
     },
     "execution_count": 100,
     "metadata": {},
     "output_type": "execute_result"
    }
   ],
   "source": [
    "pg.pairwise_gameshowell(data=dairy_output_df_pivoted[dairy_output_df_pivoted['Member State'].isin(['Ireland', 'Denmark', 'Latvia', 'Lithuania'])], dv='Yield_Kg_per_An' ,between='Member State').round(3)\n"
   ]
  },
  {
   "cell_type": "markdown",
   "metadata": {},
   "source": [
    "### Games-Howell test identified that Yield is significantly different between Denmark and the three other selected states for yield"
   ]
  },
  {
   "cell_type": "markdown",
   "metadata": {},
   "source": [
    "## Statistics - Comparison of Ireland and other member states by selected using non-parametric  Kruskall wallis and Dunn tests"
   ]
  },
  {
   "cell_type": "markdown",
   "metadata": {},
   "source": [
    "### Kruskal wallis test demonstrates there are significant difference between Ireland, Denmark, Latvia, and Lithuania for Milk Yield."
   ]
  },
  {
   "cell_type": "code",
   "execution_count": null,
   "metadata": {},
   "outputs": [
    {
     "data": {
      "text/plain": [
       "KruskalResult(statistic=43.6015037593985, pvalue=1.8339312563270992e-09)"
      ]
     },
     "metadata": {},
     "output_type": "display_data"
    }
   ],
   "source": [
    "kruskal_yield_dfs = [select_data_by_parameters(dairy_output_df_pivoted, 'Ireland', 2004).Yield_Kg_per_An, \n",
    "       select_data_by_parameters(dairy_output_df_pivoted, 'Denmark', 2004).Yield_Kg_per_An, \n",
    "       select_data_by_parameters(dairy_output_df_pivoted, 'Latvia', 2004).Yield_Kg_per_An, \n",
    "       select_data_by_parameters(dairy_output_df_pivoted, 'Lithuania', 2004).Yield_Kg_per_An]\n",
    "kruskal_test = kruskal(*kruskal_yield_dfs)\n",
    "kruskal_test"
   ]
  },
  {
   "cell_type": "markdown",
   "metadata": {},
   "source": [
    "### Post-Hoc Dunn test identifies that Ireland is not significantly different from Latvia or Lithuania for Milk yield, However milk yield is significantly different in Denmark compared to all other selected member states."
   ]
  },
  {
   "cell_type": "code",
   "execution_count": null,
   "metadata": {},
   "outputs": [
    {
     "name": "stdout",
     "output_type": "stream",
     "text": [
      "              1             2         3             4\n",
      "1  1.000000e+00  1.922066e-08  0.710791  1.000000e+00\n",
      "2  1.922066e-08  1.000000e+00  0.000009  7.509006e-07\n",
      "3  7.107908e-01  8.628252e-06  1.000000  1.000000e+00\n",
      "4  1.000000e+00  7.509006e-07  1.000000  1.000000e+00\n",
      "       1      2      3      4\n",
      "1  False   True  False  False\n",
      "2   True  False   True   True\n",
      "3  False   True  False  False\n",
      "4  False   True  False  False\n"
     ]
    }
   ],
   "source": [
    "p_values = sp.posthoc_dunn(kruskal_yield_dfs, p_adjust='holm')\n",
    "print(p_values)\n",
    "# For p-values < 0.05, the null hypothesis can be rejected, indicating that there is a significant difference between the groups. True values indicate that there is a significant difference between the groups.\n",
    "print(p_values <0.05)"
   ]
  },
  {
   "cell_type": "markdown",
   "metadata": {},
   "source": [
    "### Kruskal wallis test demonstrates there are significant difference between Ireland, Denmark, Latvia, and Lithuania for Milk production."
   ]
  },
  {
   "cell_type": "code",
   "execution_count": 111,
   "metadata": {},
   "outputs": [
    {
     "data": {
      "text/plain": [
       "0      False\n",
       "1      False\n",
       "2      False\n",
       "3      False\n",
       "4      False\n",
       "       ...  \n",
       "508    False\n",
       "509    False\n",
       "510    False\n",
       "511    False\n",
       "512    False\n",
       "Name: Member State, Length: 513, dtype: bool"
      ]
     },
     "execution_count": 111,
     "metadata": {},
     "output_type": "execute_result"
    }
   ],
   "source": [
    "dairy_output_df_pivoted['Member State'].isin(['Ireland', 'Denmark', 'Latvia', 'Lithuania'])"
   ]
  },
  {
   "cell_type": "code",
   "execution_count": 112,
   "metadata": {},
   "outputs": [
    {
     "data": {
      "text/plain": [
       "KruskalResult(statistic=65.55998848796634, pvalue=3.80686917655369e-14)"
      ]
     },
     "execution_count": 112,
     "metadata": {},
     "output_type": "execute_result"
    }
   ],
   "source": [
    "kruskal_prod_dfs = [select_data_by_parameters(dairy_output_df_pivoted, 'Ireland', 2004).Production_tonnes, \n",
    "       select_data_by_parameters(dairy_output_df_pivoted, 'Denmark', 2004).Production_tonnes, \n",
    "       select_data_by_parameters(dairy_output_df_pivoted, 'Germany', 2004).Production_tonnes, \n",
    "       select_data_by_parameters(dairy_output_df_pivoted, 'Italy', 2004).Production_tonnes]\n",
    "kruskal_test = kruskal(*kruskal_prod_dfs)\n",
    "kruskal_test"
   ]
  },
  {
   "cell_type": "markdown",
   "metadata": {},
   "source": [
    "### Post-Hoc Dunn test identifies that Ireland is not significantly different from Denmark for Milk production, but is significantly different to Latvia and Lithuania."
   ]
  },
  {
   "cell_type": "code",
   "execution_count": 109,
   "metadata": {},
   "outputs": [
    {
     "name": "stdout",
     "output_type": "stream",
     "text": [
      "              1             2             3         4\n",
      "1  1.000000e+00  1.320889e-01  2.092093e-08  0.003781\n",
      "2  1.320889e-01  1.000000e+00  9.309641e-13  0.000009\n",
      "3  2.092093e-08  9.309641e-13  1.000000e+00  0.016009\n",
      "4  3.780997e-03  8.946457e-06  1.600900e-02  1.000000\n",
      "       1      2      3      4\n",
      "1  False  False   True   True\n",
      "2  False  False   True   True\n",
      "3   True   True  False   True\n",
      "4   True   True   True  False\n"
     ]
    }
   ],
   "source": [
    "p_values = sp.posthoc_dunn(kruskal_prod_dfs, p_adjust='holm')\n",
    "\n",
    "print(p_values)\n",
    "# For p-values < 0.05, the null hypothesis can be rejected, indicating that there is a significant difference between the groups. True values indicate that there is a significant difference between the groups.\n",
    "print(p_values <0.05)"
   ]
  },
  {
   "cell_type": "markdown",
   "metadata": {},
   "source": [
    "### Kruskal wallis test demonstrates there are significant difference between Ireland, Denmark, Latvia, and Lithuania for Number of Dairy Animals."
   ]
  },
  {
   "cell_type": "code",
   "execution_count": 113,
   "metadata": {},
   "outputs": [
    {
     "data": {
      "text/plain": [
       "KruskalResult(statistic=70.32563671410412, pvalue=3.635195451677846e-15)"
      ]
     },
     "execution_count": 113,
     "metadata": {},
     "output_type": "execute_result"
    }
   ],
   "source": [
    "kruskal_anim_dfs = [select_data_by_parameters(dairy_output_df_pivoted, 'Ireland', 2004).Derived_Animal_Number, \n",
    "       select_data_by_parameters(dairy_output_df_pivoted, 'Denmark', 2004).Derived_Animal_Number, \n",
    "       select_data_by_parameters(dairy_output_df_pivoted, 'Latvia', 2004).Derived_Animal_Number, \n",
    "       select_data_by_parameters(dairy_output_df_pivoted, 'Lithuania', 2004).Derived_Animal_Number]\n",
    "kruskal_test = kruskal(*kruskal_anim_dfs)\n",
    "kruskal_test"
   ]
  },
  {
   "cell_type": "markdown",
   "metadata": {},
   "source": [
    "### Post-Hoc Dunn test identifies all selected member states have significantly different number of Dairy Animals from one another."
   ]
  },
  {
   "cell_type": "code",
   "execution_count": 114,
   "metadata": {},
   "outputs": [
    {
     "name": "stdout",
     "output_type": "stream",
     "text": [
      "              1             2             3             4\n",
      "1  1.000000e+00  2.401221e-02  1.068778e-14  5.670945e-07\n",
      "2  2.401221e-02  1.000000e+00  5.670945e-07  2.401221e-02\n",
      "3  1.068778e-14  5.670945e-07  1.000000e+00  2.401221e-02\n",
      "4  5.670945e-07  2.401221e-02  2.401221e-02  1.000000e+00\n",
      "       1      2      3      4\n",
      "1  False   True   True   True\n",
      "2   True  False   True   True\n",
      "3   True   True  False   True\n",
      "4   True   True   True  False\n"
     ]
    }
   ],
   "source": [
    "p_values = sp.posthoc_dunn(kruskal_anim_dfs, p_adjust='holm')\n",
    "\n",
    "print(p_values)\n",
    "# For p-values < 0.05, the null hypothesis can be rejected, indicating that there is a significant difference between the groups. True values indicate that there is a significant difference between the groups.\n",
    "print(p_values <0.05)"
   ]
  },
  {
   "cell_type": "markdown",
   "metadata": {},
   "source": [
    "### 2015 Abolition of Milk quotas: Parametric and non-Parametric tests to assess differences in Dairy production between Ireland and Denmark traversing the abolition of milk quotas in 2015."
   ]
  },
  {
   "cell_type": "code",
   "execution_count": null,
   "metadata": {},
   "outputs": [
    {
     "data": {
      "text/plain": [
       "TtestResult(statistic=8.079973959021997, pvalue=4.609733467121942e-05, df=7.82505260836455)"
      ]
     },
     "metadata": {},
     "output_type": "display_data"
    },
    {
     "name": "stdout",
     "output_type": "stream",
     "text": [
      "The null hypothesis (H0) can be rejected\n"
     ]
    }
   ],
   "source": [
    "# Dairy production Ireland pre and post EU quotas\n",
    "\n",
    "X1 = select_data_by_parameters(dairy_output_df_pivoted, 'Ireland', 2016, 2022) \n",
    "X2 = select_data_by_parameters(dairy_output_df_pivoted, 'Ireland', 2004, 2015)\n",
    "\n",
    "prod_test = stats.ttest_ind(X1.Production_tonnes, X2.Production_tonnes, equal_var = False)\n",
    "prod_test\n",
    "\n",
    "null_hypothesis_test(prod_test)"
   ]
  },
  {
   "cell_type": "code",
   "execution_count": null,
   "metadata": {},
   "outputs": [
    {
     "data": {
      "text/plain": [
       "TtestResult(statistic=9.314891158494039, pvalue=2.3275002413026226e-07, df=13.929751992501314)"
      ]
     },
     "metadata": {},
     "output_type": "display_data"
    },
    {
     "name": "stdout",
     "output_type": "stream",
     "text": [
      "The null hypothesis (H0) can be rejected\n"
     ]
    }
   ],
   "source": [
    "# Dairy production Denmark pre and post EU quotas\n",
    "\n",
    "X1 = select_data_by_parameters(dairy_output_df_pivoted, 'Denmark', 2016, 2022) \n",
    "X2 = select_data_by_parameters(dairy_output_df_pivoted, 'Denmark', 2004, 2015)\n",
    "\n",
    "prod_test = stats.ttest_ind(X1.Production_tonnes, X2.Production_tonnes, equal_var = False)\n",
    "prod_test\n",
    "\n",
    "null_hypothesis_test(prod_test)"
   ]
  },
  {
   "cell_type": "markdown",
   "metadata": {},
   "source": [
    "### Ireland has significantly greater overall dairy output compared to Denmark before and after the abolition of EU quotas in 2015. However, the t-statistics reflecting size of the difference in dairy production relative to the variation in the two sets demonstrates an increased seperation in the dairy production between the two countries following abolition (pre-abolition = 4.08 , postabolition = 8.12). Both countries exhibit a comparable t-statistic (Ireland = 8.08, Denmark = 9.31) for their increase in dairy production post abolition of quotas. "
   ]
  },
  {
   "cell_type": "markdown",
   "metadata": {},
   "source": [
    "## Comparison of Ireland and Denmark by ANIMAL NUMBER by Wilcoxon signed-rank test- throughout, before and after the abolition of european milk quotas in 2015"
   ]
  },
  {
   "cell_type": "code",
   "execution_count": null,
   "metadata": {},
   "outputs": [
    {
     "data": {
      "text/plain": [
       "TtestResult(statistic=17.862724730272557, pvalue=5.681957529124749e-13, df=18.164161455482553)"
      ]
     },
     "metadata": {},
     "output_type": "display_data"
    },
    {
     "name": "stdout",
     "output_type": "stream",
     "text": [
      "The null hypothesis (H0) can be rejected\n"
     ]
    }
   ],
   "source": [
    "# Animal number Ireland vs Denmark\n",
    "\n",
    "X1 = select_data_by_parameters(dairy_output_df_pivoted, 'Ireland', 2004)\n",
    "X2 = select_data_by_parameters(dairy_output_df_pivoted, 'Denmark', 2004)\n",
    "\n",
    "num_test = stats.ttest_ind(X1.Derived_Animal_Number, X2.Derived_Animal_Number, equal_var = False)\n",
    "num_test\n",
    "\n",
    "null_hypothesis_test(num_test)"
   ]
  },
  {
   "cell_type": "code",
   "execution_count": null,
   "metadata": {},
   "outputs": [
    {
     "data": {
      "text/plain": [
       "WilcoxonResult(statistic=190.0, pvalue=1.9073486328125e-06)"
      ]
     },
     "metadata": {},
     "output_type": "display_data"
    },
    {
     "name": "stdout",
     "output_type": "stream",
     "text": [
      "The null hypothesis (H0) can be rejected\n"
     ]
    }
   ],
   "source": [
    "# Animal number Ireland vs Denmark\n",
    "\n",
    "X1 = select_data_by_parameters(dairy_output_df_pivoted, 'Ireland', 2004)\n",
    "X2 = select_data_by_parameters(dairy_output_df_pivoted, 'Denmark', 2004)\n",
    "\n",
    "num_test = stats.wilcoxon(X1.Derived_Animal_Number, X2.Derived_Animal_Number, alternative='greater')\n",
    "num_test\n",
    "\n",
    "null_hypothesis_test(num_test)"
   ]
  },
  {
   "cell_type": "code",
   "execution_count": null,
   "metadata": {},
   "outputs": [
    {
     "data": {
      "text/plain": [
       "TtestResult(statistic=27.515512816771057, pvalue=4.334815587210343e-12, df=11.828394493122202)"
      ]
     },
     "metadata": {},
     "output_type": "display_data"
    },
    {
     "name": "stdout",
     "output_type": "stream",
     "text": [
      "The null hypothesis (H0) can be rejected\n"
     ]
    }
   ],
   "source": [
    "# Animal number Ireland vs Denmark pre Quota abolition\n",
    "\n",
    "X1 = select_data_by_parameters(dairy_output_df_pivoted, 'Ireland', 2004, 2015)\n",
    "X2 = select_data_by_parameters(dairy_output_df_pivoted, 'Denmark', 2004, 2015)\n",
    "\n",
    "num_test = stats.ttest_ind(X1.Derived_Animal_Number, X2.Derived_Animal_Number, equal_var = False)\n",
    "num_test\n",
    "\n",
    "null_hypothesis_test(num_test)"
   ]
  },
  {
   "cell_type": "code",
   "execution_count": null,
   "metadata": {},
   "outputs": [
    {
     "data": {
      "text/plain": [
       "WilcoxonResult(statistic=78.0, pvalue=0.000244140625)"
      ]
     },
     "metadata": {},
     "output_type": "display_data"
    },
    {
     "name": "stdout",
     "output_type": "stream",
     "text": [
      "The null hypothesis (H0) can be rejected\n"
     ]
    }
   ],
   "source": [
    "# Animal number Ireland vs Denmark pre Quota abolition\n",
    "\n",
    "X1 = select_data_by_parameters(dairy_output_df_pivoted, 'Ireland', 2004, 2015)\n",
    "X2 = select_data_by_parameters(dairy_output_df_pivoted, 'Denmark', 2004, 2015)\n",
    "\n",
    "num_test = stats.wilcoxon(X1.Derived_Animal_Number, X2.Derived_Animal_Number, alternative='greater')\n",
    "num_test\n",
    "\n",
    "null_hypothesis_test(num_test)"
   ]
  },
  {
   "cell_type": "code",
   "execution_count": null,
   "metadata": {},
   "outputs": [
    {
     "data": {
      "text/plain": [
       "TtestResult(statistic=44.01837454957842, pvalue=6.254875922602456e-09, df=6.1569760231509685)"
      ]
     },
     "metadata": {},
     "output_type": "display_data"
    },
    {
     "name": "stdout",
     "output_type": "stream",
     "text": [
      "The null hypothesis (H0) can be rejected\n"
     ]
    }
   ],
   "source": [
    "# Animal number Ireland vs Denmark post Quota abolition\n",
    "\n",
    "X1 = select_data_by_parameters(dairy_output_df_pivoted, 'Ireland', 2016)\n",
    "X2 = select_data_by_parameters(dairy_output_df_pivoted, 'Denmark', 2016)\n",
    "\n",
    "num_test = stats.ttest_ind(X1.Derived_Animal_Number, X2.Derived_Animal_Number, equal_var = False)\n",
    "num_test\n",
    "\n",
    "null_hypothesis_test(num_test)"
   ]
  },
  {
   "cell_type": "code",
   "execution_count": null,
   "metadata": {},
   "outputs": [
    {
     "data": {
      "text/plain": [
       "WilcoxonResult(statistic=28.0, pvalue=0.0078125)"
      ]
     },
     "metadata": {},
     "output_type": "display_data"
    },
    {
     "name": "stdout",
     "output_type": "stream",
     "text": [
      "The null hypothesis (H0) can be rejected\n"
     ]
    }
   ],
   "source": [
    "# Animal number Ireland vs Denmark post Quota abolition\n",
    "\n",
    "X1 = select_data_by_parameters(dairy_output_df_pivoted, 'Ireland', 2016)\n",
    "X2 = select_data_by_parameters(dairy_output_df_pivoted, 'Denmark', 2016)\n",
    "\n",
    "num_test = stats.wilcoxon(X1.Derived_Animal_Number, X2.Derived_Animal_Number, alternative='greater')\n",
    "num_test\n",
    "\n",
    "null_hypothesis_test(num_test)"
   ]
  },
  {
   "cell_type": "markdown",
   "metadata": {},
   "source": [
    "## Comparison of ANIMAL NUMBER by T.Test before and after the abolition of european milk quotas in 2015 for Ireland and Denmark as t.test can accept different number of samples in both groups"
   ]
  },
  {
   "cell_type": "code",
   "execution_count": 117,
   "metadata": {},
   "outputs": [
    {
     "data": {
      "text/plain": [
       "TtestResult(statistic=10.951033629916553, pvalue=9.284300273086331e-09, df=15.70633871410474)"
      ]
     },
     "execution_count": 117,
     "metadata": {},
     "output_type": "execute_result"
    },
    {
     "name": "stdout",
     "output_type": "stream",
     "text": [
      "The null hypothesis (H0) can be rejected\n"
     ]
    }
   ],
   "source": [
    "# Animal number Ireland pre and post EU quotas, t.test\n",
    "\n",
    "X1 = select_data_by_parameters(dairy_output_df_pivoted, 'Ireland', 2016, 2022) \n",
    "X2 = select_data_by_parameters(dairy_output_df_pivoted, 'Ireland', 2004, 2015)\n",
    "\n",
    "num_test = stats.ttest_ind(X1.Derived_Animal_Number, X2.Derived_Animal_Number, equal_var = False)\n",
    "num_test\n",
    "\n",
    "null_hypothesis_test(num_test)"
   ]
  },
  {
   "cell_type": "code",
   "execution_count": 118,
   "metadata": {},
   "outputs": [
    {
     "data": {
      "text/plain": [
       "TtestResult(statistic=-0.3145195705742556, pvalue=0.7571293442666898, df=16.247364857711624)"
      ]
     },
     "execution_count": 118,
     "metadata": {},
     "output_type": "execute_result"
    },
    {
     "name": "stdout",
     "output_type": "stream",
     "text": [
      "The null hypothesis (H0) cannot be rejected\n"
     ]
    }
   ],
   "source": [
    "# Animal number Denmark pre and post EU quotas t.test\n",
    "\n",
    "X1 = select_data_by_parameters(dairy_output_df_pivoted, 'Denmark', 2016, 2022) \n",
    "X2 = select_data_by_parameters(dairy_output_df_pivoted, 'Denmark', 2004, 2015)\n",
    "\n",
    "num_test = stats.ttest_ind(X1.Derived_Animal_Number, X2.Derived_Animal_Number, equal_var = False)\n",
    "num_test\n",
    "\n",
    "null_hypothesis_test(num_test)"
   ]
  },
  {
   "cell_type": "markdown",
   "metadata": {},
   "source": [
    "### Ireland has significantly greater number of dairy cows compared to Denmark before and after the abolition of EU quotas in 2015. However, the t-statistics reflecting size of the difference in dairy production relative to the variation in the two sets demonstrates an increased seperation in the animal number between the two countries following abolition (pre-abolition = 27.52 , postabolition = 44.02). Ireland exhibits a substantially larger t-statistic (Ireland = 10.95, Denmark = 0.31) for increase in animal post abolition of quotas. "
   ]
  },
  {
   "cell_type": "markdown",
   "metadata": {},
   "source": [
    "## Comparison of Ireland and Denmark by YIELD throughout, before and after the abolition of european milk quotas in 2015"
   ]
  },
  {
   "cell_type": "code",
   "execution_count": null,
   "metadata": {},
   "outputs": [
    {
     "data": {
      "text/plain": [
       "TtestResult(statistic=-19.052641741500345, pvalue=1.0555164166820542e-18, df=31.08889393828292)"
      ]
     },
     "metadata": {},
     "output_type": "display_data"
    },
    {
     "name": "stdout",
     "output_type": "stream",
     "text": [
      "The null hypothesis (H0) can be rejected\n"
     ]
    }
   ],
   "source": [
    "# Dairy yield per animal / efficiency, Ireland vs Denmark, t.test\n",
    "\n",
    "X1 = select_data_by_parameters(dairy_output_df_pivoted, 'Ireland', 2004)\n",
    "X2 = select_data_by_parameters(dairy_output_df_pivoted, 'Denmark', 2004)\n",
    "\n",
    "yield_test = stats.ttest_ind(X1.Yield_Kg_per_An, X2.Yield_Kg_per_An, equal_var = False)\n",
    "yield_test\n",
    "\n",
    "null_hypothesis_test(yield_test)"
   ]
  },
  {
   "cell_type": "code",
   "execution_count": null,
   "metadata": {},
   "outputs": [
    {
     "data": {
      "text/plain": [
       "TtestResult(statistic=-27.225127039542482, pvalue=6.162626267094616e-13, df=13.127470987009785)"
      ]
     },
     "metadata": {},
     "output_type": "display_data"
    },
    {
     "name": "stdout",
     "output_type": "stream",
     "text": [
      "The null hypothesis (H0) can be rejected\n"
     ]
    }
   ],
   "source": [
    "# Dairy production Ireland vs Denmark pre Quota abolition, t.test\n",
    "\n",
    "X1 = select_data_by_parameters(dairy_output_df_pivoted, 'Ireland', 2004, 2015)\n",
    "X2 = select_data_by_parameters(dairy_output_df_pivoted, 'Denmark', 2004, 2015)\n",
    "\n",
    "yield_test = stats.ttest_ind(X1.Yield_Kg_per_An, X2.Yield_Kg_per_An, equal_var = False)\n",
    "yield_test\n",
    "\n",
    "null_hypothesis_test(yield_test)"
   ]
  },
  {
   "cell_type": "code",
   "execution_count": null,
   "metadata": {},
   "outputs": [
    {
     "data": {
      "text/plain": [
       "TtestResult(statistic=-23.502537939701934, pvalue=2.153412204196543e-09, df=9.007070481045954)"
      ]
     },
     "metadata": {},
     "output_type": "display_data"
    },
    {
     "name": "stdout",
     "output_type": "stream",
     "text": [
      "The null hypothesis (H0) can be rejected\n"
     ]
    }
   ],
   "source": [
    "# Dairy production Ireland vs Denmark post Quota abolition, t.test\n",
    "\n",
    "X1 = select_data_by_parameters(dairy_output_df_pivoted, 'Ireland', 2016)\n",
    "X2 = select_data_by_parameters(dairy_output_df_pivoted, 'Denmark', 2016)\n",
    "\n",
    "yield_test = stats.ttest_ind(X1.Yield_Kg_per_An, X2.Yield_Kg_per_An, equal_var = False)\n",
    "yield_test\n",
    "\n",
    "null_hypothesis_test(yield_test)"
   ]
  },
  {
   "cell_type": "markdown",
   "metadata": {},
   "source": [
    "## Comparison of YIELD before and after the abolition of european milk quotas in 2015 for Ireland and Denmark "
   ]
  },
  {
   "cell_type": "code",
   "execution_count": null,
   "metadata": {},
   "outputs": [
    {
     "data": {
      "text/plain": [
       "TtestResult(statistic=5.065684005647718, pvalue=0.0015823495438964461, df=6.805396556389755)"
      ]
     },
     "metadata": {},
     "output_type": "display_data"
    },
    {
     "name": "stdout",
     "output_type": "stream",
     "text": [
      "The null hypothesis (H0) can be rejected\n"
     ]
    }
   ],
   "source": [
    "# Dairy production Ireland pre and post EU quotas\n",
    "\n",
    "X1 = select_data_by_parameters(dairy_output_df_pivoted, 'Ireland', 2016, 2022) \n",
    "X2 = select_data_by_parameters(dairy_output_df_pivoted, 'Ireland', 2004, 2015)\n",
    "\n",
    "yield_test = stats.ttest_ind(X1.Yield_Kg_per_An, X2.Yield_Kg_per_An, equal_var = False)\n",
    "yield_test\n",
    "\n",
    "null_hypothesis_test(yield_test)"
   ]
  },
  {
   "cell_type": "code",
   "execution_count": null,
   "metadata": {},
   "outputs": [
    {
     "data": {
      "text/plain": [
       "TtestResult(statistic=8.424878670300462, pvalue=2.0947328444278717e-07, df=16.64885148707169)"
      ]
     },
     "metadata": {},
     "output_type": "display_data"
    },
    {
     "name": "stdout",
     "output_type": "stream",
     "text": [
      "The null hypothesis (H0) can be rejected\n"
     ]
    }
   ],
   "source": [
    "# Dairy production Denmark pre and post EU quotas\n",
    "\n",
    "X1 = select_data_by_parameters(dairy_output_df_pivoted, 'Denmark', 2016, 2022) \n",
    "X2 = select_data_by_parameters(dairy_output_df_pivoted, 'Denmark', 2004, 2015)\n",
    "\n",
    "yield_test = stats.ttest_ind(X1.Yield_Kg_per_An, X2.Yield_Kg_per_An, equal_var = False)\n",
    "yield_test\n",
    "\n",
    "null_hypothesis_test(yield_test)"
   ]
  },
  {
   "cell_type": "markdown",
   "metadata": {},
   "source": [
    "***T.test was used to compare Ireland and Denmark on milk yield as this variable is the only one which approximated normal distribution in both member states.\n",
    "Ireland has significantly lower dairy yield compared to Denmark before and after the abolition of EU quotas in 2015. However, the t-statistics reflecting size of the difference in yield relative to the variation in the two sets demonstrates an increased  seperation in the yield between the two countries following abolition (pre-abolition = -27.23 , postabolition = -23.50), as Danish yield outperforms Ireland. \n",
    "Denmark has a larger t-statistic, indicating a greater increase in yield per animal post abolition of EU quotas compared to Ireland = 5.07, Denmark = 8.42). \n",
    "\n",
    "This indicates that while both countries demonstrate a comparable growth in overall production, Denmarksthe increased efficiency illustrated by the more substantial growth in yield per animal. Indicating that while Denmark improved its overall output to a similar degree to Ireland, it achieved this through improved yield per animal as compared to Ireland while increased its animal holdings. This is further demonstrate by the fact that Ireland has a significant increase in animal numbers following abolition of EU quotas which is not seen in Denmark, illustrating the different approaches of the two countries to increase dairy output. Through increased efficiency or scale of production."
   ]
  }
 ],
 "metadata": {
  "kernelspec": {
   "display_name": "base",
   "language": "python",
   "name": "python3"
  },
  "language_info": {
   "codemirror_mode": {
    "name": "ipython",
    "version": 3
   },
   "file_extension": ".py",
   "mimetype": "text/x-python",
   "name": "python",
   "nbconvert_exporter": "python",
   "pygments_lexer": "ipython3",
   "version": "3.11.5"
  }
 },
 "nbformat": 4,
 "nbformat_minor": 2
}
